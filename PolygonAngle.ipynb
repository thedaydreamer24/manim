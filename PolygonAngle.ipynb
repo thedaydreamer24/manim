{
 "cells": [
  {
   "cell_type": "code",
   "execution_count": 1,
   "id": "6622d45c",
   "metadata": {},
   "outputs": [
    {
     "data": {
      "text/html": [
       "<pre style=\"white-space:pre;overflow-x:auto;line-height:normal;font-family:Menlo,'DejaVu Sans Mono',consolas,'Courier New',monospace\">Manim Community <span style=\"color: #008000; text-decoration-color: #008000\">v0.17.2</span>\n",
       "\n",
       "</pre>\n"
      ],
      "text/plain": [
       "Manim Community \u001b[32mv0.\u001b[0m\u001b[32m17.2\u001b[0m\n",
       "\n"
      ]
     },
     "metadata": {},
     "output_type": "display_data"
    }
   ],
   "source": [
    "from manim import *"
   ]
  },
  {
   "cell_type": "code",
   "execution_count": 2,
   "id": "0d091b68",
   "metadata": {},
   "outputs": [],
   "source": [
    "config.media_width = \"100%\"\n",
    "config.verbosity = \"WARNING\"\n",
    "config.background_color = WHITE"
   ]
  },
  {
   "cell_type": "code",
   "execution_count": 3,
   "id": "133fbb81",
   "metadata": {
    "scrolled": true
   },
   "outputs": [
    {
     "name": "stderr",
     "output_type": "stream",
     "text": [
      "                                                                                                                       \r"
     ]
    },
    {
     "data": {
      "text/html": [
       "<video src=\"media\\jupyter\\PolygonAngle@2023-05-23@15-52-47.mp4\" controls autoplay loop style=\"max-width: 100%;\"  >\n",
       "      Your browser does not support the <code>video</code> element.\n",
       "    </video>"
      ],
      "text/plain": [
       "<IPython.core.display.Video object>"
      ]
     },
     "metadata": {},
     "output_type": "display_data"
    }
   ],
   "source": [
    "%%manim -pqh PolygonAngle\n",
    "\n",
    "def get_intersect(a1, a2, b1, b2):\n",
    "    \"\"\"\n",
    "    Returns the point of intersection of the lines passing through a2,a1 and b2,b1.\n",
    "    a1: [x, y] a point on the first line\n",
    "    a2: [x, y] another point on the first line\n",
    "    b1: [x, y] a point on the second line\n",
    "    b2: [x, y] another point on the second line\n",
    "    \"\"\"\n",
    "    s = np.vstack([a1[0:2],a2[0:2],b1[0:2],b2[0:2]])        # s for stacked\n",
    "    h = np.hstack((s, np.ones((4, 1)))) # h for homogeneous\n",
    "    l1 = np.cross(h[0], h[1])           # get first line\n",
    "    l2 = np.cross(h[2], h[3])           # get second line\n",
    "    x, y, z = np.cross(l1, l2)          # point of intersection\n",
    "    if z == 0:                          # lines are parallel\n",
    "        return (float('inf'), float('inf'))\n",
    "    return np.array([x/z, y/z,0])\n",
    "\n",
    "class PolygonAngle(Scene):\n",
    "    def construct(self):\n",
    "        \n",
    "        number_plane = NumberPlane(\n",
    "            background_line_style={\n",
    "                \"stroke_color\": TEAL,\n",
    "                \"stroke_width\": 4,\n",
    "                \"stroke_opacity\": 0.6\n",
    "            }\n",
    "        )\n",
    "        pentagon = RegularPolygon(5, stroke_color=BLACK, stroke_width=6, fill_opacity = 0.1, color = TEAL).scale(3).set_z_index(2)\n",
    "        #pentagon.shift(0.65*UP)\n",
    "        \n",
    "        # Select two pairs of vertices\n",
    "        vertices = pentagon.get_vertices()\n",
    "        pair1 = [vertices[0], vertices[2]]\n",
    "        pair2 = [vertices[1], vertices[4]]\n",
    "        \n",
    "        # Create lines joining the selected vertices\n",
    "        line1 = Line(pair1[0], pair1[1], color=BLACK, stroke_width=6).set_z_index(2)\n",
    "        line2 = Line(pair2[0], pair2[1], color=BLACK, stroke_width=6).set_z_index(2)\n",
    "        \n",
    "        intersection = get_intersect(pair1[0], pair1[1], pair2[0], pair2[1] )\n",
    "        \n",
    "        #Add sector\n",
    "        sector = Sector(arc_center=line2.get_start(), outer_radius=0.7, start_angle=line1.get_angle(), angle = PI/1.67, fill_opacity=1, fill_color=PURPLE_B, stroke_width = 2, stroke_color = BLACK)\n",
    "        sector.rotate(PI)\n",
    "        sector.move_to(intersection)\n",
    "        sector.shift(0.24*LEFT+0.33*UP)\n",
    "        \n",
    "        #start solving\n",
    "        pentagon_sector = sector.copy()\n",
    "        pentagon_sector.align_to(pentagon, DR)\n",
    "        pentagon_sector.align_to(vertices[3], RIGHT).shift(0.2*RIGHT)\n",
    "        \n",
    "        #opposite angle\n",
    "        opposite_angle = sector.copy()\n",
    "        opposite_angle.move_to(intersection)\n",
    "        opposite_angle.shift(0.24*RIGHT+0.33*DOWN)\n",
    "        opposite_angle.rotate(PI)\n",
    "        \n",
    "        #add everything\n",
    "        self.play(FadeIn(number_plane))\n",
    "        self.play(GrowFromCenter(pentagon, run_time=2))\n",
    "        self.wait()\n",
    "        self.play(Create(line1), Create(line2))\n",
    "        self.play(FadeIn(sector, run_time = 2))\n",
    "        self.wait(3)\n",
    "        self.play(FadeIn(pentagon_sector))\n",
    "        self.wait(2)\n",
    "        self.play(FadeIn(opposite_angle))\n",
    "        self.wait(2)"
   ]
  },
  {
   "cell_type": "code",
   "execution_count": 4,
   "id": "617efde5",
   "metadata": {},
   "outputs": [
    {
     "name": "stderr",
     "output_type": "stream",
     "text": [
      "                                                                                                                       \r"
     ]
    },
    {
     "data": {
      "text/html": [
       "<video src=\"media\\jupyter\\PolygonAngle@2023-05-23@15-52-48.mp4\" controls autoplay loop style=\"max-width: 100%;\"  >\n",
       "      Your browser does not support the <code>video</code> element.\n",
       "    </video>"
      ],
      "text/plain": [
       "<IPython.core.display.Video object>"
      ]
     },
     "metadata": {},
     "output_type": "display_data"
    }
   ],
   "source": [
    "%%manim -pqh PolygonAngle\n",
    "class PolygonAngle(Scene):\n",
    "    def construct(self):\n",
    "        square1 = Square(color = BLUE)\n",
    "        self.play(square1.animate.shift(LEFT))\n",
    "        \n",
    "        square2 = Square(color = RED)\n",
    "        self.play(Rotate(square2, PI),square2.animate.shift(LEFT))\n"
   ]
  },
  {
   "cell_type": "code",
   "execution_count": 5,
   "id": "2bdeb31d",
   "metadata": {},
   "outputs": [
    {
     "name": "stderr",
     "output_type": "stream",
     "text": [
      "                                                                                                                       \r"
     ]
    },
    {
     "data": {
      "text/html": [
       "<video src=\"media\\jupyter\\check_zoom@2023-05-23@15-52-48.mp4\" controls autoplay loop style=\"max-width: 100%;\"  >\n",
       "      Your browser does not support the <code>video</code> element.\n",
       "    </video>"
      ],
      "text/plain": [
       "<IPython.core.display.Video object>"
      ]
     },
     "metadata": {},
     "output_type": "display_data"
    }
   ],
   "source": [
    "%%manim -pql check_zoom\n",
    "\n",
    "class check_zoom(MovingCameraScene):\n",
    "    def construct(self):\n",
    "        s=Square().set_color(GREEN)\n",
    "        self.add(s)\n",
    "        t=s.copy().shift(2*RIGHT+UP).rotate(PI/4)\n",
    "        self.add(t)\n",
    "        s.add_updater(lambda x,dt: x.rotate(dt/2*PI/4).shift(dt/2*(2*RIGHT+UP)))\n",
    "        self.wait(2)\n",
    "        s.suspend_updating()\n",
    "        #self.remove(s)\n",
    "        self.wait()"
   ]
  },
  {
   "cell_type": "code",
   "execution_count": 6,
   "id": "40f5b84f",
   "metadata": {},
   "outputs": [
    {
     "name": "stderr",
     "output_type": "stream",
     "text": [
      "                                                                                                                       \r"
     ]
    },
    {
     "data": {
      "text/html": [
       "<video src=\"media\\jupyter\\check_move2@2023-05-23@15-52-48.mp4\" controls autoplay loop style=\"max-width: 100%;\"  >\n",
       "      Your browser does not support the <code>video</code> element.\n",
       "    </video>"
      ],
      "text/plain": [
       "<IPython.core.display.Video object>"
      ]
     },
     "metadata": {},
     "output_type": "display_data"
    }
   ],
   "source": [
    "%%manim -pql check_move2\n",
    "class check_move2(MovingCameraScene):\n",
    "    def construct(self):\n",
    "        A = Dot(2*LEFT)\n",
    "        B = Dot(2*LEFT+2*UP)\n",
    "        C = Dot(2*RIGHT)\n",
    "        t = Polygon(A.get_center(),B.get_center(),C.get_center())\n",
    "        t.add_updater(lambda x: x.become(Polygon(A.get_center(),B.get_center(),C.get_center())))\n",
    "        self.add(A,B,C,t)\n",
    "        B.add_updater(lambda x,dt: x.shift(2*dt*RIGHT))\n",
    "        self.wait(2)"
   ]
  },
  {
   "cell_type": "code",
   "execution_count": 7,
   "id": "9853d034",
   "metadata": {},
   "outputs": [
    {
     "name": "stderr",
     "output_type": "stream",
     "text": [
      "                                                                                                                       \r"
     ]
    },
    {
     "data": {
      "text/html": [
       "<video src=\"media\\jupyter\\check_circs@2023-05-23@15-52-49.mp4\" controls autoplay loop style=\"max-width: 100%;\"  >\n",
       "      Your browser does not support the <code>video</code> element.\n",
       "    </video>"
      ],
      "text/plain": [
       "<IPython.core.display.Video object>"
      ]
     },
     "metadata": {},
     "output_type": "display_data"
    }
   ],
   "source": [
    "%%manim -pql check_circs\n",
    "config.background_color = WHITE\n",
    "class check_circs(Scene):\n",
    "    def construct(self):\n",
    "        c=Circle(color=YELLOW).shift(3*UP).set_fill(YELLOW,opacity=1)\n",
    "        d=2\n",
    "        h=np.sqrt(3)/2*(2+d)-2\n",
    "        row2 = VGroup(*[c.copy() for _ in range(2)]).arrange(RIGHT,buff=d).next_to(c,DOWN,buff=h)\n",
    "        row3 = VGroup(*[c.copy() for _ in range(3)]).arrange(RIGHT,buff=d).next_to(row2,DOWN,buff=h)\n",
    "        all_circles = VGroup(*c,*row2,*row3)\n",
    "        self.play(Create(all_circles[0])) #creates first row\n",
    "        self.wait(2)\n",
    "        self.play(Create(all_circles[1:(1+2)])) #creates first row\n",
    "        self.wait(2)"
   ]
  },
  {
   "cell_type": "code",
   "execution_count": 8,
   "id": "eeb6b305",
   "metadata": {},
   "outputs": [
    {
     "name": "stderr",
     "output_type": "stream",
     "text": [
      "                                                                                                                       \r"
     ]
    },
    {
     "data": {
      "text/html": [
       "<video src=\"media\\jupyter\\check_gen@2023-05-23@15-52-50.mp4\" controls autoplay loop style=\"max-width: 100%;\"  >\n",
       "      Your browser does not support the <code>video</code> element.\n",
       "    </video>"
      ],
      "text/plain": [
       "<IPython.core.display.Video object>"
      ]
     },
     "metadata": {},
     "output_type": "display_data"
    }
   ],
   "source": [
    "%%manim -pql check_gen\n",
    "class check_gen(Scene):\n",
    "    def construct(self):\n",
    "        c=Circle()\n",
    "        s=Square()\n",
    "        self.add(c)\n",
    "        A = AnimationGroup(\n",
    "            AnimationGroup(s.animate.shift(4*RIGHT),run_time=4),\n",
    "            AnimationGroup(AnimationGroup(Animation(Mobject()),run_time=2),AnimationGroup(c.animate.shift(4*RIGHT),run_time=2),lag_ratio=1)\n",
    "        )\n",
    "        t = ValueTracker(0)\n",
    "        #self.add(t)\n",
    "        def my_updater(mobj,dt,par):\n",
    "            return mobj.become(c.copy().scale(1+dt/par).shift(par*dt*RIGHT))\n",
    "        c.add_updater(lambda x,dt: my_updater(x,dt,3))\n",
    "        #self.wait()\n",
    "        #self.play(t.animate.set_value(0.5),run_time=1)\n",
    "        #c.stop_updating()\n",
    "        self.wait()\n",
    "        c.suspend_updating()\n",
    "        self.wait()\n",
    "        c.resume_updating()\n",
    "        self.wait()\n",
    "        c.suspend_updating()\n",
    "        self.wait()"
   ]
  },
  {
   "cell_type": "code",
   "execution_count": 9,
   "id": "a37f3c15",
   "metadata": {},
   "outputs": [
    {
     "name": "stderr",
     "output_type": "stream",
     "text": [
      "                                                                                                                       \r"
     ]
    },
    {
     "data": {
      "text/html": [
       "<video src=\"media\\jupyter\\PolygonAngle@2023-05-23@15-52-51.mp4\" controls autoplay loop style=\"max-width: 100%;\"  >\n",
       "      Your browser does not support the <code>video</code> element.\n",
       "    </video>"
      ],
      "text/plain": [
       "<IPython.core.display.Video object>"
      ]
     },
     "metadata": {},
     "output_type": "display_data"
    }
   ],
   "source": [
    "%%manim -pqh PolygonAngle\n",
    "\n",
    "def get_intersect(a1, a2, b1, b2):\n",
    "    \"\"\"\n",
    "    Returns the point of intersection of the lines passing through a2,a1 and b2,b1.\n",
    "    a1: [x, y] a point on the first line\n",
    "    a2: [x, y] another point on the first line\n",
    "    b1: [x, y] a point on the second line\n",
    "    b2: [x, y] another point on the second line\n",
    "    \"\"\"\n",
    "    s = np.vstack([a1[0:2],a2[0:2],b1[0:2],b2[0:2]])        # s for stacked\n",
    "    h = np.hstack((s, np.ones((4, 1)))) # h for homogeneous\n",
    "    l1 = np.cross(h[0], h[1])           # get first line\n",
    "    l2 = np.cross(h[2], h[3])           # get second line\n",
    "    x, y, z = np.cross(l1, l2)          # point of intersection\n",
    "    if z == 0:                          # lines are parallel\n",
    "        return (float('inf'), float('inf'))\n",
    "    return np.array([x/z, y/z,0])\n",
    "\n",
    "class PolygonAngle(Scene):\n",
    "    def construct(self):\n",
    "        \n",
    "        number_plane = NumberPlane(\n",
    "            background_line_style={\n",
    "                \"stroke_color\": TEAL,\n",
    "                \"stroke_width\": 4,\n",
    "                \"stroke_opacity\": 0.6\n",
    "            }\n",
    "        )\n",
    "        pentagon = RegularPolygon(5, stroke_color=BLACK, stroke_width=6, fill_opacity = 0.1, color = TEAL).scale(3).set_z_index(2)\n",
    "        #pentagon.shift(0.65*UP)\n",
    "        \n",
    "        # Select two pairs of vertices\n",
    "        vertices = pentagon.get_vertices()\n",
    "        pair1 = [vertices[0], vertices[2]]\n",
    "        pair2 = [vertices[1], vertices[4]]\n",
    "        \n",
    "        # Create lines joining the selected vertices\n",
    "        line1 = Line(pair1[0], pair1[1], color=BLACK, stroke_width=6).set_z_index(2)\n",
    "        line2 = Line(pair2[0], pair2[1], color=BLACK, stroke_width=6).set_z_index(2)\n",
    "        \n",
    "        intersection = get_intersect(pair1[0], pair1[1], pair2[0], pair2[1] )\n",
    "        \n",
    "        #Add sector\n",
    "        sector = Sector(arc_center=line2.get_start(), outer_radius=0.7, start_angle=line1.get_angle(), angle = PI/1.67, fill_opacity=1, fill_color=PURPLE_B, stroke_width = 2, stroke_color = BLACK)\n",
    "        sector.rotate(PI)\n",
    "        sector.move_to(intersection)\n",
    "        sector.shift(0.24*LEFT+0.33*UP)\n",
    "        \n",
    "        #start solving\n",
    "        pentagon_sector = sector.copy()\n",
    "        pentagon_sector.align_to(pentagon, DR)\n",
    "        pentagon_sector.align_to(vertices[3], RIGHT).shift(0.2*RIGHT)\n",
    "        \n",
    "        #opposite angle\n",
    "        opposite_angle = sector.copy()\n",
    "        opposite_angle.move_to(intersection)\n",
    "        opposite_angle.shift(0.24*RIGHT+0.33*DOWN)\n",
    "        opposite_angle.rotate(PI)\n",
    "        \n",
    "        #add everything\n",
    "        self.play(FadeIn(number_plane))\n",
    "        self.play(GrowFromCenter(pentagon, run_time=2))\n",
    "        self.wait()\n",
    "        self.play(Create(line1), Create(line2))\n",
    "        self.play(FadeIn(sector, run_time = 2))\n",
    "        self.wait(3)\n",
    "        self.play(FadeIn(pentagon_sector))\n",
    "        self.wait()       \n",
    "        self.play(FadeIn(opposite_angle))\n",
    "        self.wait()\n",
    "        \n",
    "        #final_position = opposite_angle.get_center()\n",
    "        #self.play(Transform(pentagon_sector, pentagon_sector.move_to(final_position)), Rotate(pentagon_sector, angle = PI), run_time=3)\n",
    "        #self.play(pentagon_sector.animate.rotate(PI).move_to(opposite_angle.get_center()))       \n",
    "        #pentagon_sector.generate_target()\n",
    "        #pentagon_sector.target.move_to(intersection)\n",
    "        #pentagon_sector.target.shift(0.24*RIGHT+0.33*DOWN)\n",
    "        #pentagon_sector.target.rotate(PI)\n",
    "        #self.wait(2)\n",
    "        #self.play(MoveToTarget(pentagon_sector))\n",
    "        #self.wait(2)"
   ]
  },
  {
   "cell_type": "code",
   "execution_count": 10,
   "id": "92b1e0a8",
   "metadata": {},
   "outputs": [
    {
     "name": "stderr",
     "output_type": "stream",
     "text": [
      "                                                                                                                       \r"
     ]
    },
    {
     "data": {
      "text/html": [
       "<video src=\"media\\jupyter\\MoveToTargetExample@2023-05-23@15-52-52.mp4\" controls autoplay loop style=\"max-width: 100%;\"  >\n",
       "      Your browser does not support the <code>video</code> element.\n",
       "    </video>"
      ],
      "text/plain": [
       "<IPython.core.display.Video object>"
      ]
     },
     "metadata": {},
     "output_type": "display_data"
    }
   ],
   "source": [
    "%%manim -pql MoveToTargetExample\n",
    "from manim import *\n",
    "\n",
    "class MoveToTargetExample(Scene):\n",
    "    def construct(self):\n",
    "        c = Square(color =RED)\n",
    "\n",
    "        c.generate_target()\n",
    "        c.target.set_fill(color=GREEN, opacity=0.5)\n",
    "        c.target.shift(2*RIGHT + UP).scale(0.5)\n",
    "        c.target.rotate(PI/3)\n",
    "\n",
    "        self.add(c)\n",
    "        self.wait(2)\n",
    "        self.play(MoveToTarget(c))"
   ]
  },
  {
   "cell_type": "code",
   "execution_count": 11,
   "id": "1ee2c2c6",
   "metadata": {
    "scrolled": true
   },
   "outputs": [
    {
     "name": "stderr",
     "output_type": "stream",
     "text": [
      "                                                                                                                       \r"
     ]
    },
    {
     "data": {
      "text/html": [
       "<video src=\"media\\jupyter\\PolygonAngle@2023-05-23@15-52-59.mp4\" controls autoplay loop style=\"max-width: 100%;\"  >\n",
       "      Your browser does not support the <code>video</code> element.\n",
       "    </video>"
      ],
      "text/plain": [
       "<IPython.core.display.Video object>"
      ]
     },
     "metadata": {},
     "output_type": "display_data"
    }
   ],
   "source": [
    "%%manim -pqh PolygonAngle\n",
    "import math\n",
    "config.background_color = WHITE\n",
    "def get_intersect(a1, a2, b1, b2):\n",
    "    \"\"\"\n",
    "    Returns the point of intersection of the lines passing through a2,a1 and b2,b1.\n",
    "    a1: [x, y] a point on the first line\n",
    "    a2: [x, y] another point on the first line\n",
    "    b1: [x, y] a point on the second line\n",
    "    b2: [x, y] another point on the second line\n",
    "    \"\"\"\n",
    "    s = np.vstack([a1[0:2],a2[0:2],b1[0:2],b2[0:2]])        # s for stacked\n",
    "    h = np.hstack((s, np.ones((4, 1)))) # h for homogeneous\n",
    "    l1 = np.cross(h[0], h[1])           # get first line\n",
    "    l2 = np.cross(h[2], h[3])           # get second line\n",
    "    x, y, z = np.cross(l1, l2)          # point of intersection\n",
    "    if z == 0:                          # lines are parallel\n",
    "        return (float('inf'), float('inf'))\n",
    "    return np.array([x/z, y/z,0])\n",
    "\n",
    "class PolygonAngle(Scene):\n",
    "    def construct(self):\n",
    "        \n",
    "        \n",
    "        pentagon = RegularPolygon(n=5, stroke_color=BLACK, stroke_width=6, fill_opacity = 0.1, color = TEAL).scale(3)\n",
    "        pentagon_edges = VGroup(*[Line(pentagon.get_vertices()[i], pentagon.get_vertices()[(i+1)%5], color=BLACK, stroke_width=6) for i in range(5)]).set_z_index(4)\n",
    "        pentagon.joint_type=LineJointType.ROUND \n",
    "        pentagon_edges.joint_type=LineJointType.ROUND \n",
    "        \n",
    "        # Select two pairs of vertices\n",
    "        vertices = pentagon.get_vertices()\n",
    "        pair1 = [vertices[0], vertices[2]]\n",
    "        pair2 = [vertices[1], vertices[4]]\n",
    "        \n",
    "        \n",
    "        \n",
    "        # Create lines joining the selected vertices\n",
    "        line1 = Line(pair1[0], pair1[1], color=BLACK, stroke_width=6).set_z_index(2)\n",
    "        line2 = Line(pair2[0], pair2[1], color=BLACK, stroke_width=6).set_z_index(2)\n",
    "        line1.joint_type=LineJointType.ROUND \n",
    "        line2.joint_type=LineJointType.ROUND \n",
    "        \n",
    "        intersection = get_intersect(pair1[0], pair1[1], pair2[0], pair2[1] )\n",
    "        \n",
    "        #Add dots\n",
    "        dot1 = Circle(radius=0.08, fill_color=WHITE, fill_opacity=1, stroke_width=4, stroke_color=BLACK).move_to(line1.get_start()).set_z_index(5)\n",
    "        dot2 = Circle(radius=0.08, fill_color=WHITE, fill_opacity=1, stroke_width=4, stroke_color=BLACK).move_to(line1.get_end()).set_z_index(5)\n",
    "        dot3 = Circle(radius=0.08, fill_color=WHITE, fill_opacity=1, stroke_width=4, stroke_color=BLACK).move_to(line2.get_start()).set_z_index(5)\n",
    "        dot4 = Circle(radius=0.08, fill_color=WHITE, fill_opacity=1, stroke_width=4, stroke_color=BLACK).move_to(line2.get_end()).set_z_index(5)\n",
    "        \n",
    "        \n",
    "        #Add symbols for equality of the sides of the pentagon\n",
    "        parallel_symbol_p1 = Arrow(max_tip_length_to_length_ratio=0, color = BLACK)\n",
    "        parallel_symbol_p2 = Arrow(max_tip_length_to_length_ratio=0, color = BLACK).next_to(parallel_symbol_p1, DOWN, buff = 0.7)\n",
    "        parallel_symbol1 = VGroup(parallel_symbol_p1, parallel_symbol_p2).move_to(pentagon_edges[0].get_center()).rotate(math.atan(3/4)+PI/2).scale(0.2)       \n",
    "        parallel_symbol2 = parallel_symbol1.copy().move_to(pentagon_edges[1].get_center()).rotate(-PI/1.67)\n",
    "        parallel_symbol3 = parallel_symbol1.copy().move_to(pentagon_edges[2].get_center()).rotate(-2*PI/1.67)\n",
    "        parallel_symbol4 = parallel_symbol1.copy().move_to(pentagon_edges[3].get_center()).rotate(2*PI/1.67)\n",
    "        parallel_symbol5 = parallel_symbol1.copy().move_to(pentagon_edges[4].get_center()).rotate(PI/1.67)\n",
    "        \n",
    "        #Add arrows\n",
    "        arrow1 = Arrow(max_stroke_width_to_length_ratio=0, color = BLACK).move_to(pentagon_edges[2].get_center()).shift(0.5*LEFT)\n",
    "        arrow2 = Arrow(max_stroke_width_to_length_ratio=0, color = BLACK).move_to(line2.get_center()).shift(0.5*LEFT)\n",
    "        arrow3 = Arrow(max_stroke_width_to_length_ratio=0, color = BLACK).move_to(pentagon_edges[3].get_center()).rotate(PI/2.5).shift(0.5*DOWN+0.165*LEFT)\n",
    "        arrow4 = Arrow(max_stroke_width_to_length_ratio=0, color = BLACK).move_to(line1.get_center()).rotate(PI/2.5).shift(0.5*DOWN+0.165*LEFT)\n",
    "        \n",
    "        # Create a parallelogram\n",
    "        parallelogram = Polygon(pair1[1], intersection, pair2[1], pentagon.get_vertices()[3], color=BLACK, stroke_width=6)\n",
    "        \n",
    "        #Intersecting lines\n",
    "        intersecting_line1 = line1.copy()\n",
    "        intersecting_line2 = line2.copy()\n",
    "        \n",
    "        # Add sector\n",
    "        sector = Sector(arc_center=line2.get_start(), outer_radius=0.7, start_angle=line1.get_angle(), angle = PI/1.67, fill_opacity=1, fill_color=PURPLE_B, stroke_width = 2, stroke_color = BLACK)\n",
    "        sector.rotate(PI)\n",
    "        sector.move_to(intersection)\n",
    "        sector.shift(0.24*LEFT+0.33*UP)\n",
    "        \n",
    "        # Start solving\n",
    "        \n",
    "        #pentagon sector\n",
    "        pentagon_sector = sector.copy()\n",
    "        pentagon_sector.align_to(pentagon, DR)\n",
    "        pentagon_sector.align_to(vertices[3], RIGHT).shift(0.2*RIGHT)\n",
    "        \n",
    "        \n",
    "        #create pentagon degree text\n",
    "        # Add text of 108 degrees beside pentagon_sector\n",
    "        pentagon_degree = MathTex(\"108^\\\\circ\", color = BLACK).next_to(pentagon_sector, RIGHT, buff=SMALL_BUFF).scale(0.7).shift(0.1*LEFT)\n",
    "        \n",
    "        \n",
    "        # Opposite angle\n",
    "        opposite_angle = sector.copy()\n",
    "        opposite_angle.move_to(intersection)\n",
    "        opposite_angle.shift(0.24*RIGHT+0.33*DOWN)\n",
    "        opposite_angle.rotate(PI)\n",
    "        \n",
    "        \n",
    "        #add everything\n",
    "        #self.play(FadeIn(number_plane))\n",
    "        self.play(GrowFromCenter(pentagon, run_time=2))\n",
    "        self.wait()\n",
    "        self.play(FadeIn(dot1, dot2))\n",
    "        self.wait()\n",
    "        self.play(FadeIn(dot3, dot4))\n",
    "        self.wait()\n",
    "        self.play(Create(line1), Create(line2))\n",
    "        self.play(FadeIn(sector, run_time = 2))\n",
    "        self.wait(3)       \n",
    "        self.play(FadeOut(sector))\n",
    "        self.wait()\n",
    "        \n",
    "        self.play(Indicate(pentagon_edges, scale_factor = 1, color = YELLOW, run_time = 2))\n",
    "        self.wait()\n",
    "        \n",
    "        #add equal symbols to the scene       \n",
    "        self.play(FadeIn(parallel_symbol1, parallel_symbol2, parallel_symbol3, parallel_symbol4, parallel_symbol5))\n",
    "        self.wait(2)\n",
    "        \n",
    "        self.play(FadeOut(parallel_symbol1, parallel_symbol2, parallel_symbol3, parallel_symbol4, parallel_symbol5))\n",
    "        self.wait(2)\n",
    "        \n",
    "        self.play(Indicate(line2), Indicate(pentagon_edges[2]), scale_factor = 1, color = PURE_RED, run_time=1.5)\n",
    "        self.play(FadeIn(arrow1), FadeIn(arrow2))\n",
    "        self.wait()\n",
    "        self.play(Indicate(line1), Indicate(pentagon_edges[3]), scale_factor = 1, color = PURE_RED, run_time=1.5)\n",
    "        self.play(FadeIn(arrow3), FadeIn(arrow4))\n",
    "        self.wait()\n",
    "        self.play(FadeOut(arrow1, arrow2, arrow3, arrow4), FadeIn(parallelogram))\n",
    "        self.wait(2)\n",
    "        \n",
    "        self.play(Indicate(parallelogram), run_time = 3)\n",
    "        \n",
    "        self.play(FadeIn(pentagon_sector), FadeIn(pentagon_degree))\n",
    "        self.wait()\n",
    "        \n",
    "        pentagon_sector_copy = pentagon_sector.copy()\n",
    "        \n",
    "        self.play(pentagon_sector_copy.animate.rotate(PI).move_to(opposite_angle.get_center()))    \n",
    "        self.wait()\n",
    "        \n",
    "        self.play(ShowPassingFlash(intersecting_line1.set_color(YELLOW), time_width=0.5), ShowPassingFlash(intersecting_line2.set_color(YELLOW), time_width=0.5), run_time=1, rate_func=linear)\n",
    "        self.wait()\n",
    "        self.play(opposite_angle.animate.rotate(PI).move_to(sector.get_center()))    \n",
    "        self.wait()\n",
    "        \n",
    "        sector_copy = sector.copy()\n",
    "        self.play(Indicate(sector), color = None)\n",
    "        self.wait()\n",
    "        self.play(sector_copy.animate.next_to(pentagon, RIGHT, buff=0.6).scale(1), FadeOut(pentagon_degree))\n",
    "        \n",
    "        answer = MathTex(\" = 108^\\\\circ\").scale(0.8).set_color(BLACK).set_stroke(width = 1).next_to(sector_copy, RIGHT)\n",
    "        answer.next_to(sector_copy, RIGHT, buff=0.3)\n",
    "        \n",
    "        self.play(FadeIn(answer))\n",
    "        self.wait()"
   ]
  },
  {
   "cell_type": "code",
   "execution_count": 12,
   "id": "61820350",
   "metadata": {},
   "outputs": [
    {
     "data": {
      "image/png": "[encoded data removed]",
      "text/plain": [
       "<IPython.core.display.Image object>"
      ]
     },
     "metadata": {},
     "output_type": "display_data"
    }
   ],
   "source": [
    "%%manim -pql ArrowExample\n",
    "config.background_color = WHITE\n",
    "from manim import *\n",
    "\n",
    "class ArrowExample(Scene):\n",
    "    def construct(self):\n",
    "        pentagon = RegularPolygon(n=5, stroke_color=BLACK, stroke_width=6, fill_opacity = 0.1, color = TEAL).scale(3).set_z_index(2)\n",
    "        pentagon_edges = VGroup(*[Line(pentagon.get_vertices()[i], pentagon.get_vertices()[(i+1)%5], color=BLACK, stroke_width=6) for i in range(5)]).set_z_index(4)\n",
    "        pentagon.joint_type=LineJointType.ROUND \n",
    "        pentagon_edges.joint_type=LineJointType.ROUND \n",
    "        \n",
    "        #Add symbols for equality of the sides of the pentagon\n",
    "        parallel_symbol_p1 = Arrow(max_tip_length_to_length_ratio=0, color = BLACK)\n",
    "        parallel_symbol_p2 = Arrow(max_tip_length_to_length_ratio=0, color = BLACK).next_to(parallel_symbol_p1, DOWN, buff = 0.7)\n",
    "        parallel_symbol1 = VGroup(parallel_symbol_p1, parallel_symbol_p2).move_to(pentagon_edges[0].get_center()).rotate(math.atan(3/4)+PI/2).scale(0.25)       \n",
    "        parallel_symbol2 = parallel_symbol1.copy().move_to(pentagon_edges[1].get_center()).rotate(-PI/1.67)\n",
    "        parallel_symbol3 = parallel_symbol1.copy().move_to(pentagon_edges[2].get_center()).rotate(-2*PI/1.67)\n",
    "        parallel_symbol4 = parallel_symbol1.copy().move_to(pentagon_edges[3].get_center()).rotate(2*PI/1.67)\n",
    "        parallel_symbol5 = parallel_symbol1.copy().move_to(pentagon_edges[4].get_center()).rotate(PI/1.67)\n",
    "        \n",
    "        # Select two pairs of vertices\n",
    "        vertices = pentagon.get_vertices()\n",
    "        pair1 = [vertices[0], vertices[2]]\n",
    "        pair2 = [vertices[1], vertices[4]]\n",
    "        \n",
    "        # Create lines joining the selected vertices\n",
    "        line1 = Line(pair1[0], pair1[1], color=BLACK, stroke_width=6).set_z_index(2)\n",
    "        line2 = Line(pair2[0], pair2[1], color=BLACK, stroke_width=6).set_z_index(2)\n",
    "        line1.joint_type=LineJointType.ROUND \n",
    "        line2.joint_type=LineJointType.ROUND \n",
    "        \n",
    "        #add everything to the scene       \n",
    "        self.add(parallel_symbol1, parallel_symbol2, pentagon, pentagon_edges, parallel_symbol3, parallel_symbol4, parallel_symbol5)"
   ]
  },
  {
   "cell_type": "code",
   "execution_count": 13,
   "id": "9d23d460",
   "metadata": {},
   "outputs": [
    {
     "data": {
      "image/png": "[encoded data removed]",
      "text/plain": [
       "<IPython.core.display.Image object>"
      ]
     },
     "metadata": {},
     "output_type": "display_data"
    }
   ],
   "source": [
    "%%manim -pql ArrowExample\n",
    "config.background_color = BLACK\n",
    "from manim import *\n",
    "class ArrowExample(Scene):\n",
    "    def construct(self):\n",
    "        left_group = VGroup()\n",
    "        # As buff increases, the size of the arrow decreases.\n",
    "        for buff in np.arange(0, 2.2, 0.45):\n",
    "            left_group += Arrow(buff=buff, start=2 * LEFT, end=2 * RIGHT)\n",
    "        # Required to arrange arrows.\n",
    "        left_group.arrange(DOWN)\n",
    "        left_group.move_to(4 * LEFT)\n",
    "        middle_group = VGroup()\n",
    "        # As max_stroke_width_to_length_ratio gets bigger,\n",
    "        # the width of stroke increases.\n",
    "        for i in np.arange(0, 5, 0.5):\n",
    "            middle_group += Arrow(max_stroke_width_to_length_ratio=i)\n",
    "        middle_group.arrange(DOWN)\n",
    "        UR_group = VGroup()\n",
    "        # As max_tip_length_to_length_ratio increases,\n",
    "        # the length of the tip increases.\n",
    "        for i in np.arange(0, 0.3, 0.1):\n",
    "            UR_group += Arrow(max_tip_length_to_length_ratio=i)\n",
    "        UR_group.arrange(DOWN)\n",
    "        UR_group.move_to(4 * RIGHT + 2 * UP)\n",
    "        DR_group = VGroup()\n",
    "        DR_group += Arrow(start=LEFT, end=RIGHT, color=BLUE, tip_shape=ArrowSquareTip)\n",
    "        DR_group += Arrow(start=LEFT, end=RIGHT, color=BLUE, tip_shape=ArrowSquareFilledTip)\n",
    "        DR_group += Arrow(start=LEFT, end=RIGHT, color=YELLOW, tip_shape=ArrowCircleTip)\n",
    "        DR_group += Arrow(start=LEFT, end=RIGHT, color=YELLOW, tip_shape=ArrowCircleFilledTip)\n",
    "        DR_group.arrange(DOWN)\n",
    "        DR_group.move_to(4 * RIGHT + 2 * DOWN)\n",
    "        self.add(left_group, middle_group, UR_group, DR_group)"
   ]
  },
  {
   "cell_type": "code",
   "execution_count": 14,
   "id": "5f125c0b",
   "metadata": {},
   "outputs": [
    {
     "data": {
      "image/png": "[encoded data removed]",
      "text/plain": [
       "<IPython.core.display.Image object>"
      ]
     },
     "metadata": {},
     "output_type": "display_data"
    }
   ],
   "source": [
    "%%manim -pql ArrowExample\n",
    "config.background_color = BLACK\n",
    "from manim import *\n",
    "class ArrowExample(Scene):\n",
    "    def construct(self):\n",
    "        arrow = Arrow(max_stroke_width_to_length_ratio=0)\n",
    "        self.add(arrow)"
   ]
  },
  {
   "cell_type": "code",
   "execution_count": 15,
   "id": "5417b8d9",
   "metadata": {},
   "outputs": [
    {
     "name": "stderr",
     "output_type": "stream",
     "text": [
      "                                                                                                                       \r"
     ]
    },
    {
     "data": {
      "text/html": [
       "<video src=\"media\\jupyter\\PolygonAngle1@2023-05-23@15-53-04.mp4\" controls autoplay loop style=\"max-width: 100%;\"  >\n",
       "      Your browser does not support the <code>video</code> element.\n",
       "    </video>"
      ],
      "text/plain": [
       "<IPython.core.display.Video object>"
      ]
     },
     "metadata": {},
     "output_type": "display_data"
    }
   ],
   "source": [
    "%%manim -pqh PolygonAngle1\n",
    "import math\n",
    "config.background_color = WHITE\n",
    "def get_intersect(a1, a2, b1, b2):\n",
    "    \"\"\"\n",
    "    Returns the point of intersection of the lines passing through a2,a1 and b2,b1.\n",
    "    a1: [x, y] a point on the first line\n",
    "    a2: [x, y] another point on the first line\n",
    "    b1: [x, y] a point on the second line\n",
    "    b2: [x, y] another point on the second line\n",
    "    \"\"\"\n",
    "    s = np.vstack([a1[0:2],a2[0:2],b1[0:2],b2[0:2]])        # s for stacked\n",
    "    h = np.hstack((s, np.ones((4, 1)))) # h for homogeneous\n",
    "    l1 = np.cross(h[0], h[1])           # get first line\n",
    "    l2 = np.cross(h[2], h[3])           # get second line\n",
    "    x, y, z = np.cross(l1, l2)          # point of intersection\n",
    "    if z == 0:                          # lines are parallel\n",
    "        return (float('inf'), float('inf'))\n",
    "    return np.array([x/z, y/z,0])\n",
    "\n",
    "class PolygonAngle1(Scene):\n",
    "    def construct(self):\n",
    "        \n",
    "        pentagon = RegularPolygon(n=5, stroke_color=BLACK, stroke_width=6, fill_opacity = 0.1, color = TEAL).scale(3)\n",
    "        pentagon_edges = VGroup(*[Line(pentagon.get_vertices()[i], pentagon.get_vertices()[(i+1)%5], color=BLACK, stroke_width=6) for i in range(5)]).set_z_index(4)\n",
    "        pentagon.joint_type=LineJointType.ROUND \n",
    "        pentagon_edges.joint_type=LineJointType.ROUND \n",
    "        \n",
    "        # Select two pairs of vertices\n",
    "        vertices = pentagon.get_vertices()\n",
    "        pair1 = [vertices[0], vertices[2]]\n",
    "        pair2 = [vertices[1], vertices[4]]\n",
    "        \n",
    "        # Create lines joining the selected vertices\n",
    "        line1 = Line(pair1[0], pair1[1], color=BLACK, stroke_width=6).set_z_index(2)\n",
    "        line2 = Line(pair2[0], pair2[1], color=BLACK, stroke_width=6).set_z_index(2)\n",
    "        line1.joint_type=LineJointType.ROUND \n",
    "        line2.joint_type=LineJointType.ROUND \n",
    "        \n",
    "        intersection = get_intersect(pair1[0], pair1[1], pair2[0], pair2[1] )\n",
    "        \n",
    "         # Add sector\n",
    "        sector = Sector(arc_center=line2.get_start(), outer_radius=0.7, start_angle=line1.get_angle(), angle = PI/1.67, fill_opacity=1, fill_color=PURPLE_B, stroke_width = 2, stroke_color = BLACK)\n",
    "        sector.rotate(PI)\n",
    "        sector.move_to(intersection)\n",
    "        sector.shift(0.24*LEFT+0.33*UP)\n",
    "        \n",
    "        \n",
    "        # Create a parallelogram\n",
    "        parallelogram = Polygon(pair1[1], intersection, pair2[1], pentagon.get_vertices()[3], color = BLACK)\n",
    "        \n",
    "        #pentagon sector\n",
    "        pentagon_sector = sector.copy()\n",
    "        pentagon_sector.align_to(pentagon, DR)\n",
    "        pentagon_sector.align_to(vertices[3], RIGHT).shift(0.2*RIGHT)\n",
    "        \n",
    "        \n",
    "        #add everything\n",
    "        self.play(GrowFromCenter(pentagon, run_time=2))\n",
    "        self.wait()\n",
    "        self.play(Create(line1), Create(line2))\n",
    "        self.wait()\n",
    "        self.play(Indicate(parallelogram))\n",
    "        self.wait()\n",
    "        \n",
    "        self.play(FadeIn(pentagon_sector))\n",
    "        self.wait()"
   ]
  },
  {
   "cell_type": "code",
   "execution_count": 16,
   "id": "8ce45e6c",
   "metadata": {},
   "outputs": [
    {
     "name": "stderr",
     "output_type": "stream",
     "text": [
      "                                                                                                                       \r"
     ]
    },
    {
     "data": {
      "text/html": [
       "<video src=\"media\\jupyter\\PolygonAngle2@2023-05-23@15-53-06.mp4\" controls autoplay loop style=\"max-width: 100%;\"  >\n",
       "      Your browser does not support the <code>video</code> element.\n",
       "    </video>"
      ],
      "text/plain": [
       "<IPython.core.display.Video object>"
      ]
     },
     "metadata": {},
     "output_type": "display_data"
    }
   ],
   "source": [
    "%%manim -pqh PolygonAngle2\n",
    "import math\n",
    "config.background_color = WHITE\n",
    "def get_intersect(a1, a2, b1, b2):\n",
    "    \"\"\"\n",
    "    Returns the point of intersection of the lines passing through a2,a1 and b2,b1.\n",
    "    a1: [x, y] a point on the first line\n",
    "    a2: [x, y] another point on the first line\n",
    "    b1: [x, y] a point on the second line\n",
    "    b2: [x, y] another point on the second line\n",
    "    \"\"\"\n",
    "    s = np.vstack([a1[0:2],a2[0:2],b1[0:2],b2[0:2]])        # s for stacked\n",
    "    h = np.hstack((s, np.ones((4, 1)))) # h for homogeneous\n",
    "    l1 = np.cross(h[0], h[1])           # get first line\n",
    "    l2 = np.cross(h[2], h[3])           # get second line\n",
    "    x, y, z = np.cross(l1, l2)          # point of intersection\n",
    "    if z == 0:                          # lines are parallel\n",
    "        return (float('inf'), float('inf'))\n",
    "    return np.array([x/z, y/z,0])\n",
    "\n",
    "\n",
    "class PolygonAngle2(Scene):\n",
    "    def construct(self):\n",
    "        \n",
    "        pentagon = RegularPolygon(n=5, stroke_color=BLACK, stroke_width=6, fill_opacity = 0.1, color = TEAL).scale(3)\n",
    "        pentagon_edges = VGroup(*[Line(pentagon.get_vertices()[i], pentagon.get_vertices()[(i+1)%5], color=BLACK, stroke_width=6) for i in range(5)]).set_z_index(4)\n",
    "        pentagon.joint_type=LineJointType.ROUND \n",
    "        pentagon_edges.joint_type=LineJointType.ROUND \n",
    "        \n",
    "        # Select two pairs of vertices\n",
    "        vertices = pentagon.get_vertices()\n",
    "        pair1 = [vertices[0], vertices[2]]\n",
    "        pair2 = [vertices[1], vertices[4]]\n",
    "        \n",
    "        # Create lines joining the selected vertices\n",
    "        line1 = Line(pair1[0], pair1[1], color=BLACK, stroke_width=6).set_z_index(2)\n",
    "        line2 = Line(pair2[0], pair2[1], color=BLACK, stroke_width=6).set_z_index(2)\n",
    "        line1.joint_type=LineJointType.ROUND \n",
    "        line2.joint_type=LineJointType.ROUND \n",
    "        \n",
    "        intersection = get_intersect(pair1[0], pair1[1], pair2[0], pair2[1] )\n",
    "        \n",
    "       \n",
    "        # Create a parallelogram\n",
    "        parallelogram = Polygon(pair1[1], intersection, pair2[1], pentagon.get_vertices()[3], fill_opacity=0.2, fill_color=YELLOW).set_z_index(2)\n",
    "        \n",
    "        # Add everything\n",
    "        self.play(GrowFromCenter(pentagon, run_time=2))\n",
    "        self.wait()\n",
    "        self.play(Create(line1), Create(line2))\n",
    "        self.wait()\n",
    "        self.play(Indicate(parallelogram))\n",
    "        self.wait()\n",
    "        "
   ]
  },
  {
   "cell_type": "code",
   "execution_count": 17,
   "id": "822cd675",
   "metadata": {},
   "outputs": [
    {
     "name": "stderr",
     "output_type": "stream",
     "text": [
      "                                                                                                                       \r"
     ]
    },
    {
     "data": {
      "text/html": [
       "<video src=\"media\\jupyter\\PolygonAngleDark@2023-05-23@15-53-30.mp4\" controls autoplay loop style=\"max-width: 100%;\"  >\n",
       "      Your browser does not support the <code>video</code> element.\n",
       "    </video>"
      ],
      "text/plain": [
       "<IPython.core.display.Video object>"
      ]
     },
     "metadata": {},
     "output_type": "display_data"
    }
   ],
   "source": [
    "%%manim -pqh PolygonAngleDark\n",
    "import math\n",
    "config.background_color = BLACK\n",
    "def get_intersect(a1, a2, b1, b2):\n",
    "    \"\"\"\n",
    "    Returns the point of intersection of the lines passing through a2,a1 and b2,b1.\n",
    "    a1: [x, y] a point on the first line\n",
    "    a2: [x, y] another point on the first line\n",
    "    b1: [x, y] a point on the second line\n",
    "    b2: [x, y] another point on the second line\n",
    "    \"\"\"\n",
    "    s = np.vstack([a1[0:2],a2[0:2],b1[0:2],b2[0:2]])        # s for stacked\n",
    "    h = np.hstack((s, np.ones((4, 1)))) # h for homogeneous\n",
    "    l1 = np.cross(h[0], h[1])           # get first line\n",
    "    l2 = np.cross(h[2], h[3])           # get second line\n",
    "    x, y, z = np.cross(l1, l2)          # point of intersection\n",
    "    if z == 0:                          # lines are parallel\n",
    "        return (float('inf'), float('inf'))\n",
    "    return np.array([x/z, y/z,0])\n",
    "\n",
    "class PolygonAngleDark(Scene):\n",
    "    def construct(self):\n",
    "        \n",
    "        \n",
    "        pentagon = RegularPolygon(n=5, stroke_color=WHITE, stroke_width=6, fill_opacity = 1, color = TEAL_D).scale(3)\n",
    "        pentagon_edges = VGroup(*[Line(pentagon.get_vertices()[i], pentagon.get_vertices()[(i+1)%5], color=WHITE, stroke_width=6) for i in range(5)]).set_z_index(4)\n",
    "        pentagon.joint_type=LineJointType.ROUND \n",
    "        pentagon_edges.joint_type=LineJointType.ROUND \n",
    "        \n",
    "        # Select two pairs of vertices\n",
    "        vertices = pentagon.get_vertices()\n",
    "        pair1 = [vertices[0], vertices[2]]\n",
    "        pair2 = [vertices[1], vertices[4]]\n",
    "        \n",
    "        \n",
    "        \n",
    "        # Create lines joining the selected vertices\n",
    "        line1 = Line(pair1[0], pair1[1], color=WHITE, stroke_width=6).set_z_index(2)\n",
    "        line2 = Line(pair2[0], pair2[1], color=WHITE, stroke_width=6).set_z_index(2)\n",
    "        line1.joint_type=LineJointType.ROUND \n",
    "        line2.joint_type=LineJointType.ROUND \n",
    "        \n",
    "        intersection = get_intersect(pair1[0], pair1[1], pair2[0], pair2[1] )\n",
    "        \n",
    "        #Add dots\n",
    "        dot1 = Circle(radius=0.08, fill_color=BLACK, fill_opacity=1, stroke_width=4, stroke_color=WHITE).move_to(line1.get_start()).set_z_index(5)\n",
    "        dot2 = Circle(radius=0.08, fill_color=BLACK, fill_opacity=1, stroke_width=4, stroke_color=WHITE).move_to(line1.get_end()).set_z_index(5)\n",
    "        dot3 = Circle(radius=0.08, fill_color=BLACK, fill_opacity=1, stroke_width=4, stroke_color=WHITE).move_to(line2.get_start()).set_z_index(5)\n",
    "        dot4 = Circle(radius=0.08, fill_color=BLACK, fill_opacity=1, stroke_width=4, stroke_color=WHITE).move_to(line2.get_end()).set_z_index(5)\n",
    "        \n",
    "        \n",
    "        #Add symbols for equality of the sides of the pentagon\n",
    "        parallel_symbol_p1 = Arrow(max_tip_length_to_length_ratio=0, color = WHITE)\n",
    "        parallel_symbol_p2 = Arrow(max_tip_length_to_length_ratio=0, color = WHITE).next_to(parallel_symbol_p1, DOWN, buff = 0.7)\n",
    "        parallel_symbol1 = VGroup(parallel_symbol_p1, parallel_symbol_p2).move_to(pentagon_edges[0].get_center()).rotate(math.atan(3/4)+PI/2).scale(0.2)       \n",
    "        parallel_symbol2 = parallel_symbol1.copy().move_to(pentagon_edges[1].get_center()).rotate(-PI/1.67)\n",
    "        parallel_symbol3 = parallel_symbol1.copy().move_to(pentagon_edges[2].get_center()).rotate(-2*PI/1.67)\n",
    "        parallel_symbol4 = parallel_symbol1.copy().move_to(pentagon_edges[3].get_center()).rotate(2*PI/1.67)\n",
    "        parallel_symbol5 = parallel_symbol1.copy().move_to(pentagon_edges[4].get_center()).rotate(PI/1.67)\n",
    "        \n",
    "        #Add arrows\n",
    "        arrow1 = Arrow(max_stroke_width_to_length_ratio=0, color = WHITE).move_to(pentagon_edges[2].get_center()).shift(0.5*LEFT)\n",
    "        arrow2 = Arrow(max_stroke_width_to_length_ratio=0, color = WHITE).move_to(line2.get_center()).shift(0.5*LEFT)\n",
    "        arrow3 = Arrow(max_stroke_width_to_length_ratio=0, color = WHITE).move_to(pentagon_edges[3].get_center()).rotate(PI/2.5).shift(0.5*DOWN+0.165*LEFT)\n",
    "        arrow4 = Arrow(max_stroke_width_to_length_ratio=0, color = WHITE).move_to(line1.get_center()).rotate(PI/2.5).shift(0.5*DOWN+0.165*LEFT)\n",
    "        \n",
    "        # Create a parallelogram\n",
    "        parallelogram = Polygon(pair1[1], intersection, pair2[1], pentagon.get_vertices()[3], color=WHITE, stroke_width=6, fill_opacity = 0)\n",
    "        \n",
    "        #Intersecting lines\n",
    "        intersecting_line1 = line1.copy()\n",
    "        intersecting_line2 = line2.copy()\n",
    "        \n",
    "        # Add sector\n",
    "        sector = Sector(arc_center=line2.get_start(), outer_radius=0.7, start_angle=line1.get_angle(), angle = PI/1.67, fill_opacity=1, fill_color=RED, stroke_width = 2, stroke_color = WHITE)\n",
    "        sector.rotate(PI)\n",
    "        sector.move_to(intersection)\n",
    "        sector.shift(0.24*LEFT+0.33*UP)\n",
    "        \n",
    "        # Start solving\n",
    "        \n",
    "        #pentagon sector\n",
    "        pentagon_sector = sector.copy()\n",
    "        pentagon_sector.align_to(pentagon, DR)\n",
    "        pentagon_sector.align_to(vertices[3], RIGHT).shift(0.2*RIGHT)\n",
    "        \n",
    "        \n",
    "        #create pentagon degree text\n",
    "        # Add text of 108 degrees beside pentagon_sector\n",
    "        pentagon_degree = MathTex(\"108^\\\\circ\", color = WHITE).next_to(pentagon_sector, RIGHT, buff=SMALL_BUFF).scale(0.7).shift(0.1*LEFT)\n",
    "        \n",
    "        \n",
    "        # Opposite angle\n",
    "        opposite_angle = sector.copy()\n",
    "        opposite_angle.move_to(intersection)\n",
    "        opposite_angle.shift(0.24*RIGHT+0.33*DOWN)\n",
    "        opposite_angle.rotate(PI)\n",
    "        \n",
    "        \n",
    "        #add everything\n",
    "        #self.play(FadeIn(number_plane))\n",
    "        self.play(GrowFromCenter(pentagon, run_time=2))\n",
    "        self.wait()\n",
    "        self.play(FadeIn(dot1, dot2))\n",
    "        self.wait()\n",
    "        self.play(FadeIn(dot3, dot4))\n",
    "        self.wait()\n",
    "        self.play(Create(line1))\n",
    "        self.play(Create(line2))\n",
    "        self.wait()\n",
    "        question = MathTex(\"?\").scale(0.6).set_color(WHITE).set_stroke(width = 1).move_to(sector.get_center()).set_z_index(6)\n",
    "        self.play(FadeIn(sector, run_time = 2), FadeIn(question, run_time = 2))\n",
    "        self.wait(3)       \n",
    "        self.play(FadeOut(sector), FadeOut(question))\n",
    "        self.wait()\n",
    "        \n",
    "        self.play(Indicate(pentagon_edges, scale_factor = 1, color = YELLOW, run_time = 2))\n",
    "        self.wait()\n",
    "        \n",
    "        #add equal symbols to the scene       \n",
    "        self.play(FadeIn(parallel_symbol1, parallel_symbol2, parallel_symbol3, parallel_symbol4, parallel_symbol5))\n",
    "        self.wait(2)\n",
    "        \n",
    "        self.play(FadeOut(parallel_symbol1, parallel_symbol2, parallel_symbol3, parallel_symbol4, parallel_symbol5))\n",
    "        self.wait(2)\n",
    "        \n",
    "        self.play(Indicate(line2), Indicate(pentagon_edges[2]), scale_factor = 1, color = PURE_RED, run_time=1.5)\n",
    "        self.play(FadeIn(arrow1), FadeIn(arrow2))\n",
    "        self.wait()\n",
    "        self.play(Indicate(line1), Indicate(pentagon_edges[3]), scale_factor = 1, color = PURE_RED, run_time=1.5)\n",
    "        self.play(FadeIn(arrow3), FadeIn(arrow4))\n",
    "        self.wait()\n",
    "        self.play(FadeOut(arrow1, arrow2, arrow3, arrow4), FadeIn(parallelogram))\n",
    "        self.wait(2)\n",
    "        \n",
    "        self.play(Indicate(parallelogram), run_time = 3)\n",
    "        \n",
    "        self.play(FadeIn(pentagon_sector), FadeIn(pentagon_degree))\n",
    "        self.wait()\n",
    "        \n",
    "        self.play(Indicate(parallelogram), run_time = 2, color = YELLOW, scale_factor = 1, fill_color =YELLOW)\n",
    "        \n",
    "        pentagon_sector_copy = pentagon_sector.copy()\n",
    "        \n",
    "        self.play(pentagon_sector_copy.animate.rotate(PI).move_to(opposite_angle.get_center()))    \n",
    "        self.wait()\n",
    "        \n",
    "        self.play(ShowPassingFlash(intersecting_line1.set_color(RED), time_width=0.5), ShowPassingFlash(intersecting_line2.set_color(RED), time_width=0.5), run_time=2, rate_func=linear)\n",
    "        self.wait()\n",
    "        self.play(opposite_angle.animate.rotate(PI).move_to(sector.get_center()))    \n",
    "        self.wait()\n",
    "        \n",
    "        sector_copy = sector.copy()\n",
    "        self.play(Indicate(sector), color = None)\n",
    "        self.wait()\n",
    "        self.play(sector_copy.animate.next_to(pentagon, RIGHT, buff=0.6).scale(1), FadeOut(pentagon_degree))\n",
    "        \n",
    "        answer = MathTex(\" = 108^\\\\circ\").scale(0.8).set_color(WHITE).set_stroke(width = 1).next_to(sector_copy, RIGHT)\n",
    "        answer.next_to(sector_copy, RIGHT, buff=0.3)\n",
    "        \n",
    "        self.play(FadeIn(answer))\n",
    "        self.wait()"
   ]
  },
  {
   "cell_type": "code",
   "execution_count": null,
   "id": "0be3d9bc",
   "metadata": {},
   "outputs": [],
   "source": []
  },
  {
   "cell_type": "code",
   "execution_count": 18,
   "id": "c7e08517",
   "metadata": {},
   "outputs": [],
   "source": [
    "number_plane = NumberPlane(\n",
    "            background_line_style={\n",
    "                \"stroke_color\": TEAL,\n",
    "                \"stroke_width\": 4,\n",
    "                \"stroke_opacity\": 0.6\n",
    "            }\n",
    "        )"
   ]
  },
  {
   "cell_type": "code",
   "execution_count": null,
   "id": "4b68227f",
   "metadata": {},
   "outputs": [],
   "source": []
  },
  {
   "cell_type": "code",
   "execution_count": null,
   "id": "e897d220",
   "metadata": {},
   "outputs": [],
   "source": []
  }
 ],
 "metadata": {
  "kernelspec": {
   "display_name": "Python 3 (ipykernel)",
   "language": "python",
   "name": "python3"
  },
  "language_info": {
   "codemirror_mode": {
    "name": "ipython",
    "version": 3
   },
   "file_extension": ".py",
   "mimetype": "text/x-python",
   "name": "python",
   "nbconvert_exporter": "python",
   "pygments_lexer": "ipython3",
   "version": "3.10.9"
  }
 },
 "nbformat": 4,
 "nbformat_minor": 5
}
