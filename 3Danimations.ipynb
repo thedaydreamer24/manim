{
 "cells": [
  {
   "cell_type": "code",
   "execution_count": 2,
   "id": "16b78cdd",
   "metadata": {},
   "outputs": [
    {
     "data": {
      "text/html": [
       "<pre style=\"white-space:pre;overflow-x:auto;line-height:normal;font-family:Menlo,'DejaVu Sans Mono',consolas,'Courier New',monospace\">Manim Community <span style=\"color: #008000; text-decoration-color: #008000\">v0.17.3</span>\n",
       "\n",
       "</pre>\n"
      ],
      "text/plain": [
       "Manim Community \u001b[32mv0.\u001b[0m\u001b[32m17.3\u001b[0m\n",
       "\n"
      ]
     },
     "metadata": {},
     "output_type": "display_data"
    }
   ],
   "source": [
    "from manim import *"
   ]
  },
  {
   "cell_type": "code",
   "execution_count": 2,
   "id": "51ae04fe",
   "metadata": {},
   "outputs": [],
   "source": [
    "config.media_width = \"100%\"\n",
    "config.verbosity = \"WARNING\"\n",
    "CONFIG = {\n",
    "        \"camera_class\": ThreeDCamera,\n",
    "    }\n"
   ]
  },
  {
   "cell_type": "code",
   "execution_count": 3,
   "id": "ab57e427",
   "metadata": {
    "scrolled": true
   },
   "outputs": [
    {
     "name": "stderr",
     "output_type": "stream",
     "text": [
      "                                                                                                                       \r"
     ]
    },
    {
     "data": {
      "text/html": [
       "<video src=\"media\\jupyter\\Rotation3DExample@2023-08-08@17-15-29.mp4\" controls autoplay loop style=\"max-width: 100%;\"  >\n",
       "      Your browser does not support the <code>video</code> element.\n",
       "    </video>"
      ],
      "text/plain": [
       "<IPython.core.display.Video object>"
      ]
     },
     "metadata": {},
     "output_type": "display_data"
    }
   ],
   "source": [
    "%%manim -pqh Rotation3DExample\n",
    "\n",
    "from manim import *\n",
    "\n",
    "def stop_ambient_camera_rotation(self, about=\"theta\"):\n",
    "        \"\"\"\n",
    "        This method stops all ambient camera rotation.\n",
    "        \"\"\"\n",
    "        about: str = about.lower()\n",
    "        try:\n",
    "            if config.renderer == RendererType.CAIRO:\n",
    "                trackers = {\n",
    "                    \"theta\": self.camera.theta_tracker,\n",
    "                    \"phi\": self.camera.phi_tracker,\n",
    "                    \"gamma\": self.camera.gamma_tracker,\n",
    "                }\n",
    "                x: ValueTracker = trackers[about]\n",
    "                x.clear_updaters()\n",
    "                self.remove(x)\n",
    "            elif config.renderer == RendererType.OPENGL:\n",
    "                self.camera.clear_updaters()\n",
    "        except Exception:\n",
    "            raise ValueError(\"Invalid ambient rotation angle.\")\n",
    "\n",
    "class Rotation3DExample(ThreeDScene):\n",
    "            \n",
    "    def construct(self):\n",
    "        cube = Cube(side_length=3, fill_opacity=0.4, fill_color=BLUE, stroke_width=1)\n",
    "\n",
    "        self.begin_ambient_camera_rotation(rate=0.1)\n",
    "        self.set_camera_orientation(phi=75 * DEGREES, theta=30 * DEGREES)\n",
    "\n",
    "        # Draw the cube\n",
    "        self.play(Write(cube), run_time=2)\n",
    "        self.wait()\n",
    "\n",
    "        # Get the vertices of the cube\n",
    "        vertices = cube.get_all_points()\n",
    "\n",
    "        # Define the endpoints of the diagonals on one pair of adjacent squares\n",
    "        diagonals = [\n",
    "            Line(vertices[24], vertices[16], color=PURE_BLUE, stroke_width=3),\n",
    "            Line(vertices[16], vertices[8], color=PURE_BLUE, stroke_width=3),\n",
    "        ]\n",
    "\n",
    "        # Draw the diagonals\n",
    "        self.play(Create(diagonals[0]))\n",
    "        self.play(Create(diagonals[1]))\n",
    "        self.wait(1)\n",
    "        self.stop_ambient_camera_rotation(about='theta')\n",
    "        self.wait()\n",
    "        \n",
    "        #sector = Sector(arc_center=vertices[16], outer_radius=0.8, start_angle=diagonals[0].get_angle(), angle=PI/3, fill_opacity=1, fill_color=RED_B).rotate(angle=PI).shift(1.5*RIGHT).rotate(angle=PI/2, axis=(2, 0, -1))\n",
    "        #sector.rotate(about_point=sector.arc_center, angle=PI/5)\n",
    "\n",
    "        #self.play(Create(sector))\n",
    "\n",
    "        # Wait for a moment\n",
    "        self.wait(3)\n",
    "        \n",
    "        dashed_line = DashedLine(vertices[24], vertices[8], color=PURE_BLUE, stroke_width=3)\n",
    "        \n",
    "        self.play(Create(dashed_line))\n",
    "        self.wait(2)\n",
    "\n",
    "# Run the animation\n",
    "if __name__ == \"__main__\":\n",
    "    Rotation3DExample().render()\n",
    "\n",
    "    "
   ]
  },
  {
   "cell_type": "code",
   "execution_count": 3,
   "id": "fb1cae56",
   "metadata": {},
   "outputs": [
    {
     "name": "stderr",
     "output_type": "stream",
     "text": [
      "                                                                                                                       \r"
     ]
    },
    {
     "data": {
      "text/html": [
       "<video src=\"media\\jupyter\\cube3d@2023-08-17@14-37-58.mp4\" controls autoplay loop style=\"max-width: 100%;\"  >\n",
       "      Your browser does not support the <code>video</code> element.\n",
       "    </video>"
      ],
      "text/plain": [
       "<IPython.core.display.Video object>"
      ]
     },
     "metadata": {},
     "output_type": "display_data"
    }
   ],
   "source": [
    "%%manim -pqk cube3d\n",
    "\n",
    "from manim import *\n",
    "\n",
    "def stop_ambient_camera_rotation(self, about=\"theta\"):\n",
    "        \"\"\"\n",
    "        This method stops all ambient camera rotation.\n",
    "        \"\"\"\n",
    "        about: str = about.lower()\n",
    "        try:\n",
    "            if config.renderer == RendererType.CAIRO:\n",
    "                trackers = {\n",
    "                    \"theta\": self.camera.theta_tracker,\n",
    "                    \"phi\": self.camera.phi_tracker,\n",
    "                    \"gamma\": self.camera.gamma_tracker,\n",
    "                }\n",
    "                x: ValueTracker = trackers[about]\n",
    "                x.clear_updaters()\n",
    "                self.remove(x)\n",
    "            elif config.renderer == RendererType.OPENGL:\n",
    "                self.camera.clear_updaters()\n",
    "        except Exception:\n",
    "            raise ValueError(\"Invalid ambient rotation angle.\")\n",
    "\n",
    "class cube3d(ThreeDScene):\n",
    "    CONFIG = {\n",
    "        \"camera_class\": ThreeDCamera,\n",
    "    }\n",
    "\n",
    "            \n",
    "    def construct(self):\n",
    "        cube = Cube(side_length=3, fill_opacity=0.4, fill_color=BLUE, stroke_width=1)\n",
    "        cube.joint_type=LineJointType.ROUND \n",
    "        \n",
    "        self.set_camera_orientation(phi=75 * DEGREES, theta=30 * DEGREES, distance=5)\n",
    "\n",
    "        # Draw the cube\n",
    "        self.play(Write(cube), run_time=2)\n",
    "        self.begin_ambient_camera_rotation(rate=0.05)\n",
    "        self.wait(2)\n",
    "\n",
    "        # Get the vertices of the cube\n",
    "        vertices = cube.get_all_points()\n",
    "\n",
    "        # Define the endpoints of the diagonals on one pair of adjacent squares\n",
    "        diagonals = [\n",
    "            Line(vertices[24], vertices[16], color=PURE_BLUE, stroke_width=3).set_z_index(2),\n",
    "            Line(vertices[16], vertices[8], color=PURE_BLUE, stroke_width=3).set_z_index(2),\n",
    "        ]\n",
    "\n",
    "        # Draw the diagonals\n",
    "        self.play(Create(diagonals[0]))\n",
    "        self.play(Create(diagonals[1]))\n",
    "        self.wait(1)\n",
    "        #self.stop_ambient_camera_rotation(about='theta')\n",
    "        self.wait()\n",
    "        \n",
    "        #txt = Text(\"Angle between the diagonals?\")\n",
    "        #txt.fix_in_frame()\n",
    "        #txt.to_edge(UP)\n",
    "        #self.play(FadeIn(txt))\n",
    "        \n",
    "\n",
    "        # Wait for a moment\n",
    "        self.wait(3)\n",
    "        \n",
    "        dashed_line = DashedLine(vertices[24], vertices[8], color=PURE_BLUE, stroke_width=3).set_z_index(2)\n",
    "        \n",
    "        self.play(Create(dashed_line))\n",
    "        self.wait(2)\n",
    "        \n",
    "                # Define the vertices of the triangular prism\n",
    "        prism_vertices = [\n",
    "            vertices[24],  # Endpoint of diagonal 1                      \n",
    "            vertices[16],  # Endpoint of diagonal 2\n",
    "            vertices[8],   # Endpoint of diagonal 3\n",
    "            vertices[48],   # Corresponding vertex on the bottom face\n",
    "            vertices[0],\n",
    "            vertices[32],\n",
    "            vertices[40],\n",
    "            vertices[56],\n",
    "        ]\n",
    "\n",
    "        # Create the triangular faces of the prism\n",
    "        prism_faces = [\n",
    "            Polygon(prism_vertices[0], prism_vertices[1], prism_vertices[2], fill_opacity=0.4, fill_color=BLUE, stroke_width=1, stroke_color = WHITE),\n",
    "            Polygon(prism_vertices[0], prism_vertices[1], prism_vertices[3], fill_opacity=0.4, fill_color=BLUE, stroke_width=1, stroke_color = WHITE),\n",
    "            Polygon(prism_vertices[1], prism_vertices[2], prism_vertices[3], fill_opacity=0.4, fill_color=BLUE, stroke_width=1, stroke_color = WHITE),\n",
    "            Polygon(prism_vertices[0], prism_vertices[3], prism_vertices[1], fill_opacity=0.4, fill_color=BLUE, stroke_width=1, stroke_color = WHITE),\n",
    "        ]\n",
    "\n",
    "        # Create the triangular faces of the prism\n",
    "        cube_cut = [\n",
    "            Polygon(prism_vertices[0], prism_vertices[1], prism_vertices[6], fill_opacity=0.4, fill_color=BLUE, stroke_width=1, stroke_color = WHITE),\n",
    "            Polygon(prism_vertices[0], prism_vertices[7], prism_vertices[2], fill_opacity=0.4, fill_color=BLUE, stroke_width=1, stroke_color = WHITE),\n",
    "            Polygon(prism_vertices[1], prism_vertices[2], prism_vertices[5], fill_opacity=0.4, fill_color=BLUE, stroke_width=1, stroke_color = WHITE),\n",
    "            Polygon(prism_vertices[0], prism_vertices[1], prism_vertices[2], fill_opacity=0.4, fill_color=BLUE, stroke_width=1, stroke_color = WHITE),\n",
    "            Polygon(prism_vertices[0], prism_vertices[6], prism_vertices[4], prism_vertices[7], fill_opacity=0.4, fill_color=BLUE, stroke_width=1, stroke_color = WHITE),\n",
    "            Polygon(prism_vertices[1], prism_vertices[6], prism_vertices[4], prism_vertices[5], fill_opacity=0.4, fill_color=BLUE, stroke_width=1, stroke_color = WHITE),\n",
    "            Polygon(prism_vertices[7], prism_vertices[4], prism_vertices[5], prism_vertices[2], fill_opacity=0.4, fill_color=BLUE, stroke_width=1, stroke_color = WHITE),\n",
    "        ]\n",
    "        \n",
    "        # Draw the triangular prism\n",
    "        self.play(*[FadeIn(face) for face in prism_faces], *[FadeIn(cut_cube_face) for cut_cube_face in cube_cut], FadeOut(cube), run_time=2)\n",
    "        self.wait(4)\n",
    "        \n",
    "        #l = Line(prism_vertices[6], prism_vertices[2], color = YELLOW, stroke_width=1)\n",
    "        #self.add(l)\n",
    "        \n",
    "         # Translate the prism faces to the left\n",
    "        translation_vector = RIGHT  # Adjust the value as needed\n",
    "        \n",
    "        prism = VGroup(prism_faces[0], prism_faces[1], prism_faces[2], prism_faces[3])\n",
    "            \n",
    "        self.play(prism.animate.shift(translation_vector))\n",
    "        self.wait()\n",
    "        self.play(FadeOut(prism_faces[0], prism_faces[1], prism_faces[2], prism_faces[3]))\n",
    "        self.wait(2)\n",
    "        \n",
    "        self.begin_ambient_camera_rotation(rate=-0.5)\n",
    "        self.wait(1.967)\n",
    "        self.stop_ambient_camera_rotation(about='theta')\n",
    "        self.wait(2)\n",
    "        \n",
    "        l = Line(vertices[24], vertices[8], color=PURE_BLUE, stroke_width=3).set_z_index(2)\n",
    "        self.play(FadeIn(l), diagonals[0].animate.set_color(PURE_BLUE), diagonals[1].animate.set_color(PURE_BLUE), cube_cut[3].animate.set_opacity(1))\n",
    "        self.wait(2)\n",
    "        \n",
    "         \n",
    "            \n"
   ]
  },
  {
   "cell_type": "code",
   "execution_count": null,
   "id": "9bb34570",
   "metadata": {},
   "outputs": [],
   "source": [
    "# Add a sector\n",
    "        sector_center = prism_vertices[1]  # Use the vertex at index 1 (vertices[16])\n",
    "        sector_radius = 1  # Adjust the radius as needed\n",
    "        sector_angle = 60 * DEGREES  # Adjust the angle as needed\n",
    "\n",
    "        \n",
    "        sector = Sector(\n",
    "            arc_center=sector_center,\n",
    "            inner_radius=0,\n",
    "            outer_radius=sector_radius,\n",
    "            start_angle=0,\n",
    "            angle=sector_angle,\n",
    "            fill_opacity=0.5,\n",
    "            fill_color=YELLOW,\n",
    "            stroke_width=1,\n",
    "            stroke_color=WHITE,\n",
    "        ).rotate(-PI/2).shift(RIGHT+0.2*DOWN).shift(0.6*LEFT).rotate(PI/7).shift(0.1*RIGHT+0.3*UP)\n",
    "        self.play(Create(sector))\n",
    "        self.wait(2)\n",
    "        \n",
    "        # Rotate the sector to lie on cube_cut[3]\n",
    "        rotation_angle = 45 * DEGREES  # Adjust the angle as needed\n",
    "        axis_of_rotation = prism_vertices[1]  # Use the vertex at index 2\n",
    "\n",
    "\n",
    "        rotated_sector = sector.copy().rotate(rotation_angle, axis=axis_of_rotation)\n",
    "        self.play(Transform(sector, rotated_sector), run_time=2)\n",
    "        self.wait(2)"
   ]
  },
  {
   "cell_type": "code",
   "execution_count": null,
   "id": "8e13d6c3",
   "metadata": {},
   "outputs": [],
   "source": []
  }
 ],
 "metadata": {
  "kernelspec": {
   "display_name": "Python 3 (ipykernel)",
   "language": "python",
   "name": "python3"
  },
  "language_info": {
   "codemirror_mode": {
    "name": "ipython",
    "version": 3
   },
   "file_extension": ".py",
   "mimetype": "text/x-python",
   "name": "python",
   "nbconvert_exporter": "python",
   "pygments_lexer": "ipython3",
   "version": "3.10.9"
  }
 },
 "nbformat": 4,
 "nbformat_minor": 5
}
