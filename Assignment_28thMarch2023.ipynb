{
 "cells": [
  {
   "cell_type": "code",
   "execution_count": 2,
   "id": "9868c14d",
   "metadata": {},
   "outputs": [
    {
     "data": {
      "text/html": [
       "<pre style=\"white-space:pre;overflow-x:auto;line-height:normal;font-family:Menlo,'DejaVu Sans Mono',consolas,'Courier New',monospace\">Manim Community <span style=\"color: #008000; text-decoration-color: #008000\">v0.17.2</span>\n",
       "\n",
       "</pre>\n"
      ],
      "text/plain": [
       "Manim Community \u001b[32mv0.\u001b[0m\u001b[32m17.2\u001b[0m\n",
       "\n"
      ]
     },
     "metadata": {},
     "output_type": "display_data"
    }
   ],
   "source": [
    "from manim import *"
   ]
  },
  {
   "cell_type": "code",
   "execution_count": 3,
   "id": "08e45a85",
   "metadata": {},
   "outputs": [],
   "source": [
    "config.media_width = \"100%\"\n",
    "config.verbosity = \"WARNING\""
   ]
  },
  {
   "cell_type": "code",
   "execution_count": 4,
   "id": "04d217d0",
   "metadata": {},
   "outputs": [
    {
     "name": "stderr",
     "output_type": "stream",
     "text": [
      "                                                                                                                       \r"
     ]
    },
    {
     "data": {
      "text/html": [
       "<video src=\"media\\jupyter\\GridExample@2023-03-29@16-58-30.mp4\" controls autoplay loop style=\"max-width: 100%;\"  >\n",
       "      Your browser does not support the <code>video</code> element.\n",
       "    </video>"
      ],
      "text/plain": [
       "<IPython.core.display.Video object>"
      ]
     },
     "metadata": {},
     "output_type": "display_data"
    }
   ],
   "source": [
    "%%manim -qm GridExample\n",
    "\n",
    "from manim import *\n",
    "\n",
    "class GridExample(Scene):\n",
    "    def construct(self):\n",
    "        # Create a NumberPlane object with a grid\n",
    "        grid = NumberPlane(\n",
    "            x_range=(-2.5, 2.5), \n",
    "            y_range=(-2.5, 2.5),\n",
    "            x_length=5,\n",
    "            y_length=5,\n",
    "            axis_config={\n",
    "                \"stroke_color\": WHITE,\n",
    "                \"stroke_width\": 2,\n",
    "            },\n",
    "            \n",
    "        )\n",
    "        \n",
    "        # Create a 10x10 grid of squares\n",
    "        squares = VGroup(*[Square(side_length=0.5)\n",
    "            for i in range(100)])\n",
    "        squares.arrange_in_grid(10, 10, buff=0)\n",
    "        \n",
    "        \n",
    "        # Color the squares as in the question\n",
    "        for i in range(0,10):\n",
    "            for j in range(i+1):\n",
    "                index = i*10 + j\n",
    "                squares[index].set_color(RED)\n",
    "                squares[index].set_fill(opacity=0.8)\n",
    "                \n",
    "        squares.set_stroke(color = WHITE, width=4)\n",
    "                \n",
    "        self.play(Create(squares))\n",
    "        # Add the grid and squares to the scene\n",
    "        self.add(grid, squares)\n",
    "        \n",
    "        # Wait for a moment\n",
    "        self.wait()\n",
    "        \n"
   ]
  },
  {
   "cell_type": "code",
   "execution_count": 7,
   "id": "73c0dc0b",
   "metadata": {
    "scrolled": true
   },
   "outputs": [
    {
     "name": "stderr",
     "output_type": "stream",
     "text": [
      "                                                                                                                       \r"
     ]
    },
    {
     "data": {
      "text/html": [
       "<video src=\"media\\jupyter\\SquareRotation@2023-03-29@16-59-01.mp4\" controls autoplay loop style=\"max-width: 100%;\"  >\n",
       "      Your browser does not support the <code>video</code> element.\n",
       "    </video>"
      ],
      "text/plain": [
       "<IPython.core.display.Video object>"
      ]
     },
     "metadata": {},
     "output_type": "display_data"
    }
   ],
   "source": [
    "%%manim -qm SquareRotation\n",
    "\n",
    "class SquareRotation(Scene):\n",
    "    def construct(self):\n",
    "        # Create a square\n",
    "        square = Square(color=RED, fill_opacity=0.5)\n",
    "\n",
    "        # Rotate the square four times by 90 degrees each time\n",
    "        for i in range(4):\n",
    "            self.play(square.animate.rotate(PI/2), run_time = 2)\n",
    "\n"
   ]
  },
  {
   "cell_type": "code",
   "execution_count": 48,
   "id": "67d058a1",
   "metadata": {},
   "outputs": [
    {
     "name": "stderr",
     "output_type": "stream",
     "text": [
      "                                                                                                                       \r"
     ]
    },
    {
     "data": {
      "text/html": [
       "<video src=\"media\\jupyter\\Grid@2023-05-03@16-16-08.mp4\" controls autoplay loop style=\"max-width: 100%;\"  >\n",
       "      Your browser does not support the <code>video</code> element.\n",
       "    </video>"
      ],
      "text/plain": [
       "<IPython.core.display.Video object>"
      ]
     },
     "metadata": {},
     "output_type": "display_data"
    }
   ],
   "source": [
    "%%manim -pqh Grid\n",
    "from manim import *\n",
    "config.background_color = WHITE\n",
    "class Grid(Scene):\n",
    "    def construct(self):\n",
    "        rows = 6\n",
    "        cols = 6\n",
    "        title = Tex(\"Here is a 6x6 grid\").set_color(BLACK)\n",
    "        grid = VGroup(*[\n",
    "            VGroup(*[Square(side_length=1, fill_opacity=0, stroke_width=5, stroke_opacity = 0.5).move_to((i-rows//2)*RIGHT + (j-cols//2)*UP) for j in range(cols)]) for i in range(rows)\n",
    "        ]).set_color(GREY).shift(0.6*RIGHT+1.2*UP)\n",
    "        square = Square(side_length=6, fill_opacity=0, stroke_width=5, stroke_opacity = 0.5).set_color(GREY).shift(0.6*RIGHT).set_z_index(3)\n",
    "        square.move_to(grid.get_center())\n",
    "\n",
    "        # Add lines\n",
    "        line1 = Line(grid[0][5].get_corner(UR), grid[0][0].get_corner(UL), color=BLACK, stroke_width=5).set_z_index(2)\n",
    "        line2 = Line(grid[0][5].get_corner(UR), grid[1][0].get_corner(DL), color=BLACK, stroke_width=5).set_z_index(2)\n",
    "        line3 = Line(grid[1][4].get_corner(UR), grid[0][0].get_corner(UL), color=BLACK, stroke_width=5).set_z_index(2)\n",
    "        line4 = Line(grid[1][4].get_corner(UR), grid[1][0].get_corner(DL), color=BLACK, stroke_width=5).set_z_index(2)\n",
    "        line5 = Line(grid[2][3].get_corner(UR), grid[0][0].get_corner(UL), color=BLACK, stroke_width=5).set_z_index(2)\n",
    "        line6 = Line(grid[2][3].get_corner(UR), grid[1][0].get_corner(DL), color=BLACK, stroke_width=5).set_z_index(2)\n",
    "        line7 = Line(grid[3][2].get_corner(UR), grid[0][0].get_corner(UL), color=BLACK, stroke_width=5).set_z_index(2)\n",
    "        line8 = Line(grid[3][2].get_corner(UR), grid[1][0].get_corner(DL), color=BLACK, stroke_width=5).set_z_index(2)\n",
    "        line9 = Line(grid[4][1].get_corner(UR), grid[0][0].get_corner(UL), color=BLACK, stroke_width=5).set_z_index(2)\n",
    "        line10 = Line(grid[4][1].get_corner(UR), grid[1][0].get_corner(DL), color=BLACK, stroke_width=5).set_z_index(2)\n",
    "        line11 = Line(grid[5][0].get_corner(UR), grid[0][0].get_corner(UL), color=BLACK, stroke_width=5).set_z_index(2)\n",
    "        line12 = Line(grid[5][0].get_corner(UR), grid[1][0].get_corner(DL), color=BLACK, stroke_width=5).set_z_index(2)\n",
    "        \n",
    "        \n",
    "        #Add sectors\n",
    "        sector1 = Sector(arc_center=line2.get_start(), outer_radius=1.2, start_angle=line1.get_angle(), angle=PI/15.5, fill_opacity=1, fill_color=RED)\n",
    "        sector2 = Sector(arc_center=line4.get_start(), outer_radius=1.2, start_angle=line3.get_angle(), angle=PI/11.5, fill_opacity=1, fill_color=YELLOW)\n",
    "        sector3 = Sector(arc_center=line6.get_start(), outer_radius=1.2, start_angle=line5.get_angle(), angle=PI/9.5, fill_opacity=1, fill_color=GREEN)\n",
    "        sector4 = Sector(arc_center=line8.get_start(), outer_radius=1.2, start_angle=line7.get_angle(), angle=PI/9.5, fill_opacity=1, fill_color=BLUE)\n",
    "        sector5 = Sector(arc_center=line10.get_start(), outer_radius=1.2, start_angle=line9.get_angle(), angle=PI/11.5, fill_opacity=1, fill_color=PURPLE)\n",
    "        sector6 = Sector(arc_center=line12.get_start(), outer_radius=1.2, start_angle=line11.get_angle(), angle=PI/15.5, fill_opacity=1, fill_color=PINK)\n",
    "        \n",
    "        #Add dots\n",
    "        dot1 = Circle(radius=0.08, fill_color=WHITE, fill_opacity=1, stroke_width=4, stroke_color=BLACK).move_to(line1.get_start()).set_z_index(4)\n",
    "        dot2 = Circle(radius=0.08, fill_color=WHITE, fill_opacity=1, stroke_width=4, stroke_color=BLACK).move_to(line1.get_end()).set_z_index(4)\n",
    "        dot3 = Circle(radius=0.08, fill_color=WHITE, fill_opacity=1, stroke_width=4, stroke_color=BLACK).move_to(line3.get_start()).set_z_index(4)\n",
    "        dot4 = Circle(radius=0.08, fill_color=WHITE, fill_opacity=1, stroke_width=4, stroke_color=BLACK).move_to(line4.get_end()).set_z_index(4)\n",
    "        dot5 = Circle(radius=0.08, fill_color=WHITE, fill_opacity=1, stroke_width=4, stroke_color=BLACK).move_to(line5.get_start()).set_z_index(4)\n",
    "        dot6 = Circle(radius=0.08, fill_color=WHITE, fill_opacity=1, stroke_width=4, stroke_color=BLACK).move_to(line7.get_start()).set_z_index(4)\n",
    "        dot7 = Circle(radius=0.08, fill_color=WHITE, fill_opacity=1, stroke_width=4, stroke_color=BLACK).move_to(line9.get_start()).set_z_index(4)\n",
    "        dot8 = Circle(radius=0.08, fill_color=WHITE, fill_opacity=1, stroke_width=4, stroke_color=BLACK).move_to(line11.get_start()).set_z_index(4)\n",
    "        \n",
    "        # Create angle symbols\n",
    "        angle_red = Tex(\"$\\\\angle$\", color=RED).scale(1).set_stroke(width = 3)\n",
    "        angle_yellow = Tex(\"$\\\\angle$\", color=YELLOW).scale(1).set_stroke(width = 3)\n",
    "        angle_green = Tex(\"$\\\\angle$\", color=GREEN).scale(1).set_stroke(width = 3)\n",
    "        angle_blue = Tex(\"$\\\\angle$\", color=BLUE).scale(1).set_stroke(width = 3)\n",
    "        angle_purple = Tex(\"$\\\\angle$\", color=PURPLE).scale(1).set_stroke(width = 3)\n",
    "        angle_pink = Tex(\"$\\\\angle$\", color=PINK).scale(1).set_stroke(width = 3)\n",
    "\n",
    "        # Position angle symbols\n",
    "        angle_red.shift(3.2*DOWN+3.75*LEFT)\n",
    "        angle_yellow.next_to(angle_red, RIGHT, buff=1)\n",
    "        angle_green.next_to(angle_yellow, RIGHT, buff=1)\n",
    "        angle_blue.next_to(angle_green, RIGHT, buff=1)\n",
    "        angle_purple.next_to(angle_blue, RIGHT, buff=1)\n",
    "        angle_pink.next_to(angle_purple, RIGHT, buff=1)\n",
    "\n",
    "        # Create plus signs\n",
    "        plus1 = Tex(\"+\", color=BLACK).scale(0.8).set_stroke(width = 3)\n",
    "        plus2 = Tex(\"+\", color=BLACK).scale(0.8).set_stroke(width = 3)\n",
    "        plus3 = Tex(\"+\", color=BLACK).scale(0.8).set_stroke(width = 3)\n",
    "        plus4 = Tex(\"+\", color=BLACK).scale(0.8).set_stroke(width = 3)\n",
    "        plus5 = Tex(\"+\", color=BLACK).scale(0.8).set_stroke(width = 3)\n",
    "\n",
    "        # Position plus signs\n",
    "        plus1.next_to(angle_red, RIGHT, buff=0.3)\n",
    "        plus2.next_to(angle_yellow, RIGHT, buff=0.3)\n",
    "        plus3.next_to(angle_green, RIGHT, buff=0.3)\n",
    "        plus4.next_to(angle_blue, RIGHT, buff=0.3)\n",
    "        plus5.next_to(angle_purple, RIGHT, buff=0.3)\n",
    "        \n",
    "        #Add =?°\n",
    "        symbol = Text(\" = ? °\").scale(0.8).set_color(BLACK).set_stroke(width = 1)\n",
    "        symbol.next_to(angle_pink, RIGHT, buff=0.3)\n",
    "\n",
    "        # Add objects to the scene\n",
    "        #self.play(FadeIn(title))\n",
    "        #self.wait(2)\n",
    "        #self.play(FadeOut(title))\n",
    "        self.wait()\n",
    "        self.play(FadeIn(grid), FadeIn(square))\n",
    "        self.wait(2)\n",
    "        #self.add(line1, line2, line3, line4, line5, line6, line7, line8, line9, line10, line11, line12, dot1, dot2, dot3, dot4, dot5, dot6, dot7, dot8)\n",
    "        self.play(FadeIn(dot2, dot4))\n",
    "        self.wait(2)\n",
    "        self.play(FadeIn(dot1, dot3, dot5, dot6, dot7, dot8))\n",
    "        self.wait(3)\n",
    "        self.play(Create(line1), Create(line3), Create(line5), Create(line7), Create(line9), Create(line11), run_time = 3)\n",
    "        self.play(Create(line2), Create(line4), Create(line6), Create(line8), Create(line10), Create(line12), run_time = 3)\n",
    "        #self.play(Create(line3))\n",
    "        #self.play(Create(line4))\n",
    "        #self.play(Create(line5))\n",
    "        #self.play(Create(line6))\n",
    "        #self.play(Create(line7))\n",
    "        #self.play(Create(line8))\n",
    "        #self.play(Create(line9))\n",
    "        #self.play(Create(line10))\n",
    "        #self.play(Create(line11))\n",
    "        #self.play(Create(line12))\n",
    "        self.wait(2)\n",
    "        #self.add(sector1, sector2, sector3, sector4, sector5, sector6)\n",
    "        \n",
    "        text_group = VGroup(symbol, angle_red, angle_yellow, angle_green, angle_blue, angle_purple, angle_pink, plus1, plus2, plus3, plus4, plus5)\n",
    "        self.play(FadeIn(sector1, sector2, sector3, sector4, sector5, sector6, text_group))\n",
    "        self.wait(3)\n",
    "        \n",
    "        # Add sectors for the solution\n",
    "        sector_compare = Sector(arc_center=line2.get_end(), outer_radius=1.2, start_angle=line1.get_angle(), angle=PI/15.5, fill_opacity=1, fill_color=RED).rotate(PI).shift(1.2*UP+0.22*RIGHT)\n",
    "        \n",
    "        #Add arrows\n",
    "        arrow1 = Arrow(grid[0][0].get_corner(UL), grid[0][5].get_corner(UR), stroke_width=5).set_color(BLACK).set_length(1)\n",
    "        #arrow1.set_length(line1.get_length())\n",
    "        #arrow1.next_to(line1.get_start(), direction=line1.get_unit_vector(), buff=0)\n",
    "        arrow1.shift(0.1 * line1.get_length() * 0.5* line1.get_unit_vector() )\n",
    "        \n",
    "        arrow2 = Arrow(grid[1][0].get_corner(DL), grid[1][4].get_corner(UR), stroke_width=5).set_color(BLACK).set_length(1)\n",
    "        #arrow2.set_length(line4.get_length())\n",
    "        #arrow2.next_to(line4.get_start(), direction=line4.get_unit_vector(), buff=0)\n",
    "        arrow2.shift(0.1 * line4.get_length() * 0.5* line4.get_unit_vector() )\n",
    "        \n",
    "        #Analysing first angle (red one)\n",
    "        self.play(FadeOut(line3, line5, line6, line7, line8, line9, line10, line11, line12, dot5, dot6, dot7, dot8, sector2, sector3, sector4, sector5, sector6))\n",
    "        self.wait()\n",
    "        self.play(FadeIn(arrow1), FadeIn(arrow2))\n",
    "        self.wait()\n",
    "        self.play(Indicate(line1), Indicate(line4), Indicate(arrow1), Indicate(arrow2), color = ORANGE)\n",
    "        self.wait()\n",
    "        self.play(Indicate(line2), color = ORANGE)\n",
    "        self.wait()\n",
    "        self.play(FadeIn(sector_compare))\n",
    "        self.wait(5)\n",
    "        self.play(FadeIn(line3, line5, line6, line7, line8, line9, line10, line11, line12, dot5, dot6, dot7, dot8, sector2, sector3, sector4, sector5, sector6), FadeOut(arrow1), FadeOut(arrow2))\n",
    "        self.wait(4)\n",
    "        #self.play(FadeIn(sector7.set_z_index(8)))\n",
    "        sector7 = Sector(arc_center=line2.get_end(), outer_radius=1.2, start_angle=line1.get_angle(), angle=PI/15.5, fill_opacity=1, fill_color=RED)\n",
    "        sector8 = Sector(arc_center=line4.get_end(), outer_radius=1.2, start_angle=line3.get_angle(), angle=PI/11.5, fill_opacity=1, fill_color=YELLOW)\n",
    "        sector9 = Sector(arc_center=line6.get_end(), outer_radius=1.2, start_angle=line5.get_angle(), angle=PI/9.5, fill_opacity=1, fill_color=GREEN)\n",
    "        sector10 = Sector(arc_center=line8.get_end(), outer_radius=1.2, start_angle=line7.get_angle(), angle=PI/9.5, fill_opacity=1, fill_color=BLUE)\n",
    "        sector11 = Sector(arc_center=line10.get_end(), outer_radius=1.2, start_angle=line9.get_angle(), angle=PI/11.5, fill_opacity=1, fill_color=PURPLE)\n",
    "        sector12 = Sector(arc_center=line12.get_end(), outer_radius=1.2, start_angle=line11.get_angle(), angle=PI/15.5, fill_opacity=1, fill_color=PINK)\n",
    "        self.add(sector7, sector8, sector9, sector10, sector11, sector12)\n",
    "        \n",
    "        sectors_group = VGroup(sector7, sector8, sector9, sector10, sector11, sector12)\n",
    "\n",
    "        # Rotate the sectors by 180 degrees\n",
    "        sectors_group.rotate(PI).shift(1.18*UP+1.2*RIGHT)\n",
    "\n",
    "        # Add the group to the scene\n",
    "        self.play(Create(sectors_group, run_time =4),FadeOut(sector_compare))\n",
    "        self.wait(2)\n",
    "        \n",
    "        # Copy the sectors group\n",
    "        sectors_copy = sectors_group.copy()\n",
    "        \n",
    "        #answer\n",
    "        equal_to = Text(\" = \").scale(0.8).set_color(BLACK).set_stroke(width = 1)\n",
    "        equal_to.next_to(angle_pink, RIGHT, buff=0.3)\n",
    "        self.play(Indicate(sectors_group), color = None)\n",
    "        self.wait()\n",
    "        self.play(sectors_copy.animate.next_to(angle_pink, RIGHT, buff=0.6).scale(0.5), FadeOut(symbol), FadeIn(equal_to) )\n",
    "        self.wait(2)\n",
    "        \n",
    "        #Add right-angle\n",
    "        line_ra1 = Line( LEFT, RIGHT, color = BLACK, buff = 0, stroke_width = 2.5).move_to(sectors_copy, DOWN).scale(0.3)\n",
    "        line_ra2 = Line( DOWN, UP, color = BLACK , buff = 0, stroke_width = 2.5).move_to(sectors_copy, LEFT).scale(0.3)\n",
    "        right_angle = RightAngle(line_ra1, line_ra2, length=0.25, color=BLACK, stroke_width = 2.5).align_to(sectors_copy, LEFT)\n",
    "        self.play(FadeIn(line_ra1,line_ra2, right_angle))\n",
    "        self.wait(2)\n",
    "        answer = Text(\" = 90°\").scale(0.8).set_color(BLACK).set_stroke(width = 1)\n",
    "        answer.next_to(angle_pink, RIGHT, buff=1.8)\n",
    "        self.play(FadeIn(answer))\n",
    "        self.wait(3)"
   ]
  },
  {
   "cell_type": "code",
   "execution_count": 4,
   "id": "05130cea",
   "metadata": {},
   "outputs": [
    {
     "data": {
      "image/png": "[encoded data removed]",
      "text/plain": [
       "<IPython.core.display.Image object>"
      ]
     },
     "metadata": {},
     "output_type": "display_data"
    }
   ],
   "source": [
    "%%manim -pql RightAngleExample\n",
    "from manim import *\n",
    "\n",
    "class RightAngleExample(Scene):\n",
    "    def construct(self):\n",
    "        line1 = Line( LEFT, RIGHT )\n",
    "        line2 = Line( DOWN, UP )\n",
    "        rightangles = [\n",
    "            RightAngle(line1, line2),\n",
    "            RightAngle(line1, line2, length=0.4, quadrant=(1,-1)),\n",
    "            RightAngle(line1, line2, length=0.5, quadrant=(-1,1), stroke_width=8),\n",
    "            RightAngle(line1, line2, length=0.7, quadrant=(-1,-1), color=RED),\n",
    "        ]\n",
    "        plots = VGroup()\n",
    "        for rightangle in rightangles:\n",
    "            plot=VGroup(line1.copy(),line2.copy(), rightangle)\n",
    "            plots.add(plot)\n",
    "        plots.arrange(buff=1.5)\n",
    "        self.add(plots)"
   ]
  },
  {
   "cell_type": "code",
   "execution_count": null,
   "id": "c8684478",
   "metadata": {},
   "outputs": [],
   "source": [
    "from manim import *\n",
    "\n",
    "class TimeWidthValues(Scene):\n",
    "    def construct(self):\n",
    "        p = RegularPolygon(5, color=DARK_GRAY, stroke_width=6).scale(3)\n",
    "        lbl = VMobject()\n",
    "        self.add(p, lbl)\n",
    "        p = p.copy().set_color(BLUE)\n",
    "        for time_width in [0.2, 0.5, 1, 2]:\n",
    "            lbl.become(Tex(r\"\\texttt{time\\_width={{%.1f}}}\"%time_width))\n",
    "            self.play(ShowPassingFlash(\n",
    "                p.copy().set_color(BLUE),\n",
    "                run_time=2,\n",
    "                time_width=time_width\n",
    "            ))"
   ]
  }
 ],
 "metadata": {
  "kernelspec": {
   "display_name": "Python 3 (ipykernel)",
   "language": "python",
   "name": "python3"
  },
  "language_info": {
   "codemirror_mode": {
    "name": "ipython",
    "version": 3
   },
   "file_extension": ".py",
   "mimetype": "text/x-python",
   "name": "python",
   "nbconvert_exporter": "python",
   "pygments_lexer": "ipython3",
   "version": "3.10.9"
  }
 },
 "nbformat": 4,
 "nbformat_minor": 5
}
