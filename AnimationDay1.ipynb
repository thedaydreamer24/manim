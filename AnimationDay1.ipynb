{
 "cells": [
  {
   "cell_type": "code",
   "execution_count": 2,
   "id": "45052b2a",
   "metadata": {},
   "outputs": [
    {
     "data": {
      "text/html": [
       "<pre style=\"white-space:pre;overflow-x:auto;line-height:normal;font-family:Menlo,'DejaVu Sans Mono',consolas,'Courier New',monospace\">Manim Community <span style=\"color: #008000; text-decoration-color: #008000\">v0.17.2</span>\n",
       "\n",
       "</pre>\n"
      ],
      "text/plain": [
       "Manim Community \u001b[32mv0.\u001b[0m\u001b[32m17.2\u001b[0m\n",
       "\n"
      ]
     },
     "metadata": {},
     "output_type": "display_data"
    }
   ],
   "source": [
    "from manim import *"
   ]
  },
  {
   "cell_type": "code",
   "execution_count": 3,
   "id": "57b84597",
   "metadata": {},
   "outputs": [],
   "source": [
    "config.media_width = \"100%\"\n",
    "config.verbosity = \"WARNING\""
   ]
  },
  {
   "cell_type": "code",
   "execution_count": 27,
   "id": "ebf5f587",
   "metadata": {
    "scrolled": true
   },
   "outputs": [
    {
     "name": "stderr",
     "output_type": "stream",
     "text": [
      "                                                                                                                       \r"
     ]
    },
    {
     "data": {
      "text/html": [
       "<video src=\"media\\jupyter\\CircleToSquare@2023-04-06@17-44-30.mp4\" controls autoplay loop style=\"max-width: 400%;\"  >\n",
       "      Your browser does not support the <code>video</code> element.\n",
       "    </video>"
      ],
      "text/plain": [
       "<IPython.core.display.Video object>"
      ]
     },
     "metadata": {},
     "output_type": "display_data"
    }
   ],
   "source": [
    "%%manim -qm CircleToSquare\n",
    "\n",
    "class CircleToSquare(Scene):\n",
    "    def construct(self):\n",
    "        blue_circle = Circle(color=BLUE, fill_opacity=0.5)\n",
    "        green_square = Square(color=GREEN, fill_opacity=0.8)\n",
    "        self.play(Create(blue_circle))\n",
    "        self.wait()\n",
    "        \n",
    "        self.play(Transform(blue_circle, green_square))\n",
    "        self.wait()"
   ]
  },
  {
   "cell_type": "code",
   "execution_count": 7,
   "id": "fbf277ae",
   "metadata": {},
   "outputs": [
    {
     "name": "stderr",
     "output_type": "stream",
     "text": [
      "                                                                                                                       \r"
     ]
    },
    {
     "data": {
      "text/html": [
       "<video src=\"media\\jupyter\\HelloCircle@2023-03-28@12-45-47.mp4\" controls autoplay loop style=\"max-width: 75%;\"  >\n",
       "      Your browser does not support the <code>video</code> element.\n",
       "    </video>"
      ],
      "text/plain": [
       "<IPython.core.display.Video object>"
      ]
     },
     "metadata": {},
     "output_type": "display_data"
    }
   ],
   "source": [
    "%%manim -qm HelloCircle\n",
    "\n",
    "class HelloCircle(Scene):\n",
    "    def construct(self):\n",
    "        # blue_circle = Circle(color=BLUE, fill_opacity=0.5)\n",
    "        # We can also create a \"plain\" circle and add the desired attributes via set methods:\n",
    "        circle = Circle()\n",
    "        blue_circle = circle.set_color(BLUE).set_opacity(0.5)\n",
    "        \n",
    "        label = Text(\"A wild circle appears!\")\n",
    "        label.next_to(blue_circle, DOWN, buff=0.5)\n",
    "        \n",
    "        self.play(Create(blue_circle), Write(label))\n",
    "        self.wait()"
   ]
  },
  {
   "cell_type": "code",
   "execution_count": 8,
   "id": "e87a2b56",
   "metadata": {},
   "outputs": [
    {
     "name": "stderr",
     "output_type": "stream",
     "text": [
      "                                                                                                                       \r"
     ]
    },
    {
     "data": {
      "text/html": [
       "<video src=\"media\\jupyter\\CircleAnnouncement@2023-03-28@12-46-17.mp4\" controls autoplay loop style=\"max-width: 75%;\"  >\n",
       "      Your browser does not support the <code>video</code> element.\n",
       "    </video>"
      ],
      "text/plain": [
       "<IPython.core.display.Video object>"
      ]
     },
     "metadata": {},
     "output_type": "display_data"
    }
   ],
   "source": [
    "%%manim -qm CircleAnnouncement\n",
    "\n",
    "class CircleAnnouncement(Scene):\n",
    "    def construct(self):\n",
    "        blue_circle = Circle(color=BLUE, fill_opacity=0.5)\n",
    "        announcement = Text(\"Let us draw a circle.\")\n",
    "        \n",
    "        self.play(Write(announcement))\n",
    "        self.wait()\n",
    "        \n",
    "        self.play(announcement.animate.next_to(blue_circle, UP, buff=0.5))\n",
    "        self.play(Create(blue_circle))"
   ]
  },
  {
   "cell_type": "code",
   "execution_count": 9,
   "id": "0dbf0fd3",
   "metadata": {},
   "outputs": [
    {
     "name": "stderr",
     "output_type": "stream",
     "text": [
      "                                                                                                                       \r"
     ]
    },
    {
     "data": {
      "text/html": [
       "<video src=\"media\\jupyter\\AnimateSyntax@2023-03-28@12-46-38.mp4\" controls autoplay loop style=\"max-width: 75%;\"  >\n",
       "      Your browser does not support the <code>video</code> element.\n",
       "    </video>"
      ],
      "text/plain": [
       "<IPython.core.display.Video object>"
      ]
     },
     "metadata": {},
     "output_type": "display_data"
    }
   ],
   "source": [
    "%%manim -qm AnimateSyntax\n",
    "\n",
    "class AnimateSyntax(Scene):\n",
    "    def construct(self):\n",
    "        triangle = Triangle(color=RED, fill_opacity=1)\n",
    "        self.play(DrawBorderThenFill(triangle))\n",
    "        self.play(triangle.animate.shift(LEFT))\n",
    "        self.play(triangle.animate.shift(RIGHT).scale(2))\n",
    "        self.play(triangle.animate.rotate(PI/3))"
   ]
  },
  {
   "cell_type": "code",
   "execution_count": 10,
   "id": "1c3ed37e",
   "metadata": {},
   "outputs": [
    {
     "name": "stderr",
     "output_type": "stream",
     "text": [
      "                                                                                                                       \r"
     ]
    },
    {
     "data": {
      "text/html": [
       "<video src=\"media\\jupyter\\DifferentRotations@2023-03-28@12-48-27.mp4\" controls autoplay loop style=\"max-width: 75%;\"  >\n",
       "      Your browser does not support the <code>video</code> element.\n",
       "    </video>"
      ],
      "text/plain": [
       "<IPython.core.display.Video object>"
      ]
     },
     "metadata": {},
     "output_type": "display_data"
    }
   ],
   "source": [
    "%%manim -qm DifferentRotations\n",
    "\n",
    "class DifferentRotations(Scene):\n",
    "    def construct(self):\n",
    "        left_square = Square(color=BLUE, fill_opacity=0.7).shift(2*LEFT)\n",
    "        right_square = Square(color=GREEN, fill_opacity=0.7).shift(2*RIGHT)\n",
    "        self.play(left_square.animate.rotate(PI), Rotate(right_square, angle=PI), run_time=2)\n",
    "        self.wait()"
   ]
  },
  {
   "cell_type": "code",
   "execution_count": 11,
   "id": "619a8cf1",
   "metadata": {},
   "outputs": [
    {
     "name": "stderr",
     "output_type": "stream",
     "text": [
      "                                                                                                                       \r"
     ]
    },
    {
     "data": {
      "text/html": [
       "<video src=\"media\\jupyter\\CauchyIntegralFormula@2023-03-28@13-04-11.mp4\" controls autoplay loop style=\"max-width: 75%;\"  >\n",
       "      Your browser does not support the <code>video</code> element.\n",
       "    </video>"
      ],
      "text/plain": [
       "<IPython.core.display.Video object>"
      ]
     },
     "metadata": {},
     "output_type": "display_data"
    }
   ],
   "source": [
    "%%manim -qm CauchyIntegralFormula\n",
    "\n",
    "class CauchyIntegralFormula(Scene):\n",
    "    def construct(self):\n",
    "        formula = MathTex(r\"[z^n]f(z) = \\frac{1}{2\\pi i}\\oint_{\\gamma} \\frac{f(z)}{z^{n+1}}~dz\")\n",
    "        self.play(Write(formula), run_time=3)\n",
    "        self.wait()"
   ]
  },
  {
   "cell_type": "code",
   "execution_count": 5,
   "id": "99e83061",
   "metadata": {},
   "outputs": [
    {
     "name": "stderr",
     "output_type": "stream",
     "text": [
      "                                                                                                                       )):   0%| | 0/1 \r"
     ]
    },
    {
     "data": {
      "text/html": [
       "<video src=\"media\\jupyter\\PlotExample@2023-03-28@13-10-19.mp4\" controls autoplay loop style=\"max-width: 75%;\"  >\n",
       "      Your browser does not support the <code>video</code> element.\n",
       "    </video>"
      ],
      "text/plain": [
       "<IPython.core.display.Video object>"
      ]
     },
     "metadata": {},
     "output_type": "display_data"
    }
   ],
   "source": [
    "%%manim -qm PlotExample\n",
    "\n",
    "class PlotExample(Scene):\n",
    "    def construct(self):\n",
    "        plot_axes = Axes(\n",
    "            x_range=[0, 1, 0.05],\n",
    "            y_range=[0, 1, 0.05],\n",
    "            x_length=9,\n",
    "            y_length=5.5,\n",
    "            axis_config={\n",
    "                \"numbers_to_include\": np.arange(0, 1 + 0.1, 0.1),\n",
    "                \"font_size\": 24,\n",
    "            },\n",
    "            tips=False,\n",
    "        )\n",
    "\n",
    "        y_label = plot_axes.get_y_axis_label(\"y\", edge=LEFT, direction=LEFT, buff=0.4)\n",
    "        x_label = plot_axes.get_x_axis_label(\"x\")\n",
    "        plot_labels = VGroup(x_label, y_label)\n",
    "\n",
    "        plots = VGroup()\n",
    "        for n in np.arange(1, 20 + 0.5, 0.5):\n",
    "            plots += plot_axes.plot(lambda x: x**n, color=WHITE)\n",
    "            plots += plot_axes.plot(\n",
    "                lambda x: x**(1 / n), color=WHITE, use_smoothing=False\n",
    "            )\n",
    "\n",
    "        extras = VGroup()\n",
    "        extras += plot_axes.get_horizontal_line(plot_axes.c2p(1, 1, 0), color=BLUE)\n",
    "        extras += plot_axes.get_vertical_line(plot_axes.c2p(1, 1, 0), color=BLUE)\n",
    "        extras += Dot(point=plot_axes.c2p(1, 1, 0), color=YELLOW)\n",
    "        title = Title(\n",
    "            r\"Graphs of $y=x^{\\frac{1}{n}}$ and $y=x^n (n=1, 1.5, 2, 2.5, 3, \\dots, 20)$\",\n",
    "            include_underline=False,\n",
    "            font_size=40,\n",
    "        )\n",
    "        \n",
    "        self.play(Write(title))\n",
    "        self.play(Create(plot_axes), Create(plot_labels), Create(extras))\n",
    "        self.play(AnimationGroup(*[Create(plot) for plot in plots], lag_ratio=0.05))"
   ]
  },
  {
   "cell_type": "code",
   "execution_count": 6,
   "id": "5bb0b975",
   "metadata": {},
   "outputs": [
    {
     "name": "stderr",
     "output_type": "stream",
     "text": [
      "                                                                                                                       \r"
     ]
    },
    {
     "data": {
      "text/html": [
       "<video src=\"media\\jupyter\\ErdosRenyiGraph@2023-03-28@13-11-06.mp4\" controls autoplay loop style=\"max-width: 75%;\"  >\n",
       "      Your browser does not support the <code>video</code> element.\n",
       "    </video>"
      ],
      "text/plain": [
       "<IPython.core.display.Video object>"
      ]
     },
     "metadata": {},
     "output_type": "display_data"
    }
   ],
   "source": [
    "%%manim -qm ErdosRenyiGraph\n",
    "\n",
    "import networkx as nx\n",
    "\n",
    "nxgraph = nx.erdos_renyi_graph(14, 0.5)\n",
    "\n",
    "class ErdosRenyiGraph(Scene):\n",
    "    def construct(self):\n",
    "        G = Graph.from_networkx(nxgraph, layout=\"spring\", layout_scale=3.5)\n",
    "        self.play(Create(G))\n",
    "        self.play(*[G[v].animate.move_to(5*RIGHT*np.cos(ind/7 * PI) +\n",
    "                                         3*UP*np.sin(ind/7 * PI))\n",
    "                    for ind, v in enumerate(G.vertices)])\n",
    "        self.play(Uncreate(G))"
   ]
  },
  {
   "cell_type": "code",
   "execution_count": 7,
   "id": "2d92350d",
   "metadata": {},
   "outputs": [
    {
     "name": "stderr",
     "output_type": "stream",
     "text": [
      "                                                                                                                       \r"
     ]
    },
    {
     "data": {
      "text/html": [
       "<video src=\"media\\jupyter\\OpeningManim@2023-03-28@13-12-24.mp4\" controls autoplay loop style=\"max-width: 75%;\"  >\n",
       "      Your browser does not support the <code>video</code> element.\n",
       "    </video>"
      ],
      "text/plain": [
       "<IPython.core.display.Video object>"
      ]
     },
     "metadata": {},
     "output_type": "display_data"
    }
   ],
   "source": [
    "%%manim -qm OpeningManim\n",
    "\n",
    "class OpeningManim(Scene):\n",
    "    def construct(self):\n",
    "        title = Tex(r\"This is some \\LaTeX\")\n",
    "        basel = MathTex(r\"\\sum_{n=1}^\\infty \\frac{1}{n^2} = \\frac{\\pi^2}{6}\")\n",
    "        VGroup(title, basel).arrange(DOWN)\n",
    "        self.play(\n",
    "            Write(title),\n",
    "            FadeIn(basel, shift=UP),\n",
    "        )\n",
    "        self.wait()\n",
    "\n",
    "        transform_title = Tex(\"That was a transform\")\n",
    "        transform_title.to_corner(UP + LEFT)\n",
    "        self.play(\n",
    "            Transform(title, transform_title),\n",
    "            LaggedStart(*[FadeOut(obj, shift=DOWN) for obj in basel]),\n",
    "        )\n",
    "        self.wait()\n",
    "\n",
    "        grid = NumberPlane(x_range=(-10, 10, 1), y_range=(-6.0, 6.0, 1))\n",
    "        grid_title = Tex(\"This is a grid\")\n",
    "        grid_title.scale(1.5)\n",
    "        grid_title.move_to(transform_title)\n",
    "\n",
    "        self.add(grid, grid_title)\n",
    "        self.play(\n",
    "            FadeOut(title),\n",
    "            FadeIn(grid_title, shift=DOWN),\n",
    "            Create(grid, run_time=3, lag_ratio=0.1),\n",
    "        )\n",
    "        self.wait()\n",
    "\n",
    "        grid_transform_title = Tex(\n",
    "            r\"That was a non-linear function \\\\ applied to the grid\"\n",
    "        )\n",
    "        grid_transform_title.move_to(grid_title, UL)\n",
    "        grid.prepare_for_nonlinear_transform()\n",
    "        self.play(\n",
    "            grid.animate.apply_function(\n",
    "                lambda p: p + np.array([np.sin(p[1]), np.sin(p[0]), 0])\n",
    "            ),\n",
    "            run_time=3,\n",
    "        )\n",
    "        self.wait()\n",
    "        self.play(Transform(grid_title, grid_transform_title))\n",
    "        self.wait()"
   ]
  },
  {
   "cell_type": "code",
   "execution_count": 6,
   "id": "63878421",
   "metadata": {},
   "outputs": [
    {
     "name": "stderr",
     "output_type": "stream",
     "text": [
      "                                                                                                                       \r"
     ]
    },
    {
     "data": {
      "text/html": [
       "<video src=\"media\\jupyter\\GridExample@2023-03-29@15-54-54.mp4\" controls autoplay loop style=\"max-width: 100%;\"  >\n",
       "      Your browser does not support the <code>video</code> element.\n",
       "    </video>"
      ],
      "text/plain": [
       "<IPython.core.display.Video object>"
      ]
     },
     "metadata": {},
     "output_type": "display_data"
    }
   ],
   "source": [
    "%%manim -qm GridExample\n",
    "\n",
    "from manim import *\n",
    "\n",
    "class GridExample(Scene):\n",
    "    def construct(self):\n",
    "        # Create a NumberPlane object with a grid\n",
    "        grid = NumberPlane(\n",
    "            x_range=(-2.5, 2.5), \n",
    "            y_range=(-2.5, 2.5),\n",
    "            x_length=5,\n",
    "            y_length=5,\n",
    "            axis_config={\n",
    "                \"stroke_color\": WHITE,\n",
    "                \"stroke_width\": 2,\n",
    "            },\n",
    "            \n",
    "        )\n",
    "        \n",
    "        # Create a 10x10 grid of squares\n",
    "        squares = VGroup(*[\n",
    "            Square(side_length=0.5)\n",
    "            for i in range(100)\n",
    "        ])\n",
    "        squares.arrange_in_grid(10, 10, buff=0)\n",
    "        \n",
    "        \n",
    "        # Color the squares as described\n",
    "        for i in range(0,10):\n",
    "            for j in range(i+1):\n",
    "                index = i*10 + j\n",
    "                squares[index].set_color(RED)\n",
    "                squares[index].set_fill(opacity=0.5)\n",
    "        squares.set_stroke(WHITE, width=4)\n",
    "        self.play(Create(squares))\n",
    "        # Add the grid and squares to the scene\n",
    "        \n",
    "        self.add(grid, squares)\n",
    "        \n",
    "        \n",
    "        # Wait for a moment\n",
    "        self.wait(5)\n",
    "        \n"
   ]
  },
  {
   "cell_type": "code",
   "execution_count": 57,
   "id": "c58970bc",
   "metadata": {},
   "outputs": [
    {
     "name": "stderr",
     "output_type": "stream",
     "text": [
      "                                                                                                                       \r"
     ]
    },
    {
     "data": {
      "text/html": [
       "<video src=\"media\\jupyter\\SquareRotation@2023-03-28@17-37-06.mp4\" controls autoplay loop style=\"max-width: 100%;\"  >\n",
       "      Your browser does not support the <code>video</code> element.\n",
       "    </video>"
      ],
      "text/plain": [
       "<IPython.core.display.Video object>"
      ]
     },
     "metadata": {},
     "output_type": "display_data"
    }
   ],
   "source": [
    "%%manim -qm SquareRotation\n",
    "\n",
    "class SquareRotation(Scene):\n",
    "    def construct(self):\n",
    "        # Create a square\n",
    "        square = Square(color=RED, fill_opacity=1)\n",
    "\n",
    "        # Rotate the square four times by 90 degrees each time\n",
    "        for i in range(4):\n",
    "            self.play(Rotate(square, PI/2))\n",
    "            self.wait(2)\n"
   ]
  },
  {
   "cell_type": "code",
   "execution_count": 8,
   "id": "c29b21f3",
   "metadata": {},
   "outputs": [
    {
     "name": "stderr",
     "output_type": "stream",
     "text": [
      "                                                                                                                       \r"
     ]
    },
    {
     "data": {
      "text/html": [
       "<video src=\"media\\jupyter\\ArcShapeIris@2023-03-29@16-27-23.mp4\" controls autoplay loop style=\"max-width: 100%;\"  >\n",
       "      Your browser does not support the <code>video</code> element.\n",
       "    </video>"
      ],
      "text/plain": [
       "<IPython.core.display.Video object>"
      ]
     },
     "metadata": {},
     "output_type": "display_data"
    }
   ],
   "source": [
    "%%manim -pql ArcShapeIris\n",
    "from manim import *\n",
    "\n",
    "class ArcShapeIris(Scene):\n",
    "    def construct(self):\n",
    "        colors = [DARK_BROWN, BLUE_E, BLUE_D, BLUE_A, TEAL_B, GREEN_B, YELLOW_B]\n",
    "        radius = [1 + rad * 0.1 for rad in range(len(colors))]\n",
    "\n",
    "        circles_group = VGroup()\n",
    "\n",
    "        # zip(radius, color) makes the iterator [(radius[i], color[i]) for i in range(radius)]\n",
    "        circles_group.add(*[Circle(radius=rad, stroke_width=10, color=col)\n",
    "                            for rad, col in zip(radius, colors)])\n",
    "        self.play(Create(circles_group), run_time = 5)"
   ]
  },
  {
   "cell_type": "code",
   "execution_count": 3,
   "id": "cca1df01",
   "metadata": {},
   "outputs": [
    {
     "name": "stderr",
     "output_type": "stream",
     "text": [
      "                                                                                                                       \r"
     ]
    },
    {
     "data": {
      "text/html": [
       "<video src=\"media\\jupyter\\SuccessionExample@2023-03-29@17-26-30.mp4\" controls autoplay loop style=\"max-width: 100%;\"  >\n",
       "      Your browser does not support the <code>video</code> element.\n",
       "    </video>"
      ],
      "text/plain": [
       "<IPython.core.display.Video object>"
      ]
     },
     "metadata": {},
     "output_type": "display_data"
    }
   ],
   "source": [
    "%%manim -pql SuccessionExample\n",
    "\n",
    "class SuccessionExample(Scene):\n",
    "    def construct(self):\n",
    "        dot1 = Dot(point=LEFT * 2 + UP * 2, radius=0.16, color=BLUE)\n",
    "        dot2 = Dot(point=LEFT * 2 + DOWN * 2, radius=0.16, color=MAROON)\n",
    "        dot3 = Dot(point=RIGHT * 2 + DOWN * 2, radius=0.16, color=GREEN)\n",
    "        dot4 = Dot(point=RIGHT * 2 + UP * 2, radius=0.16, color=YELLOW)\n",
    "        self.add(dot1, dot2, dot3, dot4)\n",
    "\n",
    "        self.play(Succession(\n",
    "            dot1.animate.move_to(dot2),\n",
    "            dot2.animate.move_to(dot3),\n",
    "            dot3.animate.move_to(dot4),\n",
    "            dot4.animate.move_to(dot1)\n",
    "        ))"
   ]
  },
  {
   "cell_type": "code",
   "execution_count": 24,
   "id": "7ea47a8c",
   "metadata": {},
   "outputs": [
    {
     "name": "stderr",
     "output_type": "stream",
     "text": [
      "<string>:10: DeprecationWarning: This method is not guaranteed to stay around. Please prefer getting the attribute normally.\n",
      "                                                                                                                       \r"
     ]
    },
    {
     "data": {
      "text/html": [
       "<video src=\"media\\jupyter\\PolygonRectangle@2023-04-06@17-44-08.mp4\" controls autoplay loop style=\"max-width: 75%;\"  >\n",
       "      Your browser does not support the <code>video</code> element.\n",
       "    </video>"
      ],
      "text/plain": [
       "<IPython.core.display.Video object>"
      ]
     },
     "metadata": {},
     "output_type": "display_data"
    }
   ],
   "source": [
    "%%manim -pql PolygonRectangle\n",
    "from manim import *\n",
    "\n",
    "class PolygonRectangle(Scene):\n",
    "    def construct(self):\n",
    "        # Draw regular polygon with 10 sides\n",
    "        polygon = RegularPolygon(n=10, color=YELLOW)\n",
    "        self.play(Create(polygon))\n",
    "\n",
    "        # Form rectangle with polygon\n",
    "        rect = Rectangle(height=polygon.get_height(), width=polygon.get_width(), color=BLUE)\n",
    "\n",
    "        # Draw dotted lines from opposite vertices\n",
    "        dots = []\n",
    "        for i in range(0, 5):\n",
    "            dot1 = Dot(polygon.get_vertices()[i], color=RED)\n",
    "            dot2 = Dot(polygon.get_vertices()[i+5], color=RED)\n",
    "            line = DashedLine(dot1.get_center(), dot2.get_center(), color=RED)\n",
    "            self.play(Create(dot1), Create(dot2), Create(line))\n",
    "            dots.append(dot1)\n",
    "            dots.append(dot2)\n",
    "            dots.append(line)\n",
    "        self.wait()\n"
   ]
  },
  {
   "cell_type": "code",
   "execution_count": 36,
   "id": "6cf67344",
   "metadata": {},
   "outputs": [
    {
     "name": "stderr",
     "output_type": "stream",
     "text": [
      "                                                                                                                       \r"
     ]
    },
    {
     "data": {
      "text/html": [
       "<video src=\"media\\jupyter\\TriangleAndSquares@2023-04-09@06-11-12.mp4\" controls autoplay loop style=\"max-width: 100%;\"  >\n",
       "      Your browser does not support the <code>video</code> element.\n",
       "    </video>"
      ],
      "text/plain": [
       "<IPython.core.display.Video object>"
      ]
     },
     "metadata": {},
     "output_type": "display_data"
    }
   ],
   "source": [
    "%%manim -pql TriangleAndSquares\n",
    "from manim import *\n",
    "\n",
    "class TriangleAndSquares(Scene):\n",
    "    def construct(self):\n",
    "        # Create a 3-4-5 triangle\n",
    "        triangle = Polygon(ORIGIN, 4*RIGHT, 3*UP, fill_color=RED,fill_opacity=0.5, stroke_width=2, stroke_color=WHITE).scale(0.5)\n",
    "        \n",
    "        # Position it for the visual\n",
    "        triangle.shift(1.5*LEFT+DOWN)\n",
    "        \n",
    "        # Create the corresponding squares at each of triangle's sides\n",
    "        square1 = Square(side_length=1.5, fill_color=PURPLE, fill_opacity=0.5).next_to(triangle, LEFT, buff=0)\n",
    "        square2 = Square(side_length=2, fill_color=BLUE, fill_opacity=0.5).next_to(triangle, DOWN, buff=0)\n",
    "        square3 = Square(side_length=2.5, fill_color=PINK, fill_opacity=0.5).next_to(triangle, ORIGIN, buff=0).rotate(-1229*PI/6000)\n",
    "        square3.shift((2/3)*UP+(3/4)*RIGHT+0.34*UP)\n",
    "        \n",
    "        # Create a title\n",
    "        title = Tex(\" This is a 3-4-5 triangle \")\n",
    "        \n",
    "        #Animate and Add Objects to the scene\n",
    "        self.play(Create(triangle))\n",
    "        self.add(triangle)\n",
    "        self.wait()\n",
    "        self.play(Create(title.next_to(triangle, DOWN)))\n",
    "        self.wait()\n",
    "        self.play(FadeOut(title))\n",
    "        self.wait()\n",
    "        self.play(Create(square1))\n",
    "        self.play(Create(square2))\n",
    "        self.play(Create(square3))\n",
    "        self.add(square1,square2,square3)\n",
    "        \n",
    "        # Label the sides of the squares\n",
    "        label1 = Tex(\"3\").next_to(square1, LEFT, buff=0.2)\n",
    "        label2 = Tex(\"4\").next_to(square2, DOWN, buff=0.2)\n",
    "        label3 = Tex(\"5\").next_to(square3, RIGHT, buff=0.2)\n",
    "        \n",
    "        # Show the labels one by one\n",
    "        self.play(Create(label1))\n",
    "        self.play(Create(label2))\n",
    "        self.play(Create(label3))\n",
    "        self.add(label1, label2, label3)\n",
    "        \n",
    "        # Label the triangles according to their areas (in the middle)\n",
    "        square_label1 = MathTex(r\"3^2\").next_to(triangle, LEFT, buff=0.5)\n",
    "        square_label2 = MathTex(r\"4^2\").next_to(triangle, DOWN, buff=0.7)\n",
    "        square_label3 = MathTex(r\"5^2\").next_to(triangle, UP+0.03*RIGHT)\n",
    "        self.play(FadeIn(square_label1, square_label2, square_label3))\n",
    "        self.wait(3)\n",
    "\n"
   ]
  },
  {
   "cell_type": "code",
   "execution_count": 28,
   "id": "a00eb994",
   "metadata": {},
   "outputs": [
    {
     "name": "stderr",
     "output_type": "stream",
     "text": [
      "                                                                                                                       \r"
     ]
    },
    {
     "data": {
      "text/html": [
       "<video src=\"media\\jupyter\\TriangleScaling@2023-04-20@16-03-56.mp4\" controls autoplay loop style=\"max-width: 100%;\"  >\n",
       "      Your browser does not support the <code>video</code> element.\n",
       "    </video>"
      ],
      "text/plain": [
       "<IPython.core.display.Video object>"
      ]
     },
     "metadata": {},
     "output_type": "display_data"
    }
   ],
   "source": [
    "%%manim -pql TriangleScaling\n",
    "\n",
    "class TriangleScaling(Scene):\n",
    "    def construct(self):\n",
    "        triangle = Triangle(fill_opacity = 0.5)\n",
    "        triangle.save_state()\n",
    "        \n",
    "        scale_factor = ValueTracker(1)\n",
    "        scale_value = Integer(scale_factor.get_value())\n",
    "        scale_value.add_updater(\n",
    "            lambda mob: mob.next_to(triangle,RIGHT, buff = 2)\n",
    "            )\n",
    "\n",
    "        def update_triangle(mob):\n",
    "            mob.scale(scale_factor.get_value())\n",
    "\n",
    "        \n",
    "        def update_value(obj):\n",
    "            obj.scale(scale_factor.get_value())\n",
    "\n",
    "        scale_value.add_updater(update_value)\n",
    "        triangle.add_updater(update_triangle)\n",
    "\n",
    "        self.play(FadeIn(triangle, scale_value))\n",
    "        self.play(triangle.animate.set_color(PURPLE).set_opacity(0.5).scale(0), scale_value.animate.set_value(0), run_time =3)\n",
    "        self.play(Restore(triangle), scale_value.animate.set_value(1), run_time = 3, )\n",
    "        self.play(triangle.animate.scale(3),scale_value.animate.set_value(3), run_time = 6)\n",
    "        self.wait()\n",
    "        self.play(Restore(triangle), scale_value.animate.set_value(1), run_time = 3)"
   ]
  },
  {
   "cell_type": "code",
   "execution_count": 32,
   "id": "58400681",
   "metadata": {},
   "outputs": [
    {
     "name": "stderr",
     "output_type": "stream",
     "text": [
      "                                                                                                                       \r"
     ]
    },
    {
     "data": {
      "text/html": [
       "<video src=\"media\\jupyter\\TriangleScaling@2023-04-09@06-01-02.mp4\" controls autoplay loop style=\"max-width: 100%;\"  >\n",
       "      Your browser does not support the <code>video</code> element.\n",
       "    </video>"
      ],
      "text/plain": [
       "<IPython.core.display.Video object>"
      ]
     },
     "metadata": {},
     "output_type": "display_data"
    }
   ],
   "source": [
    "%%manim -pql TriangleScaling\n",
    "config.background_color = BLACK\n",
    "class TriangleScaling(Scene):\n",
    "    def construct(self):\n",
    "\n",
    "        #Create a title\n",
    "        \n",
    "        title = Tex(\"Let's Scale a Triangle\")\n",
    "        \n",
    "        #Create the triangle\n",
    "        triangle = Triangle().set_stroke(PURPLE).set_color(PURPLE).set_opacity(0.5)\n",
    "        triangle.save_state()\n",
    "        \n",
    "        #Create the scale value\n",
    "        scale_factor = ValueTracker(1)\n",
    "        scale_value = Integer(scale_factor.get_value())\n",
    "        scale_value.add_updater(\n",
    "            lambda mob: mob.next_to(triangle,RIGHT, buff = 2)\n",
    "            )\n",
    "        \n",
    "        #Add everything to the canvas and animate\n",
    "        \n",
    "        self.play(FadeIn(title))\n",
    "        self.wait(3)\n",
    "        self.play(FadeOut(title))\n",
    "        self.wait()\n",
    "        self.play(FadeIn(triangle, scale_value))\n",
    "        triangle.generate_target()\n",
    "        triangle.target.scale(0)\n",
    "        self.add(triangle)\n",
    "        self.wait()\n",
    "        self.play(MoveToTarget(triangle), scale_value.animate.set_value(0), run_time = 3)\n",
    "        self.play(Restore(triangle), scale_value.animate.set_value(1), run_time = 3)\n",
    "        self.wait()\n",
    "        self.play(triangle.animate.scale(3), scale_value.animate.set_value(3), run_time = 4)\n",
    "        self.wait()\n",
    "        self.play(Restore(triangle),scale_value.animate.set_value(1), run_time = 3)\n",
    "        self.wait()"
   ]
  },
  {
   "cell_type": "code",
   "execution_count": 53,
   "id": "e63682ba",
   "metadata": {},
   "outputs": [
    {
     "name": "stderr",
     "output_type": "stream",
     "text": [
      "                                                                                                                       \r"
     ]
    },
    {
     "data": {
      "text/html": [
       "<video src=\"media\\jupyter\\SineWave@2023-04-18@16-17-37.mp4\" controls autoplay loop style=\"max-width: 100%;\"  >\n",
       "      Your browser does not support the <code>video</code> element.\n",
       "    </video>"
      ],
      "text/plain": [
       "<IPython.core.display.Video object>"
      ]
     },
     "metadata": {},
     "output_type": "display_data"
    }
   ],
   "source": [
    "%%manim -pql SineWave\n",
    "config.background_color = BLACK\n",
    "from manim import *\n",
    "\n",
    "class SineWave(Scene):\n",
    "    def construct(self):\n",
    "        ax = Axes(x_range=[-8,8,3.15], y_range=[-2,2]).set_color(BLUE)\n",
    "        curve = ax.plot(lambda x: np.sin(x), color=RED)\n",
    "        area = ax.get_area(curve, x_range=[-2*np.pi, 2*np.pi], color = BLUE)\n",
    "        self.play(FadeIn(ax))\n",
    "        self.wait()\n",
    "        self.play(Create(curve), run_time = 3)\n",
    "        self.play(FadeIn(area))\n",
    "        "
   ]
  },
  {
   "cell_type": "code",
   "execution_count": 29,
   "id": "1cbdbdec",
   "metadata": {},
   "outputs": [
    {
     "name": "stderr",
     "output_type": "stream",
     "text": [
      "                                                                                                                       \r"
     ]
    },
    {
     "data": {
      "text/html": [
       "<video src=\"media\\jupyter\\SineWave@2023-04-20@16-04-25.mp4\" controls autoplay loop style=\"max-width: 100%;\"  >\n",
       "      Your browser does not support the <code>video</code> element.\n",
       "    </video>"
      ],
      "text/plain": [
       "<IPython.core.display.Video object>"
      ]
     },
     "metadata": {},
     "output_type": "display_data"
    }
   ],
   "source": [
    "%%manim -pql SineWave\n",
    "config.background_color = BLACK\n",
    "from manim import *\n",
    "\n",
    "class SineWave(Scene):\n",
    "    def construct(self):\n",
    "        ax = Axes(x_range=[-8,8,3.15], y_range=[-2,2]).set_color(BLUE)\n",
    "        curve = ax.plot(lambda x: np.sin(x), color=RED)\n",
    "        area = ax.get_area(curve, x_range=[-2*np.pi, 2*np.pi], color = BLUE)\n",
    "        self.play(FadeIn(ax))\n",
    "        self.wait()\n",
    "        self.play(Create(curve), run_time = 3)\n",
    "        self.play(FadeIn(area))\n",
    "        \n",
    "        position = ValueTracker(0)\n",
    "        pointer = Vector(DOWN)\n",
    "        pointer.add_updater(\n",
    "            lambda mob: mob.next_to(\n",
    "                ax.coords_to_point(position.get_value()), UP\n",
    "            )\n",
    "        )\n",
    "        pointer.update()\n",
    "        self.add(pointer)\n",
    "        self.wait()\n",
    "        self.play(position.animate.set_value(-6.26), run_time = 2)\n",
    "        self.play(position.animate.set_value(6.26), run_time = 4)\n",
    "        self.wait(2)"
   ]
  },
  {
   "cell_type": "code",
   "execution_count": 2,
   "id": "d5d00c55",
   "metadata": {},
   "outputs": [
    {
     "data": {
      "text/html": [
       "<pre style=\"white-space:pre;overflow-x:auto;line-height:normal;font-family:Menlo,'DejaVu Sans Mono',consolas,'Courier New',monospace\"><span style=\"color: #7fbfbf; text-decoration-color: #7fbfbf\">[04/09/23 06:20:25] </span><span style=\"color: #008000; text-decoration-color: #008000\">INFO    </span> Animation <span style=\"color: #008000; text-decoration-color: #008000\">0</span> : Using cached data <span style=\"font-weight: bold\">(</span>hash :                           <a href=\"file://C:\\Users\\payal\\anaconda3\\lib\\site-packages\\manim\\renderer\\cairo_renderer.py\" target=\"_blank\"><span style=\"color: #7f7f7f; text-decoration-color: #7f7f7f\">cairo_renderer.py</span></a><span style=\"color: #7f7f7f; text-decoration-color: #7f7f7f\">:</span><a href=\"file://C:\\Users\\payal\\anaconda3\\lib\\site-packages\\manim\\renderer\\cairo_renderer.py#78\" target=\"_blank\"><span style=\"color: #7f7f7f; text-decoration-color: #7f7f7f\">78</span></a>\n",
       "<span style=\"color: #7fbfbf; text-decoration-color: #7fbfbf\">                    </span>         2578476628_4150355572_223132457<span style=\"font-weight: bold\">)</span>                                  <span style=\"color: #7f7f7f; text-decoration-color: #7f7f7f\">                    </span>\n",
       "</pre>\n"
      ],
      "text/plain": [
       "\u001b[2;36m[04/09/23 06:20:25]\u001b[0m\u001b[2;36m \u001b[0m\u001b[32mINFO    \u001b[0m Animation \u001b[32m0\u001b[0m : Using cached data \u001b[1m(\u001b[0mhash :                           \u001b]8;id=862793;file://C:\\Users\\payal\\anaconda3\\lib\\site-packages\\manim\\renderer\\cairo_renderer.py\u001b\\\u001b[2mcairo_renderer.py\u001b[0m\u001b]8;;\u001b\\\u001b[2m:\u001b[0m\u001b]8;id=76696;file://C:\\Users\\payal\\anaconda3\\lib\\site-packages\\manim\\renderer\\cairo_renderer.py#78\u001b\\\u001b[2m78\u001b[0m\u001b]8;;\u001b\\\n",
       "\u001b[2;36m                    \u001b[0m         2578476628_4150355572_223132457\u001b[1m)\u001b[0m                                  \u001b[2m                    \u001b[0m\n"
      ]
     },
     "metadata": {},
     "output_type": "display_data"
    },
    {
     "name": "stderr",
     "output_type": "stream",
     "text": [
      "                                                                                                                       \r"
     ]
    },
    {
     "data": {
      "text/html": [
       "<pre style=\"white-space:pre;overflow-x:auto;line-height:normal;font-family:Menlo,'DejaVu Sans Mono',consolas,'Courier New',monospace\"><span style=\"color: #7fbfbf; text-decoration-color: #7fbfbf\">                    </span><span style=\"color: #008000; text-decoration-color: #008000\">INFO    </span> Animation <span style=\"color: #008000; text-decoration-color: #008000\">1</span> : Using cached data <span style=\"font-weight: bold\">(</span>hash :                           <a href=\"file://C:\\Users\\payal\\anaconda3\\lib\\site-packages\\manim\\renderer\\cairo_renderer.py\" target=\"_blank\"><span style=\"color: #7f7f7f; text-decoration-color: #7f7f7f\">cairo_renderer.py</span></a><span style=\"color: #7f7f7f; text-decoration-color: #7f7f7f\">:</span><a href=\"file://C:\\Users\\payal\\anaconda3\\lib\\site-packages\\manim\\renderer\\cairo_renderer.py#78\" target=\"_blank\"><span style=\"color: #7f7f7f; text-decoration-color: #7f7f7f\">78</span></a>\n",
       "<span style=\"color: #7fbfbf; text-decoration-color: #7fbfbf\">                    </span>         2535676517_329969645_2789323738<span style=\"font-weight: bold\">)</span>                                  <span style=\"color: #7f7f7f; text-decoration-color: #7f7f7f\">                    </span>\n",
       "</pre>\n"
      ],
      "text/plain": [
       "\u001b[2;36m                   \u001b[0m\u001b[2;36m \u001b[0m\u001b[32mINFO    \u001b[0m Animation \u001b[32m1\u001b[0m : Using cached data \u001b[1m(\u001b[0mhash :                           \u001b]8;id=115781;file://C:\\Users\\payal\\anaconda3\\lib\\site-packages\\manim\\renderer\\cairo_renderer.py\u001b\\\u001b[2mcairo_renderer.py\u001b[0m\u001b]8;;\u001b\\\u001b[2m:\u001b[0m\u001b]8;id=724801;file://C:\\Users\\payal\\anaconda3\\lib\\site-packages\\manim\\renderer\\cairo_renderer.py#78\u001b\\\u001b[2m78\u001b[0m\u001b]8;;\u001b\\\n",
       "\u001b[2;36m                    \u001b[0m         2535676517_329969645_2789323738\u001b[1m)\u001b[0m                                  \u001b[2m                    \u001b[0m\n"
      ]
     },
     "metadata": {},
     "output_type": "display_data"
    },
    {
     "data": {
      "text/html": [
       "<pre style=\"white-space:pre;overflow-x:auto;line-height:normal;font-family:Menlo,'DejaVu Sans Mono',consolas,'Courier New',monospace\"><span style=\"color: #7fbfbf; text-decoration-color: #7fbfbf\">                    </span><span style=\"color: #008000; text-decoration-color: #008000\">INFO    </span> Animation <span style=\"color: #008000; text-decoration-color: #008000\">2</span> : Using cached data <span style=\"font-weight: bold\">(</span>hash :                           <a href=\"file://C:\\Users\\payal\\anaconda3\\lib\\site-packages\\manim\\renderer\\cairo_renderer.py\" target=\"_blank\"><span style=\"color: #7f7f7f; text-decoration-color: #7f7f7f\">cairo_renderer.py</span></a><span style=\"color: #7f7f7f; text-decoration-color: #7f7f7f\">:</span><a href=\"file://C:\\Users\\payal\\anaconda3\\lib\\site-packages\\manim\\renderer\\cairo_renderer.py#78\" target=\"_blank\"><span style=\"color: #7f7f7f; text-decoration-color: #7f7f7f\">78</span></a>\n",
       "<span style=\"color: #7fbfbf; text-decoration-color: #7fbfbf\">                    </span>         2535676517_2694628489_1852535596<span style=\"font-weight: bold\">)</span>                                 <span style=\"color: #7f7f7f; text-decoration-color: #7f7f7f\">                    </span>\n",
       "</pre>\n"
      ],
      "text/plain": [
       "\u001b[2;36m                   \u001b[0m\u001b[2;36m \u001b[0m\u001b[32mINFO    \u001b[0m Animation \u001b[32m2\u001b[0m : Using cached data \u001b[1m(\u001b[0mhash :                           \u001b]8;id=462398;file://C:\\Users\\payal\\anaconda3\\lib\\site-packages\\manim\\renderer\\cairo_renderer.py\u001b\\\u001b[2mcairo_renderer.py\u001b[0m\u001b]8;;\u001b\\\u001b[2m:\u001b[0m\u001b]8;id=245024;file://C:\\Users\\payal\\anaconda3\\lib\\site-packages\\manim\\renderer\\cairo_renderer.py#78\u001b\\\u001b[2m78\u001b[0m\u001b]8;;\u001b\\\n",
       "\u001b[2;36m                    \u001b[0m         2535676517_2694628489_1852535596\u001b[1m)\u001b[0m                                 \u001b[2m                    \u001b[0m\n"
      ]
     },
     "metadata": {},
     "output_type": "display_data"
    },
    {
     "name": "stderr",
     "output_type": "stream",
     "text": [
      "                                                                                                                       \r"
     ]
    },
    {
     "data": {
      "text/html": [
       "<pre style=\"white-space:pre;overflow-x:auto;line-height:normal;font-family:Menlo,'DejaVu Sans Mono',consolas,'Courier New',monospace\"><span style=\"color: #7fbfbf; text-decoration-color: #7fbfbf\">                    </span><span style=\"color: #008000; text-decoration-color: #008000\">INFO    </span> Animation <span style=\"color: #008000; text-decoration-color: #008000\">3</span> : Using cached data <span style=\"font-weight: bold\">(</span>hash :                           <a href=\"file://C:\\Users\\payal\\anaconda3\\lib\\site-packages\\manim\\renderer\\cairo_renderer.py\" target=\"_blank\"><span style=\"color: #7f7f7f; text-decoration-color: #7f7f7f\">cairo_renderer.py</span></a><span style=\"color: #7f7f7f; text-decoration-color: #7f7f7f\">:</span><a href=\"file://C:\\Users\\payal\\anaconda3\\lib\\site-packages\\manim\\renderer\\cairo_renderer.py#78\" target=\"_blank\"><span style=\"color: #7f7f7f; text-decoration-color: #7f7f7f\">78</span></a>\n",
       "<span style=\"color: #7fbfbf; text-decoration-color: #7fbfbf\">                    </span>         2535676517_983973377_463163123<span style=\"font-weight: bold\">)</span>                                   <span style=\"color: #7f7f7f; text-decoration-color: #7f7f7f\">                    </span>\n",
       "</pre>\n"
      ],
      "text/plain": [
       "\u001b[2;36m                   \u001b[0m\u001b[2;36m \u001b[0m\u001b[32mINFO    \u001b[0m Animation \u001b[32m3\u001b[0m : Using cached data \u001b[1m(\u001b[0mhash :                           \u001b]8;id=107812;file://C:\\Users\\payal\\anaconda3\\lib\\site-packages\\manim\\renderer\\cairo_renderer.py\u001b\\\u001b[2mcairo_renderer.py\u001b[0m\u001b]8;;\u001b\\\u001b[2m:\u001b[0m\u001b]8;id=766885;file://C:\\Users\\payal\\anaconda3\\lib\\site-packages\\manim\\renderer\\cairo_renderer.py#78\u001b\\\u001b[2m78\u001b[0m\u001b]8;;\u001b\\\n",
       "\u001b[2;36m                    \u001b[0m         2535676517_983973377_463163123\u001b[1m)\u001b[0m                                   \u001b[2m                    \u001b[0m\n"
      ]
     },
     "metadata": {},
     "output_type": "display_data"
    },
    {
     "name": "stderr",
     "output_type": "stream",
     "text": [
      "                                                                                                                       \r"
     ]
    },
    {
     "data": {
      "text/html": [
       "<pre style=\"white-space:pre;overflow-x:auto;line-height:normal;font-family:Menlo,'DejaVu Sans Mono',consolas,'Courier New',monospace\"><span style=\"color: #7fbfbf; text-decoration-color: #7fbfbf\">                    </span><span style=\"color: #008000; text-decoration-color: #008000\">INFO    </span> Animation <span style=\"color: #008000; text-decoration-color: #008000\">4</span> : Using cached data <span style=\"font-weight: bold\">(</span>hash :                           <a href=\"file://C:\\Users\\payal\\anaconda3\\lib\\site-packages\\manim\\renderer\\cairo_renderer.py\" target=\"_blank\"><span style=\"color: #7f7f7f; text-decoration-color: #7f7f7f\">cairo_renderer.py</span></a><span style=\"color: #7f7f7f; text-decoration-color: #7f7f7f\">:</span><a href=\"file://C:\\Users\\payal\\anaconda3\\lib\\site-packages\\manim\\renderer\\cairo_renderer.py#78\" target=\"_blank\"><span style=\"color: #7f7f7f; text-decoration-color: #7f7f7f\">78</span></a>\n",
       "<span style=\"color: #7fbfbf; text-decoration-color: #7fbfbf\">                    </span>         2535676517_329969645_1592352341<span style=\"font-weight: bold\">)</span>                                  <span style=\"color: #7f7f7f; text-decoration-color: #7f7f7f\">                    </span>\n",
       "</pre>\n"
      ],
      "text/plain": [
       "\u001b[2;36m                   \u001b[0m\u001b[2;36m \u001b[0m\u001b[32mINFO    \u001b[0m Animation \u001b[32m4\u001b[0m : Using cached data \u001b[1m(\u001b[0mhash :                           \u001b]8;id=450016;file://C:\\Users\\payal\\anaconda3\\lib\\site-packages\\manim\\renderer\\cairo_renderer.py\u001b\\\u001b[2mcairo_renderer.py\u001b[0m\u001b]8;;\u001b\\\u001b[2m:\u001b[0m\u001b]8;id=291970;file://C:\\Users\\payal\\anaconda3\\lib\\site-packages\\manim\\renderer\\cairo_renderer.py#78\u001b\\\u001b[2m78\u001b[0m\u001b]8;;\u001b\\\n",
       "\u001b[2;36m                    \u001b[0m         2535676517_329969645_1592352341\u001b[1m)\u001b[0m                                  \u001b[2m                    \u001b[0m\n"
      ]
     },
     "metadata": {},
     "output_type": "display_data"
    },
    {
     "name": "stderr",
     "output_type": "stream",
     "text": [
      "                                                                                                                       \r"
     ]
    },
    {
     "data": {
      "text/html": [
       "<pre style=\"white-space:pre;overflow-x:auto;line-height:normal;font-family:Menlo,'DejaVu Sans Mono',consolas,'Courier New',monospace\"><span style=\"color: #7fbfbf; text-decoration-color: #7fbfbf\">                    </span><span style=\"color: #008000; text-decoration-color: #008000\">INFO    </span> Animation <span style=\"color: #008000; text-decoration-color: #008000\">5</span> : Partial movie file written in                   <a href=\"file://C:\\Users\\payal\\anaconda3\\lib\\site-packages\\manim\\scene\\scene_file_writer.py\" target=\"_blank\"><span style=\"color: #7f7f7f; text-decoration-color: #7f7f7f\">scene_file_writer.py</span></a><span style=\"color: #7f7f7f; text-decoration-color: #7f7f7f\">:</span><a href=\"file://C:\\Users\\payal\\anaconda3\\lib\\site-packages\\manim\\scene\\scene_file_writer.py#527\" target=\"_blank\"><span style=\"color: #7f7f7f; text-decoration-color: #7f7f7f\">527</span></a>\n",
       "<span style=\"color: #7fbfbf; text-decoration-color: #7fbfbf\">                    </span>         <span style=\"color: #008000; text-decoration-color: #008000\">'C:\\Users\\payal\\media\\videos\\payal\\480p15\\partial_movie_files</span> <span style=\"color: #7f7f7f; text-decoration-color: #7f7f7f\">                        </span>\n",
       "<span style=\"color: #7fbfbf; text-decoration-color: #7fbfbf\">                    </span>         <span style=\"color: #008000; text-decoration-color: #008000\">\\SineWave\\2535676517_2099004507_2977345074.mp4'</span>               <span style=\"color: #7f7f7f; text-decoration-color: #7f7f7f\">                        </span>\n",
       "</pre>\n"
      ],
      "text/plain": [
       "\u001b[2;36m                   \u001b[0m\u001b[2;36m \u001b[0m\u001b[32mINFO    \u001b[0m Animation \u001b[32m5\u001b[0m : Partial movie file written in                   \u001b]8;id=876570;file://C:\\Users\\payal\\anaconda3\\lib\\site-packages\\manim\\scene\\scene_file_writer.py\u001b\\\u001b[2mscene_file_writer.py\u001b[0m\u001b]8;;\u001b\\\u001b[2m:\u001b[0m\u001b]8;id=479947;file://C:\\Users\\payal\\anaconda3\\lib\\site-packages\\manim\\scene\\scene_file_writer.py#527\u001b\\\u001b[2m527\u001b[0m\u001b]8;;\u001b\\\n",
       "\u001b[2;36m                    \u001b[0m         \u001b[32m'C:\\Users\\payal\\media\\videos\\payal\\480p15\\partial_movie_files\u001b[0m \u001b[2m                        \u001b[0m\n",
       "\u001b[2;36m                    \u001b[0m         \u001b[32m\\SineWave\\2535676517_2099004507_2977345074.mp4'\u001b[0m               \u001b[2m                        \u001b[0m\n"
      ]
     },
     "metadata": {},
     "output_type": "display_data"
    },
    {
     "name": "stderr",
     "output_type": "stream",
     "text": [
      "                                                                                                                       \r"
     ]
    },
    {
     "data": {
      "text/html": [
       "<pre style=\"white-space:pre;overflow-x:auto;line-height:normal;font-family:Menlo,'DejaVu Sans Mono',consolas,'Courier New',monospace\"><span style=\"color: #7fbfbf; text-decoration-color: #7fbfbf\">[04/09/23 06:20:27] </span><span style=\"color: #008000; text-decoration-color: #008000\">INFO    </span> Animation <span style=\"color: #008000; text-decoration-color: #008000\">6</span> : Partial movie file written in                   <a href=\"file://C:\\Users\\payal\\anaconda3\\lib\\site-packages\\manim\\scene\\scene_file_writer.py\" target=\"_blank\"><span style=\"color: #7f7f7f; text-decoration-color: #7f7f7f\">scene_file_writer.py</span></a><span style=\"color: #7f7f7f; text-decoration-color: #7f7f7f\">:</span><a href=\"file://C:\\Users\\payal\\anaconda3\\lib\\site-packages\\manim\\scene\\scene_file_writer.py#527\" target=\"_blank\"><span style=\"color: #7f7f7f; text-decoration-color: #7f7f7f\">527</span></a>\n",
       "<span style=\"color: #7fbfbf; text-decoration-color: #7fbfbf\">                    </span>         <span style=\"color: #008000; text-decoration-color: #008000\">'C:\\Users\\payal\\media\\videos\\payal\\480p15\\partial_movie_files</span> <span style=\"color: #7f7f7f; text-decoration-color: #7f7f7f\">                        </span>\n",
       "<span style=\"color: #7fbfbf; text-decoration-color: #7fbfbf\">                    </span>         <span style=\"color: #008000; text-decoration-color: #008000\">\\SineWave\\2535676517_3779868516_3563366946.mp4'</span>               <span style=\"color: #7f7f7f; text-decoration-color: #7f7f7f\">                        </span>\n",
       "</pre>\n"
      ],
      "text/plain": [
       "\u001b[2;36m[04/09/23 06:20:27]\u001b[0m\u001b[2;36m \u001b[0m\u001b[32mINFO    \u001b[0m Animation \u001b[32m6\u001b[0m : Partial movie file written in                   \u001b]8;id=535616;file://C:\\Users\\payal\\anaconda3\\lib\\site-packages\\manim\\scene\\scene_file_writer.py\u001b\\\u001b[2mscene_file_writer.py\u001b[0m\u001b]8;;\u001b\\\u001b[2m:\u001b[0m\u001b]8;id=797380;file://C:\\Users\\payal\\anaconda3\\lib\\site-packages\\manim\\scene\\scene_file_writer.py#527\u001b\\\u001b[2m527\u001b[0m\u001b]8;;\u001b\\\n",
       "\u001b[2;36m                    \u001b[0m         \u001b[32m'C:\\Users\\payal\\media\\videos\\payal\\480p15\\partial_movie_files\u001b[0m \u001b[2m                        \u001b[0m\n",
       "\u001b[2;36m                    \u001b[0m         \u001b[32m\\SineWave\\2535676517_3779868516_3563366946.mp4'\u001b[0m               \u001b[2m                        \u001b[0m\n"
      ]
     },
     "metadata": {},
     "output_type": "display_data"
    },
    {
     "data": {
      "text/html": [
       "<pre style=\"white-space:pre;overflow-x:auto;line-height:normal;font-family:Menlo,'DejaVu Sans Mono',consolas,'Courier New',monospace\"><span style=\"color: #7fbfbf; text-decoration-color: #7fbfbf\">                    </span><span style=\"color: #008000; text-decoration-color: #008000\">INFO    </span> Animation <span style=\"color: #008000; text-decoration-color: #008000\">7</span> : Partial movie file written in                   <a href=\"file://C:\\Users\\payal\\anaconda3\\lib\\site-packages\\manim\\scene\\scene_file_writer.py\" target=\"_blank\"><span style=\"color: #7f7f7f; text-decoration-color: #7f7f7f\">scene_file_writer.py</span></a><span style=\"color: #7f7f7f; text-decoration-color: #7f7f7f\">:</span><a href=\"file://C:\\Users\\payal\\anaconda3\\lib\\site-packages\\manim\\scene\\scene_file_writer.py#527\" target=\"_blank\"><span style=\"color: #7f7f7f; text-decoration-color: #7f7f7f\">527</span></a>\n",
       "<span style=\"color: #7fbfbf; text-decoration-color: #7fbfbf\">                    </span>         <span style=\"color: #008000; text-decoration-color: #008000\">'C:\\Users\\payal\\media\\videos\\payal\\480p15\\partial_movie_files</span> <span style=\"color: #7f7f7f; text-decoration-color: #7f7f7f\">                        </span>\n",
       "<span style=\"color: #7fbfbf; text-decoration-color: #7fbfbf\">                    </span>         <span style=\"color: #008000; text-decoration-color: #008000\">\\SineWave\\2535676517_3315967912_1794472084.mp4'</span>               <span style=\"color: #7f7f7f; text-decoration-color: #7f7f7f\">                        </span>\n",
       "</pre>\n"
      ],
      "text/plain": [
       "\u001b[2;36m                   \u001b[0m\u001b[2;36m \u001b[0m\u001b[32mINFO    \u001b[0m Animation \u001b[32m7\u001b[0m : Partial movie file written in                   \u001b]8;id=476988;file://C:\\Users\\payal\\anaconda3\\lib\\site-packages\\manim\\scene\\scene_file_writer.py\u001b\\\u001b[2mscene_file_writer.py\u001b[0m\u001b]8;;\u001b\\\u001b[2m:\u001b[0m\u001b]8;id=69545;file://C:\\Users\\payal\\anaconda3\\lib\\site-packages\\manim\\scene\\scene_file_writer.py#527\u001b\\\u001b[2m527\u001b[0m\u001b]8;;\u001b\\\n",
       "\u001b[2;36m                    \u001b[0m         \u001b[32m'C:\\Users\\payal\\media\\videos\\payal\\480p15\\partial_movie_files\u001b[0m \u001b[2m                        \u001b[0m\n",
       "\u001b[2;36m                    \u001b[0m         \u001b[32m\\SineWave\\2535676517_3315967912_1794472084.mp4'\u001b[0m               \u001b[2m                        \u001b[0m\n"
      ]
     },
     "metadata": {},
     "output_type": "display_data"
    },
    {
     "name": "stderr",
     "output_type": "stream",
     "text": [
      "                                                                                                                       \r"
     ]
    },
    {
     "data": {
      "text/html": [
       "<pre style=\"white-space:pre;overflow-x:auto;line-height:normal;font-family:Menlo,'DejaVu Sans Mono',consolas,'Courier New',monospace\"><span style=\"color: #7fbfbf; text-decoration-color: #7fbfbf\">[04/09/23 06:20:28] </span><span style=\"color: #008000; text-decoration-color: #008000\">INFO    </span> Animation <span style=\"color: #008000; text-decoration-color: #008000\">8</span> : Partial movie file written in                   <a href=\"file://C:\\Users\\payal\\anaconda3\\lib\\site-packages\\manim\\scene\\scene_file_writer.py\" target=\"_blank\"><span style=\"color: #7f7f7f; text-decoration-color: #7f7f7f\">scene_file_writer.py</span></a><span style=\"color: #7f7f7f; text-decoration-color: #7f7f7f\">:</span><a href=\"file://C:\\Users\\payal\\anaconda3\\lib\\site-packages\\manim\\scene\\scene_file_writer.py#527\" target=\"_blank\"><span style=\"color: #7f7f7f; text-decoration-color: #7f7f7f\">527</span></a>\n",
       "<span style=\"color: #7fbfbf; text-decoration-color: #7fbfbf\">                    </span>         <span style=\"color: #008000; text-decoration-color: #008000\">'C:\\Users\\payal\\media\\videos\\payal\\480p15\\partial_movie_files</span> <span style=\"color: #7f7f7f; text-decoration-color: #7f7f7f\">                        </span>\n",
       "<span style=\"color: #7fbfbf; text-decoration-color: #7fbfbf\">                    </span>         <span style=\"color: #008000; text-decoration-color: #008000\">\\SineWave\\2535676517_1679405981_2202819057.mp4'</span>               <span style=\"color: #7f7f7f; text-decoration-color: #7f7f7f\">                        </span>\n",
       "</pre>\n"
      ],
      "text/plain": [
       "\u001b[2;36m[04/09/23 06:20:28]\u001b[0m\u001b[2;36m \u001b[0m\u001b[32mINFO    \u001b[0m Animation \u001b[32m8\u001b[0m : Partial movie file written in                   \u001b]8;id=72936;file://C:\\Users\\payal\\anaconda3\\lib\\site-packages\\manim\\scene\\scene_file_writer.py\u001b\\\u001b[2mscene_file_writer.py\u001b[0m\u001b]8;;\u001b\\\u001b[2m:\u001b[0m\u001b]8;id=830297;file://C:\\Users\\payal\\anaconda3\\lib\\site-packages\\manim\\scene\\scene_file_writer.py#527\u001b\\\u001b[2m527\u001b[0m\u001b]8;;\u001b\\\n",
       "\u001b[2;36m                    \u001b[0m         \u001b[32m'C:\\Users\\payal\\media\\videos\\payal\\480p15\\partial_movie_files\u001b[0m \u001b[2m                        \u001b[0m\n",
       "\u001b[2;36m                    \u001b[0m         \u001b[32m\\SineWave\\2535676517_1679405981_2202819057.mp4'\u001b[0m               \u001b[2m                        \u001b[0m\n"
      ]
     },
     "metadata": {},
     "output_type": "display_data"
    },
    {
     "data": {
      "text/html": [
       "<pre style=\"white-space:pre;overflow-x:auto;line-height:normal;font-family:Menlo,'DejaVu Sans Mono',consolas,'Courier New',monospace\"><span style=\"color: #7fbfbf; text-decoration-color: #7fbfbf\">[04/09/23 06:20:29] </span><span style=\"color: #008000; text-decoration-color: #008000\">INFO    </span> Animation <span style=\"color: #008000; text-decoration-color: #008000\">9</span> : Partial movie file written in                   <a href=\"file://C:\\Users\\payal\\anaconda3\\lib\\site-packages\\manim\\scene\\scene_file_writer.py\" target=\"_blank\"><span style=\"color: #7f7f7f; text-decoration-color: #7f7f7f\">scene_file_writer.py</span></a><span style=\"color: #7f7f7f; text-decoration-color: #7f7f7f\">:</span><a href=\"file://C:\\Users\\payal\\anaconda3\\lib\\site-packages\\manim\\scene\\scene_file_writer.py#527\" target=\"_blank\"><span style=\"color: #7f7f7f; text-decoration-color: #7f7f7f\">527</span></a>\n",
       "<span style=\"color: #7fbfbf; text-decoration-color: #7fbfbf\">                    </span>         <span style=\"color: #008000; text-decoration-color: #008000\">'C:\\Users\\payal\\media\\videos\\payal\\480p15\\partial_movie_files</span> <span style=\"color: #7f7f7f; text-decoration-color: #7f7f7f\">                        </span>\n",
       "<span style=\"color: #7fbfbf; text-decoration-color: #7fbfbf\">                    </span>         <span style=\"color: #008000; text-decoration-color: #008000\">\\SineWave\\2535676517_3315967912_1993429295.mp4'</span>               <span style=\"color: #7f7f7f; text-decoration-color: #7f7f7f\">                        </span>\n",
       "</pre>\n"
      ],
      "text/plain": [
       "\u001b[2;36m[04/09/23 06:20:29]\u001b[0m\u001b[2;36m \u001b[0m\u001b[32mINFO    \u001b[0m Animation \u001b[32m9\u001b[0m : Partial movie file written in                   \u001b]8;id=975002;file://C:\\Users\\payal\\anaconda3\\lib\\site-packages\\manim\\scene\\scene_file_writer.py\u001b\\\u001b[2mscene_file_writer.py\u001b[0m\u001b]8;;\u001b\\\u001b[2m:\u001b[0m\u001b]8;id=630329;file://C:\\Users\\payal\\anaconda3\\lib\\site-packages\\manim\\scene\\scene_file_writer.py#527\u001b\\\u001b[2m527\u001b[0m\u001b]8;;\u001b\\\n",
       "\u001b[2;36m                    \u001b[0m         \u001b[32m'C:\\Users\\payal\\media\\videos\\payal\\480p15\\partial_movie_files\u001b[0m \u001b[2m                        \u001b[0m\n",
       "\u001b[2;36m                    \u001b[0m         \u001b[32m\\SineWave\\2535676517_3315967912_1993429295.mp4'\u001b[0m               \u001b[2m                        \u001b[0m\n"
      ]
     },
     "metadata": {},
     "output_type": "display_data"
    },
    {
     "name": "stderr",
     "output_type": "stream",
     "text": [
      "                                                                                                                       \r"
     ]
    },
    {
     "data": {
      "text/html": [
       "<pre style=\"white-space:pre;overflow-x:auto;line-height:normal;font-family:Menlo,'DejaVu Sans Mono',consolas,'Courier New',monospace\"><span style=\"color: #7fbfbf; text-decoration-color: #7fbfbf\">[04/09/23 06:20:31] </span><span style=\"color: #008000; text-decoration-color: #008000\">INFO    </span> Animation <span style=\"color: #008000; text-decoration-color: #008000\">10</span> : Partial movie file written in                  <a href=\"file://C:\\Users\\payal\\anaconda3\\lib\\site-packages\\manim\\scene\\scene_file_writer.py\" target=\"_blank\"><span style=\"color: #7f7f7f; text-decoration-color: #7f7f7f\">scene_file_writer.py</span></a><span style=\"color: #7f7f7f; text-decoration-color: #7f7f7f\">:</span><a href=\"file://C:\\Users\\payal\\anaconda3\\lib\\site-packages\\manim\\scene\\scene_file_writer.py#527\" target=\"_blank\"><span style=\"color: #7f7f7f; text-decoration-color: #7f7f7f\">527</span></a>\n",
       "<span style=\"color: #7fbfbf; text-decoration-color: #7fbfbf\">                    </span>         <span style=\"color: #008000; text-decoration-color: #008000\">'C:\\Users\\payal\\media\\videos\\payal\\480p15\\partial_movie_files</span> <span style=\"color: #7f7f7f; text-decoration-color: #7f7f7f\">                        </span>\n",
       "<span style=\"color: #7fbfbf; text-decoration-color: #7fbfbf\">                    </span>         <span style=\"color: #008000; text-decoration-color: #008000\">\\SineWave\\2535676517_3172628502_4115448080.mp4'</span>               <span style=\"color: #7f7f7f; text-decoration-color: #7f7f7f\">                        </span>\n",
       "</pre>\n"
      ],
      "text/plain": [
       "\u001b[2;36m[04/09/23 06:20:31]\u001b[0m\u001b[2;36m \u001b[0m\u001b[32mINFO    \u001b[0m Animation \u001b[32m10\u001b[0m : Partial movie file written in                  \u001b]8;id=147026;file://C:\\Users\\payal\\anaconda3\\lib\\site-packages\\manim\\scene\\scene_file_writer.py\u001b\\\u001b[2mscene_file_writer.py\u001b[0m\u001b]8;;\u001b\\\u001b[2m:\u001b[0m\u001b]8;id=283787;file://C:\\Users\\payal\\anaconda3\\lib\\site-packages\\manim\\scene\\scene_file_writer.py#527\u001b\\\u001b[2m527\u001b[0m\u001b]8;;\u001b\\\n",
       "\u001b[2;36m                    \u001b[0m         \u001b[32m'C:\\Users\\payal\\media\\videos\\payal\\480p15\\partial_movie_files\u001b[0m \u001b[2m                        \u001b[0m\n",
       "\u001b[2;36m                    \u001b[0m         \u001b[32m\\SineWave\\2535676517_3172628502_4115448080.mp4'\u001b[0m               \u001b[2m                        \u001b[0m\n"
      ]
     },
     "metadata": {},
     "output_type": "display_data"
    },
    {
     "data": {
      "text/html": [
       "<pre style=\"white-space:pre;overflow-x:auto;line-height:normal;font-family:Menlo,'DejaVu Sans Mono',consolas,'Courier New',monospace\"><span style=\"color: #7fbfbf; text-decoration-color: #7fbfbf\">                    </span><span style=\"color: #008000; text-decoration-color: #008000\">INFO    </span> Animation <span style=\"color: #008000; text-decoration-color: #008000\">11</span> : Partial movie file written in                  <a href=\"file://C:\\Users\\payal\\anaconda3\\lib\\site-packages\\manim\\scene\\scene_file_writer.py\" target=\"_blank\"><span style=\"color: #7f7f7f; text-decoration-color: #7f7f7f\">scene_file_writer.py</span></a><span style=\"color: #7f7f7f; text-decoration-color: #7f7f7f\">:</span><a href=\"file://C:\\Users\\payal\\anaconda3\\lib\\site-packages\\manim\\scene\\scene_file_writer.py#527\" target=\"_blank\"><span style=\"color: #7f7f7f; text-decoration-color: #7f7f7f\">527</span></a>\n",
       "<span style=\"color: #7fbfbf; text-decoration-color: #7fbfbf\">                    </span>         <span style=\"color: #008000; text-decoration-color: #008000\">'C:\\Users\\payal\\media\\videos\\payal\\480p15\\partial_movie_files</span> <span style=\"color: #7f7f7f; text-decoration-color: #7f7f7f\">                        </span>\n",
       "<span style=\"color: #7fbfbf; text-decoration-color: #7fbfbf\">                    </span>         <span style=\"color: #008000; text-decoration-color: #008000\">\\SineWave\\2535676517_190800790_1510748896.mp4'</span>                <span style=\"color: #7f7f7f; text-decoration-color: #7f7f7f\">                        </span>\n",
       "</pre>\n"
      ],
      "text/plain": [
       "\u001b[2;36m                   \u001b[0m\u001b[2;36m \u001b[0m\u001b[32mINFO    \u001b[0m Animation \u001b[32m11\u001b[0m : Partial movie file written in                  \u001b]8;id=341490;file://C:\\Users\\payal\\anaconda3\\lib\\site-packages\\manim\\scene\\scene_file_writer.py\u001b\\\u001b[2mscene_file_writer.py\u001b[0m\u001b]8;;\u001b\\\u001b[2m:\u001b[0m\u001b]8;id=812970;file://C:\\Users\\payal\\anaconda3\\lib\\site-packages\\manim\\scene\\scene_file_writer.py#527\u001b\\\u001b[2m527\u001b[0m\u001b]8;;\u001b\\\n",
       "\u001b[2;36m                    \u001b[0m         \u001b[32m'C:\\Users\\payal\\media\\videos\\payal\\480p15\\partial_movie_files\u001b[0m \u001b[2m                        \u001b[0m\n",
       "\u001b[2;36m                    \u001b[0m         \u001b[32m\\SineWave\\2535676517_190800790_1510748896.mp4'\u001b[0m                \u001b[2m                        \u001b[0m\n"
      ]
     },
     "metadata": {},
     "output_type": "display_data"
    },
    {
     "data": {
      "text/html": [
       "<pre style=\"white-space:pre;overflow-x:auto;line-height:normal;font-family:Menlo,'DejaVu Sans Mono',consolas,'Courier New',monospace\"><span style=\"color: #7fbfbf; text-decoration-color: #7fbfbf\">                    </span><span style=\"color: #008000; text-decoration-color: #008000\">INFO    </span> Combining to Movie file.                                      <a href=\"file://C:\\Users\\payal\\anaconda3\\lib\\site-packages\\manim\\scene\\scene_file_writer.py\" target=\"_blank\"><span style=\"color: #7f7f7f; text-decoration-color: #7f7f7f\">scene_file_writer.py</span></a><span style=\"color: #7f7f7f; text-decoration-color: #7f7f7f\">:</span><a href=\"file://C:\\Users\\payal\\anaconda3\\lib\\site-packages\\manim\\scene\\scene_file_writer.py#617\" target=\"_blank\"><span style=\"color: #7f7f7f; text-decoration-color: #7f7f7f\">617</span></a>\n",
       "</pre>\n"
      ],
      "text/plain": [
       "\u001b[2;36m                   \u001b[0m\u001b[2;36m \u001b[0m\u001b[32mINFO    \u001b[0m Combining to Movie file.                                      \u001b]8;id=259490;file://C:\\Users\\payal\\anaconda3\\lib\\site-packages\\manim\\scene\\scene_file_writer.py\u001b\\\u001b[2mscene_file_writer.py\u001b[0m\u001b]8;;\u001b\\\u001b[2m:\u001b[0m\u001b]8;id=823621;file://C:\\Users\\payal\\anaconda3\\lib\\site-packages\\manim\\scene\\scene_file_writer.py#617\u001b\\\u001b[2m617\u001b[0m\u001b]8;;\u001b\\\n"
      ]
     },
     "metadata": {},
     "output_type": "display_data"
    },
    {
     "data": {
      "text/html": [
       "<pre style=\"white-space:pre;overflow-x:auto;line-height:normal;font-family:Menlo,'DejaVu Sans Mono',consolas,'Courier New',monospace\"><span style=\"color: #7fbfbf; text-decoration-color: #7fbfbf\">                    </span><span style=\"color: #008000; text-decoration-color: #008000\">INFO    </span>                                                               <a href=\"file://C:\\Users\\payal\\anaconda3\\lib\\site-packages\\manim\\scene\\scene_file_writer.py\" target=\"_blank\"><span style=\"color: #7f7f7f; text-decoration-color: #7f7f7f\">scene_file_writer.py</span></a><span style=\"color: #7f7f7f; text-decoration-color: #7f7f7f\">:</span><a href=\"file://C:\\Users\\payal\\anaconda3\\lib\\site-packages\\manim\\scene\\scene_file_writer.py#736\" target=\"_blank\"><span style=\"color: #7f7f7f; text-decoration-color: #7f7f7f\">736</span></a>\n",
       "<span style=\"color: #7fbfbf; text-decoration-color: #7fbfbf\">                    </span>         <span style=\"color: #808000; text-decoration-color: #808000; font-weight: bold\">File</span> ready at                                                 <span style=\"color: #7f7f7f; text-decoration-color: #7f7f7f\">                        </span>\n",
       "<span style=\"color: #7fbfbf; text-decoration-color: #7fbfbf\">                    </span>         <span style=\"color: #008000; text-decoration-color: #008000\">'C:\\Users\\payal\\media\\videos\\payal\\480p15\\SineWave.mp4'</span>       <span style=\"color: #7f7f7f; text-decoration-color: #7f7f7f\">                        </span>\n",
       "<span style=\"color: #7fbfbf; text-decoration-color: #7fbfbf\">                    </span>                                                                       <span style=\"color: #7f7f7f; text-decoration-color: #7f7f7f\">                        </span>\n",
       "</pre>\n"
      ],
      "text/plain": [
       "\u001b[2;36m                   \u001b[0m\u001b[2;36m \u001b[0m\u001b[32mINFO    \u001b[0m                                                               \u001b]8;id=308590;file://C:\\Users\\payal\\anaconda3\\lib\\site-packages\\manim\\scene\\scene_file_writer.py\u001b\\\u001b[2mscene_file_writer.py\u001b[0m\u001b]8;;\u001b\\\u001b[2m:\u001b[0m\u001b]8;id=242952;file://C:\\Users\\payal\\anaconda3\\lib\\site-packages\\manim\\scene\\scene_file_writer.py#736\u001b\\\u001b[2m736\u001b[0m\u001b]8;;\u001b\\\n",
       "\u001b[2;36m                    \u001b[0m         \u001b[1;33mFile\u001b[0m ready at                                                 \u001b[2m                        \u001b[0m\n",
       "\u001b[2;36m                    \u001b[0m         \u001b[32m'C:\\Users\\payal\\media\\videos\\payal\\480p15\\SineWave.mp4'\u001b[0m       \u001b[2m                        \u001b[0m\n",
       "\u001b[2;36m                    \u001b[0m                                                                       \u001b[2m                        \u001b[0m\n"
      ]
     },
     "metadata": {},
     "output_type": "display_data"
    },
    {
     "data": {
      "text/html": [
       "<pre style=\"white-space:pre;overflow-x:auto;line-height:normal;font-family:Menlo,'DejaVu Sans Mono',consolas,'Courier New',monospace\"><span style=\"color: #7fbfbf; text-decoration-color: #7fbfbf\">                    </span><span style=\"color: #008000; text-decoration-color: #008000\">INFO    </span> The partial movie directory is full <span style=\"font-weight: bold\">(</span>&gt; <span style=\"color: #008000; text-decoration-color: #008000\">100</span> files<span style=\"font-weight: bold\">)</span>. Therefore, <a href=\"file://C:\\Users\\payal\\anaconda3\\lib\\site-packages\\manim\\scene\\scene_file_writer.py\" target=\"_blank\"><span style=\"color: #7f7f7f; text-decoration-color: #7f7f7f\">scene_file_writer.py</span></a><span style=\"color: #7f7f7f; text-decoration-color: #7f7f7f\">:</span><a href=\"file://C:\\Users\\payal\\anaconda3\\lib\\site-packages\\manim\\scene\\scene_file_writer.py#708\" target=\"_blank\"><span style=\"color: #7f7f7f; text-decoration-color: #7f7f7f\">708</span></a>\n",
       "<span style=\"color: #7fbfbf; text-decoration-color: #7fbfbf\">                    </span>         manim has removed the <span style=\"color: #008000; text-decoration-color: #008000\">7</span> oldest <span style=\"color: #800080; text-decoration-color: #800080; font-weight: bold\">file</span><span style=\"font-weight: bold\">(</span>s<span style=\"font-weight: bold\">)</span>. You can change this   <span style=\"color: #7f7f7f; text-decoration-color: #7f7f7f\">                        </span>\n",
       "<span style=\"color: #7fbfbf; text-decoration-color: #7fbfbf\">                    </span>         behaviour by changing max_files_cached in config.             <span style=\"color: #7f7f7f; text-decoration-color: #7f7f7f\">                        </span>\n",
       "</pre>\n"
      ],
      "text/plain": [
       "\u001b[2;36m                   \u001b[0m\u001b[2;36m \u001b[0m\u001b[32mINFO    \u001b[0m The partial movie directory is full \u001b[1m(\u001b[0m> \u001b[32m100\u001b[0m files\u001b[1m)\u001b[0m. Therefore, \u001b]8;id=711953;file://C:\\Users\\payal\\anaconda3\\lib\\site-packages\\manim\\scene\\scene_file_writer.py\u001b\\\u001b[2mscene_file_writer.py\u001b[0m\u001b]8;;\u001b\\\u001b[2m:\u001b[0m\u001b]8;id=423415;file://C:\\Users\\payal\\anaconda3\\lib\\site-packages\\manim\\scene\\scene_file_writer.py#708\u001b\\\u001b[2m708\u001b[0m\u001b]8;;\u001b\\\n",
       "\u001b[2;36m                    \u001b[0m         manim has removed the \u001b[32m7\u001b[0m oldest \u001b[1;35mfile\u001b[0m\u001b[1m(\u001b[0ms\u001b[1m)\u001b[0m. You can change this   \u001b[2m                        \u001b[0m\n",
       "\u001b[2;36m                    \u001b[0m         behaviour by changing max_files_cached in config.             \u001b[2m                        \u001b[0m\n"
      ]
     },
     "metadata": {},
     "output_type": "display_data"
    },
    {
     "data": {
      "text/html": [
       "<pre style=\"white-space:pre;overflow-x:auto;line-height:normal;font-family:Menlo,'DejaVu Sans Mono',consolas,'Courier New',monospace\"><span style=\"color: #7fbfbf; text-decoration-color: #7fbfbf\">                    </span><span style=\"color: #008000; text-decoration-color: #008000\">INFO    </span> <span style=\"color: #808000; text-decoration-color: #808000; font-weight: bold\">Rendered</span> SineWave                                                         <a href=\"file://C:\\Users\\payal\\anaconda3\\lib\\site-packages\\manim\\scene\\scene.py\" target=\"_blank\"><span style=\"color: #7f7f7f; text-decoration-color: #7f7f7f\">scene.py</span></a><span style=\"color: #7f7f7f; text-decoration-color: #7f7f7f\">:</span><a href=\"file://C:\\Users\\payal\\anaconda3\\lib\\site-packages\\manim\\scene\\scene.py#241\" target=\"_blank\"><span style=\"color: #7f7f7f; text-decoration-color: #7f7f7f\">241</span></a>\n",
       "<span style=\"color: #7fbfbf; text-decoration-color: #7fbfbf\">                    </span>         <span style=\"color: #808000; text-decoration-color: #808000; font-weight: bold\">Played</span> <span style=\"color: #008000; text-decoration-color: #008000\">12</span> <span style=\"color: #808000; text-decoration-color: #808000; font-weight: bold\">animations</span>                                                      <span style=\"color: #7f7f7f; text-decoration-color: #7f7f7f\">            </span>\n",
       "</pre>\n"
      ],
      "text/plain": [
       "\u001b[2;36m                   \u001b[0m\u001b[2;36m \u001b[0m\u001b[32mINFO    \u001b[0m \u001b[1;33mRendered\u001b[0m SineWave                                                         \u001b]8;id=997781;file://C:\\Users\\payal\\anaconda3\\lib\\site-packages\\manim\\scene\\scene.py\u001b\\\u001b[2mscene.py\u001b[0m\u001b]8;;\u001b\\\u001b[2m:\u001b[0m\u001b]8;id=990483;file://C:\\Users\\payal\\anaconda3\\lib\\site-packages\\manim\\scene\\scene.py#241\u001b\\\u001b[2m241\u001b[0m\u001b]8;;\u001b\\\n",
       "\u001b[2;36m                    \u001b[0m         \u001b[1;33mPlayed\u001b[0m \u001b[32m12\u001b[0m \u001b[1;33manimations\u001b[0m                                                      \u001b[2m            \u001b[0m\n"
      ]
     },
     "metadata": {},
     "output_type": "display_data"
    },
    {
     "data": {
      "text/html": [
       "<pre style=\"white-space:pre;overflow-x:auto;line-height:normal;font-family:Menlo,'DejaVu Sans Mono',consolas,'Courier New',monospace\"><span style=\"color: #7fbfbf; text-decoration-color: #7fbfbf\">[04/09/23 06:20:32] </span><span style=\"color: #008000; text-decoration-color: #008000\">INFO    </span> Previewed <span style=\"color: #808000; text-decoration-color: #808000; font-weight: bold\">File</span> at:                                                     <a href=\"file://C:\\Users\\payal\\anaconda3\\lib\\site-packages\\manim\\utils\\file_ops.py\" target=\"_blank\"><span style=\"color: #7f7f7f; text-decoration-color: #7f7f7f\">file_ops.py</span></a><span style=\"color: #7f7f7f; text-decoration-color: #7f7f7f\">:</span><a href=\"file://C:\\Users\\payal\\anaconda3\\lib\\site-packages\\manim\\utils\\file_ops.py#227\" target=\"_blank\"><span style=\"color: #7f7f7f; text-decoration-color: #7f7f7f\">227</span></a>\n",
       "<span style=\"color: #7fbfbf; text-decoration-color: #7fbfbf\">                    </span>         <span style=\"color: #008000; text-decoration-color: #008000\">'C:\\Users\\payal\\media\\videos\\payal\\480p15\\SineWave.mp4'</span>                <span style=\"color: #7f7f7f; text-decoration-color: #7f7f7f\">               </span>\n",
       "</pre>\n"
      ],
      "text/plain": [
       "\u001b[2;36m[04/09/23 06:20:32]\u001b[0m\u001b[2;36m \u001b[0m\u001b[32mINFO    \u001b[0m Previewed \u001b[1;33mFile\u001b[0m at:                                                     \u001b]8;id=729080;file://C:\\Users\\payal\\anaconda3\\lib\\site-packages\\manim\\utils\\file_ops.py\u001b\\\u001b[2mfile_ops.py\u001b[0m\u001b]8;;\u001b\\\u001b[2m:\u001b[0m\u001b]8;id=495046;file://C:\\Users\\payal\\anaconda3\\lib\\site-packages\\manim\\utils\\file_ops.py#227\u001b\\\u001b[2m227\u001b[0m\u001b]8;;\u001b\\\n",
       "\u001b[2;36m                    \u001b[0m         \u001b[32m'C:\\Users\\payal\\media\\videos\\payal\\480p15\\SineWave.mp4'\u001b[0m                \u001b[2m               \u001b[0m\n"
      ]
     },
     "metadata": {},
     "output_type": "display_data"
    },
    {
     "data": {
      "text/html": [
       "<video src=\"media\\jupyter\\SineWave@2023-04-09@06-20-32.mp4\" controls autoplay loop style=\"max-width: 60%;\"  >\n",
       "      Your browser does not support the <code>video</code> element.\n",
       "    </video>"
      ],
      "text/plain": [
       "<IPython.core.display.Video object>"
      ]
     },
     "metadata": {},
     "output_type": "display_data"
    }
   ],
   "source": [
    "%%manim -pql SineWave\n",
    "config.background_color = WHITE\n",
    "from manim import *\n",
    "\n",
    "class SineWave(Scene):\n",
    "    def construct(self):\n",
    "        \n",
    "        # Create a title\n",
    "        title = MathTex(r\"\\text{This is a Sine Wave ranging from } -2\\pi \\text{ to } 2\\pi\").set_color(BLACK)\n",
    "        \n",
    "        \n",
    "        # Create the x-axis and y-axis\n",
    "        ax = Axes(x_range=[-8,8,3.15], y_range=[-2,2]).set_color(BLACK)\n",
    "        \n",
    "        #Create the sine wave\n",
    "        curve = ax.plot(lambda x: np.sin(x), color=BLACK)\n",
    "        \n",
    "        #Get the area in the range [-2pi to 2pi]\n",
    "        area = ax.get_area(curve, x_range=[-2*np.pi, 2*np.pi], color = BLUE)\n",
    "        \n",
    "        # Animate\n",
    "        self.play(FadeIn(ax))\n",
    "        self.wait()\n",
    "        self.play(Create(curve), run_time = 3)\n",
    "        self.play(FadeIn(area))\n",
    "        self.wait()\n",
    "        self.play(Create(title.next_to(ax, UP)))\n",
    "        self.add(title.next_to(ax, UP))\n",
    "\n",
    "        # Create the value above the range of x\n",
    "        a= ValueTracker(0)\n",
    "        \n",
    "        \n",
    "        # Create the position of the arrow\n",
    "        position = ValueTracker(0)\n",
    "        \n",
    "        # Create the arrow\n",
    "        pointer = Vector(DOWN).set_color(RED)\n",
    "        \n",
    "        # Add updater in the arrow\n",
    "        pointer.add_updater(\n",
    "            lambda mob: mob.next_to(\n",
    "                ax.coords_to_point(position.get_value()), UP\n",
    "            )\n",
    "        )\n",
    "        \n",
    "        # Create the label for the x-range\n",
    "        a_number = DecimalNumber(\n",
    "            a.get_value(),\n",
    "            color = RED,\n",
    "            num_decimal_places = 3,\n",
    "            show_ellipsis = True\n",
    "        )\n",
    "        \n",
    "        # Add updater for the label over the x-range\n",
    "        a_number.add_updater(\n",
    "            lambda mob: mob.set_value(a.get_value()).next_to(pointer, UP)\n",
    "        )\n",
    "        \n",
    "        # Animate\n",
    "        \n",
    "        self.play(FadeIn(pointer, a_number))\n",
    "        self.wait()\n",
    "        self.play(position.animate.set_value(-6.26), a.animate.set_value(-2), run_time = 2)\n",
    "        self.wait()\n",
    "        self.play(position.animate.set_value(6.26), a.animate.set_value(2), run_time = 4)\n",
    "        self.wait(2)"
   ]
  },
  {
   "cell_type": "code",
   "execution_count": 4,
   "id": "69146cbb",
   "metadata": {},
   "outputs": [
    {
     "data": {
      "image/png": "[encoded data removed]",
      "text/plain": [
       "<IPython.core.display.Image object>"
      ]
     },
     "metadata": {},
     "output_type": "display_data"
    }
   ],
   "source": [
    "%%manim -pqh Grid\n",
    "config.background_color = WHITE\n",
    "from manim import *\n",
    "\n",
    "class Grid(Scene):\n",
    "    def construct(self):\n",
    "        # Add grids\n",
    "        rows = 6\n",
    "        cols = 6\n",
    "        grid = VGroup(*[\n",
    "            VGroup(*[Square(side_length=1, fill_opacity=0, stroke_width=5, stroke_opacity = 0.5).move_to((i-rows//2)*RIGHT + (j-cols//2)*UP) for j in range(cols)]) for i in range(rows)\n",
    "        ]).set_color(GREY).shift(0.6*RIGHT+1.2*UP)\n",
    "        \n",
    "        # Add lines\n",
    "        line1 = Line(grid[0][5].get_corner(UR), grid[0][0].get_corner(UL), color=BLACK, stroke_width=5)\n",
    "        line2 = Line(grid[0][5].get_corner(UR), grid[1][0].get_corner(DL), color=BLACK, stroke_width=5)\n",
    "        line3 = Line(grid[1][4].get_corner(UR), grid[0][0].get_corner(UL), color=BLACK, stroke_width=5)\n",
    "        line4 = Line(grid[1][4].get_corner(UR), grid[1][0].get_corner(DL), color=BLACK, stroke_width=5)\n",
    "        line5 = Line(grid[2][3].get_corner(UR), grid[0][0].get_corner(UL), color=BLACK, stroke_width=5)\n",
    "        line6 = Line(grid[2][3].get_corner(UR), grid[1][0].get_corner(DL), color=BLACK, stroke_width=5)\n",
    "        line7 = Line(grid[3][2].get_corner(UR), grid[0][0].get_corner(UL), color=BLACK, stroke_width=5)\n",
    "        line8 = Line(grid[3][2].get_corner(UR), grid[1][0].get_corner(DL), color=BLACK, stroke_width=5)\n",
    "        line9 = Line(grid[4][1].get_corner(UR), grid[0][0].get_corner(UL), color=BLACK, stroke_width=5)\n",
    "        line10 = Line(grid[4][1].get_corner(UR), grid[1][0].get_corner(DL), color=BLACK, stroke_width=5)\n",
    "        line11 = Line(grid[5][0].get_corner(UR), grid[0][0].get_corner(UL), color=BLACK, stroke_width=5)\n",
    "        line12 = Line(grid[5][0].get_corner(UR), grid[1][0].get_corner(DL), color=BLACK, stroke_width=5)\n",
    "        \n",
    "        # Add dots\n",
    "        dot1 = Circle(radius=0.08, fill_color=WHITE, fill_opacity=1, stroke_width=4, stroke_color=BLACK).move_to(line1.get_start())\n",
    "        dot2 = Circle(radius=0.08, fill_color=WHITE, fill_opacity=1, stroke_width=4, stroke_color=BLACK).move_to(line1.get_end())\n",
    "        dot3 = Circle(radius=0.08, fill_color=WHITE, fill_opacity=1, stroke_width=4, stroke_color=BLACK).move_to(line3.get_start())\n",
    "        dot4 = Circle(radius=0.08, fill_color=WHITE, fill_opacity=1, stroke_width=4, stroke_color=BLACK).move_to(line4.get_end())\n",
    "        dot5 = Circle(radius=0.08, fill_color=WHITE, fill_opacity=1, stroke_width=4, stroke_color=BLACK).move_to(line5.get_start())\n",
    "        dot6 = Circle(radius=0.08, fill_color=WHITE, fill_opacity=1, stroke_width=4, stroke_color=BLACK).move_to(line7.get_start())\n",
    "        dot7 = Circle(radius=0.08, fill_color=WHITE, fill_opacity=1, stroke_width=4, stroke_color=BLACK).move_to(line9.get_start())\n",
    "        dot8 = Circle(radius=0.08, fill_color=WHITE, fill_opacity=1, stroke_width=4, stroke_color=BLACK).move_to(line11.get_start())\n",
    "        \n",
    "        # Add sectors\n",
    "        sector1 = Sector(arc_center=line2.get_start(), outer_radius=1.2, start_angle=line1.get_angle(), angle=PI/15, fill_opacity=1, fill_color=RED)\n",
    "        sector2 = Sector(arc_center=line4.get_start(), outer_radius=1.2, start_angle=line3.get_angle(), angle=PI/12, fill_opacity=1, fill_color=YELLOW)\n",
    "        sector3 = Sector(arc_center=line6.get_start(), outer_radius=1.2, start_angle=line5.get_angle(), angle=PI/10, fill_opacity=1, fill_color=GREEN)\n",
    "        sector4 = Sector(arc_center=line8.get_start(), outer_radius=1.2, start_angle=line7.get_angle(), angle=PI/10, fill_opacity=1, fill_color=BLUE)\n",
    "        sector5 = Sector(arc_center=line10.get_start(), outer_radius=1.2, start_angle=line9.get_angle(), angle=PI/12, fill_opacity=1, fill_color=PURPLE)\n",
    "        sector6 = Sector(arc_center=line12.get_start(), outer_radius=1.2, start_angle=line11.get_angle(), angle=PI/15, fill_opacity=1, fill_color=PINK)\n",
    "        \n",
    "        # Add objects to the scene\n",
    "        self.add(grid)\n",
    "        self.add(sector1, sector2, sector3, sector4, sector5, sector6)\n",
    "        self.add(line1, line2, line3, line4, line5, line6, line7, line8, line9, line10, line11, line12, dot1, dot2, dot3, dot4, dot5, dot6, dot7, dot8)\n",
    "        \n",
    "        # Create angle symbols\n",
    "        angle_red = Tex(\"$\\\\angle$\", color=RED).scale(1).set_stroke(width = 3)\n",
    "        angle_yellow = Tex(\"$\\\\angle$\", color=YELLOW).scale(1).set_stroke(width = 3)\n",
    "        angle_green = Tex(\"$\\\\angle$\", color=GREEN).scale(1).set_stroke(width = 3)\n",
    "        angle_blue = Tex(\"$\\\\angle$\", color=BLUE).scale(1).set_stroke(width = 3)\n",
    "        angle_purple = Tex(\"$\\\\angle$\", color=PURPLE).scale(1).set_stroke(width = 3)\n",
    "        angle_pink = Tex(\"$\\\\angle$\", color=PINK).scale(1).set_stroke(width = 3)\n",
    "\n",
    "        # Position angle symbols\n",
    "        angle_red.shift(3.2*DOWN+3.75*LEFT)\n",
    "        angle_yellow.next_to(angle_red, RIGHT, buff=1)\n",
    "        angle_green.next_to(angle_yellow, RIGHT, buff=1)\n",
    "        angle_blue.next_to(angle_green, RIGHT, buff=1)\n",
    "        angle_purple.next_to(angle_blue, RIGHT, buff=1)\n",
    "        angle_pink.next_to(angle_purple, RIGHT, buff=1)\n",
    "\n",
    "        # Create plus signs\n",
    "        plus1 = Tex(\"+\", color=BLACK).scale(0.8).set_stroke(width = 3)\n",
    "        plus2 = Tex(\"+\", color=BLACK).scale(0.8).set_stroke(width = 3)\n",
    "        plus3 = Tex(\"+\", color=BLACK).scale(0.8).set_stroke(width = 3)\n",
    "        plus4 = Tex(\"+\", color=BLACK).scale(0.8).set_stroke(width = 3)\n",
    "        plus5 = Tex(\"+\", color=BLACK).scale(0.8).set_stroke(width = 3)\n",
    "\n",
    "        # Position plus signs\n",
    "        plus1.next_to(angle_red, RIGHT, buff=0.3)\n",
    "        plus2.next_to(angle_yellow, RIGHT, buff=0.3)\n",
    "        plus3.next_to(angle_green, RIGHT, buff=0.3)\n",
    "        plus4.next_to(angle_blue, RIGHT, buff=0.3)\n",
    "        plus5.next_to(angle_purple, RIGHT, buff=0.3)\n",
    "        \n",
    "        # Add =?°\n",
    "        symbol = Text(\" = ? °\").scale(0.8).set_color(BLACK).set_stroke(width = 1)\n",
    "        symbol.next_to(angle_pink, RIGHT, buff=0.3)\n",
    "\n",
    "        # Add objects to the scene\n",
    "        self.add(symbol, angle_red, angle_yellow, angle_green, angle_blue, angle_purple, angle_pink, plus1, plus2, plus3, plus4, plus5)"
   ]
  },
  {
   "cell_type": "code",
   "execution_count": 246,
   "id": "b5b27cd6",
   "metadata": {},
   "outputs": [
    {
     "data": {
      "image/png": "[encoded data removed]",
      "text/plain": [
       "<IPython.core.display.Image object>"
      ]
     },
     "metadata": {},
     "output_type": "display_data"
    }
   ],
   "source": [
    "%%manim -pql AngleSymbolExample\n",
    "\n",
    "class AngleSymbolExample(Scene):\n",
    "    def construct(self):\n",
    "        angle_symbol = MathTex(\"\\\\angle + \\\\angle + \\\\angle + \\\\angle + \\\\angle + \\\\angle\").set_color(BLACK).set_sheen(5, ORIGIN)\n",
    "        self.add(angle_symbol)\n"
   ]
  },
  {
   "cell_type": "code",
   "execution_count": 247,
   "id": "32a36ada",
   "metadata": {},
   "outputs": [
    {
     "data": {
      "image/png": "[encoded data removed]",
      "text/plain": [
       "<IPython.core.display.Image object>"
      ]
     },
     "metadata": {},
     "output_type": "display_data"
    }
   ],
   "source": [
    "%%manim -pqh AngleSymbols\n",
    "from manim import *\n",
    "\n",
    "class AngleSymbols(Scene):\n",
    "    def construct(self):\n",
    "\n",
    "        # Create angle symbols\n",
    "        angle_red = Tex(\"$\\\\angle$\", color=RED).scale(1)\n",
    "        angle_yellow = Tex(\"$\\\\angle$\", color=YELLOW).scale(1)\n",
    "        angle_green = Tex(\"$\\\\angle$\", color=GREEN).scale(1)\n",
    "        angle_blue = Tex(\"$\\\\angle$\", color=BLUE).scale(1)\n",
    "        angle_purple = Tex(\"$\\\\angle$\", color=PURPLE).scale(1)\n",
    "        angle_pink = Tex(\"$\\\\angle$\", color=PINK).scale(1)\n",
    "\n",
    "        # Position angle symbols\n",
    "        angle_red.to_edge(LEFT)\n",
    "        angle_yellow.next_to(angle_red, RIGHT, buff=1)\n",
    "        angle_green.next_to(angle_yellow, RIGHT, buff=1)\n",
    "        angle_blue.next_to(angle_green, RIGHT, buff=1)\n",
    "        angle_purple.next_to(angle_blue, RIGHT, buff=1)\n",
    "        angle_pink.next_to(angle_purple, RIGHT, buff=1)\n",
    "\n",
    "        # Create plus signs\n",
    "        plus1 = Tex(\"+\", color=BLACK).scale(1)\n",
    "        plus2 = Tex(\"+\", color=BLACK).scale(1)\n",
    "        plus3 = Tex(\"+\", color=BLACK).scale(1)\n",
    "        plus4 = Tex(\"+\", color=BLACK).scale(1)\n",
    "        plus5 = Tex(\"+\", color=BLACK).scale(1)\n",
    "\n",
    "        # Position plus signs\n",
    "        plus1.next_to(angle_red, RIGHT, buff=0.3)\n",
    "        plus2.next_to(angle_yellow, RIGHT, buff=0.3)\n",
    "        plus3.next_to(angle_green, RIGHT, buff=0.3)\n",
    "        plus4.next_to(angle_blue, RIGHT, buff=0.3)\n",
    "        plus5.next_to(angle_purple, RIGHT, buff=0.3)\n",
    "        \n",
    "        #Add =?°\n",
    "        symbol = Text(\" = ? °\").scale(0.8).set_color(BLACK)\n",
    "        symbol.next_to(angle_pink, RIGHT, buff=0.3)\n",
    "        \n",
    "        # Add objects to the scene\n",
    "        self.add(symbol, angle_red, angle_yellow, angle_green, angle_blue, angle_purple, angle_pink, plus1, plus2, plus3, plus4, plus5)\n"
   ]
  },
  {
   "cell_type": "code",
   "execution_count": 235,
   "id": "038fd2d2",
   "metadata": {},
   "outputs": [
    {
     "data": {
      "image/png": "[encoded data removed]",
      "text/plain": [
       "<IPython.core.display.Image object>"
      ]
     },
     "metadata": {},
     "output_type": "display_data"
    }
   ],
   "source": [
    "%%manim -pql ExampleScene\n",
    "from manim import *\n",
    "\n",
    "class ExampleScene(Scene):\n",
    "    def construct(self):\n",
    "        degree_symbol = Text(\"=?°\").scale(1).set_color(BLACK)\n",
    "        self.add(degree_symbol)\n"
   ]
  },
  {
   "cell_type": "code",
   "execution_count": 238,
   "id": "cf6c3d3e",
   "metadata": {},
   "outputs": [
    {
     "data": {
      "image/png": "[encoded data removed]",
      "text/plain": [
       "<IPython.core.display.Image object>"
      ]
     },
     "metadata": {},
     "output_type": "display_data"
    }
   ],
   "source": [
    "%%manim -pql BoldText\n",
    "from manim import *\n",
    "\n",
    "class BoldText(Scene):\n",
    "    def construct(self):\n",
    "        text = Tex(\"\\\\textbf{This is bold text}\").scale(2).set_color(BLACK)\n",
    "        self.add(text)\n"
   ]
  },
  {
   "cell_type": "code",
   "execution_count": 276,
   "id": "e6d04053",
   "metadata": {},
   "outputs": [
    {
     "name": "stderr",
     "output_type": "stream",
     "text": [
      "                                                                                                                       \r"
     ]
    },
    {
     "data": {
      "text/html": [
       "<video src=\"media\\jupyter\\AngleBetweenLines@2023-04-14@03-58-01.mp4\" controls autoplay loop style=\"max-width: 100%;\"  >\n",
       "      Your browser does not support the <code>video</code> element.\n",
       "    </video>"
      ],
      "text/plain": [
       "<IPython.core.display.Video object>"
      ]
     },
     "metadata": {},
     "output_type": "display_data"
    }
   ],
   "source": [
    "%%manim -pql AngleBetweenLines\n",
    "from manim import *\n",
    "\n",
    "class AngleBetweenLines(Scene):\n",
    "    def construct(self):\n",
    "        # Create grid and lines\n",
    "        rows = 6\n",
    "        cols = 6\n",
    "        grid = VGroup(*[\n",
    "            VGroup(*[Square(side_length=1, fill_opacity=0, stroke_width=5, stroke_opacity = 0.5).move_to((i-rows//2)*RIGHT + (j-cols//2)*UP) for j in range(cols)]) for i in range(rows)\n",
    "        ]).set_color(GREY).shift(0.6*RIGHT+1.2*UP)\n",
    "        line1 = Line(grid[0][5].get_corner(UR), grid[0][0].get_corner(UL), color=BLACK, stroke_width=5)\n",
    "        line2 = Line(grid[0][5].get_corner(UR), grid[1][0].get_corner(DL), color=BLACK, stroke_width=5)\n",
    "        self.add(grid, line1, line2)\n",
    "\n",
    "        # Find and display angle between lines\n",
    "        angle = line1.get_angle() - line2.get_angle()\n",
    "        self.play(Write(MathTex(f\"\\\\theta = {angle:.2f}\").to_edge(ORIGIN).set_color(BLUE)))\n",
    "        self.wait()\n"
   ]
  },
  {
   "cell_type": "code",
   "execution_count": 7,
   "id": "31f10d4c",
   "metadata": {},
   "outputs": [
    {
     "name": "stderr",
     "output_type": "stream",
     "text": [
      "                                                                                                                       \r"
     ]
    },
    {
     "data": {
      "text/html": [
       "<video src=\"media\\jupyter\\Grid@2023-04-19@11-48-17.mp4\" controls autoplay loop style=\"max-width: 100%;\"  >\n",
       "      Your browser does not support the <code>video</code> element.\n",
       "    </video>"
      ],
      "text/plain": [
       "<IPython.core.display.Video object>"
      ]
     },
     "metadata": {},
     "output_type": "display_data"
    }
   ],
   "source": [
    "%%manim -pql Grid\n",
    "config.background_color = WHITE\n",
    "from manim import *\n",
    "\n",
    "class Grid(Scene):\n",
    "    def construct(self):\n",
    "        rows = 6\n",
    "        cols = 6\n",
    "        title = Tex(\"Here is a 6x6 grid\").set_color(BLACK)\n",
    "        grid = VGroup(*[\n",
    "            VGroup(*[Square(side_length=1, fill_opacity=0, stroke_width=5, stroke_opacity = 0.5).move_to((i-rows//2)*RIGHT + (j-cols//2)*UP) for j in range(cols)]) for i in range(rows)\n",
    "        ]).set_color(GREY).shift(0.6*RIGHT+1.2*UP)\n",
    "        \n",
    "        # Add lines\n",
    "        line1 = Line(grid[0][5].get_corner(UR), grid[0][0].get_corner(UL), color=BLACK, stroke_width=5).set_z_index(2)\n",
    "        line2 = Line(grid[0][5].get_corner(UR), grid[1][0].get_corner(DL), color=BLACK, stroke_width=5).set_z_index(2)\n",
    "        sector1 = Sector(arc_center=line2.get_start(), outer_radius=1.2, start_angle=line1.get_angle(), angle=PI/15, fill_opacity=1, fill_color=RED)\n",
    "        line3 = Line(grid[1][4].get_corner(UR), grid[0][0].get_corner(UL), color=BLACK, stroke_width=5).set_z_index(2)\n",
    "        line4 = Line(grid[1][4].get_corner(UR), grid[1][0].get_corner(DL), color=BLACK, stroke_width=5).set_z_index(2)\n",
    "        sector2 = Sector(arc_center=line4.get_start(), outer_radius=1.2, start_angle=line3.get_angle(), angle=PI/12, fill_opacity=1, fill_color=YELLOW)\n",
    "        line5 = Line(grid[2][3].get_corner(UR), grid[0][0].get_corner(UL), color=BLACK, stroke_width=5).set_z_index(2)\n",
    "        line6 = Line(grid[2][3].get_corner(UR), grid[1][0].get_corner(DL), color=BLACK, stroke_width=5).set_z_index(2)\n",
    "        sector3 = Sector(arc_center=line6.get_start(), outer_radius=1.2, start_angle=line5.get_angle(), angle=PI/10, fill_opacity=1, fill_color=GREEN)\n",
    "        line7 = Line(grid[3][2].get_corner(UR), grid[0][0].get_corner(UL), color=BLACK, stroke_width=5).set_z_index(2)\n",
    "        line8 = Line(grid[3][2].get_corner(UR), grid[1][0].get_corner(DL), color=BLACK, stroke_width=5).set_z_index(2)\n",
    "        sector4 = Sector(arc_center=line8.get_start(), outer_radius=1.2, start_angle=line7.get_angle(), angle=PI/10, fill_opacity=1, fill_color=BLUE)\n",
    "        line9 = Line(grid[4][1].get_corner(UR), grid[0][0].get_corner(UL), color=BLACK, stroke_width=5).set_z_index(2)\n",
    "        line10 = Line(grid[4][1].get_corner(UR), grid[1][0].get_corner(DL), color=BLACK, stroke_width=5).set_z_index(2)\n",
    "        sector5 = Sector(arc_center=line10.get_start(), outer_radius=1.2, start_angle=line9.get_angle(), angle=PI/12, fill_opacity=1, fill_color=PURPLE)\n",
    "        line11 = Line(grid[5][0].get_corner(UR), grid[0][0].get_corner(UL), color=BLACK, stroke_width=5).set_z_index(2)\n",
    "        line12 = Line(grid[5][0].get_corner(UR), grid[1][0].get_corner(DL), color=BLACK, stroke_width=5).set_z_index(2)\n",
    "        sector6 = Sector(arc_center=line12.get_start(), outer_radius=1.2, start_angle=line11.get_angle(), angle=PI/15, fill_opacity=1, fill_color=PINK)\n",
    "        dot1 = Circle(radius=0.08, fill_color=WHITE, fill_opacity=1, stroke_width=4, stroke_color=BLACK).move_to(line1.get_start()).set_z_index(4)\n",
    "        dot2 = Circle(radius=0.08, fill_color=WHITE, fill_opacity=1, stroke_width=4, stroke_color=BLACK).move_to(line1.get_end()).set_z_index(4)\n",
    "        dot3 = Circle(radius=0.08, fill_color=WHITE, fill_opacity=1, stroke_width=4, stroke_color=BLACK).move_to(line3.get_start()).set_z_index(4)\n",
    "        dot4 = Circle(radius=0.08, fill_color=WHITE, fill_opacity=1, stroke_width=4, stroke_color=BLACK).move_to(line4.get_end()).set_z_index(4)\n",
    "        dot5 = Circle(radius=0.08, fill_color=WHITE, fill_opacity=1, stroke_width=4, stroke_color=BLACK).move_to(line5.get_start()).set_z_index(4)\n",
    "        dot6 = Circle(radius=0.08, fill_color=WHITE, fill_opacity=1, stroke_width=4, stroke_color=BLACK).move_to(line7.get_start()).set_z_index(4)\n",
    "        dot7 = Circle(radius=0.08, fill_color=WHITE, fill_opacity=1, stroke_width=4, stroke_color=BLACK).move_to(line9.get_start()).set_z_index(4)\n",
    "        dot8 = Circle(radius=0.08, fill_color=WHITE, fill_opacity=1, stroke_width=4, stroke_color=BLACK).move_to(line11.get_start()).set_z_index(4)\n",
    "        #self.add(sector1, sector2, sector3, sector4, sector5, sector6)\n",
    "        #self.add(line1, line2, line3, line4, line5, line6, line7, line8, line9, line10, line11, line12, dot1, dot2, dot3, dot4, dot5, dot6, dot7, dot8)\n",
    "        \n",
    "        # Create angle symbols\n",
    "        angle_red = Tex(\"$\\\\angle$\", color=RED).scale(1).set_stroke(width = 3)\n",
    "        angle_yellow = Tex(\"$\\\\angle$\", color=YELLOW).scale(1).set_stroke(width = 3)\n",
    "        angle_green = Tex(\"$\\\\angle$\", color=GREEN).scale(1).set_stroke(width = 3)\n",
    "        angle_blue = Tex(\"$\\\\angle$\", color=BLUE).scale(1).set_stroke(width = 3)\n",
    "        angle_purple = Tex(\"$\\\\angle$\", color=PURPLE).scale(1).set_stroke(width = 3)\n",
    "        angle_pink = Tex(\"$\\\\angle$\", color=PINK).scale(1).set_stroke(width = 3)\n",
    "\n",
    "        # Position angle symbols\n",
    "        angle_red.shift(3.2*DOWN+3.75*LEFT)\n",
    "        angle_yellow.next_to(angle_red, RIGHT, buff=1)\n",
    "        angle_green.next_to(angle_yellow, RIGHT, buff=1)\n",
    "        angle_blue.next_to(angle_green, RIGHT, buff=1)\n",
    "        angle_purple.next_to(angle_blue, RIGHT, buff=1)\n",
    "        angle_pink.next_to(angle_purple, RIGHT, buff=1)\n",
    "\n",
    "        # Create plus signs\n",
    "        plus1 = Tex(\"+\", color=BLACK).scale(0.8).set_stroke(width = 3)\n",
    "        plus2 = Tex(\"+\", color=BLACK).scale(0.8).set_stroke(width = 3)\n",
    "        plus3 = Tex(\"+\", color=BLACK).scale(0.8).set_stroke(width = 3)\n",
    "        plus4 = Tex(\"+\", color=BLACK).scale(0.8).set_stroke(width = 3)\n",
    "        plus5 = Tex(\"+\", color=BLACK).scale(0.8).set_stroke(width = 3)\n",
    "\n",
    "        # Position plus signs\n",
    "        plus1.next_to(angle_red, RIGHT, buff=0.3)\n",
    "        plus2.next_to(angle_yellow, RIGHT, buff=0.3)\n",
    "        plus3.next_to(angle_green, RIGHT, buff=0.3)\n",
    "        plus4.next_to(angle_blue, RIGHT, buff=0.3)\n",
    "        plus5.next_to(angle_purple, RIGHT, buff=0.3)\n",
    "        \n",
    "        #Add =?°\n",
    "        symbol = Text(\" = ? °\").scale(0.8).set_color(BLACK).set_stroke(width = 1)\n",
    "        symbol.next_to(angle_pink, RIGHT, buff=0.3)\n",
    "\n",
    "        # Add objects to the scene\n",
    "        self.play(FadeIn(title))\n",
    "        self.wait(2)\n",
    "        self.play(FadeOut(title))\n",
    "        self.wait()\n",
    "        self.play(Create(grid), run_length = 4)\n",
    "        self.wait(2)\n",
    "        self.play(FadeIn(dot1, dot2, dot3, dot4, dot5, dot6, dot7, dot8))\n",
    "        self.wait(4)\n",
    "        self.play(Create(line1))\n",
    "        self.play(Create(line2))\n",
    "        self.play(Create(line3))\n",
    "        self.play(Create(line4))\n",
    "        self.play(Create(line5))\n",
    "        self.play(Create(line6))\n",
    "        self.play(Create(line7))\n",
    "        self.play(Create(line8))\n",
    "        self.play(Create(line9))\n",
    "        self.play(Create(line10))\n",
    "        self.play(Create(line11))\n",
    "        self.play(Create(line12))\n",
    "        self.wait(2)\n",
    "        self.play(FadeIn(sector1, sector2, sector3, sector4, sector5, sector6))\n",
    "        self.wait(3)\n",
    "        text_group = VGroup(symbol, angle_red, angle_yellow, angle_green, angle_blue, angle_purple, angle_pink, plus1, plus2, plus3, plus4, plus5)\n",
    "        self.wait(2)\n",
    "        self.play(FadeIn(text_group))\n",
    "        self.wait(10)\n",
    "        \n",
    "        # Add sectors for the solution\n",
    "        sector7 = Sector(arc_center=line2.get_end(), outer_radius=1.2, start_angle=line1.get_angle(), angle=PI/15, fill_opacity=1, fill_color=RED)\n",
    "        sector8 = Sector(arc_center=line4.get_end(), outer_radius=1.2, start_angle=line3.get_angle(), angle=PI/12, fill_opacity=1, fill_color=YELLOW)\n",
    "        sector9 = Sector(arc_center=line6.get_end(), outer_radius=1.2, start_angle=line5.get_angle(), angle=PI/10, fill_opacity=1, fill_color=GREEN)\n",
    "        sector10 = Sector(arc_center=line8.get_end(), outer_radius=1.2, start_angle=line7.get_angle(), angle=PI/10, fill_opacity=1, fill_color=BLUE)\n",
    "        sector11 = Sector(arc_center=line10.get_end(), outer_radius=1.2, start_angle=line9.get_angle(), angle=PI/12, fill_opacity=1, fill_color=PURPLE)\n",
    "        sector12 = Sector(arc_center=line12.get_end(), outer_radius=1.2, start_angle=line11.get_angle(), angle=PI/15, fill_opacity=1, fill_color=PINK)\n",
    "        self.add(sector7, sector8, sector9, sector10, sector11, sector12)\n",
    "        \n",
    "        sectors_group = VGroup(sector7, sector8, sector9, sector10, sector11, sector12).set_z_index(2)\n",
    "\n",
    "        # Rotate the sectors by 180 degrees\n",
    "        sectors_group.rotate(PI-0.005*PI).shift(1.2*UP+1.2*RIGHT)\n",
    "\n",
    "        # Add the group to the scene\n",
    "        self.play(Create(sectors_group, run_length =4))\n",
    "        self.wait(3)"
   ]
  },
  {
   "cell_type": "code",
   "execution_count": 4,
   "id": "81cdd46b",
   "metadata": {},
   "outputs": [
    {
     "data": {
      "image/png": "[encoded data removed]",
      "text/plain": [
       "<IPython.core.display.Image object>"
      ]
     },
     "metadata": {},
     "output_type": "display_data"
    }
   ],
   "source": [
    "%%manim -pqh Grid\n",
    "config.background_color = WHITE\n",
    "from manim import *\n",
    "\n",
    "class Grid(Scene):\n",
    "    def construct(self):\n",
    "        # Add grids\n",
    "        rows = 6\n",
    "        cols = 6\n",
    "        grid = VGroup(*[\n",
    "            VGroup(*[Square(side_length=1, fill_opacity=0, stroke_width=5, stroke_opacity = 0.5).move_to((i-rows//2)*RIGHT + (j-cols//2)*UP) for j in range(cols)]) for i in range(rows)\n",
    "        ]).set_color(GREY).shift(0.6*RIGHT+1.2*UP)\n",
    "        \n",
    "        # Add lines\n",
    "        line1 = Line(grid[0][5].get_corner(UR), grid[0][0].get_corner(UL), color=BLACK, stroke_width=5)\n",
    "        line3 = Line(grid[1][4].get_corner(UR), grid[0][0].get_corner(UL), color=BLACK, stroke_width=5)\n",
    "        line5 = Line(grid[2][3].get_corner(UR), grid[0][0].get_corner(UL), color=BLACK, stroke_width=5)\n",
    "        line7 = Line(grid[3][2].get_corner(UR), grid[0][0].get_corner(UL), color=BLACK, stroke_width=5)\n",
    "        line9 = Line(grid[4][1].get_corner(UR), grid[0][0].get_corner(UL), color=BLACK, stroke_width=5)\n",
    "        line11 = Line(grid[5][0].get_corner(UR), grid[0][0].get_corner(UL), color=BLACK, stroke_width=5)\n",
    "        line2 = Line(grid[0][5].get_corner(UR), grid[1][0].get_corner(DL), color=BLACK, stroke_width=5)\n",
    "        line4 = Line(grid[1][4].get_corner(UR), grid[1][0].get_corner(DL), color=BLACK, stroke_width=5)\n",
    "        line6 = Line(grid[2][3].get_corner(UR), grid[1][0].get_corner(DL), color=BLACK, stroke_width=5)\n",
    "        line8 = Line(grid[3][2].get_corner(UR), grid[1][0].get_corner(DL), color=BLACK, stroke_width=5)\n",
    "        line10 = Line(grid[4][1].get_corner(UR), grid[1][0].get_corner(DL), color=BLACK, stroke_width=5)\n",
    "        line12 = Line(grid[5][0].get_corner(UR), grid[1][0].get_corner(DL), color=BLACK, stroke_width=5)\n",
    "        \n",
    "        # Add dots\n",
    "        dot1 = Circle(radius=0.08, fill_color=WHITE, fill_opacity=1, stroke_width=4, stroke_color=BLACK).move_to(line1.get_start())\n",
    "        dot2 = Circle(radius=0.08, fill_color=WHITE, fill_opacity=1, stroke_width=4, stroke_color=BLACK).move_to(line1.get_end())\n",
    "        dot3 = Circle(radius=0.08, fill_color=WHITE, fill_opacity=1, stroke_width=4, stroke_color=BLACK).move_to(line3.get_start())\n",
    "        dot4 = Circle(radius=0.08, fill_color=WHITE, fill_opacity=1, stroke_width=4, stroke_color=BLACK).move_to(line4.get_end())\n",
    "        dot5 = Circle(radius=0.08, fill_color=WHITE, fill_opacity=1, stroke_width=4, stroke_color=BLACK).move_to(line5.get_start())\n",
    "        dot6 = Circle(radius=0.08, fill_color=WHITE, fill_opacity=1, stroke_width=4, stroke_color=BLACK).move_to(line7.get_start())\n",
    "        dot7 = Circle(radius=0.08, fill_color=WHITE, fill_opacity=1, stroke_width=4, stroke_color=BLACK).move_to(line9.get_start())\n",
    "        dot8 = Circle(radius=0.08, fill_color=WHITE, fill_opacity=1, stroke_width=4, stroke_color=BLACK).move_to(line11.get_start())\n",
    "        \n",
    "        # Add sectors\n",
    "        sector1 = Sector(arc_center=line2.get_start(), outer_radius=1.2, start_angle=line1.get_angle(), angle=PI/15, fill_opacity=1, fill_color=RED)\n",
    "        sector2 = Sector(arc_center=line4.get_start(), outer_radius=1.2, start_angle=line3.get_angle(), angle=PI/12, fill_opacity=1, fill_color=YELLOW)\n",
    "        sector3 = Sector(arc_center=line6.get_start(), outer_radius=1.2, start_angle=line5.get_angle(), angle=PI/10, fill_opacity=1, fill_color=GREEN)\n",
    "        sector4 = Sector(arc_center=line8.get_start(), outer_radius=1.2, start_angle=line7.get_angle(), angle=PI/10, fill_opacity=1, fill_color=BLUE)\n",
    "        sector5 = Sector(arc_center=line10.get_start(), outer_radius=1.2, start_angle=line9.get_angle(), angle=PI/12, fill_opacity=1, fill_color=PURPLE)\n",
    "        sector6 = Sector(arc_center=line12.get_start(), outer_radius=1.2, start_angle=line11.get_angle(), angle=PI/15, fill_opacity=1, fill_color=PINK)\n",
    "        \n",
    "        # Add objects to the scene\n",
    "        self.add(grid)\n",
    "        self.add(sector1, sector2, sector3, sector4, sector5, sector6)\n",
    "        self.add(line1, line2, line3, line4, line5, line6, line7, line8, line9, line10, line11, line12, dot1, dot2, dot3, dot4, dot5, dot6, dot7, dot8)\n"
   ]
  },
  {
   "cell_type": "code",
   "execution_count": 5,
   "id": "05de910e",
   "metadata": {},
   "outputs": [
    {
     "data": {
      "image/png": "[encoded data removed]",
      "text/plain": [
       "<IPython.core.display.Image object>"
      ]
     },
     "metadata": {},
     "output_type": "display_data"
    }
   ],
   "source": [
    "%%manim -pql Question\n",
    "from manim import *\n",
    "class Question(Scene):\n",
    "    def construct(self):\n",
    "        # Create angle symbols\n",
    "        angle_red = Tex(\"$\\\\angle$\", color=RED).scale(1).set_stroke(width = 3)\n",
    "        angle_yellow = Tex(\"$\\\\angle$\", color=YELLOW).scale(1).set_stroke(width = 3)\n",
    "        angle_green = Tex(\"$\\\\angle$\", color=GREEN).scale(1).set_stroke(width = 3)\n",
    "        angle_blue = Tex(\"$\\\\angle$\", color=BLUE).scale(1).set_stroke(width = 3)\n",
    "        angle_purple = Tex(\"$\\\\angle$\", color=PURPLE).scale(1).set_stroke(width = 3)\n",
    "        angle_pink = Tex(\"$\\\\angle$\", color=PINK).scale(1).set_stroke(width = 3)\n",
    "\n",
    "        # Position angle symbols\n",
    "        angle_red.shift(3.2*DOWN+3.75*LEFT)\n",
    "        angle_yellow.next_to(angle_red, RIGHT, buff=1)\n",
    "        angle_green.next_to(angle_yellow, RIGHT, buff=1)\n",
    "        angle_blue.next_to(angle_green, RIGHT, buff=1)\n",
    "        angle_purple.next_to(angle_blue, RIGHT, buff=1)\n",
    "        angle_pink.next_to(angle_purple, RIGHT, buff=1)\n",
    "\n",
    "        # Create plus signs\n",
    "        plus1 = Tex(\"+\", color=BLACK).scale(0.8).set_stroke(width = 3)\n",
    "        plus2 = Tex(\"+\", color=BLACK).scale(0.8).set_stroke(width = 3)\n",
    "        plus3 = Tex(\"+\", color=BLACK).scale(0.8).set_stroke(width = 3)\n",
    "        plus4 = Tex(\"+\", color=BLACK).scale(0.8).set_stroke(width = 3)\n",
    "        plus5 = Tex(\"+\", color=BLACK).scale(0.8).set_stroke(width = 3)\n",
    "\n",
    "        # Position plus signs\n",
    "        plus1.next_to(angle_red, RIGHT, buff=0.3)\n",
    "        plus2.next_to(angle_yellow, RIGHT, buff=0.3)\n",
    "        plus3.next_to(angle_green, RIGHT, buff=0.3)\n",
    "        plus4.next_to(angle_blue, RIGHT, buff=0.3)\n",
    "        plus5.next_to(angle_purple, RIGHT, buff=0.3)\n",
    "        \n",
    "        # Add =?°\n",
    "        symbol = Text(\" = ? °\").scale(0.8).set_color(BLACK).set_stroke(width = 1)\n",
    "        symbol.next_to(angle_pink, RIGHT, buff=0.3)\n",
    "\n",
    "        # Add objects to the scene\n",
    "        self.add(symbol, angle_red, angle_yellow, angle_green, angle_blue, angle_purple, angle_pink, plus1, plus2, plus3, plus4, plus5)"
   ]
  },
  {
   "cell_type": "code",
   "execution_count": 42,
   "id": "126b7eb5",
   "metadata": {},
   "outputs": [
    {
     "data": {
      "image/png": "[encoded data removed]",
      "text/plain": [
       "<IPython.core.display.Image object>"
      ]
     },
     "metadata": {},
     "output_type": "display_data"
    }
   ],
   "source": [
    "%%manim -pqh Grid\n",
    "config.background_color = WHITE\n",
    "from manim import *\n",
    "\n",
    "class Grid(Scene):\n",
    "    def construct(self):\n",
    "        # Add grids\n",
    "        rows = 6\n",
    "        cols = 6\n",
    "        grid = VGroup(*[\n",
    "            VGroup(*[Square(side_length=1, fill_opacity=0, stroke_width=5, stroke_opacity = 0.5).move_to((i-rows//2)*RIGHT + (j-cols//2)*UP) for j in range(cols)]) for i in range(rows)\n",
    "        ]).set_color(GREY).shift(0.6*RIGHT+1.2*UP)\n",
    "        \n",
    "        # Add lines\n",
    "        line1 = Line(grid[0][5].get_corner(UR), grid[0][0].get_corner(UL), color=BLACK, stroke_width=5)\n",
    "        line2 = Line(grid[0][5].get_corner(UR), grid[1][0].get_corner(DL), color=BLACK, stroke_width=5)\n",
    "        line3 = Line(grid[1][4].get_corner(UR), grid[0][0].get_corner(UL), color=BLACK, stroke_width=5)\n",
    "        line4 = Line(grid[1][4].get_corner(UR), grid[1][0].get_corner(DL), color=BLACK, stroke_width=5)\n",
    "        line5 = Line(grid[2][3].get_corner(UR), grid[0][0].get_corner(UL), color=BLACK, stroke_width=5)\n",
    "        line6 = Line(grid[2][3].get_corner(UR), grid[1][0].get_corner(DL), color=BLACK, stroke_width=5)\n",
    "        line7 = Line(grid[3][2].get_corner(UR), grid[0][0].get_corner(UL), color=BLACK, stroke_width=5)\n",
    "        line8 = Line(grid[3][2].get_corner(UR), grid[1][0].get_corner(DL), color=BLACK, stroke_width=5)\n",
    "        line9 = Line(grid[4][1].get_corner(UR), grid[0][0].get_corner(UL), color=BLACK, stroke_width=5)\n",
    "        line10 = Line(grid[4][1].get_corner(UR), grid[1][0].get_corner(DL), color=BLACK, stroke_width=5)\n",
    "        line11 = Line(grid[5][0].get_corner(UR), grid[0][0].get_corner(UL), color=BLACK, stroke_width=5)\n",
    "        line12 = Line(grid[5][0].get_corner(UR), grid[1][0].get_corner(DL), color=BLACK, stroke_width=5)\n",
    "        \n",
    "        # Add dots\n",
    "        dot1 = Circle(radius=0.08, fill_color=WHITE, fill_opacity=1, stroke_width=4, stroke_color=BLACK).move_to(line1.get_start())\n",
    "        dot2 = Circle(radius=0.08, fill_color=WHITE, fill_opacity=1, stroke_width=4, stroke_color=BLACK).move_to(line1.get_end())\n",
    "        dot3 = Circle(radius=0.08, fill_color=WHITE, fill_opacity=1, stroke_width=4, stroke_color=BLACK).move_to(line3.get_start())\n",
    "        dot4 = Circle(radius=0.08, fill_color=WHITE, fill_opacity=1, stroke_width=4, stroke_color=BLACK).move_to(line4.get_end())\n",
    "        dot5 = Circle(radius=0.08, fill_color=WHITE, fill_opacity=1, stroke_width=4, stroke_color=BLACK).move_to(line5.get_start())\n",
    "        dot6 = Circle(radius=0.08, fill_color=WHITE, fill_opacity=1, stroke_width=4, stroke_color=BLACK).move_to(line7.get_start())\n",
    "        dot7 = Circle(radius=0.08, fill_color=WHITE, fill_opacity=1, stroke_width=4, stroke_color=BLACK).move_to(line9.get_start())\n",
    "        dot8 = Circle(radius=0.08, fill_color=WHITE, fill_opacity=1, stroke_width=4, stroke_color=BLACK).move_to(line11.get_start())\n",
    "        \n",
    "        # Add sectors\n",
    "        sector1 = Sector(arc_center=line2.get_start(), outer_radius=1.2, start_angle=line1.get_angle(), angle=PI/15, fill_opacity=1, fill_color=RED)\n",
    "        sector2 = Sector(arc_center=line4.get_start(), outer_radius=1.2, start_angle=line3.get_angle(), angle=PI/12, fill_opacity=1, fill_color=YELLOW)\n",
    "        sector3 = Sector(arc_center=line6.get_start(), outer_radius=1.2, start_angle=line5.get_angle(), angle=PI/10, fill_opacity=1, fill_color=GREEN)\n",
    "        sector4 = Sector(arc_center=line8.get_start(), outer_radius=1.2, start_angle=line7.get_angle(), angle=PI/10, fill_opacity=1, fill_color=BLUE)\n",
    "        sector5 = Sector(arc_center=line10.get_start(), outer_radius=1.2, start_angle=line9.get_angle(), angle=PI/12, fill_opacity=1, fill_color=PURPLE)\n",
    "        sector6 = Sector(arc_center=line12.get_start(), outer_radius=1.2, start_angle=line11.get_angle(), angle=PI/15, fill_opacity=1, fill_color=PINK)\n",
    "        \n",
    "        # Add objects to the scene\n",
    "        self.add(grid)\n",
    "        self.add(sector1, sector2, sector3, sector4, sector5, sector6)\n",
    "        self.add(line1, line2, line3, line4, line5, line6, line7, line8, line9, line10, line11, line12, dot1, dot2, dot3, dot4, dot5, dot6, dot7, dot8)\n",
    "        \n",
    "        # Make arrays\n",
    "        colors = [RED, YELLOW, GREEN, BLUE, PURPLE, PINK]\n",
    "        angles = []\n",
    "        plus_signs = []\n",
    "        \n",
    "        # Using loop, add angle symbols and plus signs as required\n",
    "        for i in range(len(colors)):\n",
    "            angle = Tex(\"$\\\\angle$\", color=colors[i]).scale(1).set_stroke(width=3)\n",
    "            if i == 0:\n",
    "                angle.shift(3.2*DOWN+3.75*LEFT)\n",
    "            else:\n",
    "                angle.next_to(angles[-1], RIGHT, buff=1)\n",
    "            angles.append(angle)\n",
    "\n",
    "            if i < len(colors)-1:\n",
    "                plus_sign = Tex(\"+\", color=BLACK).scale(0.8).set_stroke(width=3)\n",
    "                plus_sign.next_to(angle, RIGHT, buff=0.3)\n",
    "                plus_signs.append(plus_sign)\n",
    "                \n",
    "        # Add = ? °\n",
    "        symbol = Text(\" = ? °\").scale(0.8).set_color(BLACK).set_stroke(width=1)\n",
    "        symbol.next_to(angles[-1], RIGHT, buff=0.3)\n",
    "        \n",
    "        # Add objects to the scene\n",
    "        self.add(symbol, *angles, *plus_signs)\n",
    "        \n",
    "        # Add sectors for the solution\n",
    "        sector7 = Sector(arc_center=line2.get_end(), outer_radius=1.2, start_angle=line1.get_angle(), angle=PI/15, fill_opacity=1, fill_color=RED)\n",
    "        sector8 = Sector(arc_center=line4.get_end(), outer_radius=1.2, start_angle=line3.get_angle(), angle=PI/12, fill_opacity=1, fill_color=YELLOW)\n",
    "        sector9 = Sector(arc_center=line6.get_end(), outer_radius=1.2, start_angle=line5.get_angle(), angle=PI/10, fill_opacity=1, fill_color=GREEN)\n",
    "        sector10 = Sector(arc_center=line8.get_end(), outer_radius=1.2, start_angle=line7.get_angle(), angle=PI/10, fill_opacity=1, fill_color=BLUE)\n",
    "        sector11 = Sector(arc_center=line10.get_end(), outer_radius=1.2, start_angle=line9.get_angle(), angle=PI/12, fill_opacity=1, fill_color=PURPLE)\n",
    "        sector12 = Sector(arc_center=line12.get_end(), outer_radius=1.2, start_angle=line11.get_angle(), angle=PI/15, fill_opacity=1, fill_color=PINK)\n",
    "        self.add(sector7, sector8, sector9, sector10, sector11, sector12)\n",
    "        \n",
    "        sectors_group = VGroup(sector7, sector8, sector9, sector10, sector11, sector12)\n",
    "\n",
    "        # Rotate the sectors by 180 degrees\n",
    "        sectors_group.rotate(PI-0.005*PI).shift(1.2*UP+1.2*RIGHT)\n",
    "\n",
    "        # Add the group to the scene\n",
    "        self.add(sectors_group)"
   ]
  },
  {
   "cell_type": "code",
   "execution_count": 84,
   "id": "6fc4e778",
   "metadata": {},
   "outputs": [
    {
     "data": {
      "image/png": "[encoded data removed]",
      "text/plain": [
       "<IPython.core.display.Image object>"
      ]
     },
     "metadata": {},
     "output_type": "display_data"
    }
   ],
   "source": [
    "%%manim -pqh Grid\n",
    "config.background_color = WHITE\n",
    "from manim import *\n",
    "class Grid(Scene):\n",
    "    def construct(self):\n",
    "        # Add grids\n",
    "        rows = 6\n",
    "        cols = 6\n",
    "        grid = VGroup(*[\n",
    "            VGroup(*[Square(side_length=1, fill_opacity=0, stroke_width=5, stroke_opacity = 0.5).move_to((i-rows//2)*RIGHT + (j-cols//2)*UP) for j in range(cols)]) for i in range(rows)\n",
    "        ]).set_color(GREY).shift(0.6*RIGHT+1.2*UP)\n",
    "        \n",
    "        # Add lines\n",
    "        line_positions = [\n",
    "            (0, 5, 0, 1), (1, 4, 0, 1), (2, 3, 0, 1), (3, 2, 0, 1), (4, 1, 0, 1), (5, 0, 0, 1),\n",
    "            (0, 5, 1, 0), (1, 4, 1, 0), (2, 3, 1, 0), (3, 2, 1, 0), (4, 1, 1, 0), (5, 0, 1, 0),\n",
    "        ]\n",
    "        lines = VGroup(*[\n",
    "            Line(grid[i][j].get_corner(UR), grid[k][l].get_corner(DL), color=BLACK, stroke_width=5) for i, j, k, l in line_positions\n",
    "        ])\n",
    "        \n",
    "        # Add dots\n",
    "        dots = VGroup(*[\n",
    "            Dot(lines[i].get_start(), color=BLACK, fill_color = WHITE, fill_opacity = 1).match_style(lines[i]) for i in range(len(lines))\n",
    "        ])\n",
    "        dots += VGroup(*[\n",
    "            Dot(lines[i].get_end(), color=BLACK, fill_color = WHITE, fill_opacity = 1).match_style(lines[i]) for i in range(len(lines))\n",
    "        ])\n",
    "        self.add(grid, lines)\n",
    "        self.add(dots)\n"
   ]
  },
  {
   "cell_type": "code",
   "execution_count": 16,
   "id": "1aeb3ff8",
   "metadata": {},
   "outputs": [
    {
     "name": "stderr",
     "output_type": "stream",
     "text": [
      "                                                                                                                       \r"
     ]
    },
    {
     "data": {
      "text/html": [
       "<video src=\"media\\jupyter\\Grid@2023-04-20@13-17-27.mp4\" controls autoplay loop style=\"max-width: 100%;\"  >\n",
       "      Your browser does not support the <code>video</code> element.\n",
       "    </video>"
      ],
      "text/plain": [
       "<IPython.core.display.Video object>"
      ]
     },
     "metadata": {},
     "output_type": "display_data"
    }
   ],
   "source": [
    "%%manim -pql Grid\n",
    "config.background_color = WHITE\n",
    "from manim import *\n",
    "\n",
    "class Grid(Scene):\n",
    "    def construct(self):\n",
    "        # Add grids\n",
    "        rows = 6\n",
    "        cols = 6\n",
    "        grid = VGroup(*[\n",
    "            VGroup(*[Square(side_length=1, fill_opacity=0, stroke_width=5, stroke_opacity = 0.5).move_to((i-rows//2)*RIGHT + (j-cols//2)*UP) for j in range(cols)]) for i in range(rows)\n",
    "        ]).set_color(GREY).shift(0.6*RIGHT+1.2*UP)\n",
    "\n",
    "        # Add lines\n",
    "        line_positions = [\n",
    "            (0, 5, 0, 1), (1, 4, 0, 1), (2, 3, 0, 1), (3, 2, 0, 1), (4, 1, 0, 1), (5, 0, 0, 1),\n",
    "            (0, 5, 1, 0), (1, 4, 1, 0), (2, 3, 1, 0), (3, 2, 1, 0), (4, 1, 1, 0), (5, 0, 1, 0),\n",
    "        ]\n",
    "        lines = VGroup(*[\n",
    "            Line(grid[i][j].get_corner(UR), grid[k][l].get_corner(DL), color=BLACK, stroke_width=5) for i, j, k, l in line_positions\n",
    "        ]).set_z_index(2)\n",
    "\n",
    "        # Add dots\n",
    "        dots = VGroup(*[\n",
    "        Dot(lines[i].get_start(), color=WHITE, fill_opacity=1, stroke_width=4, stroke_color = BLACK) for i in range(len(lines))\n",
    "            ]).set_z_index(4)\n",
    "        dots += VGroup(*[\n",
    "            Dot(lines[i].get_end(), color=WHITE, fill_opacity=1, stroke_width=4, stroke_color = BLACK) for i in range(len(lines))\n",
    "        ]).set_z_index(6)\n",
    "\n",
    "        # Create the sectors\n",
    "        sector_data = []\n",
    "        colors = [RED, YELLOW, GREEN, BLUE, PURPLE, PINK]\n",
    "        angles = [PI/15, PI/12, PI/10, PI/10, PI/12, PI/15]\n",
    "\n",
    "        for i in range(6):\n",
    "            sector_data.append((lines[i], lines[i], colors[i], angles[i]))\n",
    "\n",
    "        sectors = []\n",
    "        for line1, line2, color, angle in sector_data:\n",
    "            sector = Sector(\n",
    "                arc_center=line2.get_start(),\n",
    "                outer_radius=1.2,\n",
    "                start_angle=line1.get_angle(),\n",
    "                angle=angle,\n",
    "                fill_opacity=1,\n",
    "                fill_color=color,\n",
    "            )\n",
    "            sectors.append(sector)\n",
    "        sectors = VGroup(*sectors)\n",
    "        #self.add(grid)\n",
    "        self.play(FadeIn(grid), run_length=4)\n",
    "        self.wait()\n",
    "        #self.add(dots)\n",
    "        self.play(FadeIn(dots))\n",
    "        self.wait()\n",
    "        #self.add(lines)\n",
    "        self.play(FadeIn(lines), run_length = 4)\n",
    "        self.wait()\n",
    "        #self.add(sectors)\n",
    "        self.play(FadeIn(sectors))\n",
    "        \n",
    "        # Make arrays\n",
    "        colors = [RED, YELLOW, GREEN, BLUE, PURPLE, PINK]\n",
    "        angles = []\n",
    "        plus_signs = []\n",
    "        \n",
    "        # Using loop, add angle symbols and plus signs as required\n",
    "        for i in range(len(colors)):\n",
    "            angle = Tex(\"$\\\\angle$\", color=colors[i]).scale(1).set_stroke(width=3)\n",
    "            if i == 0:\n",
    "                angle.shift(3.2*DOWN+3.75*LEFT)\n",
    "            else:\n",
    "                angle.next_to(angles[-1], RIGHT, buff=1)\n",
    "            angles.append(angle)\n",
    "\n",
    "            if i < len(colors)-1:\n",
    "                plus_sign = Tex(\"+\", color=BLACK).scale(0.8).set_stroke(width=3)\n",
    "                plus_sign.next_to(angle, RIGHT, buff=0.3)\n",
    "                plus_signs.append(plus_sign)\n",
    "                \n",
    "        # Add = ? °\n",
    "        symbol = Text(\" = ? °\").scale(0.8).set_color(BLACK).set_stroke(width=1)\n",
    "        symbol.next_to(angles[-1], RIGHT, buff=0.3)\n",
    "        \n",
    "        # Add objects to the scene\n",
    "        self.wait()\n",
    "        self.add(symbol, *angles, *plus_signs)\n",
    "        self.wait()\n",
    "        \n",
    "        # Create the sectors for the solution\n",
    "        sector_data1 = []\n",
    "        colors1 = [RED, YELLOW, GREEN, BLUE, PURPLE, PINK]\n",
    "        angles1 = [PI/15, PI/12, PI/10, PI/10, PI/12, PI/15]\n",
    "\n",
    "        for i in range(6):\n",
    "            sector_data1.append((lines[i], lines[i], colors1[i], angles1[i]))\n",
    "\n",
    "        sectors1 = []\n",
    "        for line1, line2, color, angle in sector_data:\n",
    "            sector1 = Sector(\n",
    "                arc_center=line2.get_end(),\n",
    "                outer_radius=1.2,\n",
    "                start_angle=line1.get_angle(),\n",
    "                angle=angle,\n",
    "                fill_opacity=1,\n",
    "                fill_color=color,\n",
    "            )\n",
    "            sectors1.append(sector1)\n",
    "        sectors1 = VGroup(*sectors1)\n",
    "        sectors1.rotate(PI-0.005*PI).shift(2.18*RIGHT+0.17*UP)\n",
    "        #self.add(sectors1)\n",
    "        self.play(Create(sectors1))\n",
    "        self.wait(4)"
   ]
  },
  {
   "cell_type": "code",
   "execution_count": null,
   "id": "2807a4e3",
   "metadata": {},
   "outputs": [],
   "source": []
  },
  {
   "cell_type": "code",
   "execution_count": 1,
   "id": "d12091a0",
   "metadata": {},
   "outputs": [
    {
     "name": "stderr",
     "output_type": "stream",
     "text": [
      "UsageError: Cell magic `%%manim` not found.\n"
     ]
    }
   ],
   "source": [
    "%%manim -pql Grid\n",
    "config.background_color = WHITE\n",
    "from manim import *\n",
    "\n",
    "class Grid(Scene):\n",
    "    def construct(self):\n",
    "        rows = 6\n",
    "        cols = 6\n",
    "        title = Tex(\"Here is a 6x6 grid\").set_color(BLACK)\n",
    "        grid = VGroup(*[\n",
    "            VGroup(*[Square(side_length=1, fill_opacity=0, stroke_width=5, stroke_opacity = 0.5).move_to((i-rows//2)*RIGHT + (j-cols//2)*UP) for j in range(cols)]) for i in range(rows)\n",
    "        ]).set_color(GREY).shift(0.6*RIGHT+1.2*UP)\n",
    "        \n",
    "        # Add lines\n",
    "        line1 = Line(grid[0][5].get_corner(UR), grid[0][0].get_corner(UL), color=BLACK, stroke_width=5).set_z_index(2)\n",
    "        line2 = Line(grid[0][5].get_corner(UR), grid[1][0].get_corner(DL), color=BLACK, stroke_width=5).set_z_index(2)\n",
    "        line3 = Line(grid[1][4].get_corner(UR), grid[0][0].get_corner(UL), color=BLACK, stroke_width=5).set_z_index(2)\n",
    "        line4 = Line(grid[1][4].get_corner(UR), grid[1][0].get_corner(DL), color=BLACK, stroke_width=5).set_z_index(2)\n",
    "        line5 = Line(grid[2][3].get_corner(UR), grid[0][0].get_corner(UL), color=BLACK, stroke_width=5).set_z_index(2)\n",
    "        line6 = Line(grid[2][3].get_corner(UR), grid[1][0].get_corner(DL), color=BLACK, stroke_width=5).set_z_index(2)\n",
    "        line7 = Line(grid[3][2].get_corner(UR), grid[0][0].get_corner(UL), color=BLACK, stroke_width=5).set_z_index(2)\n",
    "        line8 = Line(grid[3][2].get_corner(UR), grid[1][0].get_corner(DL), color=BLACK, stroke_width=5).set_z_index(2)\n",
    "        line9 = Line(grid[4][1].get_corner(UR), grid[0][0].get_corner(UL), color=BLACK, stroke_width=5).set_z_index(2)\n",
    "        line10 = Line(grid[4][1].get_corner(UR), grid[1][0].get_corner(DL), color=BLACK, stroke_width=5).set_z_index(2)\n",
    "        line11 = Line(grid[5][0].get_corner(UR), grid[0][0].get_corner(UL), color=BLACK, stroke_width=5).set_z_index(2)\n",
    "        line12 = Line(grid[5][0].get_corner(UR), grid[1][0].get_corner(DL), color=BLACK, stroke_width=5).set_z_index(2)\n",
    "        \n",
    "        \n",
    "        #Add sectors\n",
    "        sector1 = Sector(arc_center=line2.get_start(), outer_radius=1.2, start_angle=line1.get_angle(), angle=PI/15.5, fill_opacity=1, fill_color=RED)\n",
    "        sector2 = Sector(arc_center=line4.get_start(), outer_radius=1.2, start_angle=line3.get_angle(), angle=PI/11.5, fill_opacity=1, fill_color=YELLOW)\n",
    "        sector3 = Sector(arc_center=line6.get_start(), outer_radius=1.2, start_angle=line5.get_angle(), angle=PI/9.5, fill_opacity=1, fill_color=GREEN)\n",
    "        sector4 = Sector(arc_center=line8.get_start(), outer_radius=1.2, start_angle=line7.get_angle(), angle=PI/9.5, fill_opacity=1, fill_color=BLUE)\n",
    "        sector5 = Sector(arc_center=line10.get_start(), outer_radius=1.2, start_angle=line9.get_angle(), angle=PI/11.5, fill_opacity=1, fill_color=PURPLE)\n",
    "        sector6 = Sector(arc_center=line12.get_start(), outer_radius=1.2, start_angle=line11.get_angle(), angle=PI/15.5, fill_opacity=1, fill_color=PINK)\n",
    "        \n",
    "        #Add dots\n",
    "        dot1 = Circle(radius=0.08, fill_color=WHITE, fill_opacity=1, stroke_width=4, stroke_color=BLACK).move_to(line1.get_start()).set_z_index(4)\n",
    "        dot2 = Circle(radius=0.08, fill_color=WHITE, fill_opacity=1, stroke_width=4, stroke_color=BLACK).move_to(line1.get_end()).set_z_index(4)\n",
    "        dot3 = Circle(radius=0.08, fill_color=WHITE, fill_opacity=1, stroke_width=4, stroke_color=BLACK).move_to(line3.get_start()).set_z_index(4)\n",
    "        dot4 = Circle(radius=0.08, fill_color=WHITE, fill_opacity=1, stroke_width=4, stroke_color=BLACK).move_to(line4.get_end()).set_z_index(4)\n",
    "        dot5 = Circle(radius=0.08, fill_color=WHITE, fill_opacity=1, stroke_width=4, stroke_color=BLACK).move_to(line5.get_start()).set_z_index(4)\n",
    "        dot6 = Circle(radius=0.08, fill_color=WHITE, fill_opacity=1, stroke_width=4, stroke_color=BLACK).move_to(line7.get_start()).set_z_index(4)\n",
    "        dot7 = Circle(radius=0.08, fill_color=WHITE, fill_opacity=1, stroke_width=4, stroke_color=BLACK).move_to(line9.get_start()).set_z_index(4)\n",
    "        dot8 = Circle(radius=0.08, fill_color=WHITE, fill_opacity=1, stroke_width=4, stroke_color=BLACK).move_to(line11.get_start()).set_z_index(4)\n",
    "        \n",
    "        # Create angle symbols\n",
    "        angle_red = Tex(\"$\\\\angle$\", color=RED).scale(1).set_stroke(width = 3)\n",
    "        angle_yellow = Tex(\"$\\\\angle$\", color=YELLOW).scale(1).set_stroke(width = 3)\n",
    "        angle_green = Tex(\"$\\\\angle$\", color=GREEN).scale(1).set_stroke(width = 3)\n",
    "        angle_blue = Tex(\"$\\\\angle$\", color=BLUE).scale(1).set_stroke(width = 3)\n",
    "        angle_purple = Tex(\"$\\\\angle$\", color=PURPLE).scale(1).set_stroke(width = 3)\n",
    "        angle_pink = Tex(\"$\\\\angle$\", color=PINK).scale(1).set_stroke(width = 3)\n",
    "\n",
    "        # Position angle symbols\n",
    "        angle_red.shift(3.2*DOWN+3.75*LEFT)\n",
    "        angle_yellow.next_to(angle_red, RIGHT, buff=1)\n",
    "        angle_green.next_to(angle_yellow, RIGHT, buff=1)\n",
    "        angle_blue.next_to(angle_green, RIGHT, buff=1)\n",
    "        angle_purple.next_to(angle_blue, RIGHT, buff=1)\n",
    "        angle_pink.next_to(angle_purple, RIGHT, buff=1)\n",
    "\n",
    "        # Create plus signs\n",
    "        plus1 = Tex(\"+\", color=BLACK).scale(0.8).set_stroke(width = 3)\n",
    "        plus2 = Tex(\"+\", color=BLACK).scale(0.8).set_stroke(width = 3)\n",
    "        plus3 = Tex(\"+\", color=BLACK).scale(0.8).set_stroke(width = 3)\n",
    "        plus4 = Tex(\"+\", color=BLACK).scale(0.8).set_stroke(width = 3)\n",
    "        plus5 = Tex(\"+\", color=BLACK).scale(0.8).set_stroke(width = 3)\n",
    "\n",
    "        # Position plus signs\n",
    "        plus1.next_to(angle_red, RIGHT, buff=0.3)\n",
    "        plus2.next_to(angle_yellow, RIGHT, buff=0.3)\n",
    "        plus3.next_to(angle_green, RIGHT, buff=0.3)\n",
    "        plus4.next_to(angle_blue, RIGHT, buff=0.3)\n",
    "        plus5.next_to(angle_purple, RIGHT, buff=0.3)\n",
    "        \n",
    "        #Add =?°\n",
    "        symbol = Text(\" = ? °\").scale(0.8).set_color(BLACK).set_stroke(width = 1)\n",
    "        symbol.next_to(angle_pink, RIGHT, buff=0.3)\n",
    "\n",
    "        # Add objects to the scene\n",
    "        #self.play(FadeIn(title))\n",
    "        #self.wait(2)\n",
    "        #self.play(FadeOut(title))\n",
    "        self.wait()\n",
    "        self.play(FadeIn(grid))\n",
    "        self.wait(2)\n",
    "        #self.add(line1, line2, line3, line4, line5, line6, line7, line8, line9, line10, line11, line12, dot1, dot2, dot3, dot4, dot5, dot6, dot7, dot8)\n",
    "        self.play(FadeIn(dot2, dot4))\n",
    "        self.wait(2)\n",
    "        self.play(FadeIn(dot1, dot3, dot5, dot6, dot7, dot8))\n",
    "        self.wait(3)\n",
    "        self.play(Create(line1))\n",
    "        self.play(Create(line2))\n",
    "        self.play(Create(line3))\n",
    "        self.play(Create(line4))\n",
    "        self.play(Create(line5))\n",
    "        self.play(Create(line6))\n",
    "        self.play(Create(line7))\n",
    "        self.play(Create(line8))\n",
    "        self.play(Create(line9))\n",
    "        self.play(Create(line10))\n",
    "        self.play(Create(line11))\n",
    "        self.play(Create(line12))\n",
    "        self.wait(2)\n",
    "        #self.add(sector1, sector2, sector3, sector4, sector5, sector6)\n",
    "        self.play(FadeIn(sector1, sector2, sector3, sector4, sector5, sector6))\n",
    "        self.wait(3)\n",
    "        text_group = VGroup(symbol, angle_red, angle_yellow, angle_green, angle_blue, angle_purple, angle_pink, plus1, plus2, plus3, plus4, plus5)\n",
    "        self.wait(2)\n",
    "        self.play(FadeIn(text_group))\n",
    "        self.wait(5)\n",
    "        \n",
    "        # Add sectors for the solution\n",
    "        sector_compare = Sector(arc_center=line2.get_end(), outer_radius=1.2, start_angle=line1.get_angle(), angle=PI/15.5, fill_opacity=1, fill_color=RED).rotate(PI).shift(1.2*UP+0.22*RIGHT)\n",
    "        #Analysing first angle (red one)\n",
    "        self.play(FadeOut(line3, line5, line6, line7, line8, line9, line10, line11, line12, dot5, dot6, dot7, dot8, sector2, sector3, sector4, sector5, sector6))\n",
    "        self.wait(3)\n",
    "        self.play(Indicate(line1), Indicate(line4), color = PURPLE)\n",
    "        self.wait()\n",
    "        self.play(Indicate(line2), color = PINK)\n",
    "        self.wait()\n",
    "        self.play(FadeIn(sector_compare))\n",
    "        self.wait(5)\n",
    "        self.play(FadeIn(line3, line5, line6, line7, line8, line9, line10, line11, line12, dot5, dot6, dot7, dot8, sector2, sector3, sector4, sector5, sector6))\n",
    "        self.wait(4)\n",
    "        #self.play(FadeIn(sector7.set_z_index(8)))\n",
    "        sector7 = Sector(arc_center=line2.get_end(), outer_radius=1.2, start_angle=line1.get_angle(), angle=PI/15.5, fill_opacity=1, fill_color=RED)\n",
    "        sector8 = Sector(arc_center=line4.get_end(), outer_radius=1.2, start_angle=line3.get_angle(), angle=PI/11.5, fill_opacity=1, fill_color=YELLOW)\n",
    "        sector9 = Sector(arc_center=line6.get_end(), outer_radius=1.2, start_angle=line5.get_angle(), angle=PI/9.5, fill_opacity=1, fill_color=GREEN)\n",
    "        sector10 = Sector(arc_center=line8.get_end(), outer_radius=1.2, start_angle=line7.get_angle(), angle=PI/9.5, fill_opacity=1, fill_color=BLUE)\n",
    "        sector11 = Sector(arc_center=line10.get_end(), outer_radius=1.2, start_angle=line9.get_angle(), angle=PI/11.5, fill_opacity=1, fill_color=PURPLE)\n",
    "        sector12 = Sector(arc_center=line12.get_end(), outer_radius=1.2, start_angle=line11.get_angle(), angle=PI/15.5, fill_opacity=1, fill_color=PINK)\n",
    "        self.add(sector7, sector8, sector9, sector10, sector11, sector12)\n",
    "        \n",
    "        sectors_group = VGroup(sector7, sector8, sector9, sector10, sector11, sector12)\n",
    "\n",
    "        # Rotate the sectors by 180 degrees\n",
    "        sectors_group.rotate(PI).shift(1.18*UP+1.2*RIGHT)\n",
    "\n",
    "        # Add the group to the scene\n",
    "        self.play(Create(sectors_group, run_time =4),FadeOut(sector_compare))\n",
    "        self.wait(2)\n",
    "        \n",
    "        # Copy the sectors group\n",
    "        sectors_copy = sectors_group.copy()\n",
    "        \n",
    "        #answer\n",
    "        equal_to = Text(\" = \").scale(0.8).set_color(BLACK).set_stroke(width = 1)\n",
    "        equal_to.next_to(angle_pink, RIGHT, buff=0.3)\n",
    "        self.play(Indicate(sectors_group), run_length = 4, color = None)\n",
    "        self.wait()\n",
    "        self.play(sectors_copy.animate.next_to(angle_pink, RIGHT, buff=0.6).scale(0.5), FadeOut(symbol), FadeIn(equal_to) )\n",
    "        self.wait(5)\n",
    "        answer = Text(\" = 90°\").scale(0.8).set_color(BLACK).set_stroke(width = 1)\n",
    "        answer.next_to(angle_pink, RIGHT, buff=1.8)\n",
    "        self.play(FadeIn(answer))\n",
    "        self.wait(3)"
   ]
  },
  {
   "cell_type": "code",
   "execution_count": 7,
   "id": "5452fe53",
   "metadata": {},
   "outputs": [
    {
     "name": "stderr",
     "output_type": "stream",
     "text": [
      "                                                                                                                       \r"
     ]
    },
    {
     "data": {
      "text/html": [
       "<video src=\"media\\jupyter\\Grid@2023-05-02@11-33-40.mp4\" controls autoplay loop style=\"max-width: 100%;\"  >\n",
       "      Your browser does not support the <code>video</code> element.\n",
       "    </video>"
      ],
      "text/plain": [
       "<IPython.core.display.Video object>"
      ]
     },
     "metadata": {},
     "output_type": "display_data"
    }
   ],
   "source": [
    "%%manim -pqh Grid\n",
    "config.background_color = WHITE\n",
    "from manim import *\n",
    "\n",
    "class Grid(Scene):\n",
    "    def construct(self):\n",
    "        rows = 6\n",
    "        cols = 6\n",
    "        title = Tex(\"Here is a 6x6 grid\").set_color(BLACK)\n",
    "        grid = VGroup(*[\n",
    "            VGroup(*[Square(side_length=1, fill_opacity=0, stroke_width=5, stroke_opacity = 0.5).move_to((i-rows//2)*RIGHT + (j-cols//2)*UP) for j in range(cols)]) for i in range(rows)\n",
    "        ]).set_color(GREY).shift(0.6*RIGHT+1.2*UP)\n",
    "        \n",
    "        # Add lines\n",
    "        line1 = Line(grid[0][5].get_corner(UR), grid[0][0].get_corner(UL), color=BLACK, stroke_width=5).set_z_index(2)\n",
    "        line2 = Line(grid[0][5].get_corner(UR), grid[1][0].get_corner(DL), color=BLACK, stroke_width=5).set_z_index(2)\n",
    "        line3 = Line(grid[1][4].get_corner(UR), grid[0][0].get_corner(UL), color=BLACK, stroke_width=5).set_z_index(2)\n",
    "        line4 = Line(grid[1][4].get_corner(UR), grid[1][0].get_corner(DL), color=BLACK, stroke_width=5).set_z_index(2)\n",
    "        line5 = Line(grid[2][3].get_corner(UR), grid[0][0].get_corner(UL), color=BLACK, stroke_width=5).set_z_index(2)\n",
    "        line6 = Line(grid[2][3].get_corner(UR), grid[1][0].get_corner(DL), color=BLACK, stroke_width=5).set_z_index(2)\n",
    "        line7 = Line(grid[3][2].get_corner(UR), grid[0][0].get_corner(UL), color=BLACK, stroke_width=5).set_z_index(2)\n",
    "        line8 = Line(grid[3][2].get_corner(UR), grid[1][0].get_corner(DL), color=BLACK, stroke_width=5).set_z_index(2)\n",
    "        line9 = Line(grid[4][1].get_corner(UR), grid[0][0].get_corner(UL), color=BLACK, stroke_width=5).set_z_index(2)\n",
    "        line10 = Line(grid[4][1].get_corner(UR), grid[1][0].get_corner(DL), color=BLACK, stroke_width=5).set_z_index(2)\n",
    "        line11 = Line(grid[5][0].get_corner(UR), grid[0][0].get_corner(UL), color=BLACK, stroke_width=5).set_z_index(2)\n",
    "        line12 = Line(grid[5][0].get_corner(UR), grid[1][0].get_corner(DL), color=BLACK, stroke_width=5).set_z_index(2)\n",
    "        \n",
    "        \n",
    "        #Add sectors\n",
    "        sector1 = Sector(arc_center=line2.get_start(), outer_radius=1.2, start_angle=line1.get_angle(), angle=PI/15.5, fill_opacity=1, fill_color=RED)\n",
    "        sector2 = Sector(arc_center=line4.get_start(), outer_radius=1.2, start_angle=line3.get_angle(), angle=PI/11.5, fill_opacity=1, fill_color=YELLOW)\n",
    "        sector3 = Sector(arc_center=line6.get_start(), outer_radius=1.2, start_angle=line5.get_angle(), angle=PI/9.5, fill_opacity=1, fill_color=GREEN)\n",
    "        sector4 = Sector(arc_center=line8.get_start(), outer_radius=1.2, start_angle=line7.get_angle(), angle=PI/9.5, fill_opacity=1, fill_color=BLUE)\n",
    "        sector5 = Sector(arc_center=line10.get_start(), outer_radius=1.2, start_angle=line9.get_angle(), angle=PI/11.5, fill_opacity=1, fill_color=PURPLE)\n",
    "        sector6 = Sector(arc_center=line12.get_start(), outer_radius=1.2, start_angle=line11.get_angle(), angle=PI/15.5, fill_opacity=1, fill_color=PINK)\n",
    "        \n",
    "        #Add dots\n",
    "        dot1 = Circle(radius=0.08, fill_color=WHITE, fill_opacity=1, stroke_width=4, stroke_color=BLACK).move_to(line1.get_start()).set_z_index(4)\n",
    "        dot2 = Circle(radius=0.08, fill_color=WHITE, fill_opacity=1, stroke_width=4, stroke_color=BLACK).move_to(line1.get_end()).set_z_index(4)\n",
    "        dot3 = Circle(radius=0.08, fill_color=WHITE, fill_opacity=1, stroke_width=4, stroke_color=BLACK).move_to(line3.get_start()).set_z_index(4)\n",
    "        dot4 = Circle(radius=0.08, fill_color=WHITE, fill_opacity=1, stroke_width=4, stroke_color=BLACK).move_to(line4.get_end()).set_z_index(4)\n",
    "        dot5 = Circle(radius=0.08, fill_color=WHITE, fill_opacity=1, stroke_width=4, stroke_color=BLACK).move_to(line5.get_start()).set_z_index(4)\n",
    "        dot6 = Circle(radius=0.08, fill_color=WHITE, fill_opacity=1, stroke_width=4, stroke_color=BLACK).move_to(line7.get_start()).set_z_index(4)\n",
    "        dot7 = Circle(radius=0.08, fill_color=WHITE, fill_opacity=1, stroke_width=4, stroke_color=BLACK).move_to(line9.get_start()).set_z_index(4)\n",
    "        dot8 = Circle(radius=0.08, fill_color=WHITE, fill_opacity=1, stroke_width=4, stroke_color=BLACK).move_to(line11.get_start()).set_z_index(4)\n",
    "        \n",
    "        # Create angle symbols\n",
    "        angle_red = Tex(\"$\\\\angle$\", color=RED).scale(1).set_stroke(width = 3)\n",
    "        angle_yellow = Tex(\"$\\\\angle$\", color=YELLOW).scale(1).set_stroke(width = 3)\n",
    "        angle_green = Tex(\"$\\\\angle$\", color=GREEN).scale(1).set_stroke(width = 3)\n",
    "        angle_blue = Tex(\"$\\\\angle$\", color=BLUE).scale(1).set_stroke(width = 3)\n",
    "        angle_purple = Tex(\"$\\\\angle$\", color=PURPLE).scale(1).set_stroke(width = 3)\n",
    "        angle_pink = Tex(\"$\\\\angle$\", color=PINK).scale(1).set_stroke(width = 3)\n",
    "\n",
    "        # Position angle symbols\n",
    "        angle_red.shift(3.2*DOWN+3.75*LEFT)\n",
    "        angle_yellow.next_to(angle_red, RIGHT, buff=1)\n",
    "        angle_green.next_to(angle_yellow, RIGHT, buff=1)\n",
    "        angle_blue.next_to(angle_green, RIGHT, buff=1)\n",
    "        angle_purple.next_to(angle_blue, RIGHT, buff=1)\n",
    "        angle_pink.next_to(angle_purple, RIGHT, buff=1)\n",
    "\n",
    "        # Create plus signs\n",
    "        plus1 = Tex(\"+\", color=BLACK).scale(0.8).set_stroke(width = 3)\n",
    "        plus2 = Tex(\"+\", color=BLACK).scale(0.8).set_stroke(width = 3)\n",
    "        plus3 = Tex(\"+\", color=BLACK).scale(0.8).set_stroke(width = 3)\n",
    "        plus4 = Tex(\"+\", color=BLACK).scale(0.8).set_stroke(width = 3)\n",
    "        plus5 = Tex(\"+\", color=BLACK).scale(0.8).set_stroke(width = 3)\n",
    "\n",
    "        # Position plus signs\n",
    "        plus1.next_to(angle_red, RIGHT, buff=0.3)\n",
    "        plus2.next_to(angle_yellow, RIGHT, buff=0.3)\n",
    "        plus3.next_to(angle_green, RIGHT, buff=0.3)\n",
    "        plus4.next_to(angle_blue, RIGHT, buff=0.3)\n",
    "        plus5.next_to(angle_purple, RIGHT, buff=0.3)\n",
    "        \n",
    "        #Add =?°\n",
    "        symbol = Text(\" = ? °\").scale(0.8).set_color(BLACK).set_stroke(width = 1)\n",
    "        symbol.next_to(angle_pink, RIGHT, buff=0.3)\n",
    "\n",
    "        # Add objects to the scene\n",
    "        #self.play(FadeIn(title))\n",
    "        #self.wait(2)\n",
    "        #self.play(FadeOut(title))\n",
    "        self.wait()\n",
    "        self.play(FadeIn(grid))\n",
    "        self.wait(2)\n",
    "        #self.add(line1, line2, line3, line4, line5, line6, line7, line8, line9, line10, line11, line12, dot1, dot2, dot3, dot4, dot5, dot6, dot7, dot8)\n",
    "        self.play(FadeIn(dot2, dot4))\n",
    "        self.wait(2)\n",
    "        self.play(FadeIn(dot1, dot3, dot5, dot6, dot7, dot8))\n",
    "        self.wait(3)\n",
    "        self.play(Create(line1))\n",
    "        self.play(Create(line2))\n",
    "        self.play(Create(line3))\n",
    "        self.play(Create(line4))\n",
    "        self.play(Create(line5))\n",
    "        self.play(Create(line6))\n",
    "        self.play(Create(line7))\n",
    "        self.play(Create(line8))\n",
    "        self.play(Create(line9))\n",
    "        self.play(Create(line10))\n",
    "        self.play(Create(line11))\n",
    "        self.play(Create(line12))\n",
    "        self.wait(2)\n",
    "        #self.add(sector1, sector2, sector3, sector4, sector5, sector6)\n",
    "        self.play(FadeIn(sector1, sector2, sector3, sector4, sector5, sector6))\n",
    "        self.wait(3)\n",
    "        text_group = VGroup(symbol, angle_red, angle_yellow, angle_green, angle_blue, angle_purple, angle_pink, plus1, plus2, plus3, plus4, plus5)\n",
    "        self.wait(2)\n",
    "        self.play(FadeIn(text_group))\n",
    "        self.wait(5)\n",
    "        \n",
    "        # Add sectors for the solution\n",
    "        sector_compare = Sector(arc_center=line2.get_end(), outer_radius=1.2, start_angle=line1.get_angle(), angle=PI/15.5, fill_opacity=1, fill_color=RED).rotate(PI).shift(1.2*UP+0.22*RIGHT)\n",
    "        #Analysing first angle (red one)\n",
    "        self.play(FadeOut(line3, line5, line6, line7, line8, line9, line10, line11, line12, dot5, dot6, dot7, dot8, sector2, sector3, sector4, sector5, sector6))\n",
    "        self.wait(3)\n",
    "        self.play(Indicate(line1), Indicate(line4))\n",
    "        self.wait()\n",
    "        self.play(Indicate(line2))\n",
    "        self.wait()\n",
    "        sector1_copy = sector1.copy()\n",
    "        self.play(Transform(sector1_copy, sector_compare))\n",
    "        self.wait()\n",
    "        self.play(Indicate(sector1), Indicate(sector_compare))\n",
    "        self.wait(4)\n",
    "        self.play(FadeIn(line3, line5, line6, line7, line8, line9, line10, line11, line12, dot5, dot6, dot7, dot8, sector2, sector3, sector4, sector5, sector6))\n",
    "        self.wait(4)\n",
    "        #self.play(FadeIn(sector7.set_z_index(8)))\n",
    "        sector7 = Sector(arc_center=line2.get_end(), outer_radius=1.2, start_angle=line1.get_angle(), angle=PI/15.5, fill_opacity=1, fill_color=RED)\n",
    "        sector8 = Sector(arc_center=line4.get_end(), outer_radius=1.2, start_angle=line3.get_angle(), angle=PI/11.5, fill_opacity=1, fill_color=YELLOW)\n",
    "        sector9 = Sector(arc_center=line6.get_end(), outer_radius=1.2, start_angle=line5.get_angle(), angle=PI/9.5, fill_opacity=1, fill_color=GREEN)\n",
    "        sector10 = Sector(arc_center=line8.get_end(), outer_radius=1.2, start_angle=line7.get_angle(), angle=PI/9.5, fill_opacity=1, fill_color=BLUE)\n",
    "        sector11 = Sector(arc_center=line10.get_end(), outer_radius=1.2, start_angle=line9.get_angle(), angle=PI/11.5, fill_opacity=1, fill_color=PURPLE)\n",
    "        sector12 = Sector(arc_center=line12.get_end(), outer_radius=1.2, start_angle=line11.get_angle(), angle=PI/15.5, fill_opacity=1, fill_color=PINK)\n",
    "        self.add(sector7, sector8, sector9, sector10, sector11, sector12)\n",
    "        \n",
    "        sectors_group = VGroup(sector7, sector8, sector9, sector10, sector11, sector12)\n",
    "\n",
    "        # Rotate the sectors by 180 degrees\n",
    "        sectors_group.rotate(PI).shift(1.18*UP+1.2*RIGHT)\n",
    "\n",
    "        # Add the group to the scene\n",
    "        self.play(Create(sectors_group, run_time =4),FadeOut(sector_compare))\n",
    "        self.wait(2)\n",
    "        \n",
    "        # Copy the sectors group\n",
    "        sectors_copy = sectors_group.copy()\n",
    "        \n",
    "        #answer\n",
    "        equal_to = Text(\" = \").scale(0.8).set_color(BLACK).set_stroke(width = 1)\n",
    "        equal_to.next_to(angle_pink, RIGHT, buff=0.3)\n",
    "        self.play(Indicate(sectors_group), run_length = 4, color = None)\n",
    "        self.wait()\n",
    "        self.play(sectors_copy.animate.next_to(angle_pink, RIGHT, buff=0.6).scale(0.5), FadeOut(symbol), FadeIn(equal_to) )\n",
    "        self.wait(5)\n",
    "        answer = Text(\" = 90°\").scale(0.8).set_color(BLACK).set_stroke(width = 1)\n",
    "        answer.next_to(angle_pink, RIGHT, buff=1.8)\n",
    "        self.play(FadeIn(answer))\n",
    "        self.wait(3)"
   ]
  },
  {
   "cell_type": "code",
   "execution_count": 35,
   "id": "5e863a99",
   "metadata": {},
   "outputs": [
    {
     "name": "stderr",
     "output_type": "stream",
     "text": [
      "                                                                                                                       \r"
     ]
    },
    {
     "data": {
      "text/html": [
       "<video src=\"media\\jupyter\\Grid@2023-05-02@17-02-06.mp4\" controls autoplay loop style=\"max-width: 100%;\"  >\n",
       "      Your browser does not support the <code>video</code> element.\n",
       "    </video>"
      ],
      "text/plain": [
       "<IPython.core.display.Video object>"
      ]
     },
     "metadata": {},
     "output_type": "display_data"
    }
   ],
   "source": [
    "%%manim -pqh Grid\n",
    "from manim import *\n",
    "config.background_color = WHITE\n",
    "class Grid(Scene):\n",
    "    def construct(self):\n",
    "        rows = 6\n",
    "        cols = 6\n",
    "        title = Tex(\"Here is a 6x6 grid\").set_color(BLACK)\n",
    "        grid = VGroup(*[\n",
    "            VGroup(*[Square(side_length=1, fill_opacity=0, stroke_width=5, stroke_opacity = 0.5).move_to((i-rows//2)*RIGHT + (j-cols//2)*UP) for j in range(cols)]) for i in range(rows)\n",
    "        ]).set_color(GREY).shift(0.6*RIGHT+1.2*UP)\n",
    "        square = Square(side_length=6, fill_opacity=0, stroke_width=5, stroke_opacity = 0.5).set_color(GREY).shift(0.6*RIGHT).set_z_index(3)\n",
    "        square.move_to(grid.get_center())\n",
    "\n",
    "        # Add lines\n",
    "        line1 = Line(grid[0][5].get_corner(UR), grid[0][0].get_corner(UL), color=BLACK, stroke_width=5).set_z_index(2)\n",
    "        line2 = Line(grid[0][5].get_corner(UR), grid[1][0].get_corner(DL), color=BLACK, stroke_width=5).set_z_index(2)\n",
    "        line3 = Line(grid[1][4].get_corner(UR), grid[0][0].get_corner(UL), color=BLACK, stroke_width=5).set_z_index(2)\n",
    "        line4 = Line(grid[1][4].get_corner(UR), grid[1][0].get_corner(DL), color=BLACK, stroke_width=5).set_z_index(2)\n",
    "        line5 = Line(grid[2][3].get_corner(UR), grid[0][0].get_corner(UL), color=BLACK, stroke_width=5).set_z_index(2)\n",
    "        line6 = Line(grid[2][3].get_corner(UR), grid[1][0].get_corner(DL), color=BLACK, stroke_width=5).set_z_index(2)\n",
    "        line7 = Line(grid[3][2].get_corner(UR), grid[0][0].get_corner(UL), color=BLACK, stroke_width=5).set_z_index(2)\n",
    "        line8 = Line(grid[3][2].get_corner(UR), grid[1][0].get_corner(DL), color=BLACK, stroke_width=5).set_z_index(2)\n",
    "        line9 = Line(grid[4][1].get_corner(UR), grid[0][0].get_corner(UL), color=BLACK, stroke_width=5).set_z_index(2)\n",
    "        line10 = Line(grid[4][1].get_corner(UR), grid[1][0].get_corner(DL), color=BLACK, stroke_width=5).set_z_index(2)\n",
    "        line11 = Line(grid[5][0].get_corner(UR), grid[0][0].get_corner(UL), color=BLACK, stroke_width=5).set_z_index(2)\n",
    "        line12 = Line(grid[5][0].get_corner(UR), grid[1][0].get_corner(DL), color=BLACK, stroke_width=5).set_z_index(2)\n",
    "        \n",
    "        \n",
    "        #Add sectors\n",
    "        sector1 = Sector(arc_center=line2.get_start(), outer_radius=1.2, start_angle=line1.get_angle(), angle=PI/15.5, fill_opacity=1, fill_color=RED)\n",
    "        sector2 = Sector(arc_center=line4.get_start(), outer_radius=1.2, start_angle=line3.get_angle(), angle=PI/11.5, fill_opacity=1, fill_color=YELLOW)\n",
    "        sector3 = Sector(arc_center=line6.get_start(), outer_radius=1.2, start_angle=line5.get_angle(), angle=PI/9.5, fill_opacity=1, fill_color=GREEN)\n",
    "        sector4 = Sector(arc_center=line8.get_start(), outer_radius=1.2, start_angle=line7.get_angle(), angle=PI/9.5, fill_opacity=1, fill_color=BLUE)\n",
    "        sector5 = Sector(arc_center=line10.get_start(), outer_radius=1.2, start_angle=line9.get_angle(), angle=PI/11.5, fill_opacity=1, fill_color=PURPLE)\n",
    "        sector6 = Sector(arc_center=line12.get_start(), outer_radius=1.2, start_angle=line11.get_angle(), angle=PI/15.5, fill_opacity=1, fill_color=PINK)\n",
    "        \n",
    "        #Add dots\n",
    "        dot1 = Circle(radius=0.08, fill_color=WHITE, fill_opacity=1, stroke_width=4, stroke_color=BLACK).move_to(line1.get_start()).set_z_index(4)\n",
    "        dot2 = Circle(radius=0.08, fill_color=WHITE, fill_opacity=1, stroke_width=4, stroke_color=BLACK).move_to(line1.get_end()).set_z_index(4)\n",
    "        dot3 = Circle(radius=0.08, fill_color=WHITE, fill_opacity=1, stroke_width=4, stroke_color=BLACK).move_to(line3.get_start()).set_z_index(4)\n",
    "        dot4 = Circle(radius=0.08, fill_color=WHITE, fill_opacity=1, stroke_width=4, stroke_color=BLACK).move_to(line4.get_end()).set_z_index(4)\n",
    "        dot5 = Circle(radius=0.08, fill_color=WHITE, fill_opacity=1, stroke_width=4, stroke_color=BLACK).move_to(line5.get_start()).set_z_index(4)\n",
    "        dot6 = Circle(radius=0.08, fill_color=WHITE, fill_opacity=1, stroke_width=4, stroke_color=BLACK).move_to(line7.get_start()).set_z_index(4)\n",
    "        dot7 = Circle(radius=0.08, fill_color=WHITE, fill_opacity=1, stroke_width=4, stroke_color=BLACK).move_to(line9.get_start()).set_z_index(4)\n",
    "        dot8 = Circle(radius=0.08, fill_color=WHITE, fill_opacity=1, stroke_width=4, stroke_color=BLACK).move_to(line11.get_start()).set_z_index(4)\n",
    "        \n",
    "        # Create angle symbols\n",
    "        angle_red = Tex(\"$\\\\angle$\", color=RED).scale(1).set_stroke(width = 3)\n",
    "        angle_yellow = Tex(\"$\\\\angle$\", color=YELLOW).scale(1).set_stroke(width = 3)\n",
    "        angle_green = Tex(\"$\\\\angle$\", color=GREEN).scale(1).set_stroke(width = 3)\n",
    "        angle_blue = Tex(\"$\\\\angle$\", color=BLUE).scale(1).set_stroke(width = 3)\n",
    "        angle_purple = Tex(\"$\\\\angle$\", color=PURPLE).scale(1).set_stroke(width = 3)\n",
    "        angle_pink = Tex(\"$\\\\angle$\", color=PINK).scale(1).set_stroke(width = 3)\n",
    "\n",
    "        # Position angle symbols\n",
    "        angle_red.shift(3.2*DOWN+3.75*LEFT)\n",
    "        angle_yellow.next_to(angle_red, RIGHT, buff=1)\n",
    "        angle_green.next_to(angle_yellow, RIGHT, buff=1)\n",
    "        angle_blue.next_to(angle_green, RIGHT, buff=1)\n",
    "        angle_purple.next_to(angle_blue, RIGHT, buff=1)\n",
    "        angle_pink.next_to(angle_purple, RIGHT, buff=1)\n",
    "\n",
    "        # Create plus signs\n",
    "        plus1 = Tex(\"+\", color=BLACK).scale(0.8).set_stroke(width = 3)\n",
    "        plus2 = Tex(\"+\", color=BLACK).scale(0.8).set_stroke(width = 3)\n",
    "        plus3 = Tex(\"+\", color=BLACK).scale(0.8).set_stroke(width = 3)\n",
    "        plus4 = Tex(\"+\", color=BLACK).scale(0.8).set_stroke(width = 3)\n",
    "        plus5 = Tex(\"+\", color=BLACK).scale(0.8).set_stroke(width = 3)\n",
    "\n",
    "        # Position plus signs\n",
    "        plus1.next_to(angle_red, RIGHT, buff=0.3)\n",
    "        plus2.next_to(angle_yellow, RIGHT, buff=0.3)\n",
    "        plus3.next_to(angle_green, RIGHT, buff=0.3)\n",
    "        plus4.next_to(angle_blue, RIGHT, buff=0.3)\n",
    "        plus5.next_to(angle_purple, RIGHT, buff=0.3)\n",
    "        \n",
    "        #Add =?°\n",
    "        symbol = Text(\" = ? °\").scale(0.8).set_color(BLACK).set_stroke(width = 1)\n",
    "        symbol.next_to(angle_pink, RIGHT, buff=0.3)\n",
    "\n",
    "        # Add objects to the scene\n",
    "        #self.play(FadeIn(title))\n",
    "        #self.wait(2)\n",
    "        #self.play(FadeOut(title))\n",
    "        self.wait()\n",
    "        self.play(FadeIn(grid), FadeIn(square))\n",
    "        self.wait(2)\n",
    "        #self.add(line1, line2, line3, line4, line5, line6, line7, line8, line9, line10, line11, line12, dot1, dot2, dot3, dot4, dot5, dot6, dot7, dot8)\n",
    "        self.play(FadeIn(dot2, dot4))\n",
    "        self.wait(2)\n",
    "        self.play(FadeIn(dot1, dot3, dot5, dot6, dot7, dot8))\n",
    "        self.wait(3)\n",
    "        self.play(Create(line1), Create(line3), Create(line5), Create(line7), Create(line9), Create(line11), run_time = 3)\n",
    "        self.play(Create(line2), Create(line4), Create(line6), Create(line8), Create(line10), Create(line12), run_time = 3)\n",
    "        #self.play(Create(line3))\n",
    "        #self.play(Create(line4))\n",
    "        #self.play(Create(line5))\n",
    "        #self.play(Create(line6))\n",
    "        #self.play(Create(line7))\n",
    "        #self.play(Create(line8))\n",
    "        #self.play(Create(line9))\n",
    "        #self.play(Create(line10))\n",
    "        #self.play(Create(line11))\n",
    "        #self.play(Create(line12))\n",
    "        self.wait(2)\n",
    "        #self.add(sector1, sector2, sector3, sector4, sector5, sector6)\n",
    "        \n",
    "        text_group = VGroup(symbol, angle_red, angle_yellow, angle_green, angle_blue, angle_purple, angle_pink, plus1, plus2, plus3, plus4, plus5)\n",
    "        self.play(FadeIn(sector1, sector2, sector3, sector4, sector5, sector6, text_group))\n",
    "        self.wait(3)\n",
    "        \n",
    "        # Add sectors for the solution\n",
    "        sector_compare = Sector(arc_center=line2.get_end(), outer_radius=1.2, start_angle=line1.get_angle(), angle=PI/15.5, fill_opacity=1, fill_color=RED).rotate(PI).shift(1.2*UP+0.22*RIGHT)\n",
    "        #Analysing first angle (red one)\n",
    "        self.play(FadeOut(line3, line5, line6, line7, line8, line9, line10, line11, line12, dot5, dot6, dot7, dot8, sector2, sector3, sector4, sector5, sector6))\n",
    "        self.wait(3)\n",
    "        self.play(Indicate(line1), Indicate(line4), color = ORANGE)\n",
    "        self.wait()\n",
    "        self.play(Indicate(line2), color = ORANGE)\n",
    "        self.wait()\n",
    "        self.play(FadeIn(sector_compare))\n",
    "        self.wait(5)\n",
    "        self.play(FadeIn(line3, line5, line6, line7, line8, line9, line10, line11, line12, dot5, dot6, dot7, dot8, sector2, sector3, sector4, sector5, sector6))\n",
    "        self.wait(4)\n",
    "        #self.play(FadeIn(sector7.set_z_index(8)))\n",
    "        sector7 = Sector(arc_center=line2.get_end(), outer_radius=1.2, start_angle=line1.get_angle(), angle=PI/15.5, fill_opacity=1, fill_color=RED)\n",
    "        sector8 = Sector(arc_center=line4.get_end(), outer_radius=1.2, start_angle=line3.get_angle(), angle=PI/11.5, fill_opacity=1, fill_color=YELLOW)\n",
    "        sector9 = Sector(arc_center=line6.get_end(), outer_radius=1.2, start_angle=line5.get_angle(), angle=PI/9.5, fill_opacity=1, fill_color=GREEN)\n",
    "        sector10 = Sector(arc_center=line8.get_end(), outer_radius=1.2, start_angle=line7.get_angle(), angle=PI/9.5, fill_opacity=1, fill_color=BLUE)\n",
    "        sector11 = Sector(arc_center=line10.get_end(), outer_radius=1.2, start_angle=line9.get_angle(), angle=PI/11.5, fill_opacity=1, fill_color=PURPLE)\n",
    "        sector12 = Sector(arc_center=line12.get_end(), outer_radius=1.2, start_angle=line11.get_angle(), angle=PI/15.5, fill_opacity=1, fill_color=PINK)\n",
    "        self.add(sector7, sector8, sector9, sector10, sector11, sector12)\n",
    "        \n",
    "        sectors_group = VGroup(sector7, sector8, sector9, sector10, sector11, sector12)\n",
    "\n",
    "        # Rotate the sectors by 180 degrees\n",
    "        sectors_group.rotate(PI).shift(1.18*UP+1.2*RIGHT)\n",
    "\n",
    "        # Add the group to the scene\n",
    "        self.play(Create(sectors_group, run_time =4),FadeOut(sector_compare))\n",
    "        self.wait(2)\n",
    "        \n",
    "        # Copy the sectors group\n",
    "        sectors_copy = sectors_group.copy()\n",
    "        \n",
    "        #answer\n",
    "        equal_to = Text(\" = \").scale(0.8).set_color(BLACK).set_stroke(width = 1)\n",
    "        equal_to.next_to(angle_pink, RIGHT, buff=0.3)\n",
    "        self.play(Indicate(sectors_group), run_length = 4, color = None)\n",
    "        self.wait()\n",
    "        self.play(sectors_copy.animate.next_to(angle_pink, RIGHT, buff=0.6).scale(0.5), FadeOut(symbol), FadeIn(equal_to) )\n",
    "        self.wait(5)\n",
    "        answer = Text(\" = 90°\").scale(0.8).set_color(BLACK).set_stroke(width = 1)\n",
    "        answer.next_to(angle_pink, RIGHT, buff=1.8)\n",
    "        self.play(FadeIn(answer))\n",
    "        self.wait(3)"
   ]
  },
  {
   "cell_type": "code",
   "execution_count": 6,
   "id": "3558d975",
   "metadata": {},
   "outputs": [
    {
     "name": "stderr",
     "output_type": "stream",
     "text": [
      "                                                                                                                       \r"
     ]
    },
    {
     "data": {
      "text/html": [
       "<video src=\"media\\jupyter\\Grid@2023-05-02@17-57-55.mp4\" controls autoplay loop style=\"max-width: 100%;\"  >\n",
       "      Your browser does not support the <code>video</code> element.\n",
       "    </video>"
      ],
      "text/plain": [
       "<IPython.core.display.Video object>"
      ]
     },
     "metadata": {},
     "output_type": "display_data"
    }
   ],
   "source": [
    "%%manim -pql Grid\n",
    "from manim import *\n",
    "config.background_color = WHITE\n",
    "class Grid(Scene):\n",
    "    def construct(self):\n",
    "        # Add grids\n",
    "        rows = 6\n",
    "        cols = 6\n",
    "        grid = VGroup(*[\n",
    "            VGroup(*[Square(side_length=1, fill_opacity=0, stroke_width=5, stroke_opacity = 1).move_to((i-rows//2)*RIGHT + (j-cols//2)*UP) for j in range(cols)]) for i in range(rows)\n",
    "        ]).set_color(GRAY_B).shift(0.6*RIGHT+1.2*UP)\n",
    "\n",
    "        # Add lines\n",
    "        line_positions = [\n",
    "            (0, 5, 0, 1), (1, 4, 0, 1), (2, 3, 0, 1), (3, 2, 0, 1), (4, 1, 0, 1), (5, 0, 0, 1),\n",
    "            (0, 5, 1, 0), (1, 4, 1, 0), (2, 3, 1, 0), (3, 2, 1, 0), (4, 1, 1, 0), (5, 0, 1, 0),\n",
    "        ]\n",
    "        lines = VGroup(*[\n",
    "            Line(grid[i][j].get_corner(UR), grid[k][l].get_corner(DL), color=BLACK, stroke_width=5) for i, j, k, l in line_positions\n",
    "        ]).set_z_index(2)\n",
    "\n",
    "        # Add dots\n",
    "        dots = VGroup(*[\n",
    "        Dot(lines[i].get_start(), color=WHITE, fill_opacity=1, stroke_width=4, stroke_color = BLACK) for i in range(len(lines))\n",
    "            ]).set_z_index(4)\n",
    "        dots += VGroup(*[\n",
    "            Dot(lines[i].get_end(), color=WHITE, fill_opacity=1, stroke_width=4, stroke_color = BLACK) for i in range(len(lines))\n",
    "        ]).set_z_index(6)\n",
    "\n",
    "        # Create the sectors\n",
    "        sector_data = []\n",
    "        colors = [RED, YELLOW, GREEN, BLUE, PURPLE, PINK]\n",
    "        angles = [PI/15, PI/12, PI/10, PI/10, PI/12, PI/15]\n",
    "\n",
    "        for i in range(6):\n",
    "            sector_data.append((lines[i], lines[i], colors[i], angles[i]))\n",
    "\n",
    "        sectors = []\n",
    "        for line1, line2, color, angle in sector_data:\n",
    "            sector = Sector(\n",
    "                arc_center=line2.get_start(),\n",
    "                outer_radius=1.2,\n",
    "                start_angle=line1.get_angle(),\n",
    "                angle=angle,\n",
    "                fill_opacity=1,\n",
    "                fill_color=color,\n",
    "            )\n",
    "            sectors.append(sector)\n",
    "        sectors = VGroup(*sectors)\n",
    "        #self.add(grid)\n",
    "        self.play(FadeIn(grid), run_length=4)\n",
    "        self.wait()\n",
    "        #self.add(dots)\n",
    "        self.play(FadeIn(dots))\n",
    "        self.wait()\n",
    "        #self.add(lines)\n",
    "        self.play(Create(lines, run_time = 4))\n",
    "        self.wait()\n",
    "        #self.add(sectors)\n",
    "        self.play(FadeIn(sectors))\n",
    "        \n",
    "        # Make arrays\n",
    "        colors = [RED, YELLOW, GREEN, BLUE, PURPLE, PINK]\n",
    "        angles = []\n",
    "        plus_signs = []\n",
    "        \n",
    "        # Using loop, add angle symbols and plus signs as required\n",
    "        for i in range(len(colors)):\n",
    "            angle = Tex(\"$\\\\angle$\", color=colors[i]).scale(1).set_stroke(width=3)\n",
    "            if i == 0:\n",
    "                angle.shift(3.2*DOWN+3.75*LEFT)\n",
    "            else:\n",
    "                angle.next_to(angles[-1], RIGHT, buff=1)\n",
    "            angles.append(angle)\n",
    "\n",
    "            if i < len(colors)-1:\n",
    "                plus_sign = Tex(\"+\", color=BLACK).scale(0.8).set_stroke(width=3)\n",
    "                plus_sign.next_to(angle, RIGHT, buff=0.3)\n",
    "                plus_signs.append(plus_sign)\n",
    "                \n",
    "        # Add = ? °\n",
    "        symbol = Text(\" = ?°\").scale(0.8).set_color(BLACK).set_stroke(width=1)\n",
    "        symbol.next_to(angles[-1], RIGHT, buff=0.3)\n",
    "        \n",
    "        # Add objects to the scene\n",
    "        self.wait()\n",
    "        self.add(symbol, *angles, *plus_signs)\n",
    "        self.wait()\n",
    "        \n",
    "        # Create the sectors for the solution\n",
    "        sector_data1 = []\n",
    "        colors1 = [RED, YELLOW, GREEN, BLUE, PURPLE, PINK]\n",
    "        angles1 = [PI/15, PI/12, PI/10, PI/10, PI/12, PI/15]\n",
    "\n",
    "        for i in range(6):\n",
    "            sector_data1.append((lines[i], lines[i], colors1[i], angles1[i]))\n",
    "\n",
    "        sectors1 = []\n",
    "        for line1, line2, color, angle in sector_data:\n",
    "            sector1 = Sector(\n",
    "                arc_center=line2.get_end(),\n",
    "                outer_radius=1.2,\n",
    "                start_angle=line1.get_angle(),\n",
    "                angle=angle,\n",
    "                fill_opacity=1,\n",
    "                fill_color=color,\n",
    "            )\n",
    "            sectors1.append(sector1)\n",
    "        sectors1 = VGroup(*sectors1)\n",
    "        sectors1.rotate(PI-0.005*PI).shift(2.18*RIGHT+0.17*UP)\n",
    "        #self.add(sectors1)\n",
    "        self.play(Create(sectors1))\n",
    "        self.wait(4)"
   ]
  },
  {
   "cell_type": "code",
   "execution_count": 26,
   "id": "e00fd172",
   "metadata": {},
   "outputs": [
    {
     "name": "stderr",
     "output_type": "stream",
     "text": [
      "                                                                                                                       \r"
     ]
    },
    {
     "data": {
      "text/html": [
       "<video src=\"media\\jupyter\\check_gen@2023-05-02@16-20-02.mp4\" controls autoplay loop style=\"max-width: 100%;\"  >\n",
       "      Your browser does not support the <code>video</code> element.\n",
       "    </video>"
      ],
      "text/plain": [
       "<IPython.core.display.Video object>"
      ]
     },
     "metadata": {},
     "output_type": "display_data"
    }
   ],
   "source": [
    "%%manim -pql check_gen\n",
    "class check_gen(Scene):\n",
    "    def construct(self):\n",
    "        c=Circle()\n",
    "        s=Square()\n",
    "        self.add(c)\n",
    "        A = AnimationGroup(\n",
    "            AnimationGroup(s.animate.shift(4*RIGHT),run_time=4),\n",
    "            AnimationGroup(AnimationGroup(Animation(Mobject()),run_time=2),AnimationGroup(c.animate.shift(4*RIGHT),run_time=2),lag_ratio=1)\n",
    "        )\n",
    "        t = ValueTracker(0)\n",
    "        #self.add(t)\n",
    "        def my_updater(mobj,dt,par):\n",
    "            return mobj.become(c.copy().scale(1+dt/par).shift(par*dt*RIGHT))\n",
    "        c.add_updater(lambda x,dt: my_updater(x,dt,3))\n",
    "        #self.wait()\n",
    "        #self.play(t.animate.set_value(0.5),run_time=1)\n",
    "        #c.stop_updating()\n",
    "        self.wait()\n",
    "        c.suspend_updating()\n",
    "        self.wait()\n",
    "        c.resume_updating()\n",
    "        self.wait()\n",
    "        c.suspend_updating()\n",
    "        self.wait()"
   ]
  },
  {
   "cell_type": "code",
   "execution_count": null,
   "id": "7a752f7c",
   "metadata": {},
   "outputs": [],
   "source": []
  }
 ],
 "metadata": {
  "kernelspec": {
   "display_name": "Python 3 (ipykernel)",
   "language": "python",
   "name": "python3"
  },
  "language_info": {
   "codemirror_mode": {
    "name": "ipython",
    "version": 3
   },
   "file_extension": ".py",
   "mimetype": "text/x-python",
   "name": "python",
   "nbconvert_exporter": "python",
   "pygments_lexer": "ipython3",
   "version": "3.10.9"
  }
 },
 "nbformat": 4,
 "nbformat_minor": 5
}
