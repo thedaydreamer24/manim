{
 "cells": [
  {
   "cell_type": "code",
   "execution_count": 11,
   "id": "3ed9390f",
   "metadata": {},
   "outputs": [],
   "source": [
    "from manim import *"
   ]
  },
  {
   "cell_type": "code",
   "execution_count": 14,
   "id": "e2a869fa",
   "metadata": {},
   "outputs": [],
   "source": [
    "config.media_width = \"100%\"\n",
    "config.verbosity = \"WARNING\"\n",
    "config.background_color = BLACK"
   ]
  },
  {
   "cell_type": "code",
   "execution_count": 15,
   "id": "cd11eb3e",
   "metadata": {},
   "outputs": [
    {
     "name": "stderr",
     "output_type": "stream",
     "text": [
      "                                                                                                                       \r"
     ]
    },
    {
     "data": {
      "text/html": [
       "<video src=\"media\\jupyter\\SierpinskiTriangle@2023-06-05@16-56-00.mp4\" controls autoplay loop style=\"max-width: 100%;\"  >\n",
       "      Your browser does not support the <code>video</code> element.\n",
       "    </video>"
      ],
      "text/plain": [
       "<IPython.core.display.Video object>"
      ]
     },
     "metadata": {},
     "output_type": "display_data"
    }
   ],
   "source": [
    "%%manim -pql SierpinskiTriangle\n",
    "from manim import *\n",
    "\n",
    "class SierpinskiTriangle(Scene):\n",
    "    def construct(self):\n",
    "        # Set initial parameters\n",
    "        depth = 5  # Depth of the Sierpinski triangle\n",
    "        triangle_size = 4  # Size of the largest triangle\n",
    "\n",
    "        # Create the first triangle\n",
    "        triangle = Polygon(\n",
    "            ORIGIN, triangle_size * LEFT, triangle_size * RIGHT, fill_color=YELLOW, fill_opacity=1\n",
    "        )\n",
    "\n",
    "        # Add the triangle to the scene\n",
    "        self.play(Create(triangle))\n",
    "\n",
    "        # Recursive function to create the Sierpinski triangle\n",
    "        def create_sierpinski(triangle, depth):\n",
    "            if depth == 0:\n",
    "                return\n",
    "\n",
    "            smaller_triangles = VGroup()\n",
    "\n",
    "            # Create smaller triangles\n",
    "            for i in range(3):\n",
    "                smaller_triangle = triangle.copy()\n",
    "                smaller_triangle.scale(0.5)\n",
    "                smaller_triangle.move_to(triangle.get_vertices()[i])\n",
    "                smaller_triangles.add(smaller_triangle)\n",
    "\n",
    "            # Add the smaller triangles to the scene\n",
    "            self.play(*[Create(t) for t in smaller_triangles])\n",
    "\n",
    "            # Recursively create Sierpinski triangles for each smaller triangle\n",
    "            for smaller_triangle in smaller_triangles:\n",
    "                create_sierpinski(smaller_triangle, depth - 1)\n",
    "\n",
    "        # Create the Sierpinski triangles\n",
    "        create_sierpinski(triangle, depth)\n",
    "\n",
    "        self.wait()\n"
   ]
  },
  {
   "cell_type": "code",
   "execution_count": null,
   "id": "171fb92b",
   "metadata": {},
   "outputs": [],
   "source": []
  }
 ],
 "metadata": {
  "kernelspec": {
   "display_name": "Python 3 (ipykernel)",
   "language": "python",
   "name": "python3"
  },
  "language_info": {
   "codemirror_mode": {
    "name": "ipython",
    "version": 3
   },
   "file_extension": ".py",
   "mimetype": "text/x-python",
   "name": "python",
   "nbconvert_exporter": "python",
   "pygments_lexer": "ipython3",
   "version": "3.10.9"
  }
 },
 "nbformat": 4,
 "nbformat_minor": 5
}
