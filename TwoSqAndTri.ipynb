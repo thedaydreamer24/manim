{
 "cells": [
  {
   "cell_type": "code",
   "execution_count": 2,
   "id": "c443f06b",
   "metadata": {},
   "outputs": [
    {
     "data": {
      "text/html": [
       "<pre style=\"white-space:pre;overflow-x:auto;line-height:normal;font-family:Menlo,'DejaVu Sans Mono',consolas,'Courier New',monospace\">Manim Community <span style=\"color: #008000; text-decoration-color: #008000\">v0.17.3</span>\n",
       "\n",
       "</pre>\n"
      ],
      "text/plain": [
       "Manim Community \u001b[32mv0.\u001b[0m\u001b[32m17.3\u001b[0m\n",
       "\n"
      ]
     },
     "metadata": {},
     "output_type": "display_data"
    }
   ],
   "source": [
    "from manim import *"
   ]
  },
  {
   "cell_type": "code",
   "execution_count": 7,
   "id": "7d63bd08",
   "metadata": {},
   "outputs": [],
   "source": [
    "config.media_width = \"100%\"\n",
    "config.verbosity = \"WARNING\"\n",
    "config.frame_size = (1080,1920)\n",
    "config.frame_width = 7.5\n",
    "config.background_color=BLACK"
   ]
  },
  {
   "cell_type": "code",
   "execution_count": 11,
   "id": "c5ce91a6",
   "metadata": {},
   "outputs": [
    {
     "data": {
      "image/png": "[encoded data removed]",
      "text/plain": [
       "<IPython.core.display.Image object>"
      ]
     },
     "metadata": {},
     "output_type": "display_data"
    }
   ],
   "source": [
    "%%manim -pql circles\n",
    "\n",
    "config.media_width = \"100%\"\n",
    "config.verbosity = \"WARNING\"\n",
    "config.frame_size = (1080,1920)\n",
    "config.frame_width = 7.5\n",
    "config.background_color=BLACK\n",
    "\n",
    "def find_intersection(self, line1, line2):\n",
    "    p1, p2 = line1.get_start_and_end()\n",
    "    p3, p4 = line2.get_start_and_end()\n",
    "\n",
    "    x1, y1 = p1[0], p1[1]\n",
    "    x2, y2 = p2[0], p2[1]\n",
    "    x3, y3 = p3[0], p3[1]\n",
    "    x4, y4 = p4[0], p4[1]\n",
    "\n",
    "    det = (x1 - x2) * (y3 - y4) - (y1 - y2) * (x3 - x4)\n",
    "    if det == 0:\n",
    "        return None\n",
    "\n",
    "    t = ((x1 - x3) * (y3 - y4) - (y1 - y3) * (x3 - x4)) / det\n",
    "    intersection_x = x1 + t * (x2 - x1)\n",
    "    intersection_y = y1 + t * (y2 - y1)\n",
    "\n",
    "    return np.array([intersection_x, intersection_y, 0])\n",
    "\n",
    "\n",
    "class circles(MovingCameraScene):\n",
    "\n",
    "    \n",
    "    def construct(self):\n",
    "        \n",
    "        A = []\n",
    "        B = []\n",
    "        C = []\n",
    "        D = []\n",
    "        E = []\n",
    "        F = []\n",
    "        G = []\n",
    "        H = []\n",
    "        I = []\n",
    "        J = []\n",
    "        K = []\n",
    "        L = []\n",
    "        M = []\n",
    "        N = []\n",
    "        O = []\n",
    "        P = []\n",
    "        Q = []\n",
    "        R = []\n",
    "        S = []\n",
    "        T = []\n",
    "        U = []\n",
    "        V = []\n",
    "        W = []\n",
    "        X = []\n",
    "        Y = []\n",
    "        \n",
    "        \n",
    "        "
   ]
  },
  {
   "cell_type": "code",
   "execution_count": 3,
   "id": "d6bf20e5",
   "metadata": {},
   "outputs": [
    {
     "name": "stderr",
     "output_type": "stream",
     "text": [
      "                                                                                                                                    \r"
     ]
    },
    {
     "data": {
      "text/html": [
       "<video src=\"media\\jupyter\\AngleInSquare@2023-11-06@19-04-04.mp4\" controls autoplay loop style=\"max-width: 100%;\"  >\n",
       "      Your browser does not support the <code>video</code> element.\n",
       "    </video>"
      ],
      "text/plain": [
       "<IPython.core.display.Video object>"
      ]
     },
     "metadata": {},
     "output_type": "display_data"
    }
   ],
   "source": [
    "%%manim -pqh AngleInSquare\n",
    "\n",
    "config.media_width = \"100%\"\n",
    "config.verbosity = \"WARNING\"\n",
    "config.frame_size = (1080,1920)\n",
    "config.frame_width = 7.5\n",
    "config.background_color=BLACK\n",
    "\n",
    "def find_intersection(self, line1, line2):\n",
    "    p1, p2 = line1.get_start_and_end()\n",
    "    p3, p4 = line2.get_start_and_end()\n",
    "\n",
    "    x1, y1 = p1[0], p1[1]\n",
    "    x2, y2 = p2[0], p2[1]\n",
    "    x3, y3 = p3[0], p3[1]\n",
    "    x4, y4 = p4[0], p4[1]\n",
    "\n",
    "    det = (x1 - x2) * (y3 - y4) - (y1 - y2) * (x3 - x4)\n",
    "    if det == 0:\n",
    "        return None\n",
    "\n",
    "    t = ((x1 - x3) * (y3 - y4) - (y1 - y3) * (x3 - x4)) / det\n",
    "    intersection_x = x1 + t * (x2 - x1)\n",
    "    intersection_y = y1 + t * (y2 - y1)\n",
    "\n",
    "    return np.array([intersection_x, intersection_y, 0])\n",
    "\n",
    "\n",
    "class AngleInSquare(MovingCameraScene):\n",
    "    \n",
    "    \n",
    "    def construct(self):\n",
    "        \n",
    "        A = [0, 0, 0]\n",
    "        B = [4, 0, 0]\n",
    "        C = [4, 4, 0]\n",
    "        D = [0, 4, 0]\n",
    "        E = [4, 2, 0]\n",
    "        F = [2, 4, 0]\n",
    "        G = [1.6, 3.2, 0]\n",
    "        \n",
    "        N = [3.2, 6.4, 0]\n",
    "        O = [1.6, 3.2, 0]\n",
    "        P = [4.8, 1.6, 0]\n",
    "        Q = [6.4, 4.8, 0]\n",
    "        \n",
    "        square = Polygon(A, B, C, D, color = WHITE, fill_opacity = 0.4, fill_color = \"#0A47C2\", stroke_width=3)\n",
    "        X = self.camera.frame.move_to(square).scale(3)\n",
    "        self.add(X)\n",
    "        self.play(DrawBorderThenFill(square))\n",
    "        self.wait(2)\n",
    "        \n",
    "        DF = Line(D,F)\n",
    "        FC = Line(F,C)\n",
    "        CE = Line(C,E)\n",
    "        EB = Line(E,B)\n",
    "        \n",
    "        equality_symbol_p1 = Arrow(max_tip_length_to_length_ratio=0, color = WHITE, stroke_width = 2.5)\n",
    "        equality_symbol_p2 = Arrow(max_tip_length_to_length_ratio=0, color = WHITE, stroke_width = 2.5).next_to(equality_symbol_p1, DOWN, buff = 0.7)\n",
    "        eq_sym = VGroup(equality_symbol_p1, equality_symbol_p2).move_to(DF.get_center()).scale(0.175).set_z_index(6).rotate(PI/2)\n",
    "        eq_sym_c1 = eq_sym.copy().move_to(FC.get_center())\n",
    "        eq_sym_c2 = eq_sym.copy().move_to(CE.get_center()).rotate(PI/2)\n",
    "        eq_sym_c3 = eq_sym.copy().move_to(EB.get_center()).rotate(PI/2)\n",
    "        \n",
    "        \n",
    "        l1 = Line(A, F, stroke_width = 3).set_z_index(4)\n",
    "        l2 = Line(D, E, stroke_width = 3).set_z_index(4)\n",
    "        l3 = Line(C, G, stroke_width = 3).set_z_index(4)\n",
    "        \n",
    "        #self.play(FadeIn(eq_sym, eq_sym_c1, eq_sym_c2, eq_sym_c3))\n",
    "        self.play(Create(l1), Create(l2), FadeIn(eq_sym, eq_sym_c1, eq_sym_c2, eq_sym_c3))\n",
    "        self.play(Create(l3))\n",
    "        self.wait(2)\n",
    "        \n",
    "        angle = MathTex(r\"\\angle\", color=\"#FFBA07\").scale(1).set_stroke(width=3)\n",
    "        eq_to = MathTex(\" = \").scale(1).set_color(WHITE).set_stroke(width = 1).next_to(angle, RIGHT, buff=0.3)\n",
    "        sym = Text(\" ? \").scale(0.8).set_color(WHITE).set_stroke(width = 1).next_to(eq_to, RIGHT, buff=0.3)\n",
    "        eqn = VGroup(angle, eq_to, sym)\n",
    "        eqn.next_to(square, 4*DOWN)\n",
    "            \n",
    "        \n",
    "        GF = Line(G, F)\n",
    "        GC = Line(G, C)\n",
    "        \n",
    "        sector = Sector(arc_center=GC.get_start(), outer_radius=0.5, \n",
    "                    start_angle=GC.get_angle(), angle=PI/4, \n",
    "                    fill_opacity=1, fill_color=\"#FFBA07\").set_z_index(2)\n",
    "        self.play(GrowFromPoint(sector, G), FadeIn(eqn), self.camera.frame.animate.shift(1.5*DOWN))\n",
    "        self.wait(5)\n",
    "        group = VGroup(l1,l2,l3,square, eq_sym, eq_sym_c1, eq_sym_c2, eq_sym_c3)\n",
    "        group_c1 = group.copy()\n",
    "        group_c1.set_fill(color = \"#005E2C\")\n",
    "        self.play(FadeOut(sector, eqn))\n",
    "        self.play(Rotate(group_c1, about_point = C, angle = -PI/2),\n",
    "                  self.camera.frame.animate.move_to(C).scale(2).shift(3*DOWN), run_time=2)\n",
    "        self.wait(2)\n",
    "        \n",
    "        group_c2 = group_c1.copy()\n",
    "        self.play(Rotate(group_c2, about_point = C, angle = -PI/2), run_time=1.5)\n",
    "        self.wait(2)\n",
    "        \n",
    "        group_c3 = group_c2.copy()\n",
    "        self.play(Rotate(group_c3, about_point = C, angle = -PI/2), run_time=1.5)\n",
    "        self.wait(2)\n",
    "        \n",
    "        final_square = Polygon(N, O, P, Q, color = WHITE, fill_opacity = 0.4, fill_color = \"#850F85\", stroke_width=3).set_z_index(1)\n",
    "        self.play(FadeIn(final_square))\n",
    "        self.play(Indicate(final_square, color = None), run_time = 2)\n",
    "        self.wait(2)\n",
    "        \n",
    "        diagonal = Line(G, Q, stroke_width = 5, color = \"#C22300\").set_z_index(6)\n",
    "        self.play(FadeIn(diagonal))\n",
    "        self.play(Indicate(diagonal, color = None), run_time = 2)\n",
    "        self.wait(3)\n",
    "        #angle.shift(0.3*LEFT)\n",
    "        #eq_to.shift(0.3*LEFT)\n",
    "        \n",
    "        forty_five = MathTex(\" 45^\\circ \").scale(1).set_color(WHITE).set_stroke(width = 1).next_to(eq_to, RIGHT, buff=0.3)\n",
    "        final_eq = VGroup(angle, eq_to, forty_five)\n",
    "        final_eq.next_to(square, 4*DOWN)\n",
    "        self.play(self.camera.frame.animate.move_to(square).scale(0.5).shift(1.5*DOWN), \n",
    "                  FadeIn(sector, angle, eq_to),\n",
    "                  FadeOut(group_c1, group_c2, group_c3, final_square, diagonal))\n",
    "        self.wait()\n",
    "        \n",
    "        self.play(FadeIn(forty_five))\n",
    "        self.wait(3)\n",
    "        \n",
    "        \n",
    "        square.set_fill(color = \"#850F85\")\n",
    "        angle.set_color(\"#3DD771\")\n",
    "        fsector = Sector(arc_center=GF.get_start(), outer_radius=0.5, \n",
    "                    start_angle=GF.get_angle(), angle=PI/2, \n",
    "                    fill_opacity=1, fill_color=\"#3DD771\").set_z_index(2).rotate(angle = PI, about_point = G)\n",
    "        \n",
    "        self.play(FadeOut(sector, final_eq), self.camera.frame.animate.shift(1.5*UP))\n",
    "        self.wait(3)\n",
    "        eqn.arrange(buff = 0.3)\n",
    "        eqn.next_to(square, 4*DOWN)\n",
    "        self.play(GrowFromPoint(fsector, G), FadeIn(eqn), self.camera.frame.animate.shift(1.5*DOWN))\n",
    "        \n",
    "        self.wait(3)"
   ]
  },
  {
   "cell_type": "code",
   "execution_count": 4,
   "id": "1773b124",
   "metadata": {},
   "outputs": [
    {
     "name": "stderr",
     "output_type": "stream",
     "text": [
      "                                                                                                                                    \r"
     ]
    },
    {
     "data": {
      "text/html": [
       "<video src=\"media\\jupyter\\AngleInSquare@2023-11-06@19-04-17.mp4\" controls autoplay loop style=\"max-width: 100%;\"  >\n",
       "      Your browser does not support the <code>video</code> element.\n",
       "    </video>"
      ],
      "text/plain": [
       "<IPython.core.display.Video object>"
      ]
     },
     "metadata": {},
     "output_type": "display_data"
    }
   ],
   "source": [
    "%%manim -pqh AngleInSquare\n",
    "from manim import *\n",
    "\n",
    "config.media_width = \"100%\"\n",
    "config.verbosity = \"WARNING\"\n",
    "config.frame_size = (1080,1920)\n",
    "config.frame_width = 7.5\n",
    "config.background_color=BLACK\n",
    "\n",
    "def find_intersection(self, line1, line2):\n",
    "    p1, p2 = line1.get_start_and_end()\n",
    "    p3, p4 = line2.get_start_and_end()\n",
    "\n",
    "    x1, y1 = p1[0], p1[1]\n",
    "    x2, y2 = p2[0], p2[1]\n",
    "    x3, y3 = p3[0], p3[1]\n",
    "    x4, y4 = p4[0], p4[1]\n",
    "\n",
    "    det = (x1 - x2) * (y3 - y4) - (y1 - y2) * (x3 - x4)\n",
    "    if det == 0:\n",
    "        return None\n",
    "\n",
    "    t = ((x1 - x3) * (y3 - y4) - (y1 - y3) * (x3 - x4)) / det\n",
    "    intersection_x = x1 + t * (x2 - x1)\n",
    "    intersection_y = y1 + t * (y2 - y1)\n",
    "\n",
    "    return np.array([intersection_x, intersection_y, 0])\n",
    "\n",
    "\n",
    "class AngleInSquare(MovingCameraScene):\n",
    "    \n",
    "    \n",
    "    def construct(self):\n",
    "        \n",
    "        A = [0, 0, 0]\n",
    "        B = [4, 0, 0]\n",
    "        C = [4, 4, 0]\n",
    "        D = [0, 4, 0]\n",
    "        E = [4, 2, 0]\n",
    "        F = [2, 4, 0]\n",
    "        G = [1.6, 3.2, 0]\n",
    "        \n",
    "        N = [3.2, 6.4, 0]\n",
    "        O = [1.6, 3.2, 0]\n",
    "        P = [4.8, 1.6, 0]\n",
    "        Q = [6.4, 4.8, 0]\n",
    "        \n",
    "        square = Polygon(A, B, C, D, color = WHITE, fill_opacity = 0.4, fill_color = \"#0A47C2\", stroke_width=3)\n",
    "        X = self.camera.frame.move_to(square).scale(3)\n",
    "        self.add(X)\n",
    "        self.play(DrawBorderThenFill(square))\n",
    "        self.wait(2)\n",
    "        \n",
    "        DF = Line(D,F)\n",
    "        FC = Line(F,C)\n",
    "        CE = Line(C,E)\n",
    "        EB = Line(E,B)\n",
    "        \n",
    "        equality_symbol_p1 = Arrow(max_tip_length_to_length_ratio=0, color = WHITE, stroke_width = 2.5)\n",
    "        equality_symbol_p2 = Arrow(max_tip_length_to_length_ratio=0, color = WHITE, stroke_width = 2.5).next_to(equality_symbol_p1, DOWN, buff = 0.7)\n",
    "        eq_sym = VGroup(equality_symbol_p1, equality_symbol_p2).move_to(DF.get_center()).scale(0.175).set_z_index(6).rotate(PI/2)\n",
    "        eq_sym_c1 = eq_sym.copy().move_to(FC.get_center())\n",
    "        eq_sym_c2 = eq_sym.copy().move_to(CE.get_center()).rotate(PI/2)\n",
    "        eq_sym_c3 = eq_sym.copy().move_to(EB.get_center()).rotate(PI/2)\n",
    "        \n",
    "        \n",
    "        l1 = Line(A, F, stroke_width = 3).set_z_index(4)\n",
    "        l2 = Line(D, E, stroke_width = 3).set_z_index(4)\n",
    "        l3 = Line(C, G, stroke_width = 3).set_z_index(4)\n",
    "        \n",
    "        #self.play(FadeIn(eq_sym, eq_sym_c1, eq_sym_c2, eq_sym_c3))\n",
    "        self.play(Create(l1), Create(l2), FadeIn(eq_sym, eq_sym_c1, eq_sym_c2, eq_sym_c3))\n",
    "        self.wait()\n",
    "        self.play(Create(l3))\n",
    "        self.wait(2)\n",
    "        \n",
    "        angle = MathTex(r\"\\angle\", color=\"#FFBA07\").scale(1).set_stroke(width=3)\n",
    "        eq_to = MathTex(\" = \").scale(1).set_color(WHITE).set_stroke(width = 1).next_to(angle, RIGHT, buff=0.3)\n",
    "        sym = Text(\" ? \").scale(0.8).set_color(WHITE).set_stroke(width = 1).next_to(eq_to, RIGHT, buff=0.3)\n",
    "        eqn = VGroup(angle, eq_to, sym)\n",
    "        eqn.next_to(square, 4*DOWN)\n",
    "            \n",
    "        \n",
    "        GF = Line(G, F)\n",
    "        GC = Line(G, C)\n",
    "        \n",
    "        sector = Sector(arc_center=GC.get_start(), outer_radius=0.5, \n",
    "                    start_angle=GC.get_angle(), angle=PI/4, \n",
    "                    fill_opacity=1, fill_color=\"#FFBA07\").set_z_index(2)\n",
    "        self.play(GrowFromPoint(sector, G), FadeIn(eqn), self.camera.frame.animate.shift(1.5*DOWN))\n",
    "        self.wait(5)\n",
    "        group = VGroup(l1,l2,l3,square, eq_sym, eq_sym_c1, eq_sym_c2, eq_sym_c3)\n",
    "        group_c1 = group.copy()\n",
    "        group_c1.set_fill(color = \"#005E2C\")\n",
    "        \n",
    "        dot = Circle(radius=0.08, fill_color=\"#C22300\", fill_opacity=1, stroke_width=2, stroke_color=WHITE).move_to(C).set_z_index(12)\n",
    "        \n",
    "        self.play(FadeOut(sector, eqn), FadeIn(dot))\n",
    "        self.play(Indicate(dot, scale_factor=2, color=None), run_time=1.5)\n",
    "        self.play(Rotate(group_c1, about_point = C, angle = -PI/2),\n",
    "                  self.camera.frame.animate.move_to(C).scale(2).shift(3*DOWN),\n",
    "                  FadeOut(dot), run_time=2)\n",
    "        self.wait(2)\n",
    "        \n",
    "        group_c2 = group_c1.copy()\n",
    "        self.play(Rotate(group_c2, about_point = C, angle = -PI/2), run_time=1.5)\n",
    "        self.wait(2)\n",
    "        \n",
    "        group_c3 = group_c2.copy()\n",
    "        self.play(Rotate(group_c3, about_point = C, angle = -PI/2), run_time=1.5)\n",
    "        self.wait(2)\n",
    "        \n",
    "        final_square = Polygon(N, O, P, Q, color = WHITE, fill_opacity = 0.4, fill_color = \"#850F85\", stroke_width=3).set_z_index(1)\n",
    "        self.play(FadeIn(final_square))\n",
    "        self.play(Indicate(final_square, color = None), run_time = 1.5)\n",
    "        self.wait(2)\n",
    "        \n",
    "        diagonal = Line(G, Q, stroke_width = 5, color = \"#C22300\").set_z_index(6)\n",
    "        self.play(FadeIn(diagonal))\n",
    "        self.play(Indicate(diagonal, color = None), run_time = 2)\n",
    "        self.wait(3)\n",
    "        #angle.shift(0.3*LEFT)\n",
    "        #eq_to.shift(0.3*LEFT)\n",
    "        GE = Line(G,E)\n",
    "        sector_ninety = Sector(arc_center=GE.get_start(), outer_radius=0.8, \n",
    "                    start_angle=GE.get_angle(), angle=PI/2, \n",
    "                    fill_opacity=1, fill_color=\"#3DD771\").set_z_index(2)\n",
    "        self.play(GrowFromPoint(sector_ninety, G))\n",
    "        self.wait(2)\n",
    "        \n",
    "        forty_five = MathTex(\" 45^\\circ \").scale(1).set_color(WHITE).set_stroke(width = 1).next_to(eq_to, RIGHT, buff=0.3)\n",
    "        final_eq = VGroup(angle, eq_to, forty_five)\n",
    "        final_eq.next_to(square, 4*DOWN)\n",
    "        self.play(self.camera.frame.animate.move_to(square).scale(0.5).shift(1.5*DOWN), \n",
    "                  FadeIn(sector, angle, eq_to),\n",
    "                  FadeOut(group_c1, group_c2, group_c3, final_square, diagonal, sector_ninety))\n",
    "        self.wait()\n",
    "        \n",
    "        self.play(FadeIn(forty_five))\n",
    "        self.wait(2)\n",
    "        \n",
    "        square.set_fill(color = \"#850F85\")\n",
    "        angle.set_color(\"#3DD771\")\n",
    "        fsector = Sector(arc_center=GF.get_start(), outer_radius=0.5, \n",
    "                    start_angle=GF.get_angle(), angle=PI/2, \n",
    "                    fill_opacity=1, fill_color=\"#3DD771\").set_z_index(2).rotate(angle = PI, about_point = G)\n",
    "        \n",
    "        self.play(FadeOut(sector, final_eq), self.camera.frame.animate.shift(1.5*UP))\n",
    "        self.wait(3)\n",
    "        eqn.arrange(buff = 0.3)\n",
    "        eqn.next_to(square, 4*DOWN)\n",
    "        self.play(GrowFromPoint(fsector, G), FadeIn(eqn), self.camera.frame.animate.shift(1.5*DOWN))\n",
    "        \n",
    "        self.wait(3)"
   ]
  },
  {
   "cell_type": "code",
   "execution_count": null,
   "id": "92110081",
   "metadata": {},
   "outputs": [],
   "source": [
    "/* eslint-disable no-bitwise */\n",
    "/* eslint-disable @typescript-eslint/no-empty-function */\n",
    "/* eslint-disable no-unused-vars */\n",
    "/* eslint-disable @typescript-eslint/no-unused-vars */\n",
    "\n",
    "// Calculate the offset required to center the grid on the screen\n",
    "import { consoleSandbox } from '@sentry/utils';\n",
    "import { GameEvent } from 'cuelearn-games/enums';\n",
    "import { GameEventEmitter } from 'cuelearn-games/modules';\n",
    "import { Grid } from 'cuelearn-games/modules';\n",
    "import { GameButtons } from 'cuelearn-games/modules/GameButtons';\n",
    "import { QuestionTooltip } from 'cuelearn-games/modules/QuestionTooltip';\n",
    "import lottie, { AnimationItem, AnimationSegment, LottiePlayer } from 'lottie-web';\n",
    "import Phaser from 'phaser';\n",
    "\n",
    "class GameScene extends Phaser.Scene {\n",
    "  constructor() {\n",
    "    super({ key: 'GameScene' });\n",
    "  }\n",
    "\n",
    "  preload() {\n",
    "    this.load.image('black', 'assets/black.png');\n",
    "    this.load.image('purple', 'assets/purple.png');\n",
    "    this.load.json(\n",
    "      'lights-on-tile-comp',\n",
    "      `assets/flip-it-up-assets/lights-on-tile-comp.json`,\n",
    "    ); // give your file path\n",
    "    this.load.json(\n",
    "      'lights-on-grid-reveal',\n",
    "      `assets/flip-it-up-assets/lights-on-grid-reveal.json`,\n",
    "    ); // give your file path\n",
    "  }\n",
    "\n",
    "  create() {\n",
    "\n",
    "    \n",
    "    \n",
    "\n",
    "    const numRows = 2;\n",
    "    const numCols = 3;\n",
    "    const tileWidth = 84;\n",
    "    const tileHeight = 84;\n",
    "    const bufferX = 6;\n",
    "    const bufferY = 6;\n",
    "\n",
    "    const backgroundAnim = addlottie.call(this, this.cameras.main.width / 2, this.cameras.main.height / 2);\n",
    "    backgroundAnim.anim.setSpeed(1); // You can set the animation speed as needed\n",
    "    backgroundAnim.anim.play(); // Start playing the background animation\n",
    "\n",
    "\n",
    "    const tileCoordinates = [\n",
    "      { left: 43, top: 190 },\n",
    "      { left: 145, top: 190 },\n",
    "      { left: 247, top: 190 },\n",
    "      { left: 43, top: 292 },\n",
    "      { left: 145, top: 292 },\n",
    "      { left: 247, top: 292 },\n",
    "    ];\n",
    "\n",
    "    const grid = this.add.group();\n",
    "\n",
    "    tileCoordinates.forEach((coord, index) => {\n",
    "      const row = Math.floor(index / numCols);\n",
    "      const col = index % numCols;\n",
    "      const x = coord.left + tileWidth / 2;\n",
    "      const y = coord.top + tileHeight / 2;\n",
    "\n",
    "      const tile = this.add.image(x, y, 'black');\n",
    "      tile.setInteractive();\n",
    "\n",
    "      // Adjust the scale of each tile\n",
    "      const scale = 0.5; // You can adjust this value as needed\n",
    "      tile.setScale(scale);\n",
    "\n",
    "      tile.on('pointerdown', () => {\n",
    "        toggleTileAndNeighbors(row, col);\n",
    "      });\n",
    "\n",
    "      grid.add(tile);\n",
    "\n",
    "      if ((row === 1 && col === 0) || (row === 1 && col === 2)) {\n",
    "        tile.setTexture('purple');\n",
    "      }\n",
    "    });\n",
    "\n",
    "    function addlottie(_x, _y) {\n",
    "      const lottieRef = this.add\n",
    "        .dom(_x - this.cameras.main.width / 2, _y - this.cameras.main.height / 2, 'div')\n",
    "        .setScale(this.cameras.main.height / this.cameras.main.width);\n",
    "    \n",
    "      const lottieDiv = lottieRef.node;\n",
    "    \n",
    "      lottieDiv.style.height = '100%';\n",
    "      lottieDiv.style.width = '100%';\n",
    "    \n",
    "      const LottieAnim = lottie.loadAnimation({\n",
    "        container: lottieDiv,\n",
    "        renderer: 'svg',\n",
    "        loop: false,\n",
    "        autoplay: false,\n",
    "        animationData: this.cache.json.get('lights-on-grid-reveal'), // Use the 'lights-on-grid-reveal' JSON data\n",
    "      });\n",
    "    \n",
    "      const dataset = { anim: LottieAnim, dom: lottieRef };\n",
    "    \n",
    "      return dataset;\n",
    "    }\n",
    "    \n",
    "\n",
    "    function toggleTileAndNeighbors(row, col) {\n",
    "      toggleTile(row, col);\n",
    "      toggleTile(row - 1, col);\n",
    "      toggleTile(row + 1, col);\n",
    "      toggleTile(row, col - 1);\n",
    "      toggleTile(row, col + 1);\n",
    "    }\n",
    "\n",
    "    function toggleTile(row, col) {\n",
    "      if (row >= 0 && row < numRows && col >= 0 && col < numCols) {\n",
    "        const tile = grid.getChildren()[row * numCols + col];\n",
    "        if (tile.texture.key === 'black') {\n",
    "          tile.setTexture('purple');\n",
    "        } else {\n",
    "          tile.setTexture('black');\n",
    "        }\n",
    "      }\n",
    "    }\n",
    "  }\n",
    "}\n",
    "\n",
    "\n",
    "export default GameScene;"
   ]
  },
  {
   "cell_type": "code",
   "execution_count": null,
   "id": "12186382",
   "metadata": {},
   "outputs": [],
   "source": [
    "/* eslint-disable no-bitwise */\n",
    "/* eslint-disable @typescript-eslint/no-empty-function */\n",
    "/* eslint-disable no-unused-vars */\n",
    "/* eslint-disable @typescript-eslint/no-unused-vars */\n",
    "\n",
    "// Calculate the offset required to center the grid on the screen\n",
    "import { consoleSandbox } from '@sentry/utils';\n",
    "import { GameEvent } from 'cuelearn-games/enums';\n",
    "import { GameEventEmitter } from 'cuelearn-games/modules';\n",
    "import { Grid } from 'cuelearn-games/modules';\n",
    "import { GameButtons } from 'cuelearn-games/modules/GameButtons';\n",
    "import { QuestionTooltip } from 'cuelearn-games/modules/QuestionTooltip';\n",
    "import lottie from 'lottie-web';\n",
    "import Phaser from 'phaser';\n",
    "\n",
    "class GameScene extends Phaser.Scene {\n",
    "  constructor() {\n",
    "    super({ key: 'GameScene' });\n",
    "  }\n",
    "\n",
    "  preload() {\n",
    "    this.load.image('black', 'assets/black.png');\n",
    "    this.load.image('purple', 'assets/purple.png');\n",
    "  }\n",
    "\n",
    "  create() {\n",
    "    const numRows = 2;\n",
    "    const numCols = 3;\n",
    "    const tileWidth = 84;\n",
    "    const tileHeight = 84;\n",
    "    const bufferX = 6;\n",
    "    const bufferY = 6;\n",
    "\n",
    "    const tileCoordinates = [\n",
    "      { left: 43, top: 190 },\n",
    "      { left: 145, top: 190 },\n",
    "      { left: 247, top: 190 },\n",
    "      { left: 43, top: 292 },\n",
    "      { left: 145, top: 292 },\n",
    "      { left: 247, top: 292 },\n",
    "    ];\n",
    "\n",
    "    const grid = this.add.group();\n",
    "\n",
    "    tileCoordinates.forEach((coord, index) => {\n",
    "      const row = Math.floor(index / numCols);\n",
    "      const col = index % numCols;\n",
    "      const x = coord.left + tileWidth / 2;\n",
    "      const y = coord.top + tileHeight / 2;\n",
    "\n",
    "      const tile = this.add.image(x, y, 'black');\n",
    "      tile.setInteractive();\n",
    "\n",
    "      // Adjust the scale of each tile\n",
    "      const scale = 0.5; // You can adjust this value as needed\n",
    "      tile.setScale(scale);\n",
    "\n",
    "      tile.on('pointerdown', () => {\n",
    "        toggleTileAndNeighbors(row, col);\n",
    "      });\n",
    "\n",
    "      grid.add(tile);\n",
    "\n",
    "      if ((row === 1 && col === 0) || (row === 1 && col === 2)) {\n",
    "        tile.setTexture('purple');\n",
    "      }\n",
    "    });\n",
    "\n",
    "    function toggleTileAndNeighbors(row, col) {\n",
    "      toggleTile(row, col);\n",
    "      toggleTile(row - 1, col);\n",
    "      toggleTile(row + 1, col);\n",
    "      toggleTile(row, col - 1);\n",
    "      toggleTile(row, col + 1);\n",
    "    }\n",
    "\n",
    "    function toggleTile(row, col) {\n",
    "      if (row >= 0 && row < numRows && col >= 0 && col < numCols) {\n",
    "        const tile = grid.getChildren()[row * numCols + col];\n",
    "        if (tile.texture.key === 'black') {\n",
    "          tile.setTexture('purple');\n",
    "        } else {\n",
    "          tile.setTexture('black');\n",
    "        }\n",
    "      }\n",
    "    }\n",
    "  }\n",
    "}\n",
    "\n",
    "\n",
    "export default GameScene;"
   ]
  },
  {
   "cell_type": "code",
   "execution_count": 13,
   "id": "0c3286df",
   "metadata": {},
   "outputs": [
    {
     "name": "stderr",
     "output_type": "stream",
     "text": [
      "                                                                                                                       \r"
     ]
    },
    {
     "data": {
      "text/html": [
       "<video src=\"media\\jupyter\\FollowingGraphCamera@2023-11-06@17-36-58.mp4\" controls autoplay loop style=\"max-width: 100%;\"  >\n",
       "      Your browser does not support the <code>video</code> element.\n",
       "    </video>"
      ],
      "text/plain": [
       "<IPython.core.display.Video object>"
      ]
     },
     "metadata": {},
     "output_type": "display_data"
    }
   ],
   "source": [
    "%%manim -pql FollowingGraphCamera\n",
    "\n",
    "from manim import *\n",
    "\n",
    "class FollowingGraphCamera(MovingCameraScene):\n",
    "    def construct(self):\n",
    "        self.camera.frame.scale(2).save_state()\n",
    "\n",
    "        # create the axes and the curve\n",
    "        ax = Axes(x_range=[-1, 10], y_range=[-1, 10])\n",
    "        graph = ax.plot(lambda x: np.sin(x), color=BLUE, x_range=[0, 3 * PI])\n",
    "\n",
    "        # create dots based on the graph\n",
    "        moving_dot = Dot(ax.i2gp(graph.t_min, graph), color=ORANGE)\n",
    "        dot_1 = Dot(ax.i2gp(graph.t_min, graph))\n",
    "        dot_2 = Dot(ax.i2gp(graph.t_max, graph))\n",
    "\n",
    "        self.add(ax, graph, dot_1, dot_2, moving_dot)\n",
    "        self.play(self.camera.frame.animate.scale(0.5).move_to(moving_dot))\n",
    "\n",
    "        def update_curve(mob):\n",
    "            mob.move_to(moving_dot.get_center())\n",
    "\n",
    "        self.camera.frame.add_updater(update_curve)\n",
    "        self.play(MoveAlongPath(moving_dot, graph, rate_func=linear))\n",
    "        self.camera.frame.remove_updater(update_curve)\n",
    "\n",
    "        self.play(Restore(self.camera.frame))"
   ]
  },
  {
   "cell_type": "code",
   "execution_count": 5,
   "id": "9d585aa2",
   "metadata": {},
   "outputs": [
    {
     "name": "stderr",
     "output_type": "stream",
     "text": [
      "                                                                                                                       \r"
     ]
    },
    {
     "data": {
      "text/html": [
       "<pre style=\"white-space:pre;overflow-x:auto;line-height:normal;font-family:Menlo,'DejaVu Sans Mono',consolas,'Courier New',monospace\"><span style=\"color: #7fbfbf; text-decoration-color: #7fbfbf\">[11/06/23 20:06:56] </span><span style=\"color: #008000; text-decoration-color: #008000\">INFO    </span> Animation <span style=\"color: #008000; text-decoration-color: #008000\">0</span> : Partial movie file written in                   <a href=\"file://C:\\Users\\payal\\anaconda3\\lib\\site-packages\\manim\\scene\\scene_file_writer.py\" target=\"_blank\"><span style=\"color: #7f7f7f; text-decoration-color: #7f7f7f\">scene_file_writer.py</span></a><span style=\"color: #7f7f7f; text-decoration-color: #7f7f7f\">:</span><a href=\"file://C:\\Users\\payal\\anaconda3\\lib\\site-packages\\manim\\scene\\scene_file_writer.py#527\" target=\"_blank\"><span style=\"color: #7f7f7f; text-decoration-color: #7f7f7f\">527</span></a>\n",
       "<span style=\"color: #7fbfbf; text-decoration-color: #7fbfbf\">                    </span>         <span style=\"color: #008000; text-decoration-color: #008000\">'C:\\Users\\payal\\media\\videos\\payal\\1080p60\\partial_movie_file</span> <span style=\"color: #7f7f7f; text-decoration-color: #7f7f7f\">                        </span>\n",
       "<span style=\"color: #7fbfbf; text-decoration-color: #7fbfbf\">                    </span>         <span style=\"color: #008000; text-decoration-color: #008000\">s\\TracedPathExample\\1146354079_4102506151_2633491821.mp4'</span>     <span style=\"color: #7f7f7f; text-decoration-color: #7f7f7f\">                        </span>\n",
       "</pre>\n"
      ],
      "text/plain": [
       "\u001b[2;36m[11/06/23 20:06:56]\u001b[0m\u001b[2;36m \u001b[0m\u001b[32mINFO    \u001b[0m Animation \u001b[32m0\u001b[0m : Partial movie file written in                   \u001b]8;id=5831;file://C:\\Users\\payal\\anaconda3\\lib\\site-packages\\manim\\scene\\scene_file_writer.py\u001b\\\u001b[2mscene_file_writer.py\u001b[0m\u001b]8;;\u001b\\\u001b[2m:\u001b[0m\u001b]8;id=837892;file://C:\\Users\\payal\\anaconda3\\lib\\site-packages\\manim\\scene\\scene_file_writer.py#527\u001b\\\u001b[2m527\u001b[0m\u001b]8;;\u001b\\\n",
       "\u001b[2;36m                    \u001b[0m         \u001b[32m'C:\\Users\\payal\\media\\videos\\payal\\1080p60\\partial_movie_file\u001b[0m \u001b[2m                        \u001b[0m\n",
       "\u001b[2;36m                    \u001b[0m         \u001b[32ms\\TracedPathExample\\1146354079_4102506151_2633491821.mp4'\u001b[0m     \u001b[2m                        \u001b[0m\n"
      ]
     },
     "metadata": {},
     "output_type": "display_data"
    },
    {
     "name": "stderr",
     "output_type": "stream",
     "text": [
      "                                                                                                                       \r"
     ]
    },
    {
     "data": {
      "text/html": [
       "<pre style=\"white-space:pre;overflow-x:auto;line-height:normal;font-family:Menlo,'DejaVu Sans Mono',consolas,'Courier New',monospace\"><span style=\"color: #7fbfbf; text-decoration-color: #7fbfbf\">[11/06/23 20:07:03] </span><span style=\"color: #008000; text-decoration-color: #008000\">INFO    </span> Animation <span style=\"color: #008000; text-decoration-color: #008000\">1</span> : Partial movie file written in                   <a href=\"file://C:\\Users\\payal\\anaconda3\\lib\\site-packages\\manim\\scene\\scene_file_writer.py\" target=\"_blank\"><span style=\"color: #7f7f7f; text-decoration-color: #7f7f7f\">scene_file_writer.py</span></a><span style=\"color: #7f7f7f; text-decoration-color: #7f7f7f\">:</span><a href=\"file://C:\\Users\\payal\\anaconda3\\lib\\site-packages\\manim\\scene\\scene_file_writer.py#527\" target=\"_blank\"><span style=\"color: #7f7f7f; text-decoration-color: #7f7f7f\">527</span></a>\n",
       "<span style=\"color: #7fbfbf; text-decoration-color: #7fbfbf\">                    </span>         <span style=\"color: #008000; text-decoration-color: #008000\">'C:\\Users\\payal\\media\\videos\\payal\\1080p60\\partial_movie_file</span> <span style=\"color: #7f7f7f; text-decoration-color: #7f7f7f\">                        </span>\n",
       "<span style=\"color: #7fbfbf; text-decoration-color: #7fbfbf\">                    </span>         <span style=\"color: #008000; text-decoration-color: #008000\">s\\TracedPathExample\\1890855728_878850953_3980799306.mp4'</span>      <span style=\"color: #7f7f7f; text-decoration-color: #7f7f7f\">                        </span>\n",
       "</pre>\n"
      ],
      "text/plain": [
       "\u001b[2;36m[11/06/23 20:07:03]\u001b[0m\u001b[2;36m \u001b[0m\u001b[32mINFO    \u001b[0m Animation \u001b[32m1\u001b[0m : Partial movie file written in                   \u001b]8;id=12316;file://C:\\Users\\payal\\anaconda3\\lib\\site-packages\\manim\\scene\\scene_file_writer.py\u001b\\\u001b[2mscene_file_writer.py\u001b[0m\u001b]8;;\u001b\\\u001b[2m:\u001b[0m\u001b]8;id=683384;file://C:\\Users\\payal\\anaconda3\\lib\\site-packages\\manim\\scene\\scene_file_writer.py#527\u001b\\\u001b[2m527\u001b[0m\u001b]8;;\u001b\\\n",
       "\u001b[2;36m                    \u001b[0m         \u001b[32m'C:\\Users\\payal\\media\\videos\\payal\\1080p60\\partial_movie_file\u001b[0m \u001b[2m                        \u001b[0m\n",
       "\u001b[2;36m                    \u001b[0m         \u001b[32ms\\TracedPathExample\\1890855728_878850953_3980799306.mp4'\u001b[0m      \u001b[2m                        \u001b[0m\n"
      ]
     },
     "metadata": {},
     "output_type": "display_data"
    },
    {
     "name": "stderr",
     "output_type": "stream",
     "text": [
      "                                                                                                                       \r"
     ]
    },
    {
     "data": {
      "text/html": [
       "<pre style=\"white-space:pre;overflow-x:auto;line-height:normal;font-family:Menlo,'DejaVu Sans Mono',consolas,'Courier New',monospace\"><span style=\"color: #7fbfbf; text-decoration-color: #7fbfbf\">[11/06/23 20:07:05] </span><span style=\"color: #008000; text-decoration-color: #008000\">INFO    </span> Animation <span style=\"color: #008000; text-decoration-color: #008000\">2</span> : Partial movie file written in                   <a href=\"file://C:\\Users\\payal\\anaconda3\\lib\\site-packages\\manim\\scene\\scene_file_writer.py\" target=\"_blank\"><span style=\"color: #7f7f7f; text-decoration-color: #7f7f7f\">scene_file_writer.py</span></a><span style=\"color: #7f7f7f; text-decoration-color: #7f7f7f\">:</span><a href=\"file://C:\\Users\\payal\\anaconda3\\lib\\site-packages\\manim\\scene\\scene_file_writer.py#527\" target=\"_blank\"><span style=\"color: #7f7f7f; text-decoration-color: #7f7f7f\">527</span></a>\n",
       "<span style=\"color: #7fbfbf; text-decoration-color: #7fbfbf\">                    </span>         <span style=\"color: #008000; text-decoration-color: #008000\">'C:\\Users\\payal\\media\\videos\\payal\\1080p60\\partial_movie_file</span> <span style=\"color: #7f7f7f; text-decoration-color: #7f7f7f\">                        </span>\n",
       "<span style=\"color: #7fbfbf; text-decoration-color: #7fbfbf\">                    </span>         <span style=\"color: #008000; text-decoration-color: #008000\">s\\TracedPathExample\\2240946130_2428808442_3809986661.mp4'</span>     <span style=\"color: #7f7f7f; text-decoration-color: #7f7f7f\">                        </span>\n",
       "</pre>\n"
      ],
      "text/plain": [
       "\u001b[2;36m[11/06/23 20:07:05]\u001b[0m\u001b[2;36m \u001b[0m\u001b[32mINFO    \u001b[0m Animation \u001b[32m2\u001b[0m : Partial movie file written in                   \u001b]8;id=608574;file://C:\\Users\\payal\\anaconda3\\lib\\site-packages\\manim\\scene\\scene_file_writer.py\u001b\\\u001b[2mscene_file_writer.py\u001b[0m\u001b]8;;\u001b\\\u001b[2m:\u001b[0m\u001b]8;id=207029;file://C:\\Users\\payal\\anaconda3\\lib\\site-packages\\manim\\scene\\scene_file_writer.py#527\u001b\\\u001b[2m527\u001b[0m\u001b]8;;\u001b\\\n",
       "\u001b[2;36m                    \u001b[0m         \u001b[32m'C:\\Users\\payal\\media\\videos\\payal\\1080p60\\partial_movie_file\u001b[0m \u001b[2m                        \u001b[0m\n",
       "\u001b[2;36m                    \u001b[0m         \u001b[32ms\\TracedPathExample\\2240946130_2428808442_3809986661.mp4'\u001b[0m     \u001b[2m                        \u001b[0m\n"
      ]
     },
     "metadata": {},
     "output_type": "display_data"
    },
    {
     "data": {
      "text/html": [
       "<pre style=\"white-space:pre;overflow-x:auto;line-height:normal;font-family:Menlo,'DejaVu Sans Mono',consolas,'Courier New',monospace\"><span style=\"color: #7fbfbf; text-decoration-color: #7fbfbf\">                    </span><span style=\"color: #008000; text-decoration-color: #008000\">INFO    </span> Combining to Movie file.                                      <a href=\"file://C:\\Users\\payal\\anaconda3\\lib\\site-packages\\manim\\scene\\scene_file_writer.py\" target=\"_blank\"><span style=\"color: #7f7f7f; text-decoration-color: #7f7f7f\">scene_file_writer.py</span></a><span style=\"color: #7f7f7f; text-decoration-color: #7f7f7f\">:</span><a href=\"file://C:\\Users\\payal\\anaconda3\\lib\\site-packages\\manim\\scene\\scene_file_writer.py#617\" target=\"_blank\"><span style=\"color: #7f7f7f; text-decoration-color: #7f7f7f\">617</span></a>\n",
       "</pre>\n"
      ],
      "text/plain": [
       "\u001b[2;36m                   \u001b[0m\u001b[2;36m \u001b[0m\u001b[32mINFO    \u001b[0m Combining to Movie file.                                      \u001b]8;id=832344;file://C:\\Users\\payal\\anaconda3\\lib\\site-packages\\manim\\scene\\scene_file_writer.py\u001b\\\u001b[2mscene_file_writer.py\u001b[0m\u001b]8;;\u001b\\\u001b[2m:\u001b[0m\u001b]8;id=226585;file://C:\\Users\\payal\\anaconda3\\lib\\site-packages\\manim\\scene\\scene_file_writer.py#617\u001b\\\u001b[2m617\u001b[0m\u001b]8;;\u001b\\\n"
      ]
     },
     "metadata": {},
     "output_type": "display_data"
    },
    {
     "data": {
      "text/html": [
       "<pre style=\"white-space:pre;overflow-x:auto;line-height:normal;font-family:Menlo,'DejaVu Sans Mono',consolas,'Courier New',monospace\"><span style=\"color: #7fbfbf; text-decoration-color: #7fbfbf\">                    </span><span style=\"color: #008000; text-decoration-color: #008000\">INFO    </span>                                                               <a href=\"file://C:\\Users\\payal\\anaconda3\\lib\\site-packages\\manim\\scene\\scene_file_writer.py\" target=\"_blank\"><span style=\"color: #7f7f7f; text-decoration-color: #7f7f7f\">scene_file_writer.py</span></a><span style=\"color: #7f7f7f; text-decoration-color: #7f7f7f\">:</span><a href=\"file://C:\\Users\\payal\\anaconda3\\lib\\site-packages\\manim\\scene\\scene_file_writer.py#736\" target=\"_blank\"><span style=\"color: #7f7f7f; text-decoration-color: #7f7f7f\">736</span></a>\n",
       "<span style=\"color: #7fbfbf; text-decoration-color: #7fbfbf\">                    </span>         <span style=\"color: #808000; text-decoration-color: #808000; font-weight: bold\">File</span> ready at                                                 <span style=\"color: #7f7f7f; text-decoration-color: #7f7f7f\">                        </span>\n",
       "<span style=\"color: #7fbfbf; text-decoration-color: #7fbfbf\">                    </span>         <span style=\"color: #008000; text-decoration-color: #008000\">'C:\\Users\\payal\\media\\videos\\payal\\1080p60\\TracedPathExample.</span> <span style=\"color: #7f7f7f; text-decoration-color: #7f7f7f\">                        </span>\n",
       "<span style=\"color: #7fbfbf; text-decoration-color: #7fbfbf\">                    </span>         <span style=\"color: #008000; text-decoration-color: #008000\">mp4'</span>                                                          <span style=\"color: #7f7f7f; text-decoration-color: #7f7f7f\">                        </span>\n",
       "<span style=\"color: #7fbfbf; text-decoration-color: #7fbfbf\">                    </span>                                                                       <span style=\"color: #7f7f7f; text-decoration-color: #7f7f7f\">                        </span>\n",
       "</pre>\n"
      ],
      "text/plain": [
       "\u001b[2;36m                   \u001b[0m\u001b[2;36m \u001b[0m\u001b[32mINFO    \u001b[0m                                                               \u001b]8;id=275170;file://C:\\Users\\payal\\anaconda3\\lib\\site-packages\\manim\\scene\\scene_file_writer.py\u001b\\\u001b[2mscene_file_writer.py\u001b[0m\u001b]8;;\u001b\\\u001b[2m:\u001b[0m\u001b]8;id=152920;file://C:\\Users\\payal\\anaconda3\\lib\\site-packages\\manim\\scene\\scene_file_writer.py#736\u001b\\\u001b[2m736\u001b[0m\u001b]8;;\u001b\\\n",
       "\u001b[2;36m                    \u001b[0m         \u001b[1;33mFile\u001b[0m ready at                                                 \u001b[2m                        \u001b[0m\n",
       "\u001b[2;36m                    \u001b[0m         \u001b[32m'C:\\Users\\payal\\media\\videos\\payal\\1080p60\\TracedPathExample.\u001b[0m \u001b[2m                        \u001b[0m\n",
       "\u001b[2;36m                    \u001b[0m         \u001b[32mmp4'\u001b[0m                                                          \u001b[2m                        \u001b[0m\n",
       "\u001b[2;36m                    \u001b[0m                                                                       \u001b[2m                        \u001b[0m\n"
      ]
     },
     "metadata": {},
     "output_type": "display_data"
    },
    {
     "data": {
      "text/html": [
       "<pre style=\"white-space:pre;overflow-x:auto;line-height:normal;font-family:Menlo,'DejaVu Sans Mono',consolas,'Courier New',monospace\"><span style=\"color: #7fbfbf; text-decoration-color: #7fbfbf\">                    </span><span style=\"color: #008000; text-decoration-color: #008000\">INFO    </span> <span style=\"color: #808000; text-decoration-color: #808000; font-weight: bold\">Rendered</span> TracedPathExample                                                <a href=\"file://C:\\Users\\payal\\anaconda3\\lib\\site-packages\\manim\\scene\\scene.py\" target=\"_blank\"><span style=\"color: #7f7f7f; text-decoration-color: #7f7f7f\">scene.py</span></a><span style=\"color: #7f7f7f; text-decoration-color: #7f7f7f\">:</span><a href=\"file://C:\\Users\\payal\\anaconda3\\lib\\site-packages\\manim\\scene\\scene.py#241\" target=\"_blank\"><span style=\"color: #7f7f7f; text-decoration-color: #7f7f7f\">241</span></a>\n",
       "<span style=\"color: #7fbfbf; text-decoration-color: #7fbfbf\">                    </span>         <span style=\"color: #808000; text-decoration-color: #808000; font-weight: bold\">Played</span> <span style=\"color: #008000; text-decoration-color: #008000\">3</span> <span style=\"color: #808000; text-decoration-color: #808000; font-weight: bold\">animations</span>                                                       <span style=\"color: #7f7f7f; text-decoration-color: #7f7f7f\">            </span>\n",
       "</pre>\n"
      ],
      "text/plain": [
       "\u001b[2;36m                   \u001b[0m\u001b[2;36m \u001b[0m\u001b[32mINFO    \u001b[0m \u001b[1;33mRendered\u001b[0m TracedPathExample                                                \u001b]8;id=854646;file://C:\\Users\\payal\\anaconda3\\lib\\site-packages\\manim\\scene\\scene.py\u001b\\\u001b[2mscene.py\u001b[0m\u001b]8;;\u001b\\\u001b[2m:\u001b[0m\u001b]8;id=944567;file://C:\\Users\\payal\\anaconda3\\lib\\site-packages\\manim\\scene\\scene.py#241\u001b\\\u001b[2m241\u001b[0m\u001b]8;;\u001b\\\n",
       "\u001b[2;36m                    \u001b[0m         \u001b[1;33mPlayed\u001b[0m \u001b[32m3\u001b[0m \u001b[1;33manimations\u001b[0m                                                       \u001b[2m            \u001b[0m\n"
      ]
     },
     "metadata": {},
     "output_type": "display_data"
    },
    {
     "data": {
      "text/html": [
       "<pre style=\"white-space:pre;overflow-x:auto;line-height:normal;font-family:Menlo,'DejaVu Sans Mono',consolas,'Courier New',monospace\"><span style=\"color: #7fbfbf; text-decoration-color: #7fbfbf\">                    </span><span style=\"color: #008000; text-decoration-color: #008000\">INFO    </span> Previewed <span style=\"color: #808000; text-decoration-color: #808000; font-weight: bold\">File</span> at:                                                     <a href=\"file://C:\\Users\\payal\\anaconda3\\lib\\site-packages\\manim\\utils\\file_ops.py\" target=\"_blank\"><span style=\"color: #7f7f7f; text-decoration-color: #7f7f7f\">file_ops.py</span></a><span style=\"color: #7f7f7f; text-decoration-color: #7f7f7f\">:</span><a href=\"file://C:\\Users\\payal\\anaconda3\\lib\\site-packages\\manim\\utils\\file_ops.py#227\" target=\"_blank\"><span style=\"color: #7f7f7f; text-decoration-color: #7f7f7f\">227</span></a>\n",
       "<span style=\"color: #7fbfbf; text-decoration-color: #7fbfbf\">                    </span>         <span style=\"color: #008000; text-decoration-color: #008000\">'C:\\Users\\payal\\media\\videos\\payal\\1080p60\\TracedPathExample.mp4'</span>      <span style=\"color: #7f7f7f; text-decoration-color: #7f7f7f\">               </span>\n",
       "</pre>\n"
      ],
      "text/plain": [
       "\u001b[2;36m                   \u001b[0m\u001b[2;36m \u001b[0m\u001b[32mINFO    \u001b[0m Previewed \u001b[1;33mFile\u001b[0m at:                                                     \u001b]8;id=908783;file://C:\\Users\\payal\\anaconda3\\lib\\site-packages\\manim\\utils\\file_ops.py\u001b\\\u001b[2mfile_ops.py\u001b[0m\u001b]8;;\u001b\\\u001b[2m:\u001b[0m\u001b]8;id=325605;file://C:\\Users\\payal\\anaconda3\\lib\\site-packages\\manim\\utils\\file_ops.py#227\u001b\\\u001b[2m227\u001b[0m\u001b]8;;\u001b\\\n",
       "\u001b[2;36m                    \u001b[0m         \u001b[32m'C:\\Users\\payal\\media\\videos\\payal\\1080p60\\TracedPathExample.mp4'\u001b[0m      \u001b[2m               \u001b[0m\n"
      ]
     },
     "metadata": {},
     "output_type": "display_data"
    },
    {
     "data": {
      "text/html": [
       "<video src=\"media\\jupyter\\TracedPathExample@2023-11-06@20-07-05.mp4\" controls autoplay loop style=\"max-width: 60%;\"  >\n",
       "      Your browser does not support the <code>video</code> element.\n",
       "    </video>"
      ],
      "text/plain": [
       "<IPython.core.display.Video object>"
      ]
     },
     "metadata": {},
     "output_type": "display_data"
    }
   ],
   "source": [
    "%%manim -pqh TracedPathExample\n",
    "\n",
    "from manim import *\n",
    "\n",
    "class TracedPathExample(MovingCameraScene):\n",
    "    def construct(self):\n",
    "        \n",
    "        self.camera.frame.scale(2).save_state()\n",
    "        circ = Circle(color=BLUE).shift(4*LEFT)\n",
    "        dot = Dot(color=YELLOW).move_to(circ.get_start())\n",
    "        rolling_circle = VGroup(circ, dot)\n",
    "        trace = TracedPath(circ.get_start, stroke_width=5)\n",
    "        rolling_circle.add_updater(lambda m: m.rotate(-0.3))\n",
    "        self.add(trace, rolling_circle)\n",
    "        \n",
    "        self.play(self.camera.frame.animate.scale(0.5).move_to(dot), run_time=1)\n",
    "\n",
    "        def update_curve(mob):\n",
    "            mob.move_to(dot.get_center())\n",
    "\n",
    "        self.camera.frame.add_updater(update_curve)\n",
    "        \n",
    "        self.play(rolling_circle.animate.shift(8*RIGHT), run_time=4, rate_func=linear)\n",
    "        self.camera.frame.remove_updater(update_curve)\n",
    "\n",
    "        self.play(Restore(self.camera.frame))\n",
    "        \n",
    "        \n",
    "        "
   ]
  },
  {
   "cell_type": "code",
   "execution_count": 3,
   "id": "78ad380e",
   "metadata": {},
   "outputs": [
    {
     "name": "stderr",
     "output_type": "stream",
     "text": [
      "                                                                                                                       \r"
     ]
    },
    {
     "data": {
      "text/html": [
       "<pre style=\"white-space:pre;overflow-x:auto;line-height:normal;font-family:Menlo,'DejaVu Sans Mono',consolas,'Courier New',monospace\"><span style=\"color: #7fbfbf; text-decoration-color: #7fbfbf\">[11/06/23 20:04:57] </span><span style=\"color: #008000; text-decoration-color: #008000\">INFO    </span> Animation <span style=\"color: #008000; text-decoration-color: #008000\">0</span> : Partial movie file written in                   <a href=\"file://C:\\Users\\payal\\anaconda3\\lib\\site-packages\\manim\\scene\\scene_file_writer.py\" target=\"_blank\"><span style=\"color: #7f7f7f; text-decoration-color: #7f7f7f\">scene_file_writer.py</span></a><span style=\"color: #7f7f7f; text-decoration-color: #7f7f7f\">:</span><a href=\"file://C:\\Users\\payal\\anaconda3\\lib\\site-packages\\manim\\scene\\scene_file_writer.py#527\" target=\"_blank\"><span style=\"color: #7f7f7f; text-decoration-color: #7f7f7f\">527</span></a>\n",
       "<span style=\"color: #7fbfbf; text-decoration-color: #7fbfbf\">                    </span>         <span style=\"color: #008000; text-decoration-color: #008000\">'C:\\Users\\payal\\media\\videos\\payal\\1080p60\\partial_movie_file</span> <span style=\"color: #7f7f7f; text-decoration-color: #7f7f7f\">                        </span>\n",
       "<span style=\"color: #7fbfbf; text-decoration-color: #7fbfbf\">                    </span>         <span style=\"color: #008000; text-decoration-color: #008000\">s\\Trace\\2295559151_314928885_46352497.mp4'</span>                    <span style=\"color: #7f7f7f; text-decoration-color: #7f7f7f\">                        </span>\n",
       "</pre>\n"
      ],
      "text/plain": [
       "\u001b[2;36m[11/06/23 20:04:57]\u001b[0m\u001b[2;36m \u001b[0m\u001b[32mINFO    \u001b[0m Animation \u001b[32m0\u001b[0m : Partial movie file written in                   \u001b]8;id=121773;file://C:\\Users\\payal\\anaconda3\\lib\\site-packages\\manim\\scene\\scene_file_writer.py\u001b\\\u001b[2mscene_file_writer.py\u001b[0m\u001b]8;;\u001b\\\u001b[2m:\u001b[0m\u001b]8;id=423551;file://C:\\Users\\payal\\anaconda3\\lib\\site-packages\\manim\\scene\\scene_file_writer.py#527\u001b\\\u001b[2m527\u001b[0m\u001b]8;;\u001b\\\n",
       "\u001b[2;36m                    \u001b[0m         \u001b[32m'C:\\Users\\payal\\media\\videos\\payal\\1080p60\\partial_movie_file\u001b[0m \u001b[2m                        \u001b[0m\n",
       "\u001b[2;36m                    \u001b[0m         \u001b[32ms\\Trace\\2295559151_314928885_46352497.mp4'\u001b[0m                    \u001b[2m                        \u001b[0m\n"
      ]
     },
     "metadata": {},
     "output_type": "display_data"
    },
    {
     "name": "stderr",
     "output_type": "stream",
     "text": [
      "                                                                                                                       \r"
     ]
    },
    {
     "data": {
      "text/html": [
       "<pre style=\"white-space:pre;overflow-x:auto;line-height:normal;font-family:Menlo,'DejaVu Sans Mono',consolas,'Courier New',monospace\"><span style=\"color: #7fbfbf; text-decoration-color: #7fbfbf\">[11/06/23 20:04:59] </span><span style=\"color: #008000; text-decoration-color: #008000\">INFO    </span> Animation <span style=\"color: #008000; text-decoration-color: #008000\">1</span> : Partial movie file written in                   <a href=\"file://C:\\Users\\payal\\anaconda3\\lib\\site-packages\\manim\\scene\\scene_file_writer.py\" target=\"_blank\"><span style=\"color: #7f7f7f; text-decoration-color: #7f7f7f\">scene_file_writer.py</span></a><span style=\"color: #7f7f7f; text-decoration-color: #7f7f7f\">:</span><a href=\"file://C:\\Users\\payal\\anaconda3\\lib\\site-packages\\manim\\scene\\scene_file_writer.py#527\" target=\"_blank\"><span style=\"color: #7f7f7f; text-decoration-color: #7f7f7f\">527</span></a>\n",
       "<span style=\"color: #7fbfbf; text-decoration-color: #7fbfbf\">                    </span>         <span style=\"color: #008000; text-decoration-color: #008000\">'C:\\Users\\payal\\media\\videos\\payal\\1080p60\\partial_movie_file</span> <span style=\"color: #7f7f7f; text-decoration-color: #7f7f7f\">                        </span>\n",
       "<span style=\"color: #7fbfbf; text-decoration-color: #7fbfbf\">                    </span>         <span style=\"color: #008000; text-decoration-color: #008000\">s\\Trace\\3662620121_1050454775_3154268415.mp4'</span>                 <span style=\"color: #7f7f7f; text-decoration-color: #7f7f7f\">                        </span>\n",
       "</pre>\n"
      ],
      "text/plain": [
       "\u001b[2;36m[11/06/23 20:04:59]\u001b[0m\u001b[2;36m \u001b[0m\u001b[32mINFO    \u001b[0m Animation \u001b[32m1\u001b[0m : Partial movie file written in                   \u001b]8;id=467141;file://C:\\Users\\payal\\anaconda3\\lib\\site-packages\\manim\\scene\\scene_file_writer.py\u001b\\\u001b[2mscene_file_writer.py\u001b[0m\u001b]8;;\u001b\\\u001b[2m:\u001b[0m\u001b]8;id=226874;file://C:\\Users\\payal\\anaconda3\\lib\\site-packages\\manim\\scene\\scene_file_writer.py#527\u001b\\\u001b[2m527\u001b[0m\u001b]8;;\u001b\\\n",
       "\u001b[2;36m                    \u001b[0m         \u001b[32m'C:\\Users\\payal\\media\\videos\\payal\\1080p60\\partial_movie_file\u001b[0m \u001b[2m                        \u001b[0m\n",
       "\u001b[2;36m                    \u001b[0m         \u001b[32ms\\Trace\\3662620121_1050454775_3154268415.mp4'\u001b[0m                 \u001b[2m                        \u001b[0m\n"
      ]
     },
     "metadata": {},
     "output_type": "display_data"
    },
    {
     "name": "stderr",
     "output_type": "stream",
     "text": [
      "                                                                                                                       \r"
     ]
    },
    {
     "data": {
      "text/html": [
       "<pre style=\"white-space:pre;overflow-x:auto;line-height:normal;font-family:Menlo,'DejaVu Sans Mono',consolas,'Courier New',monospace\"><span style=\"color: #7fbfbf; text-decoration-color: #7fbfbf\">[11/06/23 20:05:06] </span><span style=\"color: #008000; text-decoration-color: #008000\">INFO    </span> Animation <span style=\"color: #008000; text-decoration-color: #008000\">2</span> : Partial movie file written in                   <a href=\"file://C:\\Users\\payal\\anaconda3\\lib\\site-packages\\manim\\scene\\scene_file_writer.py\" target=\"_blank\"><span style=\"color: #7f7f7f; text-decoration-color: #7f7f7f\">scene_file_writer.py</span></a><span style=\"color: #7f7f7f; text-decoration-color: #7f7f7f\">:</span><a href=\"file://C:\\Users\\payal\\anaconda3\\lib\\site-packages\\manim\\scene\\scene_file_writer.py#527\" target=\"_blank\"><span style=\"color: #7f7f7f; text-decoration-color: #7f7f7f\">527</span></a>\n",
       "<span style=\"color: #7fbfbf; text-decoration-color: #7fbfbf\">                    </span>         <span style=\"color: #008000; text-decoration-color: #008000\">'C:\\Users\\payal\\media\\videos\\payal\\1080p60\\partial_movie_file</span> <span style=\"color: #7f7f7f; text-decoration-color: #7f7f7f\">                        </span>\n",
       "<span style=\"color: #7fbfbf; text-decoration-color: #7fbfbf\">                    </span>         <span style=\"color: #008000; text-decoration-color: #008000\">s\\Trace\\380436170_3662078611_3579489258.mp4'</span>                  <span style=\"color: #7f7f7f; text-decoration-color: #7f7f7f\">                        </span>\n",
       "</pre>\n"
      ],
      "text/plain": [
       "\u001b[2;36m[11/06/23 20:05:06]\u001b[0m\u001b[2;36m \u001b[0m\u001b[32mINFO    \u001b[0m Animation \u001b[32m2\u001b[0m : Partial movie file written in                   \u001b]8;id=455215;file://C:\\Users\\payal\\anaconda3\\lib\\site-packages\\manim\\scene\\scene_file_writer.py\u001b\\\u001b[2mscene_file_writer.py\u001b[0m\u001b]8;;\u001b\\\u001b[2m:\u001b[0m\u001b]8;id=569699;file://C:\\Users\\payal\\anaconda3\\lib\\site-packages\\manim\\scene\\scene_file_writer.py#527\u001b\\\u001b[2m527\u001b[0m\u001b]8;;\u001b\\\n",
       "\u001b[2;36m                    \u001b[0m         \u001b[32m'C:\\Users\\payal\\media\\videos\\payal\\1080p60\\partial_movie_file\u001b[0m \u001b[2m                        \u001b[0m\n",
       "\u001b[2;36m                    \u001b[0m         \u001b[32ms\\Trace\\380436170_3662078611_3579489258.mp4'\u001b[0m                  \u001b[2m                        \u001b[0m\n"
      ]
     },
     "metadata": {},
     "output_type": "display_data"
    },
    {
     "name": "stderr",
     "output_type": "stream",
     "text": [
      "                                                                                                                       \r"
     ]
    },
    {
     "data": {
      "text/html": [
       "<pre style=\"white-space:pre;overflow-x:auto;line-height:normal;font-family:Menlo,'DejaVu Sans Mono',consolas,'Courier New',monospace\"><span style=\"color: #7fbfbf; text-decoration-color: #7fbfbf\">[11/06/23 20:05:08] </span><span style=\"color: #008000; text-decoration-color: #008000\">INFO    </span> Animation <span style=\"color: #008000; text-decoration-color: #008000\">3</span> : Partial movie file written in                   <a href=\"file://C:\\Users\\payal\\anaconda3\\lib\\site-packages\\manim\\scene\\scene_file_writer.py\" target=\"_blank\"><span style=\"color: #7f7f7f; text-decoration-color: #7f7f7f\">scene_file_writer.py</span></a><span style=\"color: #7f7f7f; text-decoration-color: #7f7f7f\">:</span><a href=\"file://C:\\Users\\payal\\anaconda3\\lib\\site-packages\\manim\\scene\\scene_file_writer.py#527\" target=\"_blank\"><span style=\"color: #7f7f7f; text-decoration-color: #7f7f7f\">527</span></a>\n",
       "<span style=\"color: #7fbfbf; text-decoration-color: #7fbfbf\">                    </span>         <span style=\"color: #008000; text-decoration-color: #008000\">'C:\\Users\\payal\\media\\videos\\payal\\1080p60\\partial_movie_file</span> <span style=\"color: #7f7f7f; text-decoration-color: #7f7f7f\">                        </span>\n",
       "<span style=\"color: #7fbfbf; text-decoration-color: #7fbfbf\">                    </span>         <span style=\"color: #008000; text-decoration-color: #008000\">s\\Trace\\200635710_3527355647_305567059.mp4'</span>                   <span style=\"color: #7f7f7f; text-decoration-color: #7f7f7f\">                        </span>\n",
       "</pre>\n"
      ],
      "text/plain": [
       "\u001b[2;36m[11/06/23 20:05:08]\u001b[0m\u001b[2;36m \u001b[0m\u001b[32mINFO    \u001b[0m Animation \u001b[32m3\u001b[0m : Partial movie file written in                   \u001b]8;id=244200;file://C:\\Users\\payal\\anaconda3\\lib\\site-packages\\manim\\scene\\scene_file_writer.py\u001b\\\u001b[2mscene_file_writer.py\u001b[0m\u001b]8;;\u001b\\\u001b[2m:\u001b[0m\u001b]8;id=387682;file://C:\\Users\\payal\\anaconda3\\lib\\site-packages\\manim\\scene\\scene_file_writer.py#527\u001b\\\u001b[2m527\u001b[0m\u001b]8;;\u001b\\\n",
       "\u001b[2;36m                    \u001b[0m         \u001b[32m'C:\\Users\\payal\\media\\videos\\payal\\1080p60\\partial_movie_file\u001b[0m \u001b[2m                        \u001b[0m\n",
       "\u001b[2;36m                    \u001b[0m         \u001b[32ms\\Trace\\200635710_3527355647_305567059.mp4'\u001b[0m                   \u001b[2m                        \u001b[0m\n"
      ]
     },
     "metadata": {},
     "output_type": "display_data"
    },
    {
     "name": "stderr",
     "output_type": "stream",
     "text": [
      "                                                                                                                       \r"
     ]
    },
    {
     "data": {
      "text/html": [
       "<pre style=\"white-space:pre;overflow-x:auto;line-height:normal;font-family:Menlo,'DejaVu Sans Mono',consolas,'Courier New',monospace\"><span style=\"color: #7fbfbf; text-decoration-color: #7fbfbf\">[11/06/23 20:05:10] </span><span style=\"color: #008000; text-decoration-color: #008000\">INFO    </span> Animation <span style=\"color: #008000; text-decoration-color: #008000\">4</span> : Partial movie file written in                   <a href=\"file://C:\\Users\\payal\\anaconda3\\lib\\site-packages\\manim\\scene\\scene_file_writer.py\" target=\"_blank\"><span style=\"color: #7f7f7f; text-decoration-color: #7f7f7f\">scene_file_writer.py</span></a><span style=\"color: #7f7f7f; text-decoration-color: #7f7f7f\">:</span><a href=\"file://C:\\Users\\payal\\anaconda3\\lib\\site-packages\\manim\\scene\\scene_file_writer.py#527\" target=\"_blank\"><span style=\"color: #7f7f7f; text-decoration-color: #7f7f7f\">527</span></a>\n",
       "<span style=\"color: #7fbfbf; text-decoration-color: #7fbfbf\">                    </span>         <span style=\"color: #008000; text-decoration-color: #008000\">'C:\\Users\\payal\\media\\videos\\payal\\1080p60\\partial_movie_file</span> <span style=\"color: #7f7f7f; text-decoration-color: #7f7f7f\">                        </span>\n",
       "<span style=\"color: #7fbfbf; text-decoration-color: #7fbfbf\">                    </span>         <span style=\"color: #008000; text-decoration-color: #008000\">s\\Trace\\3662620121_653165941_1376484916.mp4'</span>                  <span style=\"color: #7f7f7f; text-decoration-color: #7f7f7f\">                        </span>\n",
       "</pre>\n"
      ],
      "text/plain": [
       "\u001b[2;36m[11/06/23 20:05:10]\u001b[0m\u001b[2;36m \u001b[0m\u001b[32mINFO    \u001b[0m Animation \u001b[32m4\u001b[0m : Partial movie file written in                   \u001b]8;id=640;file://C:\\Users\\payal\\anaconda3\\lib\\site-packages\\manim\\scene\\scene_file_writer.py\u001b\\\u001b[2mscene_file_writer.py\u001b[0m\u001b]8;;\u001b\\\u001b[2m:\u001b[0m\u001b]8;id=738803;file://C:\\Users\\payal\\anaconda3\\lib\\site-packages\\manim\\scene\\scene_file_writer.py#527\u001b\\\u001b[2m527\u001b[0m\u001b]8;;\u001b\\\n",
       "\u001b[2;36m                    \u001b[0m         \u001b[32m'C:\\Users\\payal\\media\\videos\\payal\\1080p60\\partial_movie_file\u001b[0m \u001b[2m                        \u001b[0m\n",
       "\u001b[2;36m                    \u001b[0m         \u001b[32ms\\Trace\\3662620121_653165941_1376484916.mp4'\u001b[0m                  \u001b[2m                        \u001b[0m\n"
      ]
     },
     "metadata": {},
     "output_type": "display_data"
    },
    {
     "data": {
      "text/html": [
       "<pre style=\"white-space:pre;overflow-x:auto;line-height:normal;font-family:Menlo,'DejaVu Sans Mono',consolas,'Courier New',monospace\"><span style=\"color: #7fbfbf; text-decoration-color: #7fbfbf\">                    </span><span style=\"color: #008000; text-decoration-color: #008000\">INFO    </span> Combining to Movie file.                                      <a href=\"file://C:\\Users\\payal\\anaconda3\\lib\\site-packages\\manim\\scene\\scene_file_writer.py\" target=\"_blank\"><span style=\"color: #7f7f7f; text-decoration-color: #7f7f7f\">scene_file_writer.py</span></a><span style=\"color: #7f7f7f; text-decoration-color: #7f7f7f\">:</span><a href=\"file://C:\\Users\\payal\\anaconda3\\lib\\site-packages\\manim\\scene\\scene_file_writer.py#617\" target=\"_blank\"><span style=\"color: #7f7f7f; text-decoration-color: #7f7f7f\">617</span></a>\n",
       "</pre>\n"
      ],
      "text/plain": [
       "\u001b[2;36m                   \u001b[0m\u001b[2;36m \u001b[0m\u001b[32mINFO    \u001b[0m Combining to Movie file.                                      \u001b]8;id=677676;file://C:\\Users\\payal\\anaconda3\\lib\\site-packages\\manim\\scene\\scene_file_writer.py\u001b\\\u001b[2mscene_file_writer.py\u001b[0m\u001b]8;;\u001b\\\u001b[2m:\u001b[0m\u001b]8;id=399268;file://C:\\Users\\payal\\anaconda3\\lib\\site-packages\\manim\\scene\\scene_file_writer.py#617\u001b\\\u001b[2m617\u001b[0m\u001b]8;;\u001b\\\n"
      ]
     },
     "metadata": {},
     "output_type": "display_data"
    },
    {
     "data": {
      "text/html": [
       "<pre style=\"white-space:pre;overflow-x:auto;line-height:normal;font-family:Menlo,'DejaVu Sans Mono',consolas,'Courier New',monospace\"><span style=\"color: #7fbfbf; text-decoration-color: #7fbfbf\">                    </span><span style=\"color: #008000; text-decoration-color: #008000\">INFO    </span>                                                               <a href=\"file://C:\\Users\\payal\\anaconda3\\lib\\site-packages\\manim\\scene\\scene_file_writer.py\" target=\"_blank\"><span style=\"color: #7f7f7f; text-decoration-color: #7f7f7f\">scene_file_writer.py</span></a><span style=\"color: #7f7f7f; text-decoration-color: #7f7f7f\">:</span><a href=\"file://C:\\Users\\payal\\anaconda3\\lib\\site-packages\\manim\\scene\\scene_file_writer.py#736\" target=\"_blank\"><span style=\"color: #7f7f7f; text-decoration-color: #7f7f7f\">736</span></a>\n",
       "<span style=\"color: #7fbfbf; text-decoration-color: #7fbfbf\">                    </span>         <span style=\"color: #808000; text-decoration-color: #808000; font-weight: bold\">File</span> ready at                                                 <span style=\"color: #7f7f7f; text-decoration-color: #7f7f7f\">                        </span>\n",
       "<span style=\"color: #7fbfbf; text-decoration-color: #7fbfbf\">                    </span>         <span style=\"color: #008000; text-decoration-color: #008000\">'C:\\Users\\payal\\media\\videos\\payal\\1080p60\\Trace.mp4'</span>         <span style=\"color: #7f7f7f; text-decoration-color: #7f7f7f\">                        </span>\n",
       "<span style=\"color: #7fbfbf; text-decoration-color: #7fbfbf\">                    </span>                                                                       <span style=\"color: #7f7f7f; text-decoration-color: #7f7f7f\">                        </span>\n",
       "</pre>\n"
      ],
      "text/plain": [
       "\u001b[2;36m                   \u001b[0m\u001b[2;36m \u001b[0m\u001b[32mINFO    \u001b[0m                                                               \u001b]8;id=507771;file://C:\\Users\\payal\\anaconda3\\lib\\site-packages\\manim\\scene\\scene_file_writer.py\u001b\\\u001b[2mscene_file_writer.py\u001b[0m\u001b]8;;\u001b\\\u001b[2m:\u001b[0m\u001b]8;id=607314;file://C:\\Users\\payal\\anaconda3\\lib\\site-packages\\manim\\scene\\scene_file_writer.py#736\u001b\\\u001b[2m736\u001b[0m\u001b]8;;\u001b\\\n",
       "\u001b[2;36m                    \u001b[0m         \u001b[1;33mFile\u001b[0m ready at                                                 \u001b[2m                        \u001b[0m\n",
       "\u001b[2;36m                    \u001b[0m         \u001b[32m'C:\\Users\\payal\\media\\videos\\payal\\1080p60\\Trace.mp4'\u001b[0m         \u001b[2m                        \u001b[0m\n",
       "\u001b[2;36m                    \u001b[0m                                                                       \u001b[2m                        \u001b[0m\n"
      ]
     },
     "metadata": {},
     "output_type": "display_data"
    },
    {
     "data": {
      "text/html": [
       "<pre style=\"white-space:pre;overflow-x:auto;line-height:normal;font-family:Menlo,'DejaVu Sans Mono',consolas,'Courier New',monospace\"><span style=\"color: #7fbfbf; text-decoration-color: #7fbfbf\">                    </span><span style=\"color: #008000; text-decoration-color: #008000\">INFO    </span> <span style=\"color: #808000; text-decoration-color: #808000; font-weight: bold\">Rendered</span> Trace                                                            <a href=\"file://C:\\Users\\payal\\anaconda3\\lib\\site-packages\\manim\\scene\\scene.py\" target=\"_blank\"><span style=\"color: #7f7f7f; text-decoration-color: #7f7f7f\">scene.py</span></a><span style=\"color: #7f7f7f; text-decoration-color: #7f7f7f\">:</span><a href=\"file://C:\\Users\\payal\\anaconda3\\lib\\site-packages\\manim\\scene\\scene.py#241\" target=\"_blank\"><span style=\"color: #7f7f7f; text-decoration-color: #7f7f7f\">241</span></a>\n",
       "<span style=\"color: #7fbfbf; text-decoration-color: #7fbfbf\">                    </span>         <span style=\"color: #808000; text-decoration-color: #808000; font-weight: bold\">Played</span> <span style=\"color: #008000; text-decoration-color: #008000\">5</span> <span style=\"color: #808000; text-decoration-color: #808000; font-weight: bold\">animations</span>                                                       <span style=\"color: #7f7f7f; text-decoration-color: #7f7f7f\">            </span>\n",
       "</pre>\n"
      ],
      "text/plain": [
       "\u001b[2;36m                   \u001b[0m\u001b[2;36m \u001b[0m\u001b[32mINFO    \u001b[0m \u001b[1;33mRendered\u001b[0m Trace                                                            \u001b]8;id=204624;file://C:\\Users\\payal\\anaconda3\\lib\\site-packages\\manim\\scene\\scene.py\u001b\\\u001b[2mscene.py\u001b[0m\u001b]8;;\u001b\\\u001b[2m:\u001b[0m\u001b]8;id=941487;file://C:\\Users\\payal\\anaconda3\\lib\\site-packages\\manim\\scene\\scene.py#241\u001b\\\u001b[2m241\u001b[0m\u001b]8;;\u001b\\\n",
       "\u001b[2;36m                    \u001b[0m         \u001b[1;33mPlayed\u001b[0m \u001b[32m5\u001b[0m \u001b[1;33manimations\u001b[0m                                                       \u001b[2m            \u001b[0m\n"
      ]
     },
     "metadata": {},
     "output_type": "display_data"
    },
    {
     "data": {
      "text/html": [
       "<pre style=\"white-space:pre;overflow-x:auto;line-height:normal;font-family:Menlo,'DejaVu Sans Mono',consolas,'Courier New',monospace\"><span style=\"color: #7fbfbf; text-decoration-color: #7fbfbf\">[11/06/23 20:05:11] </span><span style=\"color: #008000; text-decoration-color: #008000\">INFO    </span> Previewed <span style=\"color: #808000; text-decoration-color: #808000; font-weight: bold\">File</span> at:                                                     <a href=\"file://C:\\Users\\payal\\anaconda3\\lib\\site-packages\\manim\\utils\\file_ops.py\" target=\"_blank\"><span style=\"color: #7f7f7f; text-decoration-color: #7f7f7f\">file_ops.py</span></a><span style=\"color: #7f7f7f; text-decoration-color: #7f7f7f\">:</span><a href=\"file://C:\\Users\\payal\\anaconda3\\lib\\site-packages\\manim\\utils\\file_ops.py#227\" target=\"_blank\"><span style=\"color: #7f7f7f; text-decoration-color: #7f7f7f\">227</span></a>\n",
       "<span style=\"color: #7fbfbf; text-decoration-color: #7fbfbf\">                    </span>         <span style=\"color: #008000; text-decoration-color: #008000\">'C:\\Users\\payal\\media\\videos\\payal\\1080p60\\Trace.mp4'</span>                  <span style=\"color: #7f7f7f; text-decoration-color: #7f7f7f\">               </span>\n",
       "</pre>\n"
      ],
      "text/plain": [
       "\u001b[2;36m[11/06/23 20:05:11]\u001b[0m\u001b[2;36m \u001b[0m\u001b[32mINFO    \u001b[0m Previewed \u001b[1;33mFile\u001b[0m at:                                                     \u001b]8;id=849496;file://C:\\Users\\payal\\anaconda3\\lib\\site-packages\\manim\\utils\\file_ops.py\u001b\\\u001b[2mfile_ops.py\u001b[0m\u001b]8;;\u001b\\\u001b[2m:\u001b[0m\u001b]8;id=673934;file://C:\\Users\\payal\\anaconda3\\lib\\site-packages\\manim\\utils\\file_ops.py#227\u001b\\\u001b[2m227\u001b[0m\u001b]8;;\u001b\\\n",
       "\u001b[2;36m                    \u001b[0m         \u001b[32m'C:\\Users\\payal\\media\\videos\\payal\\1080p60\\Trace.mp4'\u001b[0m                  \u001b[2m               \u001b[0m\n"
      ]
     },
     "metadata": {},
     "output_type": "display_data"
    },
    {
     "data": {
      "text/html": [
       "<video src=\"media\\jupyter\\Trace@2023-11-06@20-05-11.mp4\" controls autoplay loop style=\"max-width: 60%;\"  >\n",
       "      Your browser does not support the <code>video</code> element.\n",
       "    </video>"
      ],
      "text/plain": [
       "<IPython.core.display.Video object>"
      ]
     },
     "metadata": {},
     "output_type": "display_data"
    }
   ],
   "source": [
    "%%manim -pqh Trace\n",
    "\n",
    "from manim import *\n",
    "\n",
    "class Trace(MovingCameraScene):\n",
    "    def construct(self):\n",
    "        \n",
    "        self.camera.frame.scale(2).save_state()\n",
    "        \n",
    "        a = Dot(RIGHT * 2)\n",
    "        b = TracedPath(a.get_center, stroke_opacity=[1,1])\n",
    "        self.add(a, b)\n",
    "        \n",
    "        self.play(a.animate(path_arc=PI ).shift(LEFT * 2), run_time=4)\n",
    "        \n",
    "        self.play(self.camera.frame.animate.scale(0.2).move_to(a))\n",
    "        \n",
    "        def update_curve(mob):\n",
    "            mob.move_to(a.get_center())\n",
    "\n",
    "        self.camera.frame.add_updater(update_curve)\n",
    "        \n",
    "        \n",
    "        \n",
    "        \n",
    "        self.play(a.animate(path_arc=-PI ).shift(LEFT * 2), run_time=4)\n",
    "        \n",
    "        self.camera.frame.remove_updater(update_curve)\n",
    "\n",
    "        self.play(Restore(self.camera.frame))\n",
    "        \n",
    "        self.wait()"
   ]
  },
  {
   "cell_type": "code",
   "execution_count": 4,
   "id": "1a56535b",
   "metadata": {},
   "outputs": [
    {
     "name": "stderr",
     "output_type": "stream",
     "text": [
      "                                                                                                                       \r"
     ]
    },
    {
     "data": {
      "text/html": [
       "<pre style=\"white-space:pre;overflow-x:auto;line-height:normal;font-family:Menlo,'DejaVu Sans Mono',consolas,'Courier New',monospace\"><span style=\"color: #7fbfbf; text-decoration-color: #7fbfbf\">[11/06/23 20:05:19] </span><span style=\"color: #008000; text-decoration-color: #008000\">INFO    </span> Animation <span style=\"color: #008000; text-decoration-color: #008000\">0</span> : Partial movie file written in                   <a href=\"file://C:\\Users\\payal\\anaconda3\\lib\\site-packages\\manim\\scene\\scene_file_writer.py\" target=\"_blank\"><span style=\"color: #7f7f7f; text-decoration-color: #7f7f7f\">scene_file_writer.py</span></a><span style=\"color: #7f7f7f; text-decoration-color: #7f7f7f\">:</span><a href=\"file://C:\\Users\\payal\\anaconda3\\lib\\site-packages\\manim\\scene\\scene_file_writer.py#527\" target=\"_blank\"><span style=\"color: #7f7f7f; text-decoration-color: #7f7f7f\">527</span></a>\n",
       "<span style=\"color: #7fbfbf; text-decoration-color: #7fbfbf\">                    </span>         <span style=\"color: #008000; text-decoration-color: #008000\">'C:\\Users\\payal\\media\\videos\\payal\\480p15\\partial_movie_files</span> <span style=\"color: #7f7f7f; text-decoration-color: #7f7f7f\">                        </span>\n",
       "<span style=\"color: #7fbfbf; text-decoration-color: #7fbfbf\">                    </span>         <span style=\"color: #008000; text-decoration-color: #008000\">\\zoomit\\2938224841_2652497062_961525132.mp4'</span>                  <span style=\"color: #7f7f7f; text-decoration-color: #7f7f7f\">                        </span>\n",
       "</pre>\n"
      ],
      "text/plain": [
       "\u001b[2;36m[11/06/23 20:05:19]\u001b[0m\u001b[2;36m \u001b[0m\u001b[32mINFO    \u001b[0m Animation \u001b[32m0\u001b[0m : Partial movie file written in                   \u001b]8;id=608827;file://C:\\Users\\payal\\anaconda3\\lib\\site-packages\\manim\\scene\\scene_file_writer.py\u001b\\\u001b[2mscene_file_writer.py\u001b[0m\u001b]8;;\u001b\\\u001b[2m:\u001b[0m\u001b]8;id=435026;file://C:\\Users\\payal\\anaconda3\\lib\\site-packages\\manim\\scene\\scene_file_writer.py#527\u001b\\\u001b[2m527\u001b[0m\u001b]8;;\u001b\\\n",
       "\u001b[2;36m                    \u001b[0m         \u001b[32m'C:\\Users\\payal\\media\\videos\\payal\\480p15\\partial_movie_files\u001b[0m \u001b[2m                        \u001b[0m\n",
       "\u001b[2;36m                    \u001b[0m         \u001b[32m\\zoomit\\2938224841_2652497062_961525132.mp4'\u001b[0m                  \u001b[2m                        \u001b[0m\n"
      ]
     },
     "metadata": {},
     "output_type": "display_data"
    },
    {
     "data": {
      "text/html": [
       "<pre style=\"white-space:pre;overflow-x:auto;line-height:normal;font-family:Menlo,'DejaVu Sans Mono',consolas,'Courier New',monospace\"><span style=\"color: #7fbfbf; text-decoration-color: #7fbfbf\">                    </span><span style=\"color: #008000; text-decoration-color: #008000\">INFO    </span> Animation <span style=\"color: #008000; text-decoration-color: #008000\">1</span> : Partial movie file written in                   <a href=\"file://C:\\Users\\payal\\anaconda3\\lib\\site-packages\\manim\\scene\\scene_file_writer.py\" target=\"_blank\"><span style=\"color: #7f7f7f; text-decoration-color: #7f7f7f\">scene_file_writer.py</span></a><span style=\"color: #7f7f7f; text-decoration-color: #7f7f7f\">:</span><a href=\"file://C:\\Users\\payal\\anaconda3\\lib\\site-packages\\manim\\scene\\scene_file_writer.py#527\" target=\"_blank\"><span style=\"color: #7f7f7f; text-decoration-color: #7f7f7f\">527</span></a>\n",
       "<span style=\"color: #7fbfbf; text-decoration-color: #7fbfbf\">                    </span>         <span style=\"color: #008000; text-decoration-color: #008000\">'C:\\Users\\payal\\media\\videos\\payal\\480p15\\partial_movie_files</span> <span style=\"color: #7f7f7f; text-decoration-color: #7f7f7f\">                        </span>\n",
       "<span style=\"color: #7fbfbf; text-decoration-color: #7fbfbf\">                    </span>         <span style=\"color: #008000; text-decoration-color: #008000\">\\zoomit\\937847232_329969645_1249583582.mp4'</span>                   <span style=\"color: #7f7f7f; text-decoration-color: #7f7f7f\">                        </span>\n",
       "</pre>\n"
      ],
      "text/plain": [
       "\u001b[2;36m                   \u001b[0m\u001b[2;36m \u001b[0m\u001b[32mINFO    \u001b[0m Animation \u001b[32m1\u001b[0m : Partial movie file written in                   \u001b]8;id=748011;file://C:\\Users\\payal\\anaconda3\\lib\\site-packages\\manim\\scene\\scene_file_writer.py\u001b\\\u001b[2mscene_file_writer.py\u001b[0m\u001b]8;;\u001b\\\u001b[2m:\u001b[0m\u001b]8;id=265480;file://C:\\Users\\payal\\anaconda3\\lib\\site-packages\\manim\\scene\\scene_file_writer.py#527\u001b\\\u001b[2m527\u001b[0m\u001b]8;;\u001b\\\n",
       "\u001b[2;36m                    \u001b[0m         \u001b[32m'C:\\Users\\payal\\media\\videos\\payal\\480p15\\partial_movie_files\u001b[0m \u001b[2m                        \u001b[0m\n",
       "\u001b[2;36m                    \u001b[0m         \u001b[32m\\zoomit\\937847232_329969645_1249583582.mp4'\u001b[0m                   \u001b[2m                        \u001b[0m\n"
      ]
     },
     "metadata": {},
     "output_type": "display_data"
    },
    {
     "data": {
      "text/html": [
       "<pre style=\"white-space:pre;overflow-x:auto;line-height:normal;font-family:Menlo,'DejaVu Sans Mono',consolas,'Courier New',monospace\"><span style=\"color: #7fbfbf; text-decoration-color: #7fbfbf\">                    </span><span style=\"color: #008000; text-decoration-color: #008000\">INFO    </span> Combining to Movie file.                                      <a href=\"file://C:\\Users\\payal\\anaconda3\\lib\\site-packages\\manim\\scene\\scene_file_writer.py\" target=\"_blank\"><span style=\"color: #7f7f7f; text-decoration-color: #7f7f7f\">scene_file_writer.py</span></a><span style=\"color: #7f7f7f; text-decoration-color: #7f7f7f\">:</span><a href=\"file://C:\\Users\\payal\\anaconda3\\lib\\site-packages\\manim\\scene\\scene_file_writer.py#617\" target=\"_blank\"><span style=\"color: #7f7f7f; text-decoration-color: #7f7f7f\">617</span></a>\n",
       "</pre>\n"
      ],
      "text/plain": [
       "\u001b[2;36m                   \u001b[0m\u001b[2;36m \u001b[0m\u001b[32mINFO    \u001b[0m Combining to Movie file.                                      \u001b]8;id=186866;file://C:\\Users\\payal\\anaconda3\\lib\\site-packages\\manim\\scene\\scene_file_writer.py\u001b\\\u001b[2mscene_file_writer.py\u001b[0m\u001b]8;;\u001b\\\u001b[2m:\u001b[0m\u001b]8;id=402641;file://C:\\Users\\payal\\anaconda3\\lib\\site-packages\\manim\\scene\\scene_file_writer.py#617\u001b\\\u001b[2m617\u001b[0m\u001b]8;;\u001b\\\n"
      ]
     },
     "metadata": {},
     "output_type": "display_data"
    },
    {
     "data": {
      "text/html": [
       "<pre style=\"white-space:pre;overflow-x:auto;line-height:normal;font-family:Menlo,'DejaVu Sans Mono',consolas,'Courier New',monospace\"><span style=\"color: #7fbfbf; text-decoration-color: #7fbfbf\">                    </span><span style=\"color: #008000; text-decoration-color: #008000\">INFO    </span>                                                               <a href=\"file://C:\\Users\\payal\\anaconda3\\lib\\site-packages\\manim\\scene\\scene_file_writer.py\" target=\"_blank\"><span style=\"color: #7f7f7f; text-decoration-color: #7f7f7f\">scene_file_writer.py</span></a><span style=\"color: #7f7f7f; text-decoration-color: #7f7f7f\">:</span><a href=\"file://C:\\Users\\payal\\anaconda3\\lib\\site-packages\\manim\\scene\\scene_file_writer.py#736\" target=\"_blank\"><span style=\"color: #7f7f7f; text-decoration-color: #7f7f7f\">736</span></a>\n",
       "<span style=\"color: #7fbfbf; text-decoration-color: #7fbfbf\">                    </span>         <span style=\"color: #808000; text-decoration-color: #808000; font-weight: bold\">File</span> ready at                                                 <span style=\"color: #7f7f7f; text-decoration-color: #7f7f7f\">                        </span>\n",
       "<span style=\"color: #7fbfbf; text-decoration-color: #7fbfbf\">                    </span>         <span style=\"color: #008000; text-decoration-color: #008000\">'C:\\Users\\payal\\media\\videos\\payal\\480p15\\zoomit.mp4'</span>         <span style=\"color: #7f7f7f; text-decoration-color: #7f7f7f\">                        </span>\n",
       "<span style=\"color: #7fbfbf; text-decoration-color: #7fbfbf\">                    </span>                                                                       <span style=\"color: #7f7f7f; text-decoration-color: #7f7f7f\">                        </span>\n",
       "</pre>\n"
      ],
      "text/plain": [
       "\u001b[2;36m                   \u001b[0m\u001b[2;36m \u001b[0m\u001b[32mINFO    \u001b[0m                                                               \u001b]8;id=555234;file://C:\\Users\\payal\\anaconda3\\lib\\site-packages\\manim\\scene\\scene_file_writer.py\u001b\\\u001b[2mscene_file_writer.py\u001b[0m\u001b]8;;\u001b\\\u001b[2m:\u001b[0m\u001b]8;id=58765;file://C:\\Users\\payal\\anaconda3\\lib\\site-packages\\manim\\scene\\scene_file_writer.py#736\u001b\\\u001b[2m736\u001b[0m\u001b]8;;\u001b\\\n",
       "\u001b[2;36m                    \u001b[0m         \u001b[1;33mFile\u001b[0m ready at                                                 \u001b[2m                        \u001b[0m\n",
       "\u001b[2;36m                    \u001b[0m         \u001b[32m'C:\\Users\\payal\\media\\videos\\payal\\480p15\\zoomit.mp4'\u001b[0m         \u001b[2m                        \u001b[0m\n",
       "\u001b[2;36m                    \u001b[0m                                                                       \u001b[2m                        \u001b[0m\n"
      ]
     },
     "metadata": {},
     "output_type": "display_data"
    },
    {
     "data": {
      "text/html": [
       "<pre style=\"white-space:pre;overflow-x:auto;line-height:normal;font-family:Menlo,'DejaVu Sans Mono',consolas,'Courier New',monospace\"><span style=\"color: #7fbfbf; text-decoration-color: #7fbfbf\">                    </span><span style=\"color: #008000; text-decoration-color: #008000\">INFO    </span> <span style=\"color: #808000; text-decoration-color: #808000; font-weight: bold\">Rendered</span> zoomit                                                           <a href=\"file://C:\\Users\\payal\\anaconda3\\lib\\site-packages\\manim\\scene\\scene.py\" target=\"_blank\"><span style=\"color: #7f7f7f; text-decoration-color: #7f7f7f\">scene.py</span></a><span style=\"color: #7f7f7f; text-decoration-color: #7f7f7f\">:</span><a href=\"file://C:\\Users\\payal\\anaconda3\\lib\\site-packages\\manim\\scene\\scene.py#241\" target=\"_blank\"><span style=\"color: #7f7f7f; text-decoration-color: #7f7f7f\">241</span></a>\n",
       "<span style=\"color: #7fbfbf; text-decoration-color: #7fbfbf\">                    </span>         <span style=\"color: #808000; text-decoration-color: #808000; font-weight: bold\">Played</span> <span style=\"color: #008000; text-decoration-color: #008000\">2</span> <span style=\"color: #808000; text-decoration-color: #808000; font-weight: bold\">animations</span>                                                       <span style=\"color: #7f7f7f; text-decoration-color: #7f7f7f\">            </span>\n",
       "</pre>\n"
      ],
      "text/plain": [
       "\u001b[2;36m                   \u001b[0m\u001b[2;36m \u001b[0m\u001b[32mINFO    \u001b[0m \u001b[1;33mRendered\u001b[0m zoomit                                                           \u001b]8;id=868953;file://C:\\Users\\payal\\anaconda3\\lib\\site-packages\\manim\\scene\\scene.py\u001b\\\u001b[2mscene.py\u001b[0m\u001b]8;;\u001b\\\u001b[2m:\u001b[0m\u001b]8;id=447632;file://C:\\Users\\payal\\anaconda3\\lib\\site-packages\\manim\\scene\\scene.py#241\u001b\\\u001b[2m241\u001b[0m\u001b]8;;\u001b\\\n",
       "\u001b[2;36m                    \u001b[0m         \u001b[1;33mPlayed\u001b[0m \u001b[32m2\u001b[0m \u001b[1;33manimations\u001b[0m                                                       \u001b[2m            \u001b[0m\n"
      ]
     },
     "metadata": {},
     "output_type": "display_data"
    },
    {
     "data": {
      "text/html": [
       "<pre style=\"white-space:pre;overflow-x:auto;line-height:normal;font-family:Menlo,'DejaVu Sans Mono',consolas,'Courier New',monospace\"><span style=\"color: #7fbfbf; text-decoration-color: #7fbfbf\">                    </span><span style=\"color: #008000; text-decoration-color: #008000\">INFO    </span> Previewed <span style=\"color: #808000; text-decoration-color: #808000; font-weight: bold\">File</span> at:                                                     <a href=\"file://C:\\Users\\payal\\anaconda3\\lib\\site-packages\\manim\\utils\\file_ops.py\" target=\"_blank\"><span style=\"color: #7f7f7f; text-decoration-color: #7f7f7f\">file_ops.py</span></a><span style=\"color: #7f7f7f; text-decoration-color: #7f7f7f\">:</span><a href=\"file://C:\\Users\\payal\\anaconda3\\lib\\site-packages\\manim\\utils\\file_ops.py#227\" target=\"_blank\"><span style=\"color: #7f7f7f; text-decoration-color: #7f7f7f\">227</span></a>\n",
       "<span style=\"color: #7fbfbf; text-decoration-color: #7fbfbf\">                    </span>         <span style=\"color: #008000; text-decoration-color: #008000\">'C:\\Users\\payal\\media\\videos\\payal\\480p15\\zoomit.mp4'</span>                  <span style=\"color: #7f7f7f; text-decoration-color: #7f7f7f\">               </span>\n",
       "</pre>\n"
      ],
      "text/plain": [
       "\u001b[2;36m                   \u001b[0m\u001b[2;36m \u001b[0m\u001b[32mINFO    \u001b[0m Previewed \u001b[1;33mFile\u001b[0m at:                                                     \u001b]8;id=402066;file://C:\\Users\\payal\\anaconda3\\lib\\site-packages\\manim\\utils\\file_ops.py\u001b\\\u001b[2mfile_ops.py\u001b[0m\u001b]8;;\u001b\\\u001b[2m:\u001b[0m\u001b]8;id=662336;file://C:\\Users\\payal\\anaconda3\\lib\\site-packages\\manim\\utils\\file_ops.py#227\u001b\\\u001b[2m227\u001b[0m\u001b]8;;\u001b\\\n",
       "\u001b[2;36m                    \u001b[0m         \u001b[32m'C:\\Users\\payal\\media\\videos\\payal\\480p15\\zoomit.mp4'\u001b[0m                  \u001b[2m               \u001b[0m\n"
      ]
     },
     "metadata": {},
     "output_type": "display_data"
    },
    {
     "data": {
      "text/html": [
       "<video src=\"media\\jupyter\\zoomit@2023-11-06@20-05-19.mp4\" controls autoplay loop style=\"max-width: 60%;\"  >\n",
       "      Your browser does not support the <code>video</code> element.\n",
       "    </video>"
      ],
      "text/plain": [
       "<IPython.core.display.Video object>"
      ]
     },
     "metadata": {},
     "output_type": "display_data"
    }
   ],
   "source": [
    "%%manim -pql zoomit\n",
    "\n",
    "from manim import *\n",
    "\n",
    "class zoomit(MovingCameraScene):\n",
    "    def construct(self):\n",
    "        d = Dot()\n",
    "        l = Line(ORIGIN,5*RIGHT)\n",
    "        self.add(l)\n",
    "        self.add(self.camera.frame)\n",
    "        self.camera.frame.add_updater(lambda x: x.move_to(d.get_center()))\n",
    "        self.play(d.animate.shift(5*RIGHT),run_time=2)\n",
    "        self.wait()\n",
    "        #self.play(self.camera.frame.animate.shift(5*RIGHT),run_time=2)"
   ]
  },
  {
   "cell_type": "code",
   "execution_count": 12,
   "id": "af12cfb0",
   "metadata": {},
   "outputs": [
    {
     "name": "stderr",
     "output_type": "stream",
     "text": [
      "                                                                                                                       \r"
     ]
    },
    {
     "data": {
      "text/html": [
       "<pre style=\"white-space:pre;overflow-x:auto;line-height:normal;font-family:Menlo,'DejaVu Sans Mono',consolas,'Courier New',monospace\"><span style=\"color: #7fbfbf; text-decoration-color: #7fbfbf\">[11/06/23 20:18:50] </span><span style=\"color: #008000; text-decoration-color: #008000\">INFO    </span> Animation <span style=\"color: #008000; text-decoration-color: #008000\">0</span> : Partial movie file written in                   <a href=\"file://C:\\Users\\payal\\anaconda3\\lib\\site-packages\\manim\\scene\\scene_file_writer.py\" target=\"_blank\"><span style=\"color: #7f7f7f; text-decoration-color: #7f7f7f\">scene_file_writer.py</span></a><span style=\"color: #7f7f7f; text-decoration-color: #7f7f7f\">:</span><a href=\"file://C:\\Users\\payal\\anaconda3\\lib\\site-packages\\manim\\scene\\scene_file_writer.py#527\" target=\"_blank\"><span style=\"color: #7f7f7f; text-decoration-color: #7f7f7f\">527</span></a>\n",
       "<span style=\"color: #7fbfbf; text-decoration-color: #7fbfbf\">                    </span>         <span style=\"color: #008000; text-decoration-color: #008000\">'C:\\Users\\payal\\media\\videos\\payal\\1080p60\\partial_movie_file</span> <span style=\"color: #7f7f7f; text-decoration-color: #7f7f7f\">                        </span>\n",
       "<span style=\"color: #7fbfbf; text-decoration-color: #7fbfbf\">                    </span>         <span style=\"color: #008000; text-decoration-color: #008000\">s\\TracedPathExample\\1146354079_1321397661_2633491821.mp4'</span>     <span style=\"color: #7f7f7f; text-decoration-color: #7f7f7f\">                        </span>\n",
       "</pre>\n"
      ],
      "text/plain": [
       "\u001b[2;36m[11/06/23 20:18:50]\u001b[0m\u001b[2;36m \u001b[0m\u001b[32mINFO    \u001b[0m Animation \u001b[32m0\u001b[0m : Partial movie file written in                   \u001b]8;id=272566;file://C:\\Users\\payal\\anaconda3\\lib\\site-packages\\manim\\scene\\scene_file_writer.py\u001b\\\u001b[2mscene_file_writer.py\u001b[0m\u001b]8;;\u001b\\\u001b[2m:\u001b[0m\u001b]8;id=546566;file://C:\\Users\\payal\\anaconda3\\lib\\site-packages\\manim\\scene\\scene_file_writer.py#527\u001b\\\u001b[2m527\u001b[0m\u001b]8;;\u001b\\\n",
       "\u001b[2;36m                    \u001b[0m         \u001b[32m'C:\\Users\\payal\\media\\videos\\payal\\1080p60\\partial_movie_file\u001b[0m \u001b[2m                        \u001b[0m\n",
       "\u001b[2;36m                    \u001b[0m         \u001b[32ms\\TracedPathExample\\1146354079_1321397661_2633491821.mp4'\u001b[0m     \u001b[2m                        \u001b[0m\n"
      ]
     },
     "metadata": {},
     "output_type": "display_data"
    },
    {
     "name": "stderr",
     "output_type": "stream",
     "text": [
      "                                                                                                                       \r"
     ]
    },
    {
     "data": {
      "text/html": [
       "<pre style=\"white-space:pre;overflow-x:auto;line-height:normal;font-family:Menlo,'DejaVu Sans Mono',consolas,'Courier New',monospace\"><span style=\"color: #7fbfbf; text-decoration-color: #7fbfbf\">[11/06/23 20:18:57] </span><span style=\"color: #008000; text-decoration-color: #008000\">INFO    </span> Animation <span style=\"color: #008000; text-decoration-color: #008000\">1</span> : Partial movie file written in                   <a href=\"file://C:\\Users\\payal\\anaconda3\\lib\\site-packages\\manim\\scene\\scene_file_writer.py\" target=\"_blank\"><span style=\"color: #7f7f7f; text-decoration-color: #7f7f7f\">scene_file_writer.py</span></a><span style=\"color: #7f7f7f; text-decoration-color: #7f7f7f\">:</span><a href=\"file://C:\\Users\\payal\\anaconda3\\lib\\site-packages\\manim\\scene\\scene_file_writer.py#527\" target=\"_blank\"><span style=\"color: #7f7f7f; text-decoration-color: #7f7f7f\">527</span></a>\n",
       "<span style=\"color: #7fbfbf; text-decoration-color: #7fbfbf\">                    </span>         <span style=\"color: #008000; text-decoration-color: #008000\">'C:\\Users\\payal\\media\\videos\\payal\\1080p60\\partial_movie_file</span> <span style=\"color: #7f7f7f; text-decoration-color: #7f7f7f\">                        </span>\n",
       "<span style=\"color: #7fbfbf; text-decoration-color: #7fbfbf\">                    </span>         <span style=\"color: #008000; text-decoration-color: #008000\">s\\TracedPathExample\\2977820312_835353093_726242425.mp4'</span>       <span style=\"color: #7f7f7f; text-decoration-color: #7f7f7f\">                        </span>\n",
       "</pre>\n"
      ],
      "text/plain": [
       "\u001b[2;36m[11/06/23 20:18:57]\u001b[0m\u001b[2;36m \u001b[0m\u001b[32mINFO    \u001b[0m Animation \u001b[32m1\u001b[0m : Partial movie file written in                   \u001b]8;id=870227;file://C:\\Users\\payal\\anaconda3\\lib\\site-packages\\manim\\scene\\scene_file_writer.py\u001b\\\u001b[2mscene_file_writer.py\u001b[0m\u001b]8;;\u001b\\\u001b[2m:\u001b[0m\u001b]8;id=915965;file://C:\\Users\\payal\\anaconda3\\lib\\site-packages\\manim\\scene\\scene_file_writer.py#527\u001b\\\u001b[2m527\u001b[0m\u001b]8;;\u001b\\\n",
       "\u001b[2;36m                    \u001b[0m         \u001b[32m'C:\\Users\\payal\\media\\videos\\payal\\1080p60\\partial_movie_file\u001b[0m \u001b[2m                        \u001b[0m\n",
       "\u001b[2;36m                    \u001b[0m         \u001b[32ms\\TracedPathExample\\2977820312_835353093_726242425.mp4'\u001b[0m       \u001b[2m                        \u001b[0m\n"
      ]
     },
     "metadata": {},
     "output_type": "display_data"
    },
    {
     "name": "stderr",
     "output_type": "stream",
     "text": [
      "                                                                                                                       \r"
     ]
    },
    {
     "data": {
      "text/html": [
       "<pre style=\"white-space:pre;overflow-x:auto;line-height:normal;font-family:Menlo,'DejaVu Sans Mono',consolas,'Courier New',monospace\"><span style=\"color: #7fbfbf; text-decoration-color: #7fbfbf\">[11/06/23 20:18:59] </span><span style=\"color: #008000; text-decoration-color: #008000\">INFO    </span> Animation <span style=\"color: #008000; text-decoration-color: #008000\">2</span> : Partial movie file written in                   <a href=\"file://C:\\Users\\payal\\anaconda3\\lib\\site-packages\\manim\\scene\\scene_file_writer.py\" target=\"_blank\"><span style=\"color: #7f7f7f; text-decoration-color: #7f7f7f\">scene_file_writer.py</span></a><span style=\"color: #7f7f7f; text-decoration-color: #7f7f7f\">:</span><a href=\"file://C:\\Users\\payal\\anaconda3\\lib\\site-packages\\manim\\scene\\scene_file_writer.py#527\" target=\"_blank\"><span style=\"color: #7f7f7f; text-decoration-color: #7f7f7f\">527</span></a>\n",
       "<span style=\"color: #7fbfbf; text-decoration-color: #7fbfbf\">                    </span>         <span style=\"color: #008000; text-decoration-color: #008000\">'C:\\Users\\payal\\media\\videos\\payal\\1080p60\\partial_movie_file</span> <span style=\"color: #7f7f7f; text-decoration-color: #7f7f7f\">                        </span>\n",
       "<span style=\"color: #7fbfbf; text-decoration-color: #7fbfbf\">                    </span>         <span style=\"color: #008000; text-decoration-color: #008000\">s\\TracedPathExample\\2431859002_3527355647_1077247748.mp4'</span>     <span style=\"color: #7f7f7f; text-decoration-color: #7f7f7f\">                        </span>\n",
       "</pre>\n"
      ],
      "text/plain": [
       "\u001b[2;36m[11/06/23 20:18:59]\u001b[0m\u001b[2;36m \u001b[0m\u001b[32mINFO    \u001b[0m Animation \u001b[32m2\u001b[0m : Partial movie file written in                   \u001b]8;id=403942;file://C:\\Users\\payal\\anaconda3\\lib\\site-packages\\manim\\scene\\scene_file_writer.py\u001b\\\u001b[2mscene_file_writer.py\u001b[0m\u001b]8;;\u001b\\\u001b[2m:\u001b[0m\u001b]8;id=293061;file://C:\\Users\\payal\\anaconda3\\lib\\site-packages\\manim\\scene\\scene_file_writer.py#527\u001b\\\u001b[2m527\u001b[0m\u001b]8;;\u001b\\\n",
       "\u001b[2;36m                    \u001b[0m         \u001b[32m'C:\\Users\\payal\\media\\videos\\payal\\1080p60\\partial_movie_file\u001b[0m \u001b[2m                        \u001b[0m\n",
       "\u001b[2;36m                    \u001b[0m         \u001b[32ms\\TracedPathExample\\2431859002_3527355647_1077247748.mp4'\u001b[0m     \u001b[2m                        \u001b[0m\n"
      ]
     },
     "metadata": {},
     "output_type": "display_data"
    },
    {
     "data": {
      "text/html": [
       "<pre style=\"white-space:pre;overflow-x:auto;line-height:normal;font-family:Menlo,'DejaVu Sans Mono',consolas,'Courier New',monospace\"><span style=\"color: #7fbfbf; text-decoration-color: #7fbfbf\">                    </span><span style=\"color: #008000; text-decoration-color: #008000\">INFO    </span> Combining to Movie file.                                      <a href=\"file://C:\\Users\\payal\\anaconda3\\lib\\site-packages\\manim\\scene\\scene_file_writer.py\" target=\"_blank\"><span style=\"color: #7f7f7f; text-decoration-color: #7f7f7f\">scene_file_writer.py</span></a><span style=\"color: #7f7f7f; text-decoration-color: #7f7f7f\">:</span><a href=\"file://C:\\Users\\payal\\anaconda3\\lib\\site-packages\\manim\\scene\\scene_file_writer.py#617\" target=\"_blank\"><span style=\"color: #7f7f7f; text-decoration-color: #7f7f7f\">617</span></a>\n",
       "</pre>\n"
      ],
      "text/plain": [
       "\u001b[2;36m                   \u001b[0m\u001b[2;36m \u001b[0m\u001b[32mINFO    \u001b[0m Combining to Movie file.                                      \u001b]8;id=188401;file://C:\\Users\\payal\\anaconda3\\lib\\site-packages\\manim\\scene\\scene_file_writer.py\u001b\\\u001b[2mscene_file_writer.py\u001b[0m\u001b]8;;\u001b\\\u001b[2m:\u001b[0m\u001b]8;id=370933;file://C:\\Users\\payal\\anaconda3\\lib\\site-packages\\manim\\scene\\scene_file_writer.py#617\u001b\\\u001b[2m617\u001b[0m\u001b]8;;\u001b\\\n"
      ]
     },
     "metadata": {},
     "output_type": "display_data"
    },
    {
     "data": {
      "text/html": [
       "<pre style=\"white-space:pre;overflow-x:auto;line-height:normal;font-family:Menlo,'DejaVu Sans Mono',consolas,'Courier New',monospace\"><span style=\"color: #7fbfbf; text-decoration-color: #7fbfbf\">                    </span><span style=\"color: #008000; text-decoration-color: #008000\">INFO    </span>                                                               <a href=\"file://C:\\Users\\payal\\anaconda3\\lib\\site-packages\\manim\\scene\\scene_file_writer.py\" target=\"_blank\"><span style=\"color: #7f7f7f; text-decoration-color: #7f7f7f\">scene_file_writer.py</span></a><span style=\"color: #7f7f7f; text-decoration-color: #7f7f7f\">:</span><a href=\"file://C:\\Users\\payal\\anaconda3\\lib\\site-packages\\manim\\scene\\scene_file_writer.py#736\" target=\"_blank\"><span style=\"color: #7f7f7f; text-decoration-color: #7f7f7f\">736</span></a>\n",
       "<span style=\"color: #7fbfbf; text-decoration-color: #7fbfbf\">                    </span>         <span style=\"color: #808000; text-decoration-color: #808000; font-weight: bold\">File</span> ready at                                                 <span style=\"color: #7f7f7f; text-decoration-color: #7f7f7f\">                        </span>\n",
       "<span style=\"color: #7fbfbf; text-decoration-color: #7fbfbf\">                    </span>         <span style=\"color: #008000; text-decoration-color: #008000\">'C:\\Users\\payal\\media\\videos\\payal\\1080p60\\TracedPathExample.</span> <span style=\"color: #7f7f7f; text-decoration-color: #7f7f7f\">                        </span>\n",
       "<span style=\"color: #7fbfbf; text-decoration-color: #7fbfbf\">                    </span>         <span style=\"color: #008000; text-decoration-color: #008000\">mp4'</span>                                                          <span style=\"color: #7f7f7f; text-decoration-color: #7f7f7f\">                        </span>\n",
       "<span style=\"color: #7fbfbf; text-decoration-color: #7fbfbf\">                    </span>                                                                       <span style=\"color: #7f7f7f; text-decoration-color: #7f7f7f\">                        </span>\n",
       "</pre>\n"
      ],
      "text/plain": [
       "\u001b[2;36m                   \u001b[0m\u001b[2;36m \u001b[0m\u001b[32mINFO    \u001b[0m                                                               \u001b]8;id=583701;file://C:\\Users\\payal\\anaconda3\\lib\\site-packages\\manim\\scene\\scene_file_writer.py\u001b\\\u001b[2mscene_file_writer.py\u001b[0m\u001b]8;;\u001b\\\u001b[2m:\u001b[0m\u001b]8;id=765251;file://C:\\Users\\payal\\anaconda3\\lib\\site-packages\\manim\\scene\\scene_file_writer.py#736\u001b\\\u001b[2m736\u001b[0m\u001b]8;;\u001b\\\n",
       "\u001b[2;36m                    \u001b[0m         \u001b[1;33mFile\u001b[0m ready at                                                 \u001b[2m                        \u001b[0m\n",
       "\u001b[2;36m                    \u001b[0m         \u001b[32m'C:\\Users\\payal\\media\\videos\\payal\\1080p60\\TracedPathExample.\u001b[0m \u001b[2m                        \u001b[0m\n",
       "\u001b[2;36m                    \u001b[0m         \u001b[32mmp4'\u001b[0m                                                          \u001b[2m                        \u001b[0m\n",
       "\u001b[2;36m                    \u001b[0m                                                                       \u001b[2m                        \u001b[0m\n"
      ]
     },
     "metadata": {},
     "output_type": "display_data"
    },
    {
     "data": {
      "text/html": [
       "<pre style=\"white-space:pre;overflow-x:auto;line-height:normal;font-family:Menlo,'DejaVu Sans Mono',consolas,'Courier New',monospace\"><span style=\"color: #7fbfbf; text-decoration-color: #7fbfbf\">                    </span><span style=\"color: #008000; text-decoration-color: #008000\">INFO    </span> <span style=\"color: #808000; text-decoration-color: #808000; font-weight: bold\">Rendered</span> TracedPathExample                                                <a href=\"file://C:\\Users\\payal\\anaconda3\\lib\\site-packages\\manim\\scene\\scene.py\" target=\"_blank\"><span style=\"color: #7f7f7f; text-decoration-color: #7f7f7f\">scene.py</span></a><span style=\"color: #7f7f7f; text-decoration-color: #7f7f7f\">:</span><a href=\"file://C:\\Users\\payal\\anaconda3\\lib\\site-packages\\manim\\scene\\scene.py#241\" target=\"_blank\"><span style=\"color: #7f7f7f; text-decoration-color: #7f7f7f\">241</span></a>\n",
       "<span style=\"color: #7fbfbf; text-decoration-color: #7fbfbf\">                    </span>         <span style=\"color: #808000; text-decoration-color: #808000; font-weight: bold\">Played</span> <span style=\"color: #008000; text-decoration-color: #008000\">3</span> <span style=\"color: #808000; text-decoration-color: #808000; font-weight: bold\">animations</span>                                                       <span style=\"color: #7f7f7f; text-decoration-color: #7f7f7f\">            </span>\n",
       "</pre>\n"
      ],
      "text/plain": [
       "\u001b[2;36m                   \u001b[0m\u001b[2;36m \u001b[0m\u001b[32mINFO    \u001b[0m \u001b[1;33mRendered\u001b[0m TracedPathExample                                                \u001b]8;id=977724;file://C:\\Users\\payal\\anaconda3\\lib\\site-packages\\manim\\scene\\scene.py\u001b\\\u001b[2mscene.py\u001b[0m\u001b]8;;\u001b\\\u001b[2m:\u001b[0m\u001b]8;id=413273;file://C:\\Users\\payal\\anaconda3\\lib\\site-packages\\manim\\scene\\scene.py#241\u001b\\\u001b[2m241\u001b[0m\u001b]8;;\u001b\\\n",
       "\u001b[2;36m                    \u001b[0m         \u001b[1;33mPlayed\u001b[0m \u001b[32m3\u001b[0m \u001b[1;33manimations\u001b[0m                                                       \u001b[2m            \u001b[0m\n"
      ]
     },
     "metadata": {},
     "output_type": "display_data"
    },
    {
     "data": {
      "text/html": [
       "<pre style=\"white-space:pre;overflow-x:auto;line-height:normal;font-family:Menlo,'DejaVu Sans Mono',consolas,'Courier New',monospace\"><span style=\"color: #7fbfbf; text-decoration-color: #7fbfbf\">                    </span><span style=\"color: #008000; text-decoration-color: #008000\">INFO    </span> Previewed <span style=\"color: #808000; text-decoration-color: #808000; font-weight: bold\">File</span> at:                                                     <a href=\"file://C:\\Users\\payal\\anaconda3\\lib\\site-packages\\manim\\utils\\file_ops.py\" target=\"_blank\"><span style=\"color: #7f7f7f; text-decoration-color: #7f7f7f\">file_ops.py</span></a><span style=\"color: #7f7f7f; text-decoration-color: #7f7f7f\">:</span><a href=\"file://C:\\Users\\payal\\anaconda3\\lib\\site-packages\\manim\\utils\\file_ops.py#227\" target=\"_blank\"><span style=\"color: #7f7f7f; text-decoration-color: #7f7f7f\">227</span></a>\n",
       "<span style=\"color: #7fbfbf; text-decoration-color: #7fbfbf\">                    </span>         <span style=\"color: #008000; text-decoration-color: #008000\">'C:\\Users\\payal\\media\\videos\\payal\\1080p60\\TracedPathExample.mp4'</span>      <span style=\"color: #7f7f7f; text-decoration-color: #7f7f7f\">               </span>\n",
       "</pre>\n"
      ],
      "text/plain": [
       "\u001b[2;36m                   \u001b[0m\u001b[2;36m \u001b[0m\u001b[32mINFO    \u001b[0m Previewed \u001b[1;33mFile\u001b[0m at:                                                     \u001b]8;id=805571;file://C:\\Users\\payal\\anaconda3\\lib\\site-packages\\manim\\utils\\file_ops.py\u001b\\\u001b[2mfile_ops.py\u001b[0m\u001b]8;;\u001b\\\u001b[2m:\u001b[0m\u001b]8;id=371757;file://C:\\Users\\payal\\anaconda3\\lib\\site-packages\\manim\\utils\\file_ops.py#227\u001b\\\u001b[2m227\u001b[0m\u001b]8;;\u001b\\\n",
       "\u001b[2;36m                    \u001b[0m         \u001b[32m'C:\\Users\\payal\\media\\videos\\payal\\1080p60\\TracedPathExample.mp4'\u001b[0m      \u001b[2m               \u001b[0m\n"
      ]
     },
     "metadata": {},
     "output_type": "display_data"
    },
    {
     "data": {
      "text/html": [
       "<video src=\"media\\jupyter\\TracedPathExample@2023-11-06@20-18-59.mp4\" controls autoplay loop style=\"max-width: 60%;\"  >\n",
       "      Your browser does not support the <code>video</code> element.\n",
       "    </video>"
      ],
      "text/plain": [
       "<IPython.core.display.Video object>"
      ]
     },
     "metadata": {},
     "output_type": "display_data"
    }
   ],
   "source": [
    "%%manim -pqh TracedPathExample\n",
    "\n",
    "from manim import *\n",
    "\n",
    "class TracedPathExample(MovingCameraScene):\n",
    "    def construct(self):\n",
    "        \n",
    "        self.camera.frame.scale(2).save_state()\n",
    "        circ = Circle(color=BLUE).shift(4*LEFT)\n",
    "        dot = Dot(color=YELLOW).move_to(circ.get_start())\n",
    "        rolling_circle = VGroup(circ, dot)\n",
    "        trace = TracedPath(circ.get_start, stroke_width=5)\n",
    "        rolling_circle.add_updater(lambda m: m.rotate(-2*PI/60))\n",
    "        self.add(trace, rolling_circle)\n",
    "        \n",
    "        self.play(self.camera.frame.animate.scale(0.5).move_to(dot), run_time=2)\n",
    "\n",
    "        def update_curve(mob):\n",
    "            mob.move_to(dot.get_center())\n",
    "\n",
    "        self.camera.frame.add_updater(update_curve)\n",
    "        \n",
    "        self.play(rolling_circle.animate.shift(8*RIGHT), run_time=4, rate_func=linear)\n",
    "        self.camera.frame.remove_updater(update_curve)\n",
    "\n",
    "        self.play(Restore(self.camera.frame))"
   ]
  },
  {
   "cell_type": "code",
   "execution_count": 5,
   "id": "6c60b7db",
   "metadata": {},
   "outputs": [
    {
     "data": {
      "text/html": [
       "<pre style=\"white-space:pre;overflow-x:auto;line-height:normal;font-family:Menlo,'DejaVu Sans Mono',consolas,'Courier New',monospace\"><span style=\"color: #7fbfbf; text-decoration-color: #7fbfbf\">[11/07/23 15:59:30] </span><span style=\"color: #008000; text-decoration-color: #008000\">INFO    </span> Animation <span style=\"color: #008000; text-decoration-color: #008000\">0</span> : Using cached data <span style=\"font-weight: bold\">(</span>hash :                           <a href=\"file://C:\\Users\\payal\\anaconda3\\lib\\site-packages\\manim\\renderer\\cairo_renderer.py\" target=\"_blank\"><span style=\"color: #7f7f7f; text-decoration-color: #7f7f7f\">cairo_renderer.py</span></a><span style=\"color: #7f7f7f; text-decoration-color: #7f7f7f\">:</span><a href=\"file://C:\\Users\\payal\\anaconda3\\lib\\site-packages\\manim\\renderer\\cairo_renderer.py#78\" target=\"_blank\"><span style=\"color: #7f7f7f; text-decoration-color: #7f7f7f\">78</span></a>\n",
       "<span style=\"color: #7fbfbf; text-decoration-color: #7fbfbf\">                    </span>         3903684467_1188823155_2510868191<span style=\"font-weight: bold\">)</span>                                 <span style=\"color: #7f7f7f; text-decoration-color: #7f7f7f\">                    </span>\n",
       "</pre>\n"
      ],
      "text/plain": [
       "\u001b[2;36m[11/07/23 15:59:30]\u001b[0m\u001b[2;36m \u001b[0m\u001b[32mINFO    \u001b[0m Animation \u001b[32m0\u001b[0m : Using cached data \u001b[1m(\u001b[0mhash :                           \u001b]8;id=230062;file://C:\\Users\\payal\\anaconda3\\lib\\site-packages\\manim\\renderer\\cairo_renderer.py\u001b\\\u001b[2mcairo_renderer.py\u001b[0m\u001b]8;;\u001b\\\u001b[2m:\u001b[0m\u001b]8;id=352035;file://C:\\Users\\payal\\anaconda3\\lib\\site-packages\\manim\\renderer\\cairo_renderer.py#78\u001b\\\u001b[2m78\u001b[0m\u001b]8;;\u001b\\\n",
       "\u001b[2;36m                    \u001b[0m         3903684467_1188823155_2510868191\u001b[1m)\u001b[0m                                 \u001b[2m                    \u001b[0m\n"
      ]
     },
     "metadata": {},
     "output_type": "display_data"
    },
    {
     "name": "stderr",
     "output_type": "stream",
     "text": [
      "                                                                                                                       \r"
     ]
    },
    {
     "data": {
      "text/html": [
       "<pre style=\"white-space:pre;overflow-x:auto;line-height:normal;font-family:Menlo,'DejaVu Sans Mono',consolas,'Courier New',monospace\"><span style=\"color: #7fbfbf; text-decoration-color: #7fbfbf\">[11/07/23 15:59:49] </span><span style=\"color: #008000; text-decoration-color: #008000\">INFO    </span> Animation <span style=\"color: #008000; text-decoration-color: #008000\">1</span> : Partial movie file written in                   <a href=\"file://C:\\Users\\payal\\anaconda3\\lib\\site-packages\\manim\\scene\\scene_file_writer.py\" target=\"_blank\"><span style=\"color: #7f7f7f; text-decoration-color: #7f7f7f\">scene_file_writer.py</span></a><span style=\"color: #7f7f7f; text-decoration-color: #7f7f7f\">:</span><a href=\"file://C:\\Users\\payal\\anaconda3\\lib\\site-packages\\manim\\scene\\scene_file_writer.py#527\" target=\"_blank\"><span style=\"color: #7f7f7f; text-decoration-color: #7f7f7f\">527</span></a>\n",
       "<span style=\"color: #7fbfbf; text-decoration-color: #7fbfbf\">                    </span>         <span style=\"color: #008000; text-decoration-color: #008000\">'C:\\Users\\payal\\media\\videos\\payal\\1080p60\\partial_movie_file</span> <span style=\"color: #7f7f7f; text-decoration-color: #7f7f7f\">                        </span>\n",
       "<span style=\"color: #7fbfbf; text-decoration-color: #7fbfbf\">                    </span>         <span style=\"color: #008000; text-decoration-color: #008000\">s\\TracedPathExample\\1649261393_171289431_1817851526.mp4'</span>      <span style=\"color: #7f7f7f; text-decoration-color: #7f7f7f\">                        </span>\n",
       "</pre>\n"
      ],
      "text/plain": [
       "\u001b[2;36m[11/07/23 15:59:49]\u001b[0m\u001b[2;36m \u001b[0m\u001b[32mINFO    \u001b[0m Animation \u001b[32m1\u001b[0m : Partial movie file written in                   \u001b]8;id=295417;file://C:\\Users\\payal\\anaconda3\\lib\\site-packages\\manim\\scene\\scene_file_writer.py\u001b\\\u001b[2mscene_file_writer.py\u001b[0m\u001b]8;;\u001b\\\u001b[2m:\u001b[0m\u001b]8;id=407971;file://C:\\Users\\payal\\anaconda3\\lib\\site-packages\\manim\\scene\\scene_file_writer.py#527\u001b\\\u001b[2m527\u001b[0m\u001b]8;;\u001b\\\n",
       "\u001b[2;36m                    \u001b[0m         \u001b[32m'C:\\Users\\payal\\media\\videos\\payal\\1080p60\\partial_movie_file\u001b[0m \u001b[2m                        \u001b[0m\n",
       "\u001b[2;36m                    \u001b[0m         \u001b[32ms\\TracedPathExample\\1649261393_171289431_1817851526.mp4'\u001b[0m      \u001b[2m                        \u001b[0m\n"
      ]
     },
     "metadata": {},
     "output_type": "display_data"
    },
    {
     "data": {
      "text/html": [
       "<pre style=\"white-space:pre;overflow-x:auto;line-height:normal;font-family:Menlo,'DejaVu Sans Mono',consolas,'Courier New',monospace\"><span style=\"color: #7fbfbf; text-decoration-color: #7fbfbf\">                    </span><span style=\"color: #008000; text-decoration-color: #008000\">INFO    </span> Combining to Movie file.                                      <a href=\"file://C:\\Users\\payal\\anaconda3\\lib\\site-packages\\manim\\scene\\scene_file_writer.py\" target=\"_blank\"><span style=\"color: #7f7f7f; text-decoration-color: #7f7f7f\">scene_file_writer.py</span></a><span style=\"color: #7f7f7f; text-decoration-color: #7f7f7f\">:</span><a href=\"file://C:\\Users\\payal\\anaconda3\\lib\\site-packages\\manim\\scene\\scene_file_writer.py#617\" target=\"_blank\"><span style=\"color: #7f7f7f; text-decoration-color: #7f7f7f\">617</span></a>\n",
       "</pre>\n"
      ],
      "text/plain": [
       "\u001b[2;36m                   \u001b[0m\u001b[2;36m \u001b[0m\u001b[32mINFO    \u001b[0m Combining to Movie file.                                      \u001b]8;id=905464;file://C:\\Users\\payal\\anaconda3\\lib\\site-packages\\manim\\scene\\scene_file_writer.py\u001b\\\u001b[2mscene_file_writer.py\u001b[0m\u001b]8;;\u001b\\\u001b[2m:\u001b[0m\u001b]8;id=493147;file://C:\\Users\\payal\\anaconda3\\lib\\site-packages\\manim\\scene\\scene_file_writer.py#617\u001b\\\u001b[2m617\u001b[0m\u001b]8;;\u001b\\\n"
      ]
     },
     "metadata": {},
     "output_type": "display_data"
    },
    {
     "data": {
      "text/html": [
       "<pre style=\"white-space:pre;overflow-x:auto;line-height:normal;font-family:Menlo,'DejaVu Sans Mono',consolas,'Courier New',monospace\"><span style=\"color: #7fbfbf; text-decoration-color: #7fbfbf\">                    </span><span style=\"color: #008000; text-decoration-color: #008000\">INFO    </span>                                                               <a href=\"file://C:\\Users\\payal\\anaconda3\\lib\\site-packages\\manim\\scene\\scene_file_writer.py\" target=\"_blank\"><span style=\"color: #7f7f7f; text-decoration-color: #7f7f7f\">scene_file_writer.py</span></a><span style=\"color: #7f7f7f; text-decoration-color: #7f7f7f\">:</span><a href=\"file://C:\\Users\\payal\\anaconda3\\lib\\site-packages\\manim\\scene\\scene_file_writer.py#736\" target=\"_blank\"><span style=\"color: #7f7f7f; text-decoration-color: #7f7f7f\">736</span></a>\n",
       "<span style=\"color: #7fbfbf; text-decoration-color: #7fbfbf\">                    </span>         <span style=\"color: #808000; text-decoration-color: #808000; font-weight: bold\">File</span> ready at                                                 <span style=\"color: #7f7f7f; text-decoration-color: #7f7f7f\">                        </span>\n",
       "<span style=\"color: #7fbfbf; text-decoration-color: #7fbfbf\">                    </span>         <span style=\"color: #008000; text-decoration-color: #008000\">'C:\\Users\\payal\\media\\videos\\payal\\1080p60\\TracedPathExample.</span> <span style=\"color: #7f7f7f; text-decoration-color: #7f7f7f\">                        </span>\n",
       "<span style=\"color: #7fbfbf; text-decoration-color: #7fbfbf\">                    </span>         <span style=\"color: #008000; text-decoration-color: #008000\">mp4'</span>                                                          <span style=\"color: #7f7f7f; text-decoration-color: #7f7f7f\">                        </span>\n",
       "<span style=\"color: #7fbfbf; text-decoration-color: #7fbfbf\">                    </span>                                                                       <span style=\"color: #7f7f7f; text-decoration-color: #7f7f7f\">                        </span>\n",
       "</pre>\n"
      ],
      "text/plain": [
       "\u001b[2;36m                   \u001b[0m\u001b[2;36m \u001b[0m\u001b[32mINFO    \u001b[0m                                                               \u001b]8;id=94518;file://C:\\Users\\payal\\anaconda3\\lib\\site-packages\\manim\\scene\\scene_file_writer.py\u001b\\\u001b[2mscene_file_writer.py\u001b[0m\u001b]8;;\u001b\\\u001b[2m:\u001b[0m\u001b]8;id=925316;file://C:\\Users\\payal\\anaconda3\\lib\\site-packages\\manim\\scene\\scene_file_writer.py#736\u001b\\\u001b[2m736\u001b[0m\u001b]8;;\u001b\\\n",
       "\u001b[2;36m                    \u001b[0m         \u001b[1;33mFile\u001b[0m ready at                                                 \u001b[2m                        \u001b[0m\n",
       "\u001b[2;36m                    \u001b[0m         \u001b[32m'C:\\Users\\payal\\media\\videos\\payal\\1080p60\\TracedPathExample.\u001b[0m \u001b[2m                        \u001b[0m\n",
       "\u001b[2;36m                    \u001b[0m         \u001b[32mmp4'\u001b[0m                                                          \u001b[2m                        \u001b[0m\n",
       "\u001b[2;36m                    \u001b[0m                                                                       \u001b[2m                        \u001b[0m\n"
      ]
     },
     "metadata": {},
     "output_type": "display_data"
    },
    {
     "data": {
      "text/html": [
       "<pre style=\"white-space:pre;overflow-x:auto;line-height:normal;font-family:Menlo,'DejaVu Sans Mono',consolas,'Courier New',monospace\"><span style=\"color: #7fbfbf; text-decoration-color: #7fbfbf\">                    </span><span style=\"color: #008000; text-decoration-color: #008000\">INFO    </span> <span style=\"color: #808000; text-decoration-color: #808000; font-weight: bold\">Rendered</span> TracedPathExample                                                <a href=\"file://C:\\Users\\payal\\anaconda3\\lib\\site-packages\\manim\\scene\\scene.py\" target=\"_blank\"><span style=\"color: #7f7f7f; text-decoration-color: #7f7f7f\">scene.py</span></a><span style=\"color: #7f7f7f; text-decoration-color: #7f7f7f\">:</span><a href=\"file://C:\\Users\\payal\\anaconda3\\lib\\site-packages\\manim\\scene\\scene.py#241\" target=\"_blank\"><span style=\"color: #7f7f7f; text-decoration-color: #7f7f7f\">241</span></a>\n",
       "<span style=\"color: #7fbfbf; text-decoration-color: #7fbfbf\">                    </span>         <span style=\"color: #808000; text-decoration-color: #808000; font-weight: bold\">Played</span> <span style=\"color: #008000; text-decoration-color: #008000\">2</span> <span style=\"color: #808000; text-decoration-color: #808000; font-weight: bold\">animations</span>                                                       <span style=\"color: #7f7f7f; text-decoration-color: #7f7f7f\">            </span>\n",
       "</pre>\n"
      ],
      "text/plain": [
       "\u001b[2;36m                   \u001b[0m\u001b[2;36m \u001b[0m\u001b[32mINFO    \u001b[0m \u001b[1;33mRendered\u001b[0m TracedPathExample                                                \u001b]8;id=409097;file://C:\\Users\\payal\\anaconda3\\lib\\site-packages\\manim\\scene\\scene.py\u001b\\\u001b[2mscene.py\u001b[0m\u001b]8;;\u001b\\\u001b[2m:\u001b[0m\u001b]8;id=103280;file://C:\\Users\\payal\\anaconda3\\lib\\site-packages\\manim\\scene\\scene.py#241\u001b\\\u001b[2m241\u001b[0m\u001b]8;;\u001b\\\n",
       "\u001b[2;36m                    \u001b[0m         \u001b[1;33mPlayed\u001b[0m \u001b[32m2\u001b[0m \u001b[1;33manimations\u001b[0m                                                       \u001b[2m            \u001b[0m\n"
      ]
     },
     "metadata": {},
     "output_type": "display_data"
    },
    {
     "data": {
      "text/html": [
       "<pre style=\"white-space:pre;overflow-x:auto;line-height:normal;font-family:Menlo,'DejaVu Sans Mono',consolas,'Courier New',monospace\"><span style=\"color: #7fbfbf; text-decoration-color: #7fbfbf\">                    </span><span style=\"color: #008000; text-decoration-color: #008000\">INFO    </span> Previewed <span style=\"color: #808000; text-decoration-color: #808000; font-weight: bold\">File</span> at:                                                     <a href=\"file://C:\\Users\\payal\\anaconda3\\lib\\site-packages\\manim\\utils\\file_ops.py\" target=\"_blank\"><span style=\"color: #7f7f7f; text-decoration-color: #7f7f7f\">file_ops.py</span></a><span style=\"color: #7f7f7f; text-decoration-color: #7f7f7f\">:</span><a href=\"file://C:\\Users\\payal\\anaconda3\\lib\\site-packages\\manim\\utils\\file_ops.py#227\" target=\"_blank\"><span style=\"color: #7f7f7f; text-decoration-color: #7f7f7f\">227</span></a>\n",
       "<span style=\"color: #7fbfbf; text-decoration-color: #7fbfbf\">                    </span>         <span style=\"color: #008000; text-decoration-color: #008000\">'C:\\Users\\payal\\media\\videos\\payal\\1080p60\\TracedPathExample.mp4'</span>      <span style=\"color: #7f7f7f; text-decoration-color: #7f7f7f\">               </span>\n",
       "</pre>\n"
      ],
      "text/plain": [
       "\u001b[2;36m                   \u001b[0m\u001b[2;36m \u001b[0m\u001b[32mINFO    \u001b[0m Previewed \u001b[1;33mFile\u001b[0m at:                                                     \u001b]8;id=479093;file://C:\\Users\\payal\\anaconda3\\lib\\site-packages\\manim\\utils\\file_ops.py\u001b\\\u001b[2mfile_ops.py\u001b[0m\u001b]8;;\u001b\\\u001b[2m:\u001b[0m\u001b]8;id=145699;file://C:\\Users\\payal\\anaconda3\\lib\\site-packages\\manim\\utils\\file_ops.py#227\u001b\\\u001b[2m227\u001b[0m\u001b]8;;\u001b\\\n",
       "\u001b[2;36m                    \u001b[0m         \u001b[32m'C:\\Users\\payal\\media\\videos\\payal\\1080p60\\TracedPathExample.mp4'\u001b[0m      \u001b[2m               \u001b[0m\n"
      ]
     },
     "metadata": {},
     "output_type": "display_data"
    },
    {
     "data": {
      "text/html": [
       "<video src=\"media\\jupyter\\TracedPathExample@2023-11-07@15-59-49.mp4\" controls autoplay loop style=\"max-width: 60%;\"  >\n",
       "      Your browser does not support the <code>video</code> element.\n",
       "    </video>"
      ],
      "text/plain": [
       "<IPython.core.display.Video object>"
      ]
     },
     "metadata": {},
     "output_type": "display_data"
    }
   ],
   "source": [
    "%%manim -pqh TracedPathExample\n",
    "\n",
    "from manim import *\n",
    "class TracedPathExample(MovingCameraScene):\n",
    "    def construct(self):\n",
    "        self.camera.frame.scale(0.7).save_state()\n",
    "        circ = Circle(color=BLUE).shift(4*LEFT)\n",
    "        circ.set_opacity(0.00001)\n",
    "        dot = Dot(color=YELLOW).move_to(circ.get_start())\n",
    "        rolling_circle = VGroup(circ, dot)\n",
    "        #traced path should follow the dot around the circle\n",
    "        trace = TracedPath(dot.get_center, stroke_width=5)\n",
    "        # time-based updater for the rolling circle\n",
    "        def update_rolling_circle(mob, dt):\n",
    "            rotation_speed = PI\n",
    "            mob.rotate(-rotation_speed * dt)\n",
    "        rolling_circle.add_updater(update_rolling_circle)\n",
    "        self.add(trace)\n",
    "        self.play(self.camera.frame.animate.scale(0.8).move_to(dot.get_center()))\n",
    "        def update_curve(mob, dt):\n",
    "            mob.move_to(dot.get_center())\n",
    "        self.camera.frame.add_updater(update_curve)\n",
    "        self.play(rolling_circle.animate.shift(10*RIGHT), run_time=10, rate_func=linear)\n",
    "        self.camera.frame.remove_updater(update_curve)\n",
    "        #self.play(Restore(self.camera.frame))"
   ]
  },
  {
   "cell_type": "code",
   "execution_count": 13,
   "id": "7826c50d",
   "metadata": {},
   "outputs": [
    {
     "name": "stderr",
     "output_type": "stream",
     "text": [
      "                                                                                                                                    \r"
     ]
    },
    {
     "data": {
      "text/html": [
       "<video src=\"media\\jupyter\\AngleInSquare@2023-11-07@20-01-58.mp4\" controls autoplay loop style=\"max-width: 100%;\"  >\n",
       "      Your browser does not support the <code>video</code> element.\n",
       "    </video>"
      ],
      "text/plain": [
       "<IPython.core.display.Video object>"
      ]
     },
     "metadata": {},
     "output_type": "display_data"
    }
   ],
   "source": [
    "%%manim -pqh AngleInSquare\n",
    "from manim import *\n",
    "\n",
    "config.media_width = \"100%\"\n",
    "config.verbosity = \"WARNING\"\n",
    "config.frame_size = (1080,1920)\n",
    "config.frame_width = 7.5\n",
    "config.background_color=BLACK\n",
    "\n",
    "def find_intersection(self, line1, line2):\n",
    "    p1, p2 = line1.get_start_and_end()\n",
    "    p3, p4 = line2.get_start_and_end()\n",
    "\n",
    "    x1, y1 = p1[0], p1[1]\n",
    "    x2, y2 = p2[0], p2[1]\n",
    "    x3, y3 = p3[0], p3[1]\n",
    "    x4, y4 = p4[0], p4[1]\n",
    "\n",
    "    det = (x1 - x2) * (y3 - y4) - (y1 - y2) * (x3 - x4)\n",
    "    if det == 0:\n",
    "        return None\n",
    "\n",
    "    t = ((x1 - x3) * (y3 - y4) - (y1 - y3) * (x3 - x4)) / det\n",
    "    intersection_x = x1 + t * (x2 - x1)\n",
    "    intersection_y = y1 + t * (y2 - y1)\n",
    "\n",
    "    return np.array([intersection_x, intersection_y, 0])\n",
    "\n",
    "\n",
    "class AngleInSquare(MovingCameraScene):\n",
    "    \n",
    "    \n",
    "    def construct(self):\n",
    "        \n",
    "        A = [0, 0, 0]\n",
    "        B = [4, 0, 0]\n",
    "        C = [4, 2, 0]\n",
    "        D = [2, 1, 0]\n",
    "        E = [-1, 2, 0]\n",
    "        F = [1, 3, 0]\n",
    "        G = [3, 4, 0]\n",
    "        \n",
    "        M = [3.2, 6.4, 0]\n",
    "        N = [1.6, 3.2, 0]\n",
    "        O = [4.8, 1.6, 0]\n",
    "        P = [6.4, 4.8, 0]\n",
    "        \n",
    "        triangle = Polygon(C, A, B, color = WHITE, fill_opacity = 1, fill_color = \"#0A47C2\", stroke_width=3)\n",
    "        triangle.joint_type=LineJointType.ROUND \n",
    "        X = self.camera.frame.move_to(triangle).scale(2.5)\n",
    "        self.add(X)\n",
    "        self.play(DrawBorderThenFill(triangle))\n",
    "        self.wait(2)\n",
    "        \n",
    "        sq1 = Polygon(E, F, D, A, color = WHITE, fill_opacity = 1, fill_color = PINK, stroke_width=3).shift(1.5*UP)\n",
    "        sq1.joint_type=LineJointType.ROUND \n",
    "        sq2 = Polygon(F, G, C, D, color = WHITE, fill_opacity = 1, fill_color = PINK, stroke_width=3).shift(1.5*UP) \n",
    "        sq2.joint_type=LineJointType.ROUND \n",
    "        self.play(FadeIn(sq1, sq2))\n",
    "        self.play(sq1.animate.shift(1.5*DOWN), sq2.animate.shift(1.5*DOWN), run_time=1)\n",
    "        self.wait(2)\n",
    "        \n",
    "        line = Line(F, B, stroke_width=3).set_z_index(2)\n",
    "        \n",
    "        l = Line(B,A, stroke_width=3).set_z_index(2)\n",
    "        \n",
    "        self.play(Create(line), FadeIn(l))\n",
    "        self.wait()\n",
    "        \n",
    "        \n",
    "        \n",
    "        sector = Sector(arc_center=B, outer_radius=0.5, \n",
    "                    start_angle=line.get_angle(), angle=PI/4, \n",
    "                    fill_opacity=1, fill_color=PINK).rotate(PI, about_point=B)\n",
    "        \n",
    "        self.play(GrowFromPoint(sector, B))\n",
    "        self.wait(2)\n",
    "\n",
    "        angle = MathTex(r\"\\angle\", color=PINK).scale(1).set_stroke(width=3)\n",
    "        eq_to = MathTex(\" = \").scale(1).set_color(WHITE).set_stroke(width = 1).next_to(angle, RIGHT, buff=0.3)\n",
    "        sym = Text(\" ? \").scale(0.8).set_color(WHITE).set_stroke(width = 1).next_to(eq_to, RIGHT, buff=0.3)\n",
    "        eqn = VGroup(angle, eq_to, sym)\n",
    "        eqn.next_to(triangle, 4*DOWN)\n",
    "        \n",
    "        self.play(FadeIn(eqn))\n",
    "        self.wait(2)"
   ]
  },
  {
   "cell_type": "code",
   "execution_count": null,
   "id": "8a68da47",
   "metadata": {},
   "outputs": [],
   "source": []
  }
 ],
 "metadata": {
  "kernelspec": {
   "display_name": "Python 3 (ipykernel)",
   "language": "python",
   "name": "python3"
  },
  "language_info": {
   "codemirror_mode": {
    "name": "ipython",
    "version": 3
   },
   "file_extension": ".py",
   "mimetype": "text/x-python",
   "name": "python",
   "nbconvert_exporter": "python",
   "pygments_lexer": "ipython3",
   "version": "3.10.9"
  }
 },
 "nbformat": 4,
 "nbformat_minor": 5
}
